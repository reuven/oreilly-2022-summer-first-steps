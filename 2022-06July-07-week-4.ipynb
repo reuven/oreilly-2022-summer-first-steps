{
 "cells": [
  {
   "cell_type": "markdown",
   "id": "3788dda5",
   "metadata": {},
   "source": [
    "# Agenda: Week 4\n",
    "\n",
    "1. What are functions?\n",
    "2. Writing simple functions\n",
    "3. Arguments and parameters\n",
    "    - How we pass arguments\n",
    "    - How they are assigned to parameters\n",
    "4. Return values from functions  \n",
    "5. Default argument values\n",
    "6. Complex return values\n",
    "7. Local vs. global variables"
   ]
  },
  {
   "cell_type": "markdown",
   "id": "868f40d3",
   "metadata": {},
   "source": [
    "# What are functions?\n",
    "\n",
    "Functions are the verbs of Python -- they get things done.  We call a function in order to accomplish a task.  (For our purposes, methods are the same as functions.)\n",
    "\n",
    "Do we need to define our own functions?  No...but we want to.\n",
    "\n",
    "Being able to define our own, new verbs in Python means that we can more easily describe what we're doing at a higher level -- and then we can think at that higher level, and build things on top of that.  \n",
    "\n",
    "This is another example of *abstraction*, one of the most important ideas in programming.  We build something, and then we paper over the details of that thing, so that we can use it in building a bigger thing."
   ]
  },
  {
   "cell_type": "code",
   "execution_count": 1,
   "id": "9a4fc38d",
   "metadata": {},
   "outputs": [],
   "source": [
    "def hello():            # \"def\" means: define a new function, then we give its name and () -- currently empty\n",
    "                        # colon comes at the end of the line\n",
    "    print('Hello!')     # This is the body of the function\n",
    "                        #  - the function body does *not* execute when we define the function\n",
    "                        #  - it does execute whenever we call the function"
   ]
  },
  {
   "cell_type": "code",
   "execution_count": 2,
   "id": "a50419e5",
   "metadata": {},
   "outputs": [
    {
     "name": "stdout",
     "output_type": "stream",
     "text": [
      "Hello!\n"
     ]
    }
   ],
   "source": [
    "hello()                 # find the object named \"hello\""
   ]
  },
  {
   "cell_type": "code",
   "execution_count": 3,
   "id": "62fbec4f",
   "metadata": {},
   "outputs": [
    {
     "data": {
      "text/plain": [
       "function"
      ]
     },
     "execution_count": 3,
     "metadata": {},
     "output_type": "execute_result"
    }
   ],
   "source": [
    "type(hello)   # what type of object does \"hello\" refer to?"
   ]
  },
  {
   "cell_type": "code",
   "execution_count": 4,
   "id": "ff587aee",
   "metadata": {},
   "outputs": [
    {
     "ename": "TypeError",
     "evalue": "'int' object is not callable",
     "output_type": "error",
     "traceback": [
      "\u001b[0;31m---------------------------------------------------------------------------\u001b[0m",
      "\u001b[0;31mTypeError\u001b[0m                                 Traceback (most recent call last)",
      "\u001b[0;32m/var/folders/rr/0mnyyv811fs5vyp22gf4fxk00000gn/T/ipykernel_80330/1268624411.py\u001b[0m in \u001b[0;36m<module>\u001b[0;34m\u001b[0m\n\u001b[1;32m      1\u001b[0m \u001b[0mx\u001b[0m \u001b[0;34m=\u001b[0m \u001b[0;36m5\u001b[0m\u001b[0;34m\u001b[0m\u001b[0;34m\u001b[0m\u001b[0m\n\u001b[0;32m----> 2\u001b[0;31m \u001b[0mx\u001b[0m\u001b[0;34m(\u001b[0m\u001b[0;34m)\u001b[0m     \u001b[0;31m# let's try to execute this integer ... it won't go well\u001b[0m\u001b[0;34m\u001b[0m\u001b[0;34m\u001b[0m\u001b[0m\n\u001b[0m",
      "\u001b[0;31mTypeError\u001b[0m: 'int' object is not callable"
     ]
    }
   ],
   "source": [
    "x = 5\n",
    "x()     # let's try to execute this integer ... it won't go well"
   ]
  },
  {
   "cell_type": "markdown",
   "id": "27c5a557",
   "metadata": {},
   "source": [
    "# What can go in a function?\n",
    "\n",
    "*ANYTHING*!\n",
    "\n",
    "- `print`\n",
    "- `input`\n",
    "- Assignment\n",
    "- `if`\n",
    "- `for` and `while`\n"
   ]
  },
  {
   "cell_type": "code",
   "execution_count": 5,
   "id": "dcbdf3c0",
   "metadata": {},
   "outputs": [],
   "source": [
    "def hello():\n",
    "    name = input('Enter your name: ').strip()\n",
    "    print(f'Hello, {name}!')"
   ]
  },
  {
   "cell_type": "code",
   "execution_count": 6,
   "id": "57b12c71",
   "metadata": {},
   "outputs": [
    {
     "name": "stdout",
     "output_type": "stream",
     "text": [
      "Enter your name: Reuven\n",
      "Hello, Reuven!\n"
     ]
    }
   ],
   "source": [
    "hello()"
   ]
  },
  {
   "cell_type": "code",
   "execution_count": 7,
   "id": "ae2b8b5c",
   "metadata": {},
   "outputs": [],
   "source": [
    "def hello():\n",
    "    name = input('Enter your name: ').strip()\n",
    "\n",
    "    if name == 'Reuven':\n",
    "        print('Welcome the boss, Reuven!')\n",
    "    else:\n",
    "        print(f'Hello, {name}!')"
   ]
  },
  {
   "cell_type": "code",
   "execution_count": 9,
   "id": "5cee1764",
   "metadata": {},
   "outputs": [
    {
     "name": "stdout",
     "output_type": "stream",
     "text": [
      "Enter your name: asdfafaa\n",
      "Hello, asdfafaa!\n"
     ]
    }
   ],
   "source": [
    "hello()"
   ]
  },
  {
   "cell_type": "code",
   "execution_count": 10,
   "id": "1406cb19",
   "metadata": {},
   "outputs": [
    {
     "name": "stdout",
     "output_type": "stream",
     "text": [
      "7\n"
     ]
    }
   ],
   "source": [
    "x = 5\n",
    "\n",
    "x = 7\n",
    "\n",
    "print(x)   # not surprisingly, x is 7"
   ]
  },
  {
   "cell_type": "markdown",
   "id": "7479e1ed",
   "metadata": {},
   "source": [
    "# Exercise: Calculator\n",
    "\n",
    "1. Write a function, `calc`, that when we run it does the following:\n",
    "    - Ask the user to enter a first number\n",
    "    - Ask the user to enter either `+` or `-`\n",
    "    - Ask the user to enter a second number\n",
    "2. Let's assume that the user gave us digits only, and that we can turn our inputs into numbers.\n",
    "3. Print the full expression, and the result.\n",
    "4. If the operator isn't known, then give an error message or just say \"invalid result.\"\n",
    "\n",
    "Example:\n",
    "\n",
    "    First number: 8\n",
    "    Operator: +\n",
    "    Second number: 3\n",
    "    8 + 3 = 11\n",
    "    "
   ]
  },
  {
   "cell_type": "code",
   "execution_count": null,
   "id": "9b16ff36",
   "metadata": {},
   "outputs": [],
   "source": [
    "def calc():\n",
    "    first = input('First number: ').strip()\n",
    "    op = input('Operator: ').strip()\n",
    "    second = input('Second number: ').strip()\n",
    "    \n",
    "    first = int(first)\n",
    "    second = int(second)\n",
    "    \n",
    "    if op == '+':\n",
    "        result = first + second\n",
    "    elif op == '-':\n",
    "        result = first - second\n",
    "    else:\n",
    "        result = 'Invalid operato'"
   ]
  }
 ],
 "metadata": {
  "kernelspec": {
   "display_name": "Python 3 (ipykernel)",
   "language": "python",
   "name": "python3"
  },
  "language_info": {
   "codemirror_mode": {
    "name": "ipython",
    "version": 3
   },
   "file_extension": ".py",
   "mimetype": "text/x-python",
   "name": "python",
   "nbconvert_exporter": "python",
   "pygments_lexer": "ipython3",
   "version": "3.10.5"
  }
 },
 "nbformat": 4,
 "nbformat_minor": 5
}
