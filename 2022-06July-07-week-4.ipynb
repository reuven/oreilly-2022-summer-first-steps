{
 "cells": [
  {
   "cell_type": "markdown",
   "id": "f2080363",
   "metadata": {},
   "source": [
    "# Agenda: Week 4\n",
    "\n",
    "1. What are functions?\n",
    "2. Writing simple functions\n",
    "3. Arguments and parameters\n",
    "    - How we pass arguments\n",
    "    - How they are assigned to parameters\n",
    "4. Return values from functions  \n",
    "5. Default argument values\n",
    "6. Complex return values\n",
    "7. Local vs. global variables"
   ]
  },
  {
   "cell_type": "markdown",
   "id": "a131e756",
   "metadata": {},
   "source": [
    "# What are functions?\n",
    "\n",
    "Functions are the verbs of Python -- they get things done.  We call a function in order to accomplish a task.  (For our purposes, methods are the same as functions.)\n",
    "\n",
    "Do we need to define our own functions?  No...but we want to.\n",
    "\n",
    "Being able to define our own, new verbs in Python means that we can more easily describe what we're doing at a higher level -- and then we can think at that higher level, and build things on top of that.  \n",
    "\n",
    "This is another example of *abstraction*, one of the most important ideas in programming.  We build something, and then we paper over the details of that thing, so that we can use it in building a bigger thing."
   ]
  },
  {
   "cell_type": "code",
   "execution_count": 1,
   "id": "337fb61e",
   "metadata": {},
   "outputs": [],
   "source": [
    "def hello():            # \"def\" means: define a new function, then we give its name and () -- currently empty\n",
    "                        # colon comes at the end of the line\n",
    "    print('Hello!')     # This is the body of the function\n",
    "                        #  - the function body does *not* execute when we define the function\n",
    "                        #  - it does execute whenever we call the function"
   ]
  },
  {
   "cell_type": "code",
   "execution_count": 2,
   "id": "f5521061",
   "metadata": {},
   "outputs": [
    {
     "name": "stdout",
     "output_type": "stream",
     "text": [
      "Hello!\n"
     ]
    }
   ],
   "source": [
    "hello()                 # find the object named \"hello\""
   ]
  },
  {
   "cell_type": "code",
   "execution_count": 3,
   "id": "04d0316d",
   "metadata": {},
   "outputs": [
    {
     "data": {
      "text/plain": [
       "function"
      ]
     },
     "execution_count": 3,
     "metadata": {},
     "output_type": "execute_result"
    }
   ],
   "source": [
    "type(hello)   # what type of object does \"hello\" refer to?"
   ]
  },
  {
   "cell_type": "code",
   "execution_count": 4,
   "id": "59a7789d",
   "metadata": {},
   "outputs": [
    {
     "ename": "TypeError",
     "evalue": "'int' object is not callable",
     "output_type": "error",
     "traceback": [
      "\u001b[0;31m---------------------------------------------------------------------------\u001b[0m",
      "\u001b[0;31mTypeError\u001b[0m                                 Traceback (most recent call last)",
      "\u001b[0;32m/var/folders/rr/0mnyyv811fs5vyp22gf4fxk00000gn/T/ipykernel_80330/1268624411.py\u001b[0m in \u001b[0;36m<module>\u001b[0;34m\u001b[0m\n\u001b[1;32m      1\u001b[0m \u001b[0mx\u001b[0m \u001b[0;34m=\u001b[0m \u001b[0;36m5\u001b[0m\u001b[0;34m\u001b[0m\u001b[0;34m\u001b[0m\u001b[0m\n\u001b[0;32m----> 2\u001b[0;31m \u001b[0mx\u001b[0m\u001b[0;34m(\u001b[0m\u001b[0;34m)\u001b[0m     \u001b[0;31m# let's try to execute this integer ... it won't go well\u001b[0m\u001b[0;34m\u001b[0m\u001b[0;34m\u001b[0m\u001b[0m\n\u001b[0m",
      "\u001b[0;31mTypeError\u001b[0m: 'int' object is not callable"
     ]
    }
   ],
   "source": [
    "x = 5\n",
    "x()     # let's try to execute this integer ... it won't go well"
   ]
  },
  {
   "cell_type": "markdown",
   "id": "e5ad48d4",
   "metadata": {},
   "source": [
    "# What can go in a function?\n",
    "\n",
    "*ANYTHING*!\n",
    "\n",
    "- `print`\n",
    "- `input`\n",
    "- Assignment\n",
    "- `if`\n",
    "- `for` and `while`\n"
   ]
  },
  {
   "cell_type": "code",
   "execution_count": 5,
   "id": "10ad83a9",
   "metadata": {},
   "outputs": [],
   "source": [
    "def hello():\n",
    "    name = input('Enter your name: ').strip()\n",
    "    print(f'Hello, {name}!')"
   ]
  },
  {
   "cell_type": "code",
   "execution_count": 6,
   "id": "e8d66e54",
   "metadata": {},
   "outputs": [
    {
     "name": "stdout",
     "output_type": "stream",
     "text": [
      "Enter your name: Reuven\n",
      "Hello, Reuven!\n"
     ]
    }
   ],
   "source": [
    "hello()"
   ]
  },
  {
   "cell_type": "code",
   "execution_count": 7,
   "id": "9a6dc41c",
   "metadata": {},
   "outputs": [],
   "source": [
    "def hello():\n",
    "    name = input('Enter your name: ').strip()\n",
    "\n",
    "    if name == 'Reuven':\n",
    "        print('Welcome the boss, Reuven!')\n",
    "    else:\n",
    "        print(f'Hello, {name}!')"
   ]
  },
  {
   "cell_type": "code",
   "execution_count": 9,
   "id": "e00dc63d",
   "metadata": {},
   "outputs": [
    {
     "name": "stdout",
     "output_type": "stream",
     "text": [
      "Enter your name: asdfafaa\n",
      "Hello, asdfafaa!\n"
     ]
    }
   ],
   "source": [
    "hello()"
   ]
  },
  {
   "cell_type": "code",
   "execution_count": 10,
   "id": "5a1629e8",
   "metadata": {},
   "outputs": [
    {
     "name": "stdout",
     "output_type": "stream",
     "text": [
      "7\n"
     ]
    }
   ],
   "source": [
    "x = 5\n",
    "\n",
    "x = 7\n",
    "\n",
    "print(x)   # not surprisingly, x is 7"
   ]
  },
  {
   "cell_type": "markdown",
   "id": "f53bf055",
   "metadata": {},
   "source": [
    "# Exercise: Calculator\n",
    "\n",
    "1. Write a function, `calc`, that when we run it does the following:\n",
    "    - Ask the user to enter a first number\n",
    "    - Ask the user to enter either `+` or `-`\n",
    "    - Ask the user to enter a second number\n",
    "2. Let's assume that the user gave us digits only, and that we can turn our inputs into numbers.\n",
    "3. Print the full expression, and the result.\n",
    "4. If the operator isn't known, then give an error message or just say \"invalid result.\"\n",
    "\n",
    "Example:\n",
    "\n",
    "    First number: 8\n",
    "    Operator: +\n",
    "    Second number: 3\n",
    "    8 + 3 = 11\n",
    "    "
   ]
  },
  {
   "cell_type": "code",
   "execution_count": 11,
   "id": "cf6b3766",
   "metadata": {},
   "outputs": [],
   "source": [
    "def calc():\n",
    "    first = input('First number: ').strip()\n",
    "    op = input('Operator: ').strip()\n",
    "    second = input('Second number: ').strip()\n",
    "    \n",
    "    first = int(first)\n",
    "    second = int(second)\n",
    "    \n",
    "    if op == '+':\n",
    "        result = first + second\n",
    "    elif op == '-':\n",
    "        result = first - second\n",
    "    else:\n",
    "        result = f'Invalid operator {op}'\n",
    "        \n",
    "    print(f'{first} {op} {second} = {result}')"
   ]
  },
  {
   "cell_type": "code",
   "execution_count": 15,
   "id": "20b4d1a1",
   "metadata": {},
   "outputs": [
    {
     "name": "stdout",
     "output_type": "stream",
     "text": [
      "First number: 20\n",
      "Operator: *\n",
      "Second number: 6\n",
      "20 * 6 = Invalid operator *\n"
     ]
    }
   ],
   "source": [
    "calc()"
   ]
  },
  {
   "cell_type": "code",
   "execution_count": 16,
   "id": "1c122faf",
   "metadata": {},
   "outputs": [
    {
     "data": {
      "text/plain": [
       "4"
      ]
     },
     "execution_count": 16,
     "metadata": {},
     "output_type": "execute_result"
    }
   ],
   "source": [
    "len('abcd')   # here, I pass 'abcd' as an argument to len "
   ]
  },
  {
   "cell_type": "code",
   "execution_count": 17,
   "id": "50ae5185",
   "metadata": {},
   "outputs": [
    {
     "name": "stdout",
     "output_type": "stream",
     "text": [
      "Hello\n"
     ]
    }
   ],
   "source": [
    "print('Hello')"
   ]
  },
  {
   "cell_type": "markdown",
   "id": "0cc049fb",
   "metadata": {},
   "source": [
    "# Arguments and parameters\n",
    "\n",
    "- Arguments are the values we pass to a function when we invoke it.  \n",
    "- Parameters are the variables that accept arguments in a function."
   ]
  },
  {
   "cell_type": "code",
   "execution_count": 18,
   "id": "5822b090",
   "metadata": {},
   "outputs": [],
   "source": [
    "def hello(name):   # name is a parameter in the hello function\n",
    "    print(f'Hello, {name}!')"
   ]
  },
  {
   "cell_type": "code",
   "execution_count": 19,
   "id": "601c808c",
   "metadata": {},
   "outputs": [
    {
     "name": "stdout",
     "output_type": "stream",
     "text": [
      "Hello, Reuven!\n"
     ]
    }
   ],
   "source": [
    "hello('Reuven')  # 'Reuven' is an argument I'm passing to hello, which will be assigned to name"
   ]
  },
  {
   "cell_type": "code",
   "execution_count": 20,
   "id": "19e0e49e",
   "metadata": {},
   "outputs": [],
   "source": [
    "# what kinds of arguments can I pass to our hello function?"
   ]
  },
  {
   "cell_type": "code",
   "execution_count": 21,
   "id": "a59e6c04",
   "metadata": {},
   "outputs": [
    {
     "name": "stdout",
     "output_type": "stream",
     "text": [
      "Hello, world!\n"
     ]
    }
   ],
   "source": [
    "hello('world')"
   ]
  },
  {
   "cell_type": "code",
   "execution_count": 22,
   "id": "9b297482",
   "metadata": {},
   "outputs": [
    {
     "name": "stdout",
     "output_type": "stream",
     "text": [
      "Hello, 5!\n"
     ]
    }
   ],
   "source": [
    "hello(5)"
   ]
  },
  {
   "cell_type": "code",
   "execution_count": 23,
   "id": "a18e2895",
   "metadata": {},
   "outputs": [
    {
     "name": "stdout",
     "output_type": "stream",
     "text": [
      "Hello, [10, 20, 30]!\n"
     ]
    }
   ],
   "source": [
    "hello([10, 20, 30])"
   ]
  },
  {
   "cell_type": "code",
   "execution_count": 24,
   "id": "f8462c34",
   "metadata": {},
   "outputs": [
    {
     "name": "stdout",
     "output_type": "stream",
     "text": [
      "Hello, <function hello at 0x1050c0a60>!\n"
     ]
    }
   ],
   "source": [
    "# this is the craziest one!\n",
    "hello(hello)"
   ]
  },
  {
   "cell_type": "code",
   "execution_count": 25,
   "id": "6e5f11a7",
   "metadata": {},
   "outputs": [],
   "source": [
    "def hello(first, last):\n",
    "    print(f'Hello, {first} {last}!')"
   ]
  },
  {
   "cell_type": "code",
   "execution_count": 26,
   "id": "b38def13",
   "metadata": {},
   "outputs": [
    {
     "name": "stdout",
     "output_type": "stream",
     "text": [
      "Hello, Reuven Lerner!\n"
     ]
    }
   ],
   "source": [
    "hello('Reuven', 'Lerner')"
   ]
  },
  {
   "cell_type": "code",
   "execution_count": 27,
   "id": "6dbac304",
   "metadata": {},
   "outputs": [
    {
     "ename": "TypeError",
     "evalue": "hello() missing 1 required positional argument: 'last'",
     "output_type": "error",
     "traceback": [
      "\u001b[0;31m---------------------------------------------------------------------------\u001b[0m",
      "\u001b[0;31mTypeError\u001b[0m                                 Traceback (most recent call last)",
      "\u001b[0;32m/var/folders/rr/0mnyyv811fs5vyp22gf4fxk00000gn/T/ipykernel_80330/1732743840.py\u001b[0m in \u001b[0;36m<module>\u001b[0;34m\u001b[0m\n\u001b[1;32m      1\u001b[0m \u001b[0;31m# can I still call \"hello\" with a single argument?\u001b[0m\u001b[0;34m\u001b[0m\u001b[0;34m\u001b[0m\u001b[0m\n\u001b[1;32m      2\u001b[0m \u001b[0;34m\u001b[0m\u001b[0m\n\u001b[0;32m----> 3\u001b[0;31m \u001b[0mhello\u001b[0m\u001b[0;34m(\u001b[0m\u001b[0;34m'Reuven'\u001b[0m\u001b[0;34m)\u001b[0m\u001b[0;34m\u001b[0m\u001b[0;34m\u001b[0m\u001b[0m\n\u001b[0m",
      "\u001b[0;31mTypeError\u001b[0m: hello() missing 1 required positional argument: 'last'"
     ]
    }
   ],
   "source": [
    "# can I still call \"hello\" with a single argument?\n",
    "\n",
    "hello('Reuven')"
   ]
  },
  {
   "cell_type": "code",
   "execution_count": 28,
   "id": "0bcdd398",
   "metadata": {},
   "outputs": [
    {
     "name": "stdout",
     "output_type": "stream",
     "text": [
      "Hello, Reuven Lerner!\n"
     ]
    }
   ],
   "source": [
    "# parameters:  first   last\n",
    "# arguments:  'Reuven'  'Lerner'\n",
    "\n",
    "hello('Reuven', 'Lerner')   # positional arguments -- they're assigned to parameters based on their POSITIONS"
   ]
  },
  {
   "cell_type": "code",
   "execution_count": 31,
   "id": "46054df6",
   "metadata": {},
   "outputs": [],
   "source": [
    "def calc(first, op, second):   # parameters are local variables -- their values don't affect the outside world\n",
    "    if op == '+':\n",
    "        result = first + second\n",
    "    elif op == '-':\n",
    "        result = first - second\n",
    "    else:\n",
    "        result = f'Invalid operator {op}'\n",
    "        \n",
    "    print(f'{first} {op} {second} = {result}')"
   ]
  },
  {
   "cell_type": "code",
   "execution_count": 30,
   "id": "8ae5ddd5",
   "metadata": {},
   "outputs": [
    {
     "name": "stdout",
     "output_type": "stream",
     "text": [
      "10 + 3 = 13\n"
     ]
    }
   ],
   "source": [
    "calc(10, '+', 3)"
   ]
  },
  {
   "cell_type": "markdown",
   "id": "1dadf6ce",
   "metadata": {},
   "source": [
    "# Exercise: `mysum`\n",
    "\n",
    "1. Python comes with a builtin function called `sum`, which takes a list (or set, or tuple) of numbers, and returns its sum. We're going to write a similar function, called `mysum`, which will *print* the sum of numbers passed to it.\n",
    "2. Don't use `sum` to implement `mysum`.\n",
    "3. Your function should take a single argument, an iterable (probably a list) of numbers. Add them, and print the result.\n",
    "\n",
    "```python\n",
    "mysum([10, 20, 30])   # this will print 60\n",
    "```\n",
    "\n"
   ]
  },
  {
   "cell_type": "code",
   "execution_count": 32,
   "id": "322169c7",
   "metadata": {},
   "outputs": [],
   "source": [
    "def mysum(numbers):    # numbers should be a list/tuple of integers\n",
    "    total = 0\n",
    "    for one_number in numbers:   # iterate over every integer in numbers\n",
    "        total += one_number      # add one_number to total\n",
    "    print(total)"
   ]
  },
  {
   "cell_type": "code",
   "execution_count": 33,
   "id": "c7ba28df",
   "metadata": {},
   "outputs": [
    {
     "name": "stdout",
     "output_type": "stream",
     "text": [
      "60\n"
     ]
    }
   ],
   "source": [
    "mysum([10, 20, 30])"
   ]
  },
  {
   "cell_type": "code",
   "execution_count": 34,
   "id": "50b99b79",
   "metadata": {},
   "outputs": [
    {
     "ename": "TypeError",
     "evalue": "unsupported operand type(s) for +=: 'int' and 'str'",
     "output_type": "error",
     "traceback": [
      "\u001b[0;31m---------------------------------------------------------------------------\u001b[0m",
      "\u001b[0;31mTypeError\u001b[0m                                 Traceback (most recent call last)",
      "\u001b[0;32m/var/folders/rr/0mnyyv811fs5vyp22gf4fxk00000gn/T/ipykernel_80330/3412263597.py\u001b[0m in \u001b[0;36m<module>\u001b[0;34m\u001b[0m\n\u001b[0;32m----> 1\u001b[0;31m \u001b[0mmysum\u001b[0m\u001b[0;34m(\u001b[0m\u001b[0;34m[\u001b[0m\u001b[0;36m10\u001b[0m\u001b[0;34m,\u001b[0m \u001b[0;36m20\u001b[0m\u001b[0;34m,\u001b[0m \u001b[0;34m'a'\u001b[0m\u001b[0;34m,\u001b[0m \u001b[0;36m30\u001b[0m\u001b[0;34m]\u001b[0m\u001b[0;34m)\u001b[0m\u001b[0;34m\u001b[0m\u001b[0;34m\u001b[0m\u001b[0m\n\u001b[0m",
      "\u001b[0;32m/var/folders/rr/0mnyyv811fs5vyp22gf4fxk00000gn/T/ipykernel_80330/1112836097.py\u001b[0m in \u001b[0;36mmysum\u001b[0;34m(numbers)\u001b[0m\n\u001b[1;32m      2\u001b[0m     \u001b[0mtotal\u001b[0m \u001b[0;34m=\u001b[0m \u001b[0;36m0\u001b[0m\u001b[0;34m\u001b[0m\u001b[0;34m\u001b[0m\u001b[0m\n\u001b[1;32m      3\u001b[0m     \u001b[0;32mfor\u001b[0m \u001b[0mone_number\u001b[0m \u001b[0;32min\u001b[0m \u001b[0mnumbers\u001b[0m\u001b[0;34m:\u001b[0m   \u001b[0;31m# iterate over every integer in numbers\u001b[0m\u001b[0;34m\u001b[0m\u001b[0;34m\u001b[0m\u001b[0m\n\u001b[0;32m----> 4\u001b[0;31m         \u001b[0mtotal\u001b[0m \u001b[0;34m+=\u001b[0m \u001b[0mone_number\u001b[0m      \u001b[0;31m# add one_number to total\u001b[0m\u001b[0;34m\u001b[0m\u001b[0;34m\u001b[0m\u001b[0m\n\u001b[0m\u001b[1;32m      5\u001b[0m     \u001b[0mprint\u001b[0m\u001b[0;34m(\u001b[0m\u001b[0mtotal\u001b[0m\u001b[0;34m)\u001b[0m\u001b[0;34m\u001b[0m\u001b[0;34m\u001b[0m\u001b[0m\n",
      "\u001b[0;31mTypeError\u001b[0m: unsupported operand type(s) for +=: 'int' and 'str'"
     ]
    }
   ],
   "source": [
    "mysum([10, 20, 'a', 30])"
   ]
  },
  {
   "cell_type": "code",
   "execution_count": 35,
   "id": "1c0a13ff",
   "metadata": {},
   "outputs": [
    {
     "ename": "TypeError",
     "evalue": "unsupported operand type(s) for +: 'int' and 'str'",
     "output_type": "error",
     "traceback": [
      "\u001b[0;31m---------------------------------------------------------------------------\u001b[0m",
      "\u001b[0;31mTypeError\u001b[0m                                 Traceback (most recent call last)",
      "\u001b[0;32m/var/folders/rr/0mnyyv811fs5vyp22gf4fxk00000gn/T/ipykernel_80330/964805911.py\u001b[0m in \u001b[0;36m<module>\u001b[0;34m\u001b[0m\n\u001b[0;32m----> 1\u001b[0;31m \u001b[0msum\u001b[0m\u001b[0;34m(\u001b[0m\u001b[0;34m[\u001b[0m\u001b[0;36m10\u001b[0m\u001b[0;34m,\u001b[0m \u001b[0;36m20\u001b[0m\u001b[0;34m,\u001b[0m \u001b[0;34m'a'\u001b[0m\u001b[0;34m,\u001b[0m \u001b[0;36m30\u001b[0m\u001b[0;34m]\u001b[0m\u001b[0;34m)\u001b[0m\u001b[0;34m\u001b[0m\u001b[0;34m\u001b[0m\u001b[0m\n\u001b[0m",
      "\u001b[0;31mTypeError\u001b[0m: unsupported operand type(s) for +: 'int' and 'str'"
     ]
    }
   ],
   "source": [
    "sum([10, 20, 'a', 30])"
   ]
  },
  {
   "cell_type": "markdown",
   "id": "dcce6df9",
   "metadata": {},
   "source": [
    "# Positional vs. keyword arguments\n",
    "\n",
    "How does Python assign arguments to parameters?  It has two techniques:\n",
    "\n",
    "- One, which we've already seen, is *positional arguments*, where the arguments are assigned to parameters based on their positions.\n",
    "- The second is *keyword arguments*, where we specify which parameter should get which argument."
   ]
  },
  {
   "cell_type": "code",
   "execution_count": 36,
   "id": "f2e2f6d6",
   "metadata": {},
   "outputs": [],
   "source": [
    "def hello(first, last):\n",
    "    print(f'Hello, {first} {last}!')"
   ]
  },
  {
   "cell_type": "code",
   "execution_count": 37,
   "id": "381bd5c3",
   "metadata": {},
   "outputs": [
    {
     "name": "stdout",
     "output_type": "stream",
     "text": [
      "Hello, Reuven Lerner!\n"
     ]
    }
   ],
   "source": [
    "# parameters: first       last\n",
    "# arguments:  'Reuven'  'Lerner'\n",
    "\n",
    "hello('Reuven', 'Lerner')  # these are positional arguments... because they just are values"
   ]
  },
  {
   "cell_type": "code",
   "execution_count": 38,
   "id": "3cbfa1ba",
   "metadata": {},
   "outputs": [
    {
     "name": "stdout",
     "output_type": "stream",
     "text": [
      "Hello, Reuven Lerner!\n"
     ]
    }
   ],
   "source": [
    "# now let's use keyword arguments!\n",
    "\n",
    "# parameters: first       last\n",
    "# arguments:  'Reuven'   'Lerner'\n",
    "\n",
    "hello(first='Reuven', last='Lerner')  # you can tell these are keyword arguments, because they\n",
    "                                      #  name=value.  If there's an =, then they are keyword arguments."
   ]
  },
  {
   "cell_type": "code",
   "execution_count": 40,
   "id": "de282802",
   "metadata": {},
   "outputs": [
    {
     "name": "stdout",
     "output_type": "stream",
     "text": [
      "Hello, Reuven Lerner!\n"
     ]
    }
   ],
   "source": [
    "# parameters: first       last\n",
    "# arguments:   'Reuven'  'Lerner'\n",
    "\n",
    "hello(last='Lerner', first='Reuven') "
   ]
  },
  {
   "cell_type": "code",
   "execution_count": 41,
   "id": "ff866d31",
   "metadata": {},
   "outputs": [
    {
     "name": "stdout",
     "output_type": "stream",
     "text": [
      "Hello, Reuven Lerner!\n"
     ]
    }
   ],
   "source": [
    "# can we mix and match positional and keyword arguments in the same function call?\n",
    "# yes... sort of\n",
    "# all positional arguments must come before all keyword arguments.\n",
    "\n",
    "hello('Reuven', last='Lerner')  # positional before keyword, so we're fine"
   ]
  },
  {
   "cell_type": "code",
   "execution_count": 42,
   "id": "5e7b9e46",
   "metadata": {},
   "outputs": [
    {
     "ename": "SyntaxError",
     "evalue": "positional argument follows keyword argument (3445314004.py, line 1)",
     "output_type": "error",
     "traceback": [
      "\u001b[0;36m  File \u001b[0;32m\"/var/folders/rr/0mnyyv811fs5vyp22gf4fxk00000gn/T/ipykernel_80330/3445314004.py\"\u001b[0;36m, line \u001b[0;32m1\u001b[0m\n\u001b[0;31m    hello(first='Reuven', 'Lerner')\u001b[0m\n\u001b[0m                                  ^\u001b[0m\n\u001b[0;31mSyntaxError\u001b[0m\u001b[0;31m:\u001b[0m positional argument follows keyword argument\n"
     ]
    }
   ],
   "source": [
    "hello(first='Reuven', 'Lerner')"
   ]
  },
  {
   "cell_type": "code",
   "execution_count": 43,
   "id": "259ae18f",
   "metadata": {},
   "outputs": [],
   "source": [
    "def mysum(a,b,c,d,e,f):\n",
    "    print(a+b+c+d+e+f)"
   ]
  },
  {
   "cell_type": "code",
   "execution_count": 44,
   "id": "0ebed23f",
   "metadata": {},
   "outputs": [
    {
     "name": "stdout",
     "output_type": "stream",
     "text": [
      "210\n"
     ]
    }
   ],
   "source": [
    "# parameters: a b c d e f\n",
    "# arguments: 10 20 30 40 50 60 \n",
    "\n",
    "mysum(10, 20, 30, 40, 50, 60)"
   ]
  },
  {
   "cell_type": "code",
   "execution_count": 46,
   "id": "cb5cf617",
   "metadata": {},
   "outputs": [
    {
     "name": "stdout",
     "output_type": "stream",
     "text": [
      "210\n"
     ]
    }
   ],
   "source": [
    "# parameters: a b c      d   e    f\n",
    "# arguments: 10 20 30    60  50     40\n",
    "\n",
    "mysum(10, 20, 30, f=40, e=50, d=60)"
   ]
  },
  {
   "cell_type": "markdown",
   "id": "9b153317",
   "metadata": {},
   "source": [
    "Parameters are variables whose values are assigned during the function call.  The values will come from whoever called the function."
   ]
  },
  {
   "cell_type": "markdown",
   "id": "87204ba3",
   "metadata": {},
   "source": [
    "# Next up\n",
    "\n",
    "1. Return values\n",
    "2. Default argument values for our parameters"
   ]
  },
  {
   "cell_type": "code",
   "execution_count": 47,
   "id": "c7183752",
   "metadata": {},
   "outputs": [],
   "source": [
    "x = len('abcd')   # len('abcd') returns a value, which we assign to x"
   ]
  },
  {
   "cell_type": "code",
   "execution_count": 48,
   "id": "2706cebd",
   "metadata": {},
   "outputs": [
    {
     "data": {
      "text/plain": [
       "4"
      ]
     },
     "execution_count": 48,
     "metadata": {},
     "output_type": "execute_result"
    }
   ],
   "source": [
    "x"
   ]
  },
  {
   "cell_type": "code",
   "execution_count": 49,
   "id": "0dea8ccf",
   "metadata": {},
   "outputs": [
    {
     "name": "stdout",
     "output_type": "stream",
     "text": [
      "What is your name? Reuven\n"
     ]
    }
   ],
   "source": [
    "name = input('What is your name? ').strip()"
   ]
  },
  {
   "cell_type": "code",
   "execution_count": 50,
   "id": "28f60a27",
   "metadata": {},
   "outputs": [
    {
     "data": {
      "text/plain": [
       "'Reuven'"
      ]
     },
     "execution_count": 50,
     "metadata": {},
     "output_type": "execute_result"
    }
   ],
   "source": [
    "name"
   ]
  },
  {
   "cell_type": "code",
   "execution_count": 51,
   "id": "e63f9e74",
   "metadata": {},
   "outputs": [],
   "source": [
    "def hello(name):\n",
    "    print(f'Hello, {name}!')"
   ]
  },
  {
   "cell_type": "code",
   "execution_count": 53,
   "id": "5c7ae7e4",
   "metadata": {},
   "outputs": [
    {
     "name": "stdout",
     "output_type": "stream",
     "text": [
      "Hello, Reuven!\n"
     ]
    }
   ],
   "source": [
    "x = hello('Reuven')   # printing is a \"side effect\" -- separate from returning a value"
   ]
  },
  {
   "cell_type": "code",
   "execution_count": 54,
   "id": "de6b7711",
   "metadata": {},
   "outputs": [
    {
     "name": "stdout",
     "output_type": "stream",
     "text": [
      "None\n"
     ]
    }
   ],
   "source": [
    "# if you don't tell a function what it should return, it returns the special value None\n",
    "print(x)"
   ]
  },
  {
   "cell_type": "markdown",
   "id": "e715c907",
   "metadata": {},
   "source": [
    "# Printing vs. returning\n",
    "\n",
    "A function can print whatever it wants.  When we run a function, it can print zero times, once, or 1,000 times.  it depends on the function.\n",
    "\n",
    "But a function can only return once per call.  You can have several `return` statements in your function, but only one will ever run in a given call.  Whatever it returns is known as the \"return value\" of the function.\n",
    "\n",
    "What a function prints is displayed on the screen, but it cannot be captured in a variable.  By contrast, and by defintion, a function's return value can be captured and assigned to a variable.\n",
    "\n",
    "It's usually best for a function to `return`, and not to `print`, if you have to choose -- because if you `return`, the caller can always `print` what it got.  But if you `print`, it cannot capture and use the value."
   ]
  },
  {
   "cell_type": "code",
   "execution_count": 56,
   "id": "68ea15af",
   "metadata": {},
   "outputs": [],
   "source": [
    "def hello(name):\n",
    "    return f'Hello, {name}!'   # notice: return isn't a function, so no ()\n",
    "\n",
    "# if I call hello('Reuven'), the function will *return* a string, which I can assign to a variable\n",
    "\n",
    "x = hello('Reuven')   # nothing is printed, because the returned value was captured by x"
   ]
  },
  {
   "cell_type": "code",
   "execution_count": 57,
   "id": "4fbfb406",
   "metadata": {},
   "outputs": [],
   "source": [
    "def myfunc():\n",
    "    return 1   # returns 1 and stops the function from running\n",
    "    return 2\n",
    "    return 3"
   ]
  },
  {
   "cell_type": "code",
   "execution_count": 58,
   "id": "3119e84d",
   "metadata": {},
   "outputs": [
    {
     "data": {
      "text/plain": [
       "1"
      ]
     },
     "execution_count": 58,
     "metadata": {},
     "output_type": "execute_result"
    }
   ],
   "source": [
    "myfunc()"
   ]
  },
  {
   "cell_type": "code",
   "execution_count": 59,
   "id": "df960cbb",
   "metadata": {},
   "outputs": [],
   "source": [
    "def myfunc(n):\n",
    "    if n % 2 == 1:  \n",
    "        return 'odd'\n",
    "        # anything after \"return\" is completely ignored\n",
    "    else:\n",
    "        return 'even'\n",
    "        # anything after \"return\" is completely ignored    "
   ]
  },
  {
   "cell_type": "code",
   "execution_count": 60,
   "id": "664cfbaf",
   "metadata": {},
   "outputs": [
    {
     "data": {
      "text/plain": [
       "'even'"
      ]
     },
     "execution_count": 60,
     "metadata": {},
     "output_type": "execute_result"
    }
   ],
   "source": [
    "myfunc(10)"
   ]
  },
  {
   "cell_type": "code",
   "execution_count": 61,
   "id": "ef09fd7d",
   "metadata": {},
   "outputs": [
    {
     "data": {
      "text/plain": [
       "'odd'"
      ]
     },
     "execution_count": 61,
     "metadata": {},
     "output_type": "execute_result"
    }
   ],
   "source": [
    "myfunc(5)"
   ]
  },
  {
   "cell_type": "code",
   "execution_count": 62,
   "id": "0337beac",
   "metadata": {},
   "outputs": [],
   "source": [
    "# let's rewrite mysum to return a value, rather than print a value\n",
    "\n",
    "def mysum(numbers):    # numbers should be a list/tuple of integers\n",
    "    total = 0\n",
    "    for one_number in numbers:   # iterate over every integer in numbers\n",
    "        total += one_number      # add one_number to total\n",
    "    return total"
   ]
  },
  {
   "cell_type": "code",
   "execution_count": 64,
   "id": "e4820aa4",
   "metadata": {},
   "outputs": [
    {
     "data": {
      "text/plain": [
       "60"
      ]
     },
     "execution_count": 64,
     "metadata": {},
     "output_type": "execute_result"
    }
   ],
   "source": [
    "mysum([10, 20, 30])  # only in Jupyter does the final value in a cell get displayed"
   ]
  },
  {
   "cell_type": "code",
   "execution_count": 65,
   "id": "a1877a50",
   "metadata": {},
   "outputs": [],
   "source": [
    "x = mysum([10, 20, 30])"
   ]
  },
  {
   "cell_type": "code",
   "execution_count": 66,
   "id": "66ffd3b9",
   "metadata": {},
   "outputs": [
    {
     "data": {
      "text/plain": [
       "60"
      ]
     },
     "execution_count": 66,
     "metadata": {},
     "output_type": "execute_result"
    }
   ],
   "source": [
    "x"
   ]
  },
  {
   "cell_type": "code",
   "execution_count": 67,
   "id": "9676d0e8",
   "metadata": {},
   "outputs": [],
   "source": [
    "def calc(first, op, second):\n",
    "    if op == '+':\n",
    "        result = first + second\n",
    "    elif op == '-':\n",
    "        result = first - second\n",
    "    else:\n",
    "        result = f'Invalid operator {op}'\n",
    "        \n",
    "    return f'{first} {op} {second} = {result}'"
   ]
  },
  {
   "cell_type": "code",
   "execution_count": 68,
   "id": "7a313100",
   "metadata": {},
   "outputs": [
    {
     "data": {
      "text/plain": [
       "'10 + 3 = 13'"
      ]
     },
     "execution_count": 68,
     "metadata": {},
     "output_type": "execute_result"
    }
   ],
   "source": [
    "calc(10, '+', 3)"
   ]
  },
  {
   "cell_type": "code",
   "execution_count": 69,
   "id": "18450cd2",
   "metadata": {},
   "outputs": [
    {
     "name": "stdout",
     "output_type": "stream",
     "text": [
      "26 + -17 = 9\n",
      "14 + 31 = 45\n",
      "-4 + 13 = 9\n",
      "14 + 10 = 24\n",
      "-29 + -33 = -62\n",
      "-18 + 21 = 3\n",
      "-21 + 38 = 17\n",
      "11 + 5 = 16\n",
      "-5 + 13 = 8\n",
      "-40 + 45 = 5\n"
     ]
    }
   ],
   "source": [
    "import random\n",
    "\n",
    "for i in range(10):   # we're going to run things 10 times\n",
    "    first = random.randint(-50, 50)\n",
    "    second = random.randint(-50, 50)\n",
    "    \n",
    "    print(calc(first, '+', second))\n",
    "    "
   ]
  },
  {
   "cell_type": "markdown",
   "id": "cd66ba50",
   "metadata": {},
   "source": [
    "# Exercise: `biggest_and_smallest`\n",
    "\n",
    "1. Write a function, `biggest_and_smallest`, that takes a list of integers as an argument.\n",
    "2. The parameter will be called `numbers`.\n",
    "3. Define two variables in the function, `biggest` and `smallest`, both of which are set to `numbers[0]`, the first element in `numbers`.\n",
    "4. Go through `numbers` in a `for` loop:\n",
    "    - If the current number is bigger than `biggest`, make it the new `biggest`\n",
    "    - If the current number if smallest than `smallest`, make it the new `smallest`\n",
    "5. At the end, return a 2-element list containing `biggest` and `smallest`    "
   ]
  },
  {
   "cell_type": "code",
   "execution_count": 73,
   "id": "da24ce60",
   "metadata": {},
   "outputs": [],
   "source": [
    "def biggest_and_smallest(numbers):   \n",
    "    biggest = numbers[0]\n",
    "    smallest = numbers[0]\n",
    "    \n",
    "    for one_number in numbers:      # go through each number we got in the argument\n",
    "        if one_number > biggest:    # is this the biggest so far? keep it!\n",
    "            print(f'\\t{one_number} > {biggest}; it is the new biggest!')\n",
    "            biggest = one_number\n",
    "            \n",
    "        if one_number < smallest:   # is this the smallest so far? keep it!\n",
    "            print(f'\\t{one_number} < {smallest}; it is the new smallest!')\n",
    "            smallest = one_number\n",
    "            \n",
    "    return [biggest, smallest]   # return the 2-element list of biggest + smallest"
   ]
  },
  {
   "cell_type": "code",
   "execution_count": 74,
   "id": "1073522f",
   "metadata": {},
   "outputs": [
    {
     "name": "stdout",
     "output_type": "stream",
     "text": [
      "\t20 > 10; it is the new biggest!\n",
      "\t30 > 20; it is the new biggest!\n",
      "\t40 > 30; it is the new biggest!\n",
      "\t5 < 10; it is the new smallest!\n",
      "\t-6 < 5; it is the new smallest!\n"
     ]
    },
    {
     "data": {
      "text/plain": [
       "[40, -6]"
      ]
     },
     "execution_count": 74,
     "metadata": {},
     "output_type": "execute_result"
    }
   ],
   "source": [
    "biggest_and_smallest([10, 20, 30, 40, 5, 8, 19, -6])"
   ]
  },
  {
   "cell_type": "code",
   "execution_count": 75,
   "id": "beeb39f9",
   "metadata": {},
   "outputs": [],
   "source": [
    "def add(first, second):\n",
    "    return first + second"
   ]
  },
  {
   "cell_type": "code",
   "execution_count": 76,
   "id": "adab8c3d",
   "metadata": {},
   "outputs": [
    {
     "data": {
      "text/plain": [
       "13"
      ]
     },
     "execution_count": 76,
     "metadata": {},
     "output_type": "execute_result"
    }
   ],
   "source": [
    "add(10, 3)"
   ]
  },
  {
   "cell_type": "code",
   "execution_count": 77,
   "id": "bb2b4ae9",
   "metadata": {},
   "outputs": [
    {
     "data": {
      "text/plain": [
       "23"
      ]
     },
     "execution_count": 77,
     "metadata": {},
     "output_type": "execute_result"
    }
   ],
   "source": [
    "add(15, 8)"
   ]
  },
  {
   "cell_type": "code",
   "execution_count": 78,
   "id": "21fc9932",
   "metadata": {},
   "outputs": [
    {
     "data": {
      "text/plain": [
       "'abcdef'"
      ]
     },
     "execution_count": 78,
     "metadata": {},
     "output_type": "execute_result"
    }
   ],
   "source": [
    "add('abcd', 'ef')"
   ]
  },
  {
   "cell_type": "code",
   "execution_count": 79,
   "id": "2528f6f1",
   "metadata": {},
   "outputs": [
    {
     "ename": "TypeError",
     "evalue": "add() missing 1 required positional argument: 'second'",
     "output_type": "error",
     "traceback": [
      "\u001b[0;31m---------------------------------------------------------------------------\u001b[0m",
      "\u001b[0;31mTypeError\u001b[0m                                 Traceback (most recent call last)",
      "\u001b[0;32m/var/folders/rr/0mnyyv811fs5vyp22gf4fxk00000gn/T/ipykernel_80330/2172010150.py\u001b[0m in \u001b[0;36m<module>\u001b[0;34m\u001b[0m\n\u001b[0;32m----> 1\u001b[0;31m \u001b[0madd\u001b[0m\u001b[0;34m(\u001b[0m\u001b[0;36m3\u001b[0m\u001b[0;34m)\u001b[0m\u001b[0;34m\u001b[0m\u001b[0;34m\u001b[0m\u001b[0m\n\u001b[0m",
      "\u001b[0;31mTypeError\u001b[0m: add() missing 1 required positional argument: 'second'"
     ]
    }
   ],
   "source": [
    "# parameters: first second\n",
    "# arguments:   3     ....\n",
    "\n",
    "add(3)"
   ]
  },
  {
   "cell_type": "code",
   "execution_count": 80,
   "id": "0220e5b5",
   "metadata": {},
   "outputs": [
    {
     "data": {
      "text/plain": [
       "['abcd', 'ef', 'ghij', 'kl']"
      ]
     },
     "execution_count": 80,
     "metadata": {},
     "output_type": "execute_result"
    }
   ],
   "source": [
    "s = 'abcd ef ghij kl'\n",
    "s.split(' ')   # return a new list of strings, based on s, using ' ' as a delimiter"
   ]
  },
  {
   "cell_type": "code",
   "execution_count": 81,
   "id": "728322b5",
   "metadata": {},
   "outputs": [
    {
     "data": {
      "text/plain": [
       "['abcd', 'ef', 'ghij', 'kl']"
      ]
     },
     "execution_count": 81,
     "metadata": {},
     "output_type": "execute_result"
    }
   ],
   "source": [
    "s.split()    # return a new list of strings, based on s, using any whitespace as a delimiter"
   ]
  },
  {
   "cell_type": "code",
   "execution_count": 83,
   "id": "d5905603",
   "metadata": {},
   "outputs": [
    {
     "data": {
      "text/plain": [
       "11"
      ]
     },
     "execution_count": 83,
     "metadata": {},
     "output_type": "execute_result"
    }
   ],
   "source": [
    "# redefining add such that second is optional, with a default value of 10\n",
    "\n",
    "def add(first, second=10):\n",
    "    return first + second\n",
    "\n",
    "# parameters: first second\n",
    "# arguments:   5    6\n",
    "\n",
    "add(5, 6)"
   ]
  },
  {
   "cell_type": "code",
   "execution_count": 85,
   "id": "9ce7b2f6",
   "metadata": {},
   "outputs": [
    {
     "data": {
      "text/plain": [
       "15"
      ]
     },
     "execution_count": 85,
     "metadata": {},
     "output_type": "execute_result"
    }
   ],
   "source": [
    "# parameters: first second\n",
    "# arguments:   5     10\n",
    "\n",
    "add(5)"
   ]
  },
  {
   "cell_type": "markdown",
   "id": "b5ced812",
   "metadata": {},
   "source": [
    "# Default argument values\n",
    "\n",
    "When you define a function, you can indicate that one or more parameters have default argument values -- if the caller did not provide any arguments for those parameters, the function will still run, as if the caller had passed the default values.\n",
    "\n",
    "- When you call a function, all positional arguments must come before all keyword arguments.\n",
    "- Similarly, all mandatory parameters (i.e., without defaults) must come before all optional parameters (i.e., with defaults)."
   ]
  },
  {
   "cell_type": "markdown",
   "id": "a95a87bc",
   "metadata": {},
   "source": [
    "# Exercise: `count`\n",
    "\n",
    "1. Write a function, `count`, that takes two strings as arguments:\n",
    "    - The first string is the user's input -- what we're going to iterate over, to count characters in\n",
    "    - The second string is a collection of characters -- which ones do we really want to count.  By default, this will be the string `'aeiou'`, to count only vowels.\n",
    "2. The idea of the function is to count how many times each character appers in the string.  Each character will be a key in the output dictionary, and the number of times it appears will be the count in the dict.\n",
    "3. The function should return that dict.\n",
    "\n",
    "```python\n",
    "count('hello')   #  no 2nd argument, thus we count vowels: {'e':1, 'o':1}\n",
    "count('hello', 'he')  # we're counting 'h' and 'e': {'h':1, 'e':1}\n",
    "count('tlalala', 'la'), # we're counting 'l' and 'a': {'l':3, 'a':3}\n",
    "```\n",
    "\n"
   ]
  },
  {
   "cell_type": "code",
   "execution_count": 89,
   "id": "261e5c09",
   "metadata": {},
   "outputs": [],
   "source": [
    "# option 1: create a dict from the get-go whose keys are our characters, with 0 as values\n",
    "\n",
    "def count(s, characters='aeiou'):\n",
    "    # set up output dict\n",
    "    output = {}\n",
    "    for one_character in characters:\n",
    "        output[one_character] = 0\n",
    "        \n",
    "    # now go through s\n",
    "    for one_character in s:             # go through s, one character at a time\n",
    "        if one_character in output:     # if the character is a key in output -- meaning, one we care about\n",
    "            output[one_character] += 1  # add 1 to its current count\n",
    "            \n",
    "    return output"
   ]
  },
  {
   "cell_type": "code",
   "execution_count": 90,
   "id": "d35fd19b",
   "metadata": {},
   "outputs": [
    {
     "data": {
      "text/plain": [
       "{'l': 2, 'a': 3}"
      ]
     },
     "execution_count": 90,
     "metadata": {},
     "output_type": "execute_result"
    }
   ],
   "source": [
    "count('tralala', 'la')"
   ]
  },
  {
   "cell_type": "code",
   "execution_count": 91,
   "id": "fc9c2a5b",
   "metadata": {},
   "outputs": [
    {
     "data": {
      "text/plain": [
       "{'a': 0, 'e': 1, 'i': 0, 'o': 1, 'u': 0}"
      ]
     },
     "execution_count": 91,
     "metadata": {},
     "output_type": "execute_result"
    }
   ],
   "source": [
    "count('hello')"
   ]
  },
  {
   "cell_type": "code",
   "execution_count": 92,
   "id": "2c3d73cb",
   "metadata": {},
   "outputs": [
    {
     "data": {
      "text/plain": [
       "{'h': 1, 'e': 1}"
      ]
     },
     "execution_count": 92,
     "metadata": {},
     "output_type": "execute_result"
    }
   ],
   "source": [
    "count('hello', 'he')"
   ]
  },
  {
   "cell_type": "code",
   "execution_count": 97,
   "id": "d42c28c6",
   "metadata": {},
   "outputs": [],
   "source": [
    "# option 2: create the dict, but populate it only as needed\n",
    "\n",
    "def count(s, characters='aeiou'):\n",
    "    # set up output dict\n",
    "    output = {}\n",
    "      \n",
    "    # now go through s\n",
    "    for one_character in s:             # go through s, one character at a time\n",
    "        if one_character in characters: # if the character is of interest\n",
    "\n",
    "            if one_character in output:     \n",
    "                output[one_character] += 1   # not the first time? add 1\n",
    "            else:\n",
    "                output[one_character] = 1    # first time with this letter? set it to 1\n",
    "            \n",
    "    return output"
   ]
  },
  {
   "cell_type": "code",
   "execution_count": 95,
   "id": "2e9dea76",
   "metadata": {},
   "outputs": [
    {
     "data": {
      "text/plain": [
       "{'e': 1, 'o': 1}"
      ]
     },
     "execution_count": 95,
     "metadata": {},
     "output_type": "execute_result"
    }
   ],
   "source": [
    "count('hello')"
   ]
  },
  {
   "cell_type": "code",
   "execution_count": 96,
   "id": "0ddb1593",
   "metadata": {},
   "outputs": [
    {
     "data": {
      "text/plain": [
       "{'h': 1, 'e': 1}"
      ]
     },
     "execution_count": 96,
     "metadata": {},
     "output_type": "execute_result"
    }
   ],
   "source": [
    "count('hello', 'he')"
   ]
  },
  {
   "cell_type": "markdown",
   "id": "c74e4a0a",
   "metadata": {},
   "source": [
    "# Next up\n",
    "\n",
    "1. Warning about defaults (and how they work)\n",
    "2. Complex return values\n",
    "3. `*args`\n",
    "\n"
   ]
  },
  {
   "cell_type": "markdown",
   "id": "6cc5ba6a",
   "metadata": {},
   "source": [
    "# Function objects\n",
    "\n",
    "When we define a function with `def`, we're doing two different things:\n",
    "\n",
    "1. We're creating a function object\n",
    "2. We're assigning that function object to a variable\n",
    "\n",
    "What's a function object?  It contains all of the instructions needed to execute (call) the function.  Each time we call the function, Python reads those instructions and executes things as needed.\n",
    "\n",
    "The function object contains a bunch of hints for when we want to run the function.  Among those hints are:\n",
    "\n",
    "- Number of arguments the function takes\n",
    "- Names of local variables\n",
    "- Default values"
   ]
  },
  {
   "cell_type": "code",
   "execution_count": 98,
   "id": "aa8889b2",
   "metadata": {},
   "outputs": [],
   "source": [
    "def count(s, characters='aeiou'):\n",
    "    # set up output dict\n",
    "    output = {}\n",
    "      \n",
    "    # now go through s\n",
    "    for one_character in s:             # go through s, one character at a time\n",
    "        if one_character in characters: # if the character is of interest\n",
    "\n",
    "            if one_character in output:     \n",
    "                output[one_character] += 1   # not the first time? add 1\n",
    "            else:\n",
    "                output[one_character] = 1    # first time with this letter? set it to 1\n",
    "            \n",
    "    return output"
   ]
  },
  {
   "cell_type": "code",
   "execution_count": 99,
   "id": "932c93ad",
   "metadata": {},
   "outputs": [
    {
     "data": {
      "text/plain": [
       "2"
      ]
     },
     "execution_count": 99,
     "metadata": {},
     "output_type": "execute_result"
    }
   ],
   "source": [
    "# Our 'count' function has 1 mandatory parameter, and 1 optional parameter with a default\n",
    "\n",
    "count.__code__.co_argcount  # how many arguments must be passed to count when we call it?"
   ]
  },
  {
   "cell_type": "code",
   "execution_count": 100,
   "id": "0b89d6f5",
   "metadata": {},
   "outputs": [
    {
     "data": {
      "text/plain": [
       "{'e': 1, 'o': 1}"
      ]
     },
     "execution_count": 100,
     "metadata": {},
     "output_type": "execute_result"
    }
   ],
   "source": [
    "# parameters: s         characters\n",
    "# arguments: 'hello'    'aeiou'\n",
    "\n",
    "count('hello')"
   ]
  },
  {
   "cell_type": "code",
   "execution_count": 101,
   "id": "32ba9735",
   "metadata": {},
   "outputs": [
    {
     "data": {
      "text/plain": [
       "('aeiou',)"
      ]
     },
     "execution_count": 101,
     "metadata": {},
     "output_type": "execute_result"
    }
   ],
   "source": [
    "count.__defaults__"
   ]
  },
  {
   "cell_type": "markdown",
   "id": "441de7f3",
   "metadata": {},
   "source": [
    "# ONLY USE IMMUTABLE DEFAULTS!\n",
    "\n",
    "People think (wrongly) that if we have a default of, say, `[]`, then when we call our function without that argument, Python will use an empty list for the parameter's value.\n",
    "\n",
    "The problem is this: If we have a mutable default, and we change it from within our function, then that change will stick around, through subsequent invocations."
   ]
  },
  {
   "cell_type": "code",
   "execution_count": 102,
   "id": "f0aa57ea",
   "metadata": {},
   "outputs": [],
   "source": [
    "def stuff(x=[]):\n",
    "    print(f'{x=}')"
   ]
  },
  {
   "cell_type": "code",
   "execution_count": 103,
   "id": "39375fc2",
   "metadata": {},
   "outputs": [
    {
     "name": "stdout",
     "output_type": "stream",
     "text": [
      "x=[]\n"
     ]
    }
   ],
   "source": [
    "stuff()"
   ]
  },
  {
   "cell_type": "code",
   "execution_count": 104,
   "id": "d9a88109",
   "metadata": {},
   "outputs": [
    {
     "name": "stdout",
     "output_type": "stream",
     "text": [
      "x=[]\n"
     ]
    }
   ],
   "source": [
    "stuff()"
   ]
  },
  {
   "cell_type": "code",
   "execution_count": 105,
   "id": "79b57dc5",
   "metadata": {},
   "outputs": [
    {
     "name": "stdout",
     "output_type": "stream",
     "text": [
      "x=10\n"
     ]
    }
   ],
   "source": [
    "stuff(10)"
   ]
  },
  {
   "cell_type": "code",
   "execution_count": 106,
   "id": "c67711ac",
   "metadata": {},
   "outputs": [
    {
     "name": "stdout",
     "output_type": "stream",
     "text": [
      "x='abc'\n"
     ]
    }
   ],
   "source": [
    "stuff('abc')"
   ]
  },
  {
   "cell_type": "code",
   "execution_count": 107,
   "id": "64010d71",
   "metadata": {},
   "outputs": [
    {
     "name": "stdout",
     "output_type": "stream",
     "text": [
      "x=[]\n"
     ]
    }
   ],
   "source": [
    "stuff()"
   ]
  },
  {
   "cell_type": "code",
   "execution_count": 108,
   "id": "a045e5df",
   "metadata": {},
   "outputs": [
    {
     "data": {
      "text/plain": [
       "([],)"
      ]
     },
     "execution_count": 108,
     "metadata": {},
     "output_type": "execute_result"
    }
   ],
   "source": [
    "stuff.__defaults__"
   ]
  },
  {
   "cell_type": "code",
   "execution_count": 109,
   "id": "fc04c91e",
   "metadata": {},
   "outputs": [],
   "source": [
    "def stuff(x=[]):\n",
    "    x.append(1)\n",
    "    print(f'{x=}')"
   ]
  },
  {
   "cell_type": "code",
   "execution_count": 110,
   "id": "a0dc6593",
   "metadata": {},
   "outputs": [
    {
     "name": "stdout",
     "output_type": "stream",
     "text": [
      "x=[1]\n"
     ]
    }
   ],
   "source": [
    "stuff()"
   ]
  },
  {
   "cell_type": "code",
   "execution_count": 111,
   "id": "e5ce5b6f",
   "metadata": {},
   "outputs": [
    {
     "name": "stdout",
     "output_type": "stream",
     "text": [
      "x=[1, 1]\n"
     ]
    }
   ],
   "source": [
    "stuff()"
   ]
  },
  {
   "cell_type": "code",
   "execution_count": 112,
   "id": "30c90b60",
   "metadata": {},
   "outputs": [
    {
     "name": "stdout",
     "output_type": "stream",
     "text": [
      "x=[1, 1, 1]\n"
     ]
    }
   ],
   "source": [
    "stuff()"
   ]
  },
  {
   "cell_type": "code",
   "execution_count": 113,
   "id": "04746646",
   "metadata": {},
   "outputs": [],
   "source": [
    "def myfunc():\n",
    "    return 'hello'"
   ]
  },
  {
   "cell_type": "code",
   "execution_count": 114,
   "id": "99595e97",
   "metadata": {},
   "outputs": [
    {
     "data": {
      "text/plain": [
       "'hello'"
      ]
     },
     "execution_count": 114,
     "metadata": {},
     "output_type": "execute_result"
    }
   ],
   "source": [
    "myfunc()"
   ]
  },
  {
   "cell_type": "code",
   "execution_count": 115,
   "id": "84117e3d",
   "metadata": {},
   "outputs": [],
   "source": [
    "def myfunc():\n",
    "    return [10, 20, 30]"
   ]
  },
  {
   "cell_type": "code",
   "execution_count": 116,
   "id": "74ae0d04",
   "metadata": {},
   "outputs": [
    {
     "data": {
      "text/plain": [
       "[10, 20, 30]"
      ]
     },
     "execution_count": 116,
     "metadata": {},
     "output_type": "execute_result"
    }
   ],
   "source": [
    "myfunc()"
   ]
  },
  {
   "cell_type": "code",
   "execution_count": 117,
   "id": "fa5ceb3a",
   "metadata": {},
   "outputs": [],
   "source": [
    "def myfunc():\n",
    "    return ('hello', [10, 20, 30])   # return a tuple"
   ]
  },
  {
   "cell_type": "code",
   "execution_count": 118,
   "id": "39cd4411",
   "metadata": {},
   "outputs": [
    {
     "data": {
      "text/plain": [
       "('hello', [10, 20, 30])"
      ]
     },
     "execution_count": 118,
     "metadata": {},
     "output_type": "execute_result"
    }
   ],
   "source": [
    "myfunc()"
   ]
  },
  {
   "cell_type": "code",
   "execution_count": 119,
   "id": "ff3c2970",
   "metadata": {},
   "outputs": [],
   "source": [
    "# this feels like I'm returning multiple values, but I'm not\n",
    "\n",
    "def myfunc():\n",
    "    return 'hello', [10, 20, 30]   # return a tuple ... no parentheses needed!"
   ]
  },
  {
   "cell_type": "code",
   "execution_count": 120,
   "id": "71b3b6f3",
   "metadata": {},
   "outputs": [
    {
     "data": {
      "text/plain": [
       "('hello', [10, 20, 30])"
      ]
     },
     "execution_count": 120,
     "metadata": {},
     "output_type": "execute_result"
    }
   ],
   "source": [
    "myfunc()"
   ]
  },
  {
   "cell_type": "code",
   "execution_count": 121,
   "id": "747be089",
   "metadata": {},
   "outputs": [],
   "source": [
    "def myfunc():\n",
    "    return 'ok', {'status':200, 'url':'https://python.org'}"
   ]
  },
  {
   "cell_type": "code",
   "execution_count": 122,
   "id": "4a24f0c7",
   "metadata": {},
   "outputs": [
    {
     "data": {
      "text/plain": [
       "('ok', {'status': 200, 'url': 'https://python.org'})"
      ]
     },
     "execution_count": 122,
     "metadata": {},
     "output_type": "execute_result"
    }
   ],
   "source": [
    "myfunc()"
   ]
  },
  {
   "cell_type": "code",
   "execution_count": 123,
   "id": "83f968ee",
   "metadata": {},
   "outputs": [],
   "source": [
    "# unpacking -- If I have a list with 3 values, I can assign them in parallel to 3 variables\n",
    "x,y,z = [10, 20, 30]"
   ]
  },
  {
   "cell_type": "code",
   "execution_count": 124,
   "id": "30812a17",
   "metadata": {},
   "outputs": [
    {
     "data": {
      "text/plain": [
       "10"
      ]
     },
     "execution_count": 124,
     "metadata": {},
     "output_type": "execute_result"
    }
   ],
   "source": [
    "x"
   ]
  },
  {
   "cell_type": "code",
   "execution_count": 125,
   "id": "3830e74c",
   "metadata": {},
   "outputs": [
    {
     "data": {
      "text/plain": [
       "20"
      ]
     },
     "execution_count": 125,
     "metadata": {},
     "output_type": "execute_result"
    }
   ],
   "source": [
    "y"
   ]
  },
  {
   "cell_type": "code",
   "execution_count": 126,
   "id": "2041df5e",
   "metadata": {},
   "outputs": [
    {
     "data": {
      "text/plain": [
       "30"
      ]
     },
     "execution_count": 126,
     "metadata": {},
     "output_type": "execute_result"
    }
   ],
   "source": [
    "z"
   ]
  },
  {
   "cell_type": "code",
   "execution_count": 127,
   "id": "ec1d723e",
   "metadata": {},
   "outputs": [
    {
     "data": {
      "text/plain": [
       "('ok', {'status': 200, 'url': 'https://python.org'})"
      ]
     },
     "execution_count": 127,
     "metadata": {},
     "output_type": "execute_result"
    }
   ],
   "source": [
    "myfunc()"
   ]
  },
  {
   "cell_type": "code",
   "execution_count": 128,
   "id": "a4f732eb",
   "metadata": {},
   "outputs": [],
   "source": [
    "summary, d = myfunc()"
   ]
  },
  {
   "cell_type": "code",
   "execution_count": 129,
   "id": "25a906f6",
   "metadata": {},
   "outputs": [
    {
     "data": {
      "text/plain": [
       "'ok'"
      ]
     },
     "execution_count": 129,
     "metadata": {},
     "output_type": "execute_result"
    }
   ],
   "source": [
    "summary"
   ]
  },
  {
   "cell_type": "code",
   "execution_count": 130,
   "id": "35cc3855",
   "metadata": {},
   "outputs": [
    {
     "data": {
      "text/plain": [
       "{'status': 200, 'url': 'https://python.org'}"
      ]
     },
     "execution_count": 130,
     "metadata": {},
     "output_type": "execute_result"
    }
   ],
   "source": [
    "d"
   ]
  },
  {
   "cell_type": "code",
   "execution_count": 131,
   "id": "6350d028",
   "metadata": {},
   "outputs": [
    {
     "data": {
      "text/plain": [
       "200"
      ]
     },
     "execution_count": 131,
     "metadata": {},
     "output_type": "execute_result"
    }
   ],
   "source": [
    "d['status']"
   ]
  },
  {
   "cell_type": "code",
   "execution_count": 132,
   "id": "08b4f791",
   "metadata": {},
   "outputs": [
    {
     "data": {
      "text/plain": [
       "'https://python.org'"
      ]
     },
     "execution_count": 132,
     "metadata": {},
     "output_type": "execute_result"
    }
   ],
   "source": [
    "d['url']"
   ]
  },
  {
   "cell_type": "markdown",
   "id": "e8d1bef4",
   "metadata": {},
   "source": [
    "# Exercise: Odds and evens\n",
    "\n",
    "1. Write a function, `odds_and_evens`, that takes a list of integers, and returns *two* lists of integers, one of the odd numbers and the other of even numbers.\n",
    "2. Create two empty lists (`odds` and `evens`)\n",
    "3. Iterate over each element of `numbers`, the values that we got from the caller\n",
    "4. Return `odds` and `evens` in a tuple of lists\n",
    "5. Grab them, using unpacking, after calling the function\n",
    "6. Print each of them from outside of the function"
   ]
  },
  {
   "cell_type": "code",
   "execution_count": 133,
   "id": "676bf0c7",
   "metadata": {},
   "outputs": [],
   "source": [
    "def odds_and_evens(numbers):\n",
    "    odds = []\n",
    "    evens = []\n",
    "    \n",
    "    for one_number in numbers:   # go through each number in the input\n",
    "        if one_number % 2 == 1:  # if it's odd...\n",
    "            odds.append(one_number)\n",
    "        else:\n",
    "            evens.append(one_number)\n",
    "            \n",
    "    return odds, evens    # return a tuple of 2 lists, odds and evens"
   ]
  },
  {
   "cell_type": "code",
   "execution_count": 136,
   "id": "2f1ad824",
   "metadata": {},
   "outputs": [],
   "source": [
    "o, e = odds_and_evens([2,3,4,5,6])"
   ]
  },
  {
   "cell_type": "code",
   "execution_count": 137,
   "id": "8558083e",
   "metadata": {},
   "outputs": [
    {
     "data": {
      "text/plain": [
       "[3, 5]"
      ]
     },
     "execution_count": 137,
     "metadata": {},
     "output_type": "execute_result"
    }
   ],
   "source": [
    "o"
   ]
  },
  {
   "cell_type": "code",
   "execution_count": 138,
   "id": "e8fe945a",
   "metadata": {},
   "outputs": [
    {
     "data": {
      "text/plain": [
       "[2, 4, 6]"
      ]
     },
     "execution_count": 138,
     "metadata": {},
     "output_type": "execute_result"
    }
   ],
   "source": [
    "e\n"
   ]
  },
  {
   "cell_type": "code",
   "execution_count": 140,
   "id": "5a3fd839",
   "metadata": {},
   "outputs": [],
   "source": [
    "def add(first, second=10):   # second is effectively optional, with a default value of 10\n",
    "    return first + second"
   ]
  },
  {
   "cell_type": "code",
   "execution_count": 141,
   "id": "c362461b",
   "metadata": {},
   "outputs": [
    {
     "data": {
      "text/plain": [
       "8"
      ]
     },
     "execution_count": 141,
     "metadata": {},
     "output_type": "execute_result"
    }
   ],
   "source": [
    "add(3, 5)"
   ]
  },
  {
   "cell_type": "code",
   "execution_count": 142,
   "id": "40fbbd56",
   "metadata": {},
   "outputs": [
    {
     "data": {
      "text/plain": [
       "9"
      ]
     },
     "execution_count": 142,
     "metadata": {},
     "output_type": "execute_result"
    }
   ],
   "source": [
    "add(2, 7)"
   ]
  },
  {
   "cell_type": "code",
   "execution_count": 145,
   "id": "c1891666",
   "metadata": {},
   "outputs": [
    {
     "data": {
      "text/plain": [
       "13"
      ]
     },
     "execution_count": 145,
     "metadata": {},
     "output_type": "execute_result"
    }
   ],
   "source": [
    "add(3)  # like saying add(3, 10) -- thanks to the default value"
   ]
  },
  {
   "cell_type": "code",
   "execution_count": 146,
   "id": "d0f0a8ea",
   "metadata": {},
   "outputs": [
    {
     "data": {
      "text/plain": [
       "12"
      ]
     },
     "execution_count": 146,
     "metadata": {},
     "output_type": "execute_result"
    }
   ],
   "source": [
    "add(2)  # like saying add(2, 10)  -- thanks to the default value"
   ]
  },
  {
   "cell_type": "code",
   "execution_count": 147,
   "id": "ca187138",
   "metadata": {},
   "outputs": [
    {
     "data": {
      "text/plain": [
       "(10,)"
      ]
     },
     "execution_count": 147,
     "metadata": {},
     "output_type": "execute_result"
    }
   ],
   "source": [
    "# 10, our default, was stored along with the function\n",
    "add.__defaults__"
   ]
  },
  {
   "cell_type": "code",
   "execution_count": 148,
   "id": "5d523935",
   "metadata": {},
   "outputs": [],
   "source": [
    "# if our default is mutable, then each time we invoke the function,\n",
    "# we (a) pull the value from __defaults__, as usual, and \n",
    "# (b) if we modify that value, the modification will be kept in __defaults__, even after this function call\n",
    "\n"
   ]
  },
  {
   "cell_type": "code",
   "execution_count": 149,
   "id": "bcc7fc01",
   "metadata": {},
   "outputs": [],
   "source": [
    "# this function, add_one, takes a list as an argument, appends 1 to it, and returns that list\n",
    "# (no, it's not very useful)\n",
    "\n",
    "# we can call this function without any arguments, in which case we want to get back a list\n",
    "# with one element, [1]\n",
    "\n",
    "def add_one(x=[]):\n",
    "    x.append(1)\n",
    "    return x"
   ]
  },
  {
   "cell_type": "code",
   "execution_count": 150,
   "id": "90fd4cb5",
   "metadata": {},
   "outputs": [
    {
     "data": {
      "text/plain": [
       "[10, 20, 30, 1]"
      ]
     },
     "execution_count": 150,
     "metadata": {},
     "output_type": "execute_result"
    }
   ],
   "source": [
    "mylist = [10, 20, 30]\n",
    "add_one(mylist)"
   ]
  },
  {
   "cell_type": "code",
   "execution_count": 151,
   "id": "c87618ba",
   "metadata": {},
   "outputs": [
    {
     "data": {
      "text/plain": [
       "[10, 20, 30, 1]"
      ]
     },
     "execution_count": 151,
     "metadata": {},
     "output_type": "execute_result"
    }
   ],
   "source": [
    "mylist"
   ]
  },
  {
   "cell_type": "code",
   "execution_count": 152,
   "id": "ead9e8ef",
   "metadata": {},
   "outputs": [
    {
     "data": {
      "text/plain": [
       "[100, 200, 300, 1]"
      ]
     },
     "execution_count": 152,
     "metadata": {},
     "output_type": "execute_result"
    }
   ],
   "source": [
    "y = [100, 200, 300]\n",
    "add_one(y)\n",
    "\n",
    "y"
   ]
  },
  {
   "cell_type": "code",
   "execution_count": 153,
   "id": "227aab26",
   "metadata": {},
   "outputs": [
    {
     "data": {
      "text/plain": [
       "[1]"
      ]
     },
     "execution_count": 153,
     "metadata": {},
     "output_type": "execute_result"
    }
   ],
   "source": [
    "# call the function without any argument\n",
    "add_one()   # no argument -- so Python retrieves [] from __defaults__"
   ]
  },
  {
   "cell_type": "code",
   "execution_count": 154,
   "id": "1c16e74e",
   "metadata": {},
   "outputs": [
    {
     "data": {
      "text/plain": [
       "([1],)"
      ]
     },
     "execution_count": 154,
     "metadata": {},
     "output_type": "execute_result"
    }
   ],
   "source": [
    "add_one.__defaults__  # our list has now changed!"
   ]
  },
  {
   "cell_type": "code",
   "execution_count": 155,
   "id": "fd9ea6c9",
   "metadata": {},
   "outputs": [
    {
     "data": {
      "text/plain": [
       "[1, 1]"
      ]
     },
     "execution_count": 155,
     "metadata": {},
     "output_type": "execute_result"
    }
   ],
   "source": [
    "add_one()  "
   ]
  },
  {
   "cell_type": "code",
   "execution_count": 156,
   "id": "1ed10d6d",
   "metadata": {},
   "outputs": [
    {
     "data": {
      "text/plain": [
       "([1, 1],)"
      ]
     },
     "execution_count": 156,
     "metadata": {},
     "output_type": "execute_result"
    }
   ],
   "source": [
    "add_one.__defaults__"
   ]
  },
  {
   "cell_type": "code",
   "execution_count": 157,
   "id": "6c50e5c0",
   "metadata": {},
   "outputs": [],
   "source": [
    "# what if I don't know how many arguments I'll get from the user?\n",
    "# I want people to be able to call my function with 1 argument, 5 arguments, or 100 arguments\n",
    "\n",
    "def myfunc(x, *args):   # * \"splat\" means: take any positional arguments that no one else wanted\n",
    "                        # args is the traditional name, but you can use anything\n",
    "                        # args will always be a tuple\n",
    "    return f'{x=}, {args=}'\n",
    "    "
   ]
  },
  {
   "cell_type": "code",
   "execution_count": 158,
   "id": "32a1db3f",
   "metadata": {},
   "outputs": [
    {
     "data": {
      "text/plain": [
       "'x=10, args=(20, 30, 40, 50)'"
      ]
     },
     "execution_count": 158,
     "metadata": {},
     "output_type": "execute_result"
    }
   ],
   "source": [
    "myfunc(10, 20, 30, 40, 50)  # passing 5 arguments"
   ]
  },
  {
   "cell_type": "markdown",
   "id": "1bb38e7c",
   "metadata": {},
   "source": [
    "# Exercise: `all_lines`\n",
    "\n",
    "1. Write a function that takes any number of positional arguments.  All of the values passed should be names of text files.\n",
    "2. One by one, open, and print each line in each of these named files.\n",
    "3. You'll print all lines from the first file, then all lines from the second file, etc."
   ]
  },
  {
   "cell_type": "code",
   "execution_count": 163,
   "id": "0aa9aa08",
   "metadata": {},
   "outputs": [],
   "source": [
    "def all_lines(*args):            # args here is a tuple with all of the arguments passed to the function\n",
    "    for one_filename in args:\n",
    "        for one_line in open(one_filename):\n",
    "            print(one_line.strip())"
   ]
  },
  {
   "cell_type": "code",
   "execution_count": 166,
   "id": "0c363f1d",
   "metadata": {},
   "outputs": [
    {
     "name": "stdout",
     "output_type": "stream",
     "text": [
      "5\n",
      "10\n",
      "20\n",
      "3\n",
      "20\n",
      "\n",
      "25\n",
      "This is a test file.\n",
      "\n",
      "It contains 28 words and 20 different words.\n",
      "\n",
      "It also contains 165 characters.\n",
      "\n",
      "It also contains 11 lines.\n",
      "\n",
      "It is also self-referential.\n",
      "\n",
      "Wow!\n"
     ]
    }
   ],
   "source": [
    "# when I call the function, I pass filenames\n",
    "\n",
    "all_lines('nums.txt', 'wcfile.txt')  "
   ]
  },
  {
   "cell_type": "markdown",
   "id": "33b652f4",
   "metadata": {},
   "source": [
    "# `*args`\n",
    "\n",
    "- The `*` is mandatory, and the name can be anything, but `args` is traditional.\n",
    "- Don't get the length of `args` or grab things from it via `[]`.  That will work, but you really should expect to iterate over `args` in a `for` loop.\n",
    "- `*args` must come *after* mandatory and optional parameters.  You can have a function with one or more mandatory parameters, one or more optional parameters (with defaults), and then `*args` -- but they must be in that order.\n"
   ]
  },
  {
   "cell_type": "markdown",
   "id": "a4fdb76e",
   "metadata": {},
   "source": [
    "# Next up\n",
    "\n",
    "1. Local vs. global variables\n",
    "2. More function exercises!\n",
    "3. Function challenge"
   ]
  },
  {
   "cell_type": "markdown",
   "id": "d946c928",
   "metadata": {},
   "source": [
    "# `str.strip` and `str.split`\n",
    "\n",
    "These are both string methods (thus the `str` at the start of the name).  \n",
    "\n",
    "- `str.strip` returns a new string, just like the original one, but without any whitespace (space, newline, tab, etc.) on the outside.  Any whitespace inside the "
   ]
  }
 ],
 "metadata": {
  "kernelspec": {
   "display_name": "Python 3 (ipykernel)",
   "language": "python",
   "name": "python3"
  },
  "language_info": {
   "codemirror_mode": {
    "name": "ipython",
    "version": 3
   },
   "file_extension": ".py",
   "mimetype": "text/x-python",
   "name": "python",
   "nbconvert_exporter": "python",
   "pygments_lexer": "ipython3",
   "version": "3.10.5"
  }
 },
 "nbformat": 4,
 "nbformat_minor": 5
}
