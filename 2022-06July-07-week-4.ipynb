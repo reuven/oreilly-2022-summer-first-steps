{
 "cells": [
  {
   "cell_type": "markdown",
   "id": "7e92b473",
   "metadata": {},
   "source": [
    "# Agenda: Week 4\n",
    "\n",
    "1. What are functions?\n",
    "2. Writing simple functions\n",
    "3. Arguments and parameters\n",
    "    - How we pass arguments\n",
    "    - How they are assigned to parameters\n",
    "4. Return values from functions  \n",
    "5. Default argument values\n",
    "6. Complex return values\n",
    "7. Local vs. global variables"
   ]
  },
  {
   "cell_type": "markdown",
   "id": "3ff73f41",
   "metadata": {},
   "source": [
    "# What are functions?\n",
    "\n",
    "Functions are the verbs of Python -- they get things done.  We call a function in order to accomplish a task.  (For our purposes, methods are the same as functions.)\n",
    "\n",
    "Do we need to define our own functions?  No...but we want to.\n",
    "\n",
    "Being able to define our own, new verbs in Python means that we can more easily describe what we're doing at a higher level -- and then we can think at that higher level, and build things on top of that.  \n",
    "\n",
    "This is another example of *abstraction*, one of the most important ideas in programming.  We build something, and then we paper over the details of that thing, so that we can use it in building a bigger thing."
   ]
  },
  {
   "cell_type": "code",
   "execution_count": 1,
   "id": "3361e899",
   "metadata": {},
   "outputs": [],
   "source": [
    "def hello():            # \"def\" means: define a new function, then we give its name and () -- currently empty\n",
    "                        # colon comes at the end of the line\n",
    "    print('Hello!')     # This is the body of the function\n",
    "                        #  - the function body does *not* execute when we define the function\n",
    "                        #  - it does execute whenever we call the function"
   ]
  },
  {
   "cell_type": "code",
   "execution_count": 2,
   "id": "10a98d62",
   "metadata": {},
   "outputs": [
    {
     "name": "stdout",
     "output_type": "stream",
     "text": [
      "Hello!\n"
     ]
    }
   ],
   "source": [
    "hello()                 # find the object named \"hello\""
   ]
  },
  {
   "cell_type": "code",
   "execution_count": 3,
   "id": "a3af0c04",
   "metadata": {},
   "outputs": [
    {
     "data": {
      "text/plain": [
       "function"
      ]
     },
     "execution_count": 3,
     "metadata": {},
     "output_type": "execute_result"
    }
   ],
   "source": [
    "type(hello)   # what type of object does \"hello\" refer to?"
   ]
  },
  {
   "cell_type": "code",
   "execution_count": 4,
   "id": "127a409a",
   "metadata": {},
   "outputs": [
    {
     "ename": "TypeError",
     "evalue": "'int' object is not callable",
     "output_type": "error",
     "traceback": [
      "\u001b[0;31m---------------------------------------------------------------------------\u001b[0m",
      "\u001b[0;31mTypeError\u001b[0m                                 Traceback (most recent call last)",
      "\u001b[0;32m/var/folders/rr/0mnyyv811fs5vyp22gf4fxk00000gn/T/ipykernel_80330/1268624411.py\u001b[0m in \u001b[0;36m<module>\u001b[0;34m\u001b[0m\n\u001b[1;32m      1\u001b[0m \u001b[0mx\u001b[0m \u001b[0;34m=\u001b[0m \u001b[0;36m5\u001b[0m\u001b[0;34m\u001b[0m\u001b[0;34m\u001b[0m\u001b[0m\n\u001b[0;32m----> 2\u001b[0;31m \u001b[0mx\u001b[0m\u001b[0;34m(\u001b[0m\u001b[0;34m)\u001b[0m     \u001b[0;31m# let's try to execute this integer ... it won't go well\u001b[0m\u001b[0;34m\u001b[0m\u001b[0;34m\u001b[0m\u001b[0m\n\u001b[0m",
      "\u001b[0;31mTypeError\u001b[0m: 'int' object is not callable"
     ]
    }
   ],
   "source": [
    "x = 5\n",
    "x()     # let's try to execute this integer ... it won't go well"
   ]
  },
  {
   "cell_type": "markdown",
   "id": "4d9f2259",
   "metadata": {},
   "source": [
    "# What can go in a function?\n",
    "\n",
    "*ANYTHING*!\n",
    "\n",
    "- `print`\n",
    "- `input`\n",
    "- Assignment\n",
    "- `if`\n",
    "- `for` and `while`\n"
   ]
  },
  {
   "cell_type": "code",
   "execution_count": 5,
   "id": "6c051a62",
   "metadata": {},
   "outputs": [],
   "source": [
    "def hello():\n",
    "    name = input('Enter your name: ').strip()\n",
    "    print(f'Hello, {name}!')"
   ]
  },
  {
   "cell_type": "code",
   "execution_count": 6,
   "id": "034ba70c",
   "metadata": {},
   "outputs": [
    {
     "name": "stdout",
     "output_type": "stream",
     "text": [
      "Enter your name: Reuven\n",
      "Hello, Reuven!\n"
     ]
    }
   ],
   "source": [
    "hello()"
   ]
  },
  {
   "cell_type": "code",
   "execution_count": 7,
   "id": "3589f1d2",
   "metadata": {},
   "outputs": [],
   "source": [
    "def hello():\n",
    "    name = input('Enter your name: ').strip()\n",
    "\n",
    "    if name == 'Reuven':\n",
    "        print('Welcome the boss, Reuven!')\n",
    "    else:\n",
    "        print(f'Hello, {name}!')"
   ]
  },
  {
   "cell_type": "code",
   "execution_count": 9,
   "id": "10d47995",
   "metadata": {},
   "outputs": [
    {
     "name": "stdout",
     "output_type": "stream",
     "text": [
      "Enter your name: asdfafaa\n",
      "Hello, asdfafaa!\n"
     ]
    }
   ],
   "source": [
    "hello()"
   ]
  },
  {
   "cell_type": "code",
   "execution_count": 10,
   "id": "1f9fa698",
   "metadata": {},
   "outputs": [
    {
     "name": "stdout",
     "output_type": "stream",
     "text": [
      "7\n"
     ]
    }
   ],
   "source": [
    "x = 5\n",
    "\n",
    "x = 7\n",
    "\n",
    "print(x)   # not surprisingly, x is 7"
   ]
  },
  {
   "cell_type": "markdown",
   "id": "8965b250",
   "metadata": {},
   "source": [
    "# Exercise: Calculator\n",
    "\n",
    "1. Write a function, `calc`, that when we run it does the following:\n",
    "    - Ask the user to enter a first number\n",
    "    - Ask the user to enter either `+` or `-`\n",
    "    - Ask the user to enter a second number\n",
    "2. Let's assume that the user gave us digits only, and that we can turn our inputs into numbers.\n",
    "3. Print the full expression, and the result.\n",
    "4. If the operator isn't known, then give an error message or just say \"invalid result.\"\n",
    "\n",
    "Example:\n",
    "\n",
    "    First number: 8\n",
    "    Operator: +\n",
    "    Second number: 3\n",
    "    8 + 3 = 11\n",
    "    "
   ]
  },
  {
   "cell_type": "code",
   "execution_count": 11,
   "id": "235f83b7",
   "metadata": {},
   "outputs": [],
   "source": [
    "def calc():\n",
    "    first = input('First number: ').strip()\n",
    "    op = input('Operator: ').strip()\n",
    "    second = input('Second number: ').strip()\n",
    "    \n",
    "    first = int(first)\n",
    "    second = int(second)\n",
    "    \n",
    "    if op == '+':\n",
    "        result = first + second\n",
    "    elif op == '-':\n",
    "        result = first - second\n",
    "    else:\n",
    "        result = f'Invalid operator {op}'\n",
    "        \n",
    "    print(f'{first} {op} {second} = {result}')"
   ]
  },
  {
   "cell_type": "code",
   "execution_count": 15,
   "id": "5201c1aa",
   "metadata": {},
   "outputs": [
    {
     "name": "stdout",
     "output_type": "stream",
     "text": [
      "First number: 20\n",
      "Operator: *\n",
      "Second number: 6\n",
      "20 * 6 = Invalid operator *\n"
     ]
    }
   ],
   "source": [
    "calc()"
   ]
  },
  {
   "cell_type": "code",
   "execution_count": 16,
   "id": "efd767b9",
   "metadata": {},
   "outputs": [
    {
     "data": {
      "text/plain": [
       "4"
      ]
     },
     "execution_count": 16,
     "metadata": {},
     "output_type": "execute_result"
    }
   ],
   "source": [
    "len('abcd')   # here, I pass 'abcd' as an argument to len "
   ]
  },
  {
   "cell_type": "code",
   "execution_count": 17,
   "id": "6e4eef8e",
   "metadata": {},
   "outputs": [
    {
     "name": "stdout",
     "output_type": "stream",
     "text": [
      "Hello\n"
     ]
    }
   ],
   "source": [
    "print('Hello')"
   ]
  },
  {
   "cell_type": "markdown",
   "id": "6959edfd",
   "metadata": {},
   "source": [
    "# Arguments and parameters\n",
    "\n",
    "- Arguments are the values we pass to a function when we invoke it.  \n",
    "- Parameters are the variables that accept arguments in a function."
   ]
  },
  {
   "cell_type": "code",
   "execution_count": 18,
   "id": "267d3db5",
   "metadata": {},
   "outputs": [],
   "source": [
    "def hello(name):   # name is a parameter in the hello function\n",
    "    print(f'Hello, {name}!')"
   ]
  },
  {
   "cell_type": "code",
   "execution_count": 19,
   "id": "6ff40049",
   "metadata": {},
   "outputs": [
    {
     "name": "stdout",
     "output_type": "stream",
     "text": [
      "Hello, Reuven!\n"
     ]
    }
   ],
   "source": [
    "hello('Reuven')  # 'Reuven' is an argument I'm passing to hello, which will be assigned to name"
   ]
  },
  {
   "cell_type": "code",
   "execution_count": 20,
   "id": "92375a70",
   "metadata": {},
   "outputs": [],
   "source": [
    "# what kinds of arguments can I pass to our hello function?"
   ]
  },
  {
   "cell_type": "code",
   "execution_count": 21,
   "id": "95fcf7ee",
   "metadata": {},
   "outputs": [
    {
     "name": "stdout",
     "output_type": "stream",
     "text": [
      "Hello, world!\n"
     ]
    }
   ],
   "source": [
    "hello('world')"
   ]
  },
  {
   "cell_type": "code",
   "execution_count": 22,
   "id": "af1f1af2",
   "metadata": {},
   "outputs": [
    {
     "name": "stdout",
     "output_type": "stream",
     "text": [
      "Hello, 5!\n"
     ]
    }
   ],
   "source": [
    "hello(5)"
   ]
  },
  {
   "cell_type": "code",
   "execution_count": 23,
   "id": "87267f3e",
   "metadata": {},
   "outputs": [
    {
     "name": "stdout",
     "output_type": "stream",
     "text": [
      "Hello, [10, 20, 30]!\n"
     ]
    }
   ],
   "source": [
    "hello([10, 20, 30])"
   ]
  },
  {
   "cell_type": "code",
   "execution_count": 24,
   "id": "fe78abad",
   "metadata": {},
   "outputs": [
    {
     "name": "stdout",
     "output_type": "stream",
     "text": [
      "Hello, <function hello at 0x1050c0a60>!\n"
     ]
    }
   ],
   "source": [
    "# this is the craziest one!\n",
    "hello(hello)"
   ]
  },
  {
   "cell_type": "code",
   "execution_count": 25,
   "id": "62598cdb",
   "metadata": {},
   "outputs": [],
   "source": [
    "def hello(first, last):\n",
    "    print(f'Hello, {first} {last}!')"
   ]
  },
  {
   "cell_type": "code",
   "execution_count": 26,
   "id": "8a38f936",
   "metadata": {},
   "outputs": [
    {
     "name": "stdout",
     "output_type": "stream",
     "text": [
      "Hello, Reuven Lerner!\n"
     ]
    }
   ],
   "source": [
    "hello('Reuven', 'Lerner')"
   ]
  },
  {
   "cell_type": "code",
   "execution_count": 27,
   "id": "628c6170",
   "metadata": {},
   "outputs": [
    {
     "ename": "TypeError",
     "evalue": "hello() missing 1 required positional argument: 'last'",
     "output_type": "error",
     "traceback": [
      "\u001b[0;31m---------------------------------------------------------------------------\u001b[0m",
      "\u001b[0;31mTypeError\u001b[0m                                 Traceback (most recent call last)",
      "\u001b[0;32m/var/folders/rr/0mnyyv811fs5vyp22gf4fxk00000gn/T/ipykernel_80330/1732743840.py\u001b[0m in \u001b[0;36m<module>\u001b[0;34m\u001b[0m\n\u001b[1;32m      1\u001b[0m \u001b[0;31m# can I still call \"hello\" with a single argument?\u001b[0m\u001b[0;34m\u001b[0m\u001b[0;34m\u001b[0m\u001b[0m\n\u001b[1;32m      2\u001b[0m \u001b[0;34m\u001b[0m\u001b[0m\n\u001b[0;32m----> 3\u001b[0;31m \u001b[0mhello\u001b[0m\u001b[0;34m(\u001b[0m\u001b[0;34m'Reuven'\u001b[0m\u001b[0;34m)\u001b[0m\u001b[0;34m\u001b[0m\u001b[0;34m\u001b[0m\u001b[0m\n\u001b[0m",
      "\u001b[0;31mTypeError\u001b[0m: hello() missing 1 required positional argument: 'last'"
     ]
    }
   ],
   "source": [
    "# can I still call \"hello\" with a single argument?\n",
    "\n",
    "hello('Reuven')"
   ]
  },
  {
   "cell_type": "code",
   "execution_count": 28,
   "id": "29458f80",
   "metadata": {},
   "outputs": [
    {
     "name": "stdout",
     "output_type": "stream",
     "text": [
      "Hello, Reuven Lerner!\n"
     ]
    }
   ],
   "source": [
    "# parameters:  first   last\n",
    "# arguments:  'Reuven'  'Lerner'\n",
    "\n",
    "hello('Reuven', 'Lerner')   # positional arguments -- they're assigned to parameters based on their POSITIONS"
   ]
  },
  {
   "cell_type": "code",
   "execution_count": 31,
   "id": "71bf993a",
   "metadata": {},
   "outputs": [],
   "source": [
    "def calc(first, op, second):   # parameters are local variables -- their values don't affect the outside world\n",
    "    if op == '+':\n",
    "        result = first + second\n",
    "    elif op == '-':\n",
    "        result = first - second\n",
    "    else:\n",
    "        result = f'Invalid operator {op}'\n",
    "        \n",
    "    print(f'{first} {op} {second} = {result}')"
   ]
  },
  {
   "cell_type": "code",
   "execution_count": 30,
   "id": "38b0e9a0",
   "metadata": {},
   "outputs": [
    {
     "name": "stdout",
     "output_type": "stream",
     "text": [
      "10 + 3 = 13\n"
     ]
    }
   ],
   "source": [
    "calc(10, '+', 3)"
   ]
  },
  {
   "cell_type": "markdown",
   "id": "9daa6e02",
   "metadata": {},
   "source": [
    "# Exercise: `mysum`\n",
    "\n",
    "1. Python comes with a builtin function called `sum`, which takes a list (or set, or tuple) of numbers, and returns its sum. We're going to write a similar function, called `mysum`, which will *print* the sum of numbers passed to it.\n",
    "2. Don't use `sum` to implement `mysum`.\n",
    "3. Your function should take a single argument, an iterable (probably a list) of numbers. Add them, and print the result.\n",
    "\n",
    "```python\n",
    "mysum([10, 20, 30])   # this will print 60\n",
    "```\n",
    "\n"
   ]
  },
  {
   "cell_type": "code",
   "execution_count": 32,
   "id": "e2a12020",
   "metadata": {},
   "outputs": [],
   "source": [
    "def mysum(numbers):    # numbers should be a list/tuple of integers\n",
    "    total = 0\n",
    "    for one_number in numbers:   # iterate over every integer in numbers\n",
    "        total += one_number      # add one_number to total\n",
    "    print(total)"
   ]
  },
  {
   "cell_type": "code",
   "execution_count": 33,
   "id": "1b24c16b",
   "metadata": {},
   "outputs": [
    {
     "name": "stdout",
     "output_type": "stream",
     "text": [
      "60\n"
     ]
    }
   ],
   "source": [
    "mysum([10, 20, 30])"
   ]
  },
  {
   "cell_type": "code",
   "execution_count": 34,
   "id": "777d3c03",
   "metadata": {},
   "outputs": [
    {
     "ename": "TypeError",
     "evalue": "unsupported operand type(s) for +=: 'int' and 'str'",
     "output_type": "error",
     "traceback": [
      "\u001b[0;31m---------------------------------------------------------------------------\u001b[0m",
      "\u001b[0;31mTypeError\u001b[0m                                 Traceback (most recent call last)",
      "\u001b[0;32m/var/folders/rr/0mnyyv811fs5vyp22gf4fxk00000gn/T/ipykernel_80330/3412263597.py\u001b[0m in \u001b[0;36m<module>\u001b[0;34m\u001b[0m\n\u001b[0;32m----> 1\u001b[0;31m \u001b[0mmysum\u001b[0m\u001b[0;34m(\u001b[0m\u001b[0;34m[\u001b[0m\u001b[0;36m10\u001b[0m\u001b[0;34m,\u001b[0m \u001b[0;36m20\u001b[0m\u001b[0;34m,\u001b[0m \u001b[0;34m'a'\u001b[0m\u001b[0;34m,\u001b[0m \u001b[0;36m30\u001b[0m\u001b[0;34m]\u001b[0m\u001b[0;34m)\u001b[0m\u001b[0;34m\u001b[0m\u001b[0;34m\u001b[0m\u001b[0m\n\u001b[0m",
      "\u001b[0;32m/var/folders/rr/0mnyyv811fs5vyp22gf4fxk00000gn/T/ipykernel_80330/1112836097.py\u001b[0m in \u001b[0;36mmysum\u001b[0;34m(numbers)\u001b[0m\n\u001b[1;32m      2\u001b[0m     \u001b[0mtotal\u001b[0m \u001b[0;34m=\u001b[0m \u001b[0;36m0\u001b[0m\u001b[0;34m\u001b[0m\u001b[0;34m\u001b[0m\u001b[0m\n\u001b[1;32m      3\u001b[0m     \u001b[0;32mfor\u001b[0m \u001b[0mone_number\u001b[0m \u001b[0;32min\u001b[0m \u001b[0mnumbers\u001b[0m\u001b[0;34m:\u001b[0m   \u001b[0;31m# iterate over every integer in numbers\u001b[0m\u001b[0;34m\u001b[0m\u001b[0;34m\u001b[0m\u001b[0m\n\u001b[0;32m----> 4\u001b[0;31m         \u001b[0mtotal\u001b[0m \u001b[0;34m+=\u001b[0m \u001b[0mone_number\u001b[0m      \u001b[0;31m# add one_number to total\u001b[0m\u001b[0;34m\u001b[0m\u001b[0;34m\u001b[0m\u001b[0m\n\u001b[0m\u001b[1;32m      5\u001b[0m     \u001b[0mprint\u001b[0m\u001b[0;34m(\u001b[0m\u001b[0mtotal\u001b[0m\u001b[0;34m)\u001b[0m\u001b[0;34m\u001b[0m\u001b[0;34m\u001b[0m\u001b[0m\n",
      "\u001b[0;31mTypeError\u001b[0m: unsupported operand type(s) for +=: 'int' and 'str'"
     ]
    }
   ],
   "source": [
    "mysum([10, 20, 'a', 30])"
   ]
  },
  {
   "cell_type": "code",
   "execution_count": 35,
   "id": "dae5f1aa",
   "metadata": {},
   "outputs": [
    {
     "ename": "TypeError",
     "evalue": "unsupported operand type(s) for +: 'int' and 'str'",
     "output_type": "error",
     "traceback": [
      "\u001b[0;31m---------------------------------------------------------------------------\u001b[0m",
      "\u001b[0;31mTypeError\u001b[0m                                 Traceback (most recent call last)",
      "\u001b[0;32m/var/folders/rr/0mnyyv811fs5vyp22gf4fxk00000gn/T/ipykernel_80330/964805911.py\u001b[0m in \u001b[0;36m<module>\u001b[0;34m\u001b[0m\n\u001b[0;32m----> 1\u001b[0;31m \u001b[0msum\u001b[0m\u001b[0;34m(\u001b[0m\u001b[0;34m[\u001b[0m\u001b[0;36m10\u001b[0m\u001b[0;34m,\u001b[0m \u001b[0;36m20\u001b[0m\u001b[0;34m,\u001b[0m \u001b[0;34m'a'\u001b[0m\u001b[0;34m,\u001b[0m \u001b[0;36m30\u001b[0m\u001b[0;34m]\u001b[0m\u001b[0;34m)\u001b[0m\u001b[0;34m\u001b[0m\u001b[0;34m\u001b[0m\u001b[0m\n\u001b[0m",
      "\u001b[0;31mTypeError\u001b[0m: unsupported operand type(s) for +: 'int' and 'str'"
     ]
    }
   ],
   "source": [
    "sum([10, 20, 'a', 30])"
   ]
  },
  {
   "cell_type": "markdown",
   "id": "5e40d3de",
   "metadata": {},
   "source": [
    "# Positional vs. keyword arguments\n",
    "\n",
    "How does Python assign arguments to parameters?  It has two techniques:\n",
    "\n",
    "- One, which we've already seen, is *positional arguments*, where the arguments are assigned to parameters based on their positions.\n",
    "- The second is *keyword arguments*, where we specify which parameter should get which argument."
   ]
  },
  {
   "cell_type": "code",
   "execution_count": 36,
   "id": "07105626",
   "metadata": {},
   "outputs": [],
   "source": [
    "def hello(first, last):\n",
    "    print(f'Hello, {first} {last}!')"
   ]
  },
  {
   "cell_type": "code",
   "execution_count": 37,
   "id": "071bc1d1",
   "metadata": {},
   "outputs": [
    {
     "name": "stdout",
     "output_type": "stream",
     "text": [
      "Hello, Reuven Lerner!\n"
     ]
    }
   ],
   "source": [
    "# parameters: first       last\n",
    "# arguments:  'Reuven'  'Lerner'\n",
    "\n",
    "hello('Reuven', 'Lerner')  # these are positional arguments... because they just are values"
   ]
  },
  {
   "cell_type": "code",
   "execution_count": 38,
   "id": "0db14112",
   "metadata": {},
   "outputs": [
    {
     "name": "stdout",
     "output_type": "stream",
     "text": [
      "Hello, Reuven Lerner!\n"
     ]
    }
   ],
   "source": [
    "# now let's use keyword arguments!\n",
    "\n",
    "# parameters: first       last\n",
    "# arguments:  'Reuven'   'Lerner'\n",
    "\n",
    "hello(first='Reuven', last='Lerner')  # you can tell these are keyword arguments, because they\n",
    "                                      #  name=value.  If there's an =, then they are keyword arguments."
   ]
  },
  {
   "cell_type": "code",
   "execution_count": 40,
   "id": "ebcad597",
   "metadata": {},
   "outputs": [
    {
     "name": "stdout",
     "output_type": "stream",
     "text": [
      "Hello, Reuven Lerner!\n"
     ]
    }
   ],
   "source": [
    "# parameters: first       last\n",
    "# arguments:   'Reuven'  'Lerner'\n",
    "\n",
    "hello(last='Lerner', first='Reuven') "
   ]
  },
  {
   "cell_type": "code",
   "execution_count": 41,
   "id": "751c6738",
   "metadata": {},
   "outputs": [
    {
     "name": "stdout",
     "output_type": "stream",
     "text": [
      "Hello, Reuven Lerner!\n"
     ]
    }
   ],
   "source": [
    "# can we mix and match positional and keyword arguments in the same function call?\n",
    "# yes... sort of\n",
    "# all positional arguments must come before all keyword arguments.\n",
    "\n",
    "hello('Reuven', last='Lerner')  # positional before keyword, so we're fine"
   ]
  },
  {
   "cell_type": "code",
   "execution_count": 42,
   "id": "33fcb0a0",
   "metadata": {},
   "outputs": [
    {
     "ename": "SyntaxError",
     "evalue": "positional argument follows keyword argument (3445314004.py, line 1)",
     "output_type": "error",
     "traceback": [
      "\u001b[0;36m  File \u001b[0;32m\"/var/folders/rr/0mnyyv811fs5vyp22gf4fxk00000gn/T/ipykernel_80330/3445314004.py\"\u001b[0;36m, line \u001b[0;32m1\u001b[0m\n\u001b[0;31m    hello(first='Reuven', 'Lerner')\u001b[0m\n\u001b[0m                                  ^\u001b[0m\n\u001b[0;31mSyntaxError\u001b[0m\u001b[0;31m:\u001b[0m positional argument follows keyword argument\n"
     ]
    }
   ],
   "source": [
    "hello(first='Reuven', 'Lerner')"
   ]
  },
  {
   "cell_type": "code",
   "execution_count": null,
   "id": "e39f2c7c",
   "metadata": {},
   "outputs": [],
   "source": []
  }
 ],
 "metadata": {
  "kernelspec": {
   "display_name": "Python 3 (ipykernel)",
   "language": "python",
   "name": "python3"
  },
  "language_info": {
   "codemirror_mode": {
    "name": "ipython",
    "version": 3
   },
   "file_extension": ".py",
   "mimetype": "text/x-python",
   "name": "python",
   "nbconvert_exporter": "python",
   "pygments_lexer": "ipython3",
   "version": "3.10.5"
  }
 },
 "nbformat": 4,
 "nbformat_minor": 5
}
