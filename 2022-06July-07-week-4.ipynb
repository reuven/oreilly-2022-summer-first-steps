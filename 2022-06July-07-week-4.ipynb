{
 "cells": [
  {
   "cell_type": "markdown",
   "id": "63357880",
   "metadata": {},
   "source": [
    "# Agenda: Week 4\n",
    "\n",
    "1. What are functions?\n",
    "2. Writing simple functions\n",
    "3. Arguments and parameters\n",
    "    - How we pass arguments\n",
    "    - How they are assigned to parameters\n",
    "4. Return values from functions  \n",
    "5. Default argument values\n",
    "6. Complex return values\n",
    "7. Local vs. global variables"
   ]
  },
  {
   "cell_type": "markdown",
   "id": "7db06cbb",
   "metadata": {},
   "source": [
    "# What are functions?\n",
    "\n",
    "Functions are the verbs of Python -- they get things done.  We call a function in order to accomplish a task.  (For our purposes, methods are the same as functions.)\n",
    "\n",
    "Do we need to define our own functions?  No...but we want to.\n",
    "\n",
    "Being able to define our own, new verbs in Python means that we can more easily describe what we're doing at a higher level -- and then we can think at that higher level, and build things on top of that.  \n",
    "\n",
    "This is another example of *abstraction*, one of the most important ideas in programming.  We build something, and then we paper over the details of that thing, so that we can use it in building a bigger thing."
   ]
  },
  {
   "cell_type": "code",
   "execution_count": 1,
   "id": "e214c643",
   "metadata": {},
   "outputs": [],
   "source": [
    "def hello():            # \"def\" means: define a new function, then we give its name and () -- currently empty\n",
    "                        # colon comes at the end of the line\n",
    "    print('Hello!')     # This is the body of the function\n",
    "                        #  - the function body does *not* execute when we define the function\n",
    "                        #  - it does execute whenever we call the function"
   ]
  },
  {
   "cell_type": "code",
   "execution_count": 2,
   "id": "da930885",
   "metadata": {},
   "outputs": [
    {
     "name": "stdout",
     "output_type": "stream",
     "text": [
      "Hello!\n"
     ]
    }
   ],
   "source": [
    "hello()                 # find the object named \"hello\""
   ]
  },
  {
   "cell_type": "code",
   "execution_count": 3,
   "id": "48615451",
   "metadata": {},
   "outputs": [
    {
     "data": {
      "text/plain": [
       "function"
      ]
     },
     "execution_count": 3,
     "metadata": {},
     "output_type": "execute_result"
    }
   ],
   "source": [
    "type(hello)   # what type of object does \"hello\" refer to?"
   ]
  },
  {
   "cell_type": "code",
   "execution_count": 4,
   "id": "0c17f73c",
   "metadata": {},
   "outputs": [
    {
     "ename": "TypeError",
     "evalue": "'int' object is not callable",
     "output_type": "error",
     "traceback": [
      "\u001b[0;31m---------------------------------------------------------------------------\u001b[0m",
      "\u001b[0;31mTypeError\u001b[0m                                 Traceback (most recent call last)",
      "\u001b[0;32m/var/folders/rr/0mnyyv811fs5vyp22gf4fxk00000gn/T/ipykernel_80330/1268624411.py\u001b[0m in \u001b[0;36m<module>\u001b[0;34m\u001b[0m\n\u001b[1;32m      1\u001b[0m \u001b[0mx\u001b[0m \u001b[0;34m=\u001b[0m \u001b[0;36m5\u001b[0m\u001b[0;34m\u001b[0m\u001b[0;34m\u001b[0m\u001b[0m\n\u001b[0;32m----> 2\u001b[0;31m \u001b[0mx\u001b[0m\u001b[0;34m(\u001b[0m\u001b[0;34m)\u001b[0m     \u001b[0;31m# let's try to execute this integer ... it won't go well\u001b[0m\u001b[0;34m\u001b[0m\u001b[0;34m\u001b[0m\u001b[0m\n\u001b[0m",
      "\u001b[0;31mTypeError\u001b[0m: 'int' object is not callable"
     ]
    }
   ],
   "source": [
    "x = 5\n",
    "x()     # let's try to execute this integer ... it won't go well"
   ]
  },
  {
   "cell_type": "markdown",
   "id": "7b223ffb",
   "metadata": {},
   "source": [
    "# What can go in a function?\n",
    "\n",
    "*ANYTHING*!\n",
    "\n",
    "- `print`\n",
    "- `input`\n",
    "- Assignment\n",
    "- `if`\n",
    "- `for` and `while`\n"
   ]
  },
  {
   "cell_type": "code",
   "execution_count": 5,
   "id": "d1550864",
   "metadata": {},
   "outputs": [],
   "source": [
    "def hello():\n",
    "    name = input('Enter your name: ').strip()\n",
    "    print(f'Hello, {name}!')"
   ]
  },
  {
   "cell_type": "code",
   "execution_count": 6,
   "id": "77758a60",
   "metadata": {},
   "outputs": [
    {
     "name": "stdout",
     "output_type": "stream",
     "text": [
      "Enter your name: Reuven\n",
      "Hello, Reuven!\n"
     ]
    }
   ],
   "source": [
    "hello()"
   ]
  },
  {
   "cell_type": "code",
   "execution_count": 7,
   "id": "2aee1241",
   "metadata": {},
   "outputs": [],
   "source": [
    "def hello():\n",
    "    name = input('Enter your name: ').strip()\n",
    "\n",
    "    if name == 'Reuven':\n",
    "        print('Welcome the boss, Reuven!')\n",
    "    else:\n",
    "        print(f'Hello, {name}!')"
   ]
  },
  {
   "cell_type": "code",
   "execution_count": 9,
   "id": "9b459f41",
   "metadata": {},
   "outputs": [
    {
     "name": "stdout",
     "output_type": "stream",
     "text": [
      "Enter your name: asdfafaa\n",
      "Hello, asdfafaa!\n"
     ]
    }
   ],
   "source": [
    "hello()"
   ]
  },
  {
   "cell_type": "code",
   "execution_count": 10,
   "id": "e8c7a9ef",
   "metadata": {},
   "outputs": [
    {
     "name": "stdout",
     "output_type": "stream",
     "text": [
      "7\n"
     ]
    }
   ],
   "source": [
    "x = 5\n",
    "\n",
    "x = 7\n",
    "\n",
    "print(x)   # not surprisingly, x is 7"
   ]
  },
  {
   "cell_type": "markdown",
   "id": "bdef6d7c",
   "metadata": {},
   "source": [
    "# Exercise: Calculator\n",
    "\n",
    "1. Write a function, `calc`, that when we run it does the following:\n",
    "    - Ask the user to enter a first number\n",
    "    - Ask the user to enter either `+` or `-`\n",
    "    - Ask the user to enter a second number\n",
    "2. Let's assume that the user gave us digits only, and that we can turn our inputs into numbers.\n",
    "3. Print the full expression, and the result.\n",
    "4. If the operator isn't known, then give an error message or just say \"invalid result.\"\n",
    "\n",
    "Example:\n",
    "\n",
    "    First number: 8\n",
    "    Operator: +\n",
    "    Second number: 3\n",
    "    8 + 3 = 11\n",
    "    "
   ]
  },
  {
   "cell_type": "code",
   "execution_count": 11,
   "id": "a18ad1b5",
   "metadata": {},
   "outputs": [],
   "source": [
    "def calc():\n",
    "    first = input('First number: ').strip()\n",
    "    op = input('Operator: ').strip()\n",
    "    second = input('Second number: ').strip()\n",
    "    \n",
    "    first = int(first)\n",
    "    second = int(second)\n",
    "    \n",
    "    if op == '+':\n",
    "        result = first + second\n",
    "    elif op == '-':\n",
    "        result = first - second\n",
    "    else:\n",
    "        result = f'Invalid operator {op}'\n",
    "        \n",
    "    print(f'{first} {op} {second} = {result}')"
   ]
  },
  {
   "cell_type": "code",
   "execution_count": 15,
   "id": "469bf3d5",
   "metadata": {},
   "outputs": [
    {
     "name": "stdout",
     "output_type": "stream",
     "text": [
      "First number: 20\n",
      "Operator: *\n",
      "Second number: 6\n",
      "20 * 6 = Invalid operator *\n"
     ]
    }
   ],
   "source": [
    "calc()"
   ]
  },
  {
   "cell_type": "code",
   "execution_count": 16,
   "id": "3b53d8e8",
   "metadata": {},
   "outputs": [
    {
     "data": {
      "text/plain": [
       "4"
      ]
     },
     "execution_count": 16,
     "metadata": {},
     "output_type": "execute_result"
    }
   ],
   "source": [
    "len('abcd')   # here, I pass 'abcd' as an argument to len "
   ]
  },
  {
   "cell_type": "code",
   "execution_count": 17,
   "id": "fb3b770b",
   "metadata": {},
   "outputs": [
    {
     "name": "stdout",
     "output_type": "stream",
     "text": [
      "Hello\n"
     ]
    }
   ],
   "source": [
    "print('Hello')"
   ]
  },
  {
   "cell_type": "markdown",
   "id": "777c680b",
   "metadata": {},
   "source": [
    "# Arguments and parameters\n",
    "\n",
    "- Arguments are the values we pass to a function when we invoke it.  \n",
    "- Parameters are the variables that accept arguments in a function."
   ]
  },
  {
   "cell_type": "code",
   "execution_count": 18,
   "id": "da0e033c",
   "metadata": {},
   "outputs": [],
   "source": [
    "def hello(name):   # name is a parameter in the hello function\n",
    "    print(f'Hello, {name}!')"
   ]
  },
  {
   "cell_type": "code",
   "execution_count": 19,
   "id": "8b73abf3",
   "metadata": {},
   "outputs": [
    {
     "name": "stdout",
     "output_type": "stream",
     "text": [
      "Hello, Reuven!\n"
     ]
    }
   ],
   "source": [
    "hello('Reuven')  # 'Reuven' is an argument I'm passing to hello, which will be assigned to name"
   ]
  },
  {
   "cell_type": "code",
   "execution_count": 20,
   "id": "5064b286",
   "metadata": {},
   "outputs": [],
   "source": [
    "# what kinds of arguments can I pass to our hello function?"
   ]
  },
  {
   "cell_type": "code",
   "execution_count": 21,
   "id": "4cc49b70",
   "metadata": {},
   "outputs": [
    {
     "name": "stdout",
     "output_type": "stream",
     "text": [
      "Hello, world!\n"
     ]
    }
   ],
   "source": [
    "hello('world')"
   ]
  },
  {
   "cell_type": "code",
   "execution_count": 22,
   "id": "2f837221",
   "metadata": {},
   "outputs": [
    {
     "name": "stdout",
     "output_type": "stream",
     "text": [
      "Hello, 5!\n"
     ]
    }
   ],
   "source": [
    "hello(5)"
   ]
  },
  {
   "cell_type": "code",
   "execution_count": 23,
   "id": "3e937575",
   "metadata": {},
   "outputs": [
    {
     "name": "stdout",
     "output_type": "stream",
     "text": [
      "Hello, [10, 20, 30]!\n"
     ]
    }
   ],
   "source": [
    "hello([10, 20, 30])"
   ]
  },
  {
   "cell_type": "code",
   "execution_count": 24,
   "id": "e207db93",
   "metadata": {},
   "outputs": [
    {
     "name": "stdout",
     "output_type": "stream",
     "text": [
      "Hello, <function hello at 0x1050c0a60>!\n"
     ]
    }
   ],
   "source": [
    "# this is the craziest one!\n",
    "hello(hello)"
   ]
  },
  {
   "cell_type": "code",
   "execution_count": 25,
   "id": "3b4a789a",
   "metadata": {},
   "outputs": [],
   "source": [
    "def hello(first, last):\n",
    "    print(f'Hello, {first} {last}!')"
   ]
  },
  {
   "cell_type": "code",
   "execution_count": 26,
   "id": "a4e9761f",
   "metadata": {},
   "outputs": [
    {
     "name": "stdout",
     "output_type": "stream",
     "text": [
      "Hello, Reuven Lerner!\n"
     ]
    }
   ],
   "source": [
    "hello('Reuven', 'Lerner')"
   ]
  },
  {
   "cell_type": "code",
   "execution_count": 27,
   "id": "87756e91",
   "metadata": {},
   "outputs": [
    {
     "ename": "TypeError",
     "evalue": "hello() missing 1 required positional argument: 'last'",
     "output_type": "error",
     "traceback": [
      "\u001b[0;31m---------------------------------------------------------------------------\u001b[0m",
      "\u001b[0;31mTypeError\u001b[0m                                 Traceback (most recent call last)",
      "\u001b[0;32m/var/folders/rr/0mnyyv811fs5vyp22gf4fxk00000gn/T/ipykernel_80330/1732743840.py\u001b[0m in \u001b[0;36m<module>\u001b[0;34m\u001b[0m\n\u001b[1;32m      1\u001b[0m \u001b[0;31m# can I still call \"hello\" with a single argument?\u001b[0m\u001b[0;34m\u001b[0m\u001b[0;34m\u001b[0m\u001b[0m\n\u001b[1;32m      2\u001b[0m \u001b[0;34m\u001b[0m\u001b[0m\n\u001b[0;32m----> 3\u001b[0;31m \u001b[0mhello\u001b[0m\u001b[0;34m(\u001b[0m\u001b[0;34m'Reuven'\u001b[0m\u001b[0;34m)\u001b[0m\u001b[0;34m\u001b[0m\u001b[0;34m\u001b[0m\u001b[0m\n\u001b[0m",
      "\u001b[0;31mTypeError\u001b[0m: hello() missing 1 required positional argument: 'last'"
     ]
    }
   ],
   "source": [
    "# can I still call \"hello\" with a single argument?\n",
    "\n",
    "hello('Reuven')"
   ]
  },
  {
   "cell_type": "code",
   "execution_count": 28,
   "id": "63cd6fc8",
   "metadata": {},
   "outputs": [
    {
     "name": "stdout",
     "output_type": "stream",
     "text": [
      "Hello, Reuven Lerner!\n"
     ]
    }
   ],
   "source": [
    "# parameters:  first   last\n",
    "# arguments:  'Reuven'  'Lerner'\n",
    "\n",
    "hello('Reuven', 'Lerner')   # positional arguments -- they're assigned to parameters based on their POSITIONS"
   ]
  },
  {
   "cell_type": "code",
   "execution_count": 31,
   "id": "2aafb738",
   "metadata": {},
   "outputs": [],
   "source": [
    "def calc(first, op, second):   # parameters are local variables -- their values don't affect the outside world\n",
    "    if op == '+':\n",
    "        result = first + second\n",
    "    elif op == '-':\n",
    "        result = first - second\n",
    "    else:\n",
    "        result = f'Invalid operator {op}'\n",
    "        \n",
    "    print(f'{first} {op} {second} = {result}')"
   ]
  },
  {
   "cell_type": "code",
   "execution_count": 30,
   "id": "9752a743",
   "metadata": {},
   "outputs": [
    {
     "name": "stdout",
     "output_type": "stream",
     "text": [
      "10 + 3 = 13\n"
     ]
    }
   ],
   "source": [
    "calc(10, '+', 3)"
   ]
  },
  {
   "cell_type": "markdown",
   "id": "8b30c4c2",
   "metadata": {},
   "source": [
    "# Exercise: `mysum`\n",
    "\n",
    "1. Python comes with a builtin function called `sum`, which takes a list (or set, or tuple) of numbers, and returns its sum. We're going to write a similar function, called `mysum`, which will *print* the sum of numbers passed to it.\n",
    "2. Don't use `sum` to implement `mysum`.\n",
    "3. Your function should take a single argument, an iterable (probably a list) of numbers. Add them, and print the result.\n",
    "\n",
    "```python\n",
    "mysum([10, 20, 30])   # this will print 60\n",
    "```\n",
    "\n"
   ]
  },
  {
   "cell_type": "code",
   "execution_count": 32,
   "id": "99d6a407",
   "metadata": {},
   "outputs": [],
   "source": [
    "def mysum(numbers):    # numbers should be a list/tuple of integers\n",
    "    total = 0\n",
    "    for one_number in numbers:   # iterate over every integer in numbers\n",
    "        total += one_number      # add one_number to total\n",
    "    print(total)"
   ]
  },
  {
   "cell_type": "code",
   "execution_count": 33,
   "id": "f707a996",
   "metadata": {},
   "outputs": [
    {
     "name": "stdout",
     "output_type": "stream",
     "text": [
      "60\n"
     ]
    }
   ],
   "source": [
    "mysum([10, 20, 30])"
   ]
  },
  {
   "cell_type": "code",
   "execution_count": 34,
   "id": "d1eb79bc",
   "metadata": {},
   "outputs": [
    {
     "ename": "TypeError",
     "evalue": "unsupported operand type(s) for +=: 'int' and 'str'",
     "output_type": "error",
     "traceback": [
      "\u001b[0;31m---------------------------------------------------------------------------\u001b[0m",
      "\u001b[0;31mTypeError\u001b[0m                                 Traceback (most recent call last)",
      "\u001b[0;32m/var/folders/rr/0mnyyv811fs5vyp22gf4fxk00000gn/T/ipykernel_80330/3412263597.py\u001b[0m in \u001b[0;36m<module>\u001b[0;34m\u001b[0m\n\u001b[0;32m----> 1\u001b[0;31m \u001b[0mmysum\u001b[0m\u001b[0;34m(\u001b[0m\u001b[0;34m[\u001b[0m\u001b[0;36m10\u001b[0m\u001b[0;34m,\u001b[0m \u001b[0;36m20\u001b[0m\u001b[0;34m,\u001b[0m \u001b[0;34m'a'\u001b[0m\u001b[0;34m,\u001b[0m \u001b[0;36m30\u001b[0m\u001b[0;34m]\u001b[0m\u001b[0;34m)\u001b[0m\u001b[0;34m\u001b[0m\u001b[0;34m\u001b[0m\u001b[0m\n\u001b[0m",
      "\u001b[0;32m/var/folders/rr/0mnyyv811fs5vyp22gf4fxk00000gn/T/ipykernel_80330/1112836097.py\u001b[0m in \u001b[0;36mmysum\u001b[0;34m(numbers)\u001b[0m\n\u001b[1;32m      2\u001b[0m     \u001b[0mtotal\u001b[0m \u001b[0;34m=\u001b[0m \u001b[0;36m0\u001b[0m\u001b[0;34m\u001b[0m\u001b[0;34m\u001b[0m\u001b[0m\n\u001b[1;32m      3\u001b[0m     \u001b[0;32mfor\u001b[0m \u001b[0mone_number\u001b[0m \u001b[0;32min\u001b[0m \u001b[0mnumbers\u001b[0m\u001b[0;34m:\u001b[0m   \u001b[0;31m# iterate over every integer in numbers\u001b[0m\u001b[0;34m\u001b[0m\u001b[0;34m\u001b[0m\u001b[0m\n\u001b[0;32m----> 4\u001b[0;31m         \u001b[0mtotal\u001b[0m \u001b[0;34m+=\u001b[0m \u001b[0mone_number\u001b[0m      \u001b[0;31m# add one_number to total\u001b[0m\u001b[0;34m\u001b[0m\u001b[0;34m\u001b[0m\u001b[0m\n\u001b[0m\u001b[1;32m      5\u001b[0m     \u001b[0mprint\u001b[0m\u001b[0;34m(\u001b[0m\u001b[0mtotal\u001b[0m\u001b[0;34m)\u001b[0m\u001b[0;34m\u001b[0m\u001b[0;34m\u001b[0m\u001b[0m\n",
      "\u001b[0;31mTypeError\u001b[0m: unsupported operand type(s) for +=: 'int' and 'str'"
     ]
    }
   ],
   "source": [
    "mysum([10, 20, 'a', 30])"
   ]
  },
  {
   "cell_type": "code",
   "execution_count": 35,
   "id": "534a5832",
   "metadata": {},
   "outputs": [
    {
     "ename": "TypeError",
     "evalue": "unsupported operand type(s) for +: 'int' and 'str'",
     "output_type": "error",
     "traceback": [
      "\u001b[0;31m---------------------------------------------------------------------------\u001b[0m",
      "\u001b[0;31mTypeError\u001b[0m                                 Traceback (most recent call last)",
      "\u001b[0;32m/var/folders/rr/0mnyyv811fs5vyp22gf4fxk00000gn/T/ipykernel_80330/964805911.py\u001b[0m in \u001b[0;36m<module>\u001b[0;34m\u001b[0m\n\u001b[0;32m----> 1\u001b[0;31m \u001b[0msum\u001b[0m\u001b[0;34m(\u001b[0m\u001b[0;34m[\u001b[0m\u001b[0;36m10\u001b[0m\u001b[0;34m,\u001b[0m \u001b[0;36m20\u001b[0m\u001b[0;34m,\u001b[0m \u001b[0;34m'a'\u001b[0m\u001b[0;34m,\u001b[0m \u001b[0;36m30\u001b[0m\u001b[0;34m]\u001b[0m\u001b[0;34m)\u001b[0m\u001b[0;34m\u001b[0m\u001b[0;34m\u001b[0m\u001b[0m\n\u001b[0m",
      "\u001b[0;31mTypeError\u001b[0m: unsupported operand type(s) for +: 'int' and 'str'"
     ]
    }
   ],
   "source": [
    "sum([10, 20, 'a', 30])"
   ]
  },
  {
   "cell_type": "markdown",
   "id": "2440c846",
   "metadata": {},
   "source": [
    "# Positional vs. keyword arguments\n",
    "\n",
    "How does Python assign arguments to parameters?  It has two techniques:\n",
    "\n",
    "- One, which we've already seen, is *positional arguments*, where the arguments are assigned to parameters based on their positions.\n",
    "- The second is *keyword arguments*, where we specify which parameter should get which argument."
   ]
  },
  {
   "cell_type": "code",
   "execution_count": 36,
   "id": "c94ec275",
   "metadata": {},
   "outputs": [],
   "source": [
    "def hello(first, last):\n",
    "    print(f'Hello, {first} {last}!')"
   ]
  },
  {
   "cell_type": "code",
   "execution_count": 37,
   "id": "afd302f4",
   "metadata": {},
   "outputs": [
    {
     "name": "stdout",
     "output_type": "stream",
     "text": [
      "Hello, Reuven Lerner!\n"
     ]
    }
   ],
   "source": [
    "# parameters: first       last\n",
    "# arguments:  'Reuven'  'Lerner'\n",
    "\n",
    "hello('Reuven', 'Lerner')  # these are positional arguments... because they just are values"
   ]
  },
  {
   "cell_type": "code",
   "execution_count": 38,
   "id": "a2513419",
   "metadata": {},
   "outputs": [
    {
     "name": "stdout",
     "output_type": "stream",
     "text": [
      "Hello, Reuven Lerner!\n"
     ]
    }
   ],
   "source": [
    "# now let's use keyword arguments!\n",
    "\n",
    "# parameters: first       last\n",
    "# arguments:  'Reuven'   'Lerner'\n",
    "\n",
    "hello(first='Reuven', last='Lerner')  # you can tell these are keyword arguments, because they\n",
    "                                      #  name=value.  If there's an =, then they are keyword arguments."
   ]
  },
  {
   "cell_type": "code",
   "execution_count": 40,
   "id": "82cf8297",
   "metadata": {},
   "outputs": [
    {
     "name": "stdout",
     "output_type": "stream",
     "text": [
      "Hello, Reuven Lerner!\n"
     ]
    }
   ],
   "source": [
    "# parameters: first       last\n",
    "# arguments:   'Reuven'  'Lerner'\n",
    "\n",
    "hello(last='Lerner', first='Reuven') "
   ]
  },
  {
   "cell_type": "code",
   "execution_count": 41,
   "id": "6921bc3f",
   "metadata": {},
   "outputs": [
    {
     "name": "stdout",
     "output_type": "stream",
     "text": [
      "Hello, Reuven Lerner!\n"
     ]
    }
   ],
   "source": [
    "# can we mix and match positional and keyword arguments in the same function call?\n",
    "# yes... sort of\n",
    "# all positional arguments must come before all keyword arguments.\n",
    "\n",
    "hello('Reuven', last='Lerner')  # positional before keyword, so we're fine"
   ]
  },
  {
   "cell_type": "code",
   "execution_count": 42,
   "id": "08017881",
   "metadata": {},
   "outputs": [
    {
     "ename": "SyntaxError",
     "evalue": "positional argument follows keyword argument (3445314004.py, line 1)",
     "output_type": "error",
     "traceback": [
      "\u001b[0;36m  File \u001b[0;32m\"/var/folders/rr/0mnyyv811fs5vyp22gf4fxk00000gn/T/ipykernel_80330/3445314004.py\"\u001b[0;36m, line \u001b[0;32m1\u001b[0m\n\u001b[0;31m    hello(first='Reuven', 'Lerner')\u001b[0m\n\u001b[0m                                  ^\u001b[0m\n\u001b[0;31mSyntaxError\u001b[0m\u001b[0;31m:\u001b[0m positional argument follows keyword argument\n"
     ]
    }
   ],
   "source": [
    "hello(first='Reuven', 'Lerner')"
   ]
  },
  {
   "cell_type": "code",
   "execution_count": 43,
   "id": "18fe3792",
   "metadata": {},
   "outputs": [],
   "source": [
    "def mysum(a,b,c,d,e,f):\n",
    "    print(a+b+c+d+e+f)"
   ]
  },
  {
   "cell_type": "code",
   "execution_count": 44,
   "id": "650e534b",
   "metadata": {},
   "outputs": [
    {
     "name": "stdout",
     "output_type": "stream",
     "text": [
      "210\n"
     ]
    }
   ],
   "source": [
    "# parameters: a b c d e f\n",
    "# arguments: 10 20 30 40 50 60 \n",
    "\n",
    "mysum(10, 20, 30, 40, 50, 60)"
   ]
  },
  {
   "cell_type": "code",
   "execution_count": 46,
   "id": "93c882e4",
   "metadata": {},
   "outputs": [
    {
     "name": "stdout",
     "output_type": "stream",
     "text": [
      "210\n"
     ]
    }
   ],
   "source": [
    "# parameters: a b c      d   e    f\n",
    "# arguments: 10 20 30    60  50     40\n",
    "\n",
    "mysum(10, 20, 30, f=40, e=50, d=60)"
   ]
  },
  {
   "cell_type": "markdown",
   "id": "ee5ef563",
   "metadata": {},
   "source": [
    "Parameters are variables whose values are assigned during the function call.  The values will come from whoever called the function."
   ]
  },
  {
   "cell_type": "markdown",
   "id": "2997df4c",
   "metadata": {},
   "source": [
    "# Next up\n",
    "\n",
    "1. Return values\n",
    "2. Default argument values for our parameters"
   ]
  },
  {
   "cell_type": "code",
   "execution_count": 47,
   "id": "0b9546b4",
   "metadata": {},
   "outputs": [],
   "source": [
    "x = len('abcd')   # len('abcd') returns a value, which we assign to x"
   ]
  },
  {
   "cell_type": "code",
   "execution_count": 48,
   "id": "8568cce6",
   "metadata": {},
   "outputs": [
    {
     "data": {
      "text/plain": [
       "4"
      ]
     },
     "execution_count": 48,
     "metadata": {},
     "output_type": "execute_result"
    }
   ],
   "source": [
    "x"
   ]
  },
  {
   "cell_type": "code",
   "execution_count": 49,
   "id": "f9623cf7",
   "metadata": {},
   "outputs": [
    {
     "name": "stdout",
     "output_type": "stream",
     "text": [
      "What is your name? Reuven\n"
     ]
    }
   ],
   "source": [
    "name = input('What is your name? ').strip()"
   ]
  },
  {
   "cell_type": "code",
   "execution_count": 50,
   "id": "e34323e4",
   "metadata": {},
   "outputs": [
    {
     "data": {
      "text/plain": [
       "'Reuven'"
      ]
     },
     "execution_count": 50,
     "metadata": {},
     "output_type": "execute_result"
    }
   ],
   "source": [
    "name"
   ]
  },
  {
   "cell_type": "code",
   "execution_count": 51,
   "id": "f99c6cbe",
   "metadata": {},
   "outputs": [],
   "source": [
    "def hello(name):\n",
    "    print(f'Hello, {name}!')"
   ]
  },
  {
   "cell_type": "code",
   "execution_count": 53,
   "id": "4ed07576",
   "metadata": {},
   "outputs": [
    {
     "name": "stdout",
     "output_type": "stream",
     "text": [
      "Hello, Reuven!\n"
     ]
    }
   ],
   "source": [
    "x = hello('Reuven')   # printing is a \"side effect\" -- separate from returning a value"
   ]
  },
  {
   "cell_type": "code",
   "execution_count": 54,
   "id": "d405174c",
   "metadata": {},
   "outputs": [
    {
     "name": "stdout",
     "output_type": "stream",
     "text": [
      "None\n"
     ]
    }
   ],
   "source": [
    "# if you don't tell a function what it should return, it returns the special value None\n",
    "print(x)"
   ]
  },
  {
   "cell_type": "markdown",
   "id": "2ba8081a",
   "metadata": {},
   "source": [
    "# Printing vs. returning\n",
    "\n",
    "A function can print whatever it wants.  When we run a function, it can print zero times, once, or 1,000 times.  it depends on the function.\n",
    "\n",
    "But a function can only return once per call.  You can have several `return` statements in your function, but only one will ever run in a given call.  Whatever it returns is known as the \"return value\" of the function.\n",
    "\n",
    "What a function prints is displayed on the screen, but it cannot be captured in a variable.  By contrast, and by defintion, a function's return value can be captured and assigned to a variable.\n",
    "\n",
    "It's usually best for a function to `return`, and not to `print`, if you have to choose -- because if you `return`, the caller can always `print` what it got.  But if you `print`, it cannot capture and use the value."
   ]
  },
  {
   "cell_type": "code",
   "execution_count": 56,
   "id": "88dedd9c",
   "metadata": {},
   "outputs": [],
   "source": [
    "def hello(name):\n",
    "    return f'Hello, {name}!'   # notice: return isn't a function, so no ()\n",
    "\n",
    "# if I call hello('Reuven'), the function will *return* a string, which I can assign to a variable\n",
    "\n",
    "x = hello('Reuven')   # nothing is printed, because the returned value was captured by x"
   ]
  },
  {
   "cell_type": "code",
   "execution_count": 57,
   "id": "e584f179",
   "metadata": {},
   "outputs": [],
   "source": [
    "def myfunc():\n",
    "    return 1   # returns 1 and stops the function from running\n",
    "    return 2\n",
    "    return 3"
   ]
  },
  {
   "cell_type": "code",
   "execution_count": 58,
   "id": "17edf383",
   "metadata": {},
   "outputs": [
    {
     "data": {
      "text/plain": [
       "1"
      ]
     },
     "execution_count": 58,
     "metadata": {},
     "output_type": "execute_result"
    }
   ],
   "source": [
    "myfunc()"
   ]
  },
  {
   "cell_type": "code",
   "execution_count": 59,
   "id": "3d585935",
   "metadata": {},
   "outputs": [],
   "source": [
    "def myfunc(n):\n",
    "    if n % 2 == 1:  \n",
    "        return 'odd'\n",
    "        # anything after \"return\" is completely ignored\n",
    "    else:\n",
    "        return 'even'\n",
    "        # anything after \"return\" is completely ignored    "
   ]
  },
  {
   "cell_type": "code",
   "execution_count": 60,
   "id": "dfbabbcc",
   "metadata": {},
   "outputs": [
    {
     "data": {
      "text/plain": [
       "'even'"
      ]
     },
     "execution_count": 60,
     "metadata": {},
     "output_type": "execute_result"
    }
   ],
   "source": [
    "myfunc(10)"
   ]
  },
  {
   "cell_type": "code",
   "execution_count": 61,
   "id": "90e5dcfd",
   "metadata": {},
   "outputs": [
    {
     "data": {
      "text/plain": [
       "'odd'"
      ]
     },
     "execution_count": 61,
     "metadata": {},
     "output_type": "execute_result"
    }
   ],
   "source": [
    "myfunc(5)"
   ]
  },
  {
   "cell_type": "code",
   "execution_count": 62,
   "id": "94ead4dc",
   "metadata": {},
   "outputs": [],
   "source": [
    "# let's rewrite mysum to return a value, rather than print a value\n",
    "\n",
    "def mysum(numbers):    # numbers should be a list/tuple of integers\n",
    "    total = 0\n",
    "    for one_number in numbers:   # iterate over every integer in numbers\n",
    "        total += one_number      # add one_number to total\n",
    "    return total"
   ]
  },
  {
   "cell_type": "code",
   "execution_count": 64,
   "id": "7d6cc0b7",
   "metadata": {},
   "outputs": [
    {
     "data": {
      "text/plain": [
       "60"
      ]
     },
     "execution_count": 64,
     "metadata": {},
     "output_type": "execute_result"
    }
   ],
   "source": [
    "mysum([10, 20, 30])  # only in Jupyter does the final value in a cell get displayed"
   ]
  },
  {
   "cell_type": "code",
   "execution_count": 65,
   "id": "5920f4d6",
   "metadata": {},
   "outputs": [],
   "source": [
    "x = mysum([10, 20, 30])"
   ]
  },
  {
   "cell_type": "code",
   "execution_count": 66,
   "id": "e5b315d4",
   "metadata": {},
   "outputs": [
    {
     "data": {
      "text/plain": [
       "60"
      ]
     },
     "execution_count": 66,
     "metadata": {},
     "output_type": "execute_result"
    }
   ],
   "source": [
    "x"
   ]
  },
  {
   "cell_type": "code",
   "execution_count": 67,
   "id": "afce3ef3",
   "metadata": {},
   "outputs": [],
   "source": [
    "def calc(first, op, second):\n",
    "    if op == '+':\n",
    "        result = first + second\n",
    "    elif op == '-':\n",
    "        result = first - second\n",
    "    else:\n",
    "        result = f'Invalid operator {op}'\n",
    "        \n",
    "    return f'{first} {op} {second} = {result}'"
   ]
  },
  {
   "cell_type": "code",
   "execution_count": 68,
   "id": "723d12bc",
   "metadata": {},
   "outputs": [
    {
     "data": {
      "text/plain": [
       "'10 + 3 = 13'"
      ]
     },
     "execution_count": 68,
     "metadata": {},
     "output_type": "execute_result"
    }
   ],
   "source": [
    "calc(10, '+', 3)"
   ]
  },
  {
   "cell_type": "code",
   "execution_count": 69,
   "id": "a55be775",
   "metadata": {},
   "outputs": [
    {
     "name": "stdout",
     "output_type": "stream",
     "text": [
      "26 + -17 = 9\n",
      "14 + 31 = 45\n",
      "-4 + 13 = 9\n",
      "14 + 10 = 24\n",
      "-29 + -33 = -62\n",
      "-18 + 21 = 3\n",
      "-21 + 38 = 17\n",
      "11 + 5 = 16\n",
      "-5 + 13 = 8\n",
      "-40 + 45 = 5\n"
     ]
    }
   ],
   "source": [
    "import random\n",
    "\n",
    "for i in range(10):   # we're going to run things 10 times\n",
    "    first = random.randint(-50, 50)\n",
    "    second = random.randint(-50, 50)\n",
    "    \n",
    "    print(calc(first, '+', second))\n",
    "    "
   ]
  },
  {
   "cell_type": "markdown",
   "id": "8bff8d02",
   "metadata": {},
   "source": [
    "# Exercise: `biggest_and_smallest`\n",
    "\n",
    "1. Write a function, `biggest_and_smallest`, that takes a list of integers as an argument.\n",
    "2. The parameter will be called `numbers`.\n",
    "3. Define two variables in the function, `biggest` and `smallest`, both of which are set to `numbers[0]`, the first element in `numbers`.\n",
    "4. Go through `numbers` in a `for` loop:\n",
    "    - If the current number is bigger than `biggest`, make it the new `biggest`\n",
    "    - If the current number if smallest than `smallest`, make it the new `smallest`\n",
    "5. At the end, return a 2-element list containing `biggest` and `smallest`    "
   ]
  },
  {
   "cell_type": "code",
   "execution_count": 73,
   "id": "afb9687c",
   "metadata": {},
   "outputs": [],
   "source": [
    "def biggest_and_smallest(numbers):   \n",
    "    biggest = numbers[0]\n",
    "    smallest = numbers[0]\n",
    "    \n",
    "    for one_number in numbers:      # go through each number we got in the argument\n",
    "        if one_number > biggest:    # is this the biggest so far? keep it!\n",
    "            print(f'\\t{one_number} > {biggest}; it is the new biggest!')\n",
    "            biggest = one_number\n",
    "            \n",
    "        if one_number < smallest:   # is this the smallest so far? keep it!\n",
    "            print(f'\\t{one_number} < {smallest}; it is the new smallest!')\n",
    "            smallest = one_number\n",
    "            \n",
    "    return [biggest, smallest]   # return the 2-element list of biggest + smallest"
   ]
  },
  {
   "cell_type": "code",
   "execution_count": 74,
   "id": "d4855d1f",
   "metadata": {},
   "outputs": [
    {
     "name": "stdout",
     "output_type": "stream",
     "text": [
      "\t20 > 10; it is the new biggest!\n",
      "\t30 > 20; it is the new biggest!\n",
      "\t40 > 30; it is the new biggest!\n",
      "\t5 < 10; it is the new smallest!\n",
      "\t-6 < 5; it is the new smallest!\n"
     ]
    },
    {
     "data": {
      "text/plain": [
       "[40, -6]"
      ]
     },
     "execution_count": 74,
     "metadata": {},
     "output_type": "execute_result"
    }
   ],
   "source": [
    "biggest_and_smallest([10, 20, 30, 40, 5, 8, 19, -6])"
   ]
  },
  {
   "cell_type": "code",
   "execution_count": 75,
   "id": "19eda132",
   "metadata": {},
   "outputs": [],
   "source": [
    "def add(first, second):\n",
    "    return first + second"
   ]
  },
  {
   "cell_type": "code",
   "execution_count": 76,
   "id": "5adba489",
   "metadata": {},
   "outputs": [
    {
     "data": {
      "text/plain": [
       "13"
      ]
     },
     "execution_count": 76,
     "metadata": {},
     "output_type": "execute_result"
    }
   ],
   "source": [
    "add(10, 3)"
   ]
  },
  {
   "cell_type": "code",
   "execution_count": 77,
   "id": "fd9a1038",
   "metadata": {},
   "outputs": [
    {
     "data": {
      "text/plain": [
       "23"
      ]
     },
     "execution_count": 77,
     "metadata": {},
     "output_type": "execute_result"
    }
   ],
   "source": [
    "add(15, 8)"
   ]
  },
  {
   "cell_type": "code",
   "execution_count": 78,
   "id": "d1dd434d",
   "metadata": {},
   "outputs": [
    {
     "data": {
      "text/plain": [
       "'abcdef'"
      ]
     },
     "execution_count": 78,
     "metadata": {},
     "output_type": "execute_result"
    }
   ],
   "source": [
    "add('abcd', 'ef')"
   ]
  },
  {
   "cell_type": "code",
   "execution_count": 79,
   "id": "98e6e35d",
   "metadata": {},
   "outputs": [
    {
     "ename": "TypeError",
     "evalue": "add() missing 1 required positional argument: 'second'",
     "output_type": "error",
     "traceback": [
      "\u001b[0;31m---------------------------------------------------------------------------\u001b[0m",
      "\u001b[0;31mTypeError\u001b[0m                                 Traceback (most recent call last)",
      "\u001b[0;32m/var/folders/rr/0mnyyv811fs5vyp22gf4fxk00000gn/T/ipykernel_80330/2172010150.py\u001b[0m in \u001b[0;36m<module>\u001b[0;34m\u001b[0m\n\u001b[0;32m----> 1\u001b[0;31m \u001b[0madd\u001b[0m\u001b[0;34m(\u001b[0m\u001b[0;36m3\u001b[0m\u001b[0;34m)\u001b[0m\u001b[0;34m\u001b[0m\u001b[0;34m\u001b[0m\u001b[0m\n\u001b[0m",
      "\u001b[0;31mTypeError\u001b[0m: add() missing 1 required positional argument: 'second'"
     ]
    }
   ],
   "source": [
    "# parameters: first second\n",
    "# arguments:   3     ....\n",
    "\n",
    "add(3)"
   ]
  },
  {
   "cell_type": "code",
   "execution_count": 80,
   "id": "6c888739",
   "metadata": {},
   "outputs": [
    {
     "data": {
      "text/plain": [
       "['abcd', 'ef', 'ghij', 'kl']"
      ]
     },
     "execution_count": 80,
     "metadata": {},
     "output_type": "execute_result"
    }
   ],
   "source": [
    "s = 'abcd ef ghij kl'\n",
    "s.split(' ')   # return a new list of strings, based on s, using ' ' as a delimiter"
   ]
  },
  {
   "cell_type": "code",
   "execution_count": 81,
   "id": "74ad7f8e",
   "metadata": {},
   "outputs": [
    {
     "data": {
      "text/plain": [
       "['abcd', 'ef', 'ghij', 'kl']"
      ]
     },
     "execution_count": 81,
     "metadata": {},
     "output_type": "execute_result"
    }
   ],
   "source": [
    "s.split()    # return a new list of strings, based on s, using any whitespace as a delimiter"
   ]
  },
  {
   "cell_type": "code",
   "execution_count": 83,
   "id": "e34261a8",
   "metadata": {},
   "outputs": [
    {
     "data": {
      "text/plain": [
       "11"
      ]
     },
     "execution_count": 83,
     "metadata": {},
     "output_type": "execute_result"
    }
   ],
   "source": [
    "# redefining add such that second is optional, with a default value of 10\n",
    "\n",
    "def add(first, second=10):\n",
    "    return first + second\n",
    "\n",
    "# parameters: first second\n",
    "# arguments:   5    6\n",
    "\n",
    "add(5, 6)"
   ]
  },
  {
   "cell_type": "code",
   "execution_count": 85,
   "id": "bdc72f84",
   "metadata": {},
   "outputs": [
    {
     "data": {
      "text/plain": [
       "15"
      ]
     },
     "execution_count": 85,
     "metadata": {},
     "output_type": "execute_result"
    }
   ],
   "source": [
    "# parameters: first second\n",
    "# arguments:   5     10\n",
    "\n",
    "add(5)"
   ]
  },
  {
   "cell_type": "markdown",
   "id": "89c46fa0",
   "metadata": {},
   "source": [
    "# Default argument values\n",
    "\n",
    "When you define a function, you can indicate that one or more parameters have default argument values -- if the caller did not provide any arguments for those parameters, the function will still run, as if the caller had passed the default values.\n",
    "\n",
    "- When you call a function, all positional arguments must come before all keyword arguments.\n",
    "- Similarly, all mandatory parameters (i.e., without defaults) must come before all optional parameters (i.e., with defaults)."
   ]
  },
  {
   "cell_type": "markdown",
   "id": "e1de089b",
   "metadata": {},
   "source": [
    "# Exercise: `count`\n",
    "\n",
    "1. Write a function, `count`, that takes two strings as arguments:\n",
    "    - The first string is the user's input -- what we're going to iterate over, to count characters in\n",
    "    - The second string is a collection of characters -- which ones do we really want to count.  By default, this will be the string `'aeiou'`, to count only vowels.\n",
    "2. The idea of the function is to count how many times each character appers in the string.  Each character will be a key in the output dictionary, and the number of times it appears will be the count in the dict.\n",
    "3. The function should return that dict.\n",
    "\n",
    "```python\n",
    "count('hello')   #  no 2nd argument, thus we count vowels: {'e':1, 'o':1}\n",
    "count('hello', 'he')  # we're counting 'h' and 'e': {'h':1, 'e':1}\n",
    "count('tlalala', 'la'), # we're counting 'l' and 'a': {'l':3, 'a':3}\n",
    "```\n",
    "\n"
   ]
  },
  {
   "cell_type": "code",
   "execution_count": 89,
   "id": "cf0a69d0",
   "metadata": {},
   "outputs": [],
   "source": [
    "# option 1: create a dict from the get-go whose keys are our characters, with 0 as values\n",
    "\n",
    "def count(s, characters='aeiou'):\n",
    "    # set up output dict\n",
    "    output = {}\n",
    "    for one_character in characters:\n",
    "        output[one_character] = 0\n",
    "        \n",
    "    # now go through s\n",
    "    for one_character in s:             # go through s, one character at a time\n",
    "        if one_character in output:     # if the character is a key in output -- meaning, one we care about\n",
    "            output[one_character] += 1  # add 1 to its current count\n",
    "            \n",
    "    return output"
   ]
  },
  {
   "cell_type": "code",
   "execution_count": 90,
   "id": "23141f32",
   "metadata": {},
   "outputs": [
    {
     "data": {
      "text/plain": [
       "{'l': 2, 'a': 3}"
      ]
     },
     "execution_count": 90,
     "metadata": {},
     "output_type": "execute_result"
    }
   ],
   "source": [
    "count('tralala', 'la')"
   ]
  },
  {
   "cell_type": "code",
   "execution_count": 91,
   "id": "b34a0f81",
   "metadata": {},
   "outputs": [
    {
     "data": {
      "text/plain": [
       "{'a': 0, 'e': 1, 'i': 0, 'o': 1, 'u': 0}"
      ]
     },
     "execution_count": 91,
     "metadata": {},
     "output_type": "execute_result"
    }
   ],
   "source": [
    "count('hello')"
   ]
  },
  {
   "cell_type": "code",
   "execution_count": 92,
   "id": "ca387bdc",
   "metadata": {},
   "outputs": [
    {
     "data": {
      "text/plain": [
       "{'h': 1, 'e': 1}"
      ]
     },
     "execution_count": 92,
     "metadata": {},
     "output_type": "execute_result"
    }
   ],
   "source": [
    "count('hello', 'he')"
   ]
  },
  {
   "cell_type": "code",
   "execution_count": 94,
   "id": "0fda2653",
   "metadata": {},
   "outputs": [],
   "source": [
    "# option 1: create the dict, but populate it only as needed\n",
    "\n",
    "def count(s, characters='aeiou'):\n",
    "    # set up output dict\n",
    "    output = {}\n",
    "      \n",
    "    # now go through s\n",
    "    for one_character in s:             # go through s, one character at a time\n",
    "        if one_character in characters: # if the character is of interest\n",
    "\n",
    "            if one_character in output:     \n",
    "                output[one_character] += 1   # not the first time? add 1\n",
    "            else:\n",
    "                output[one_character] = 1    # first time with this letter? set it to 1\n",
    "            \n",
    "    return output"
   ]
  },
  {
   "cell_type": "code",
   "execution_count": 95,
   "id": "d9506ecb",
   "metadata": {},
   "outputs": [
    {
     "data": {
      "text/plain": [
       "{'e': 1, 'o': 1}"
      ]
     },
     "execution_count": 95,
     "metadata": {},
     "output_type": "execute_result"
    }
   ],
   "source": [
    "count('hello')"
   ]
  },
  {
   "cell_type": "code",
   "execution_count": 96,
   "id": "fbda706b",
   "metadata": {},
   "outputs": [
    {
     "data": {
      "text/plain": [
       "{'h': 1, 'e': 1}"
      ]
     },
     "execution_count": 96,
     "metadata": {},
     "output_type": "execute_result"
    }
   ],
   "source": [
    "count('hello', 'he')"
   ]
  },
  {
   "cell_type": "markdown",
   "id": "30f5df50",
   "metadata": {},
   "source": [
    "# Next up\n",
    "\n",
    "1. Warning about defaults (and how they work)\n",
    "2. Complex return values\n",
    "3. `*args`\n",
    "\n"
   ]
  },
  {
   "cell_type": "markdown",
   "id": "2e7e956b",
   "metadata": {},
   "source": [
    "# Function objects\n",
    "\n",
    "When we define a function with `def`, we're doing two different things:\n",
    "\n",
    "1. We're creating a function object\n",
    "2. We're assigning that function object to a variable\n",
    "\n",
    "What's a function object?  It contains all of the instructions needed to execute (call) the function.  Each time we call the function, Python reads those instructions and executes things as needed.\n",
    "\n",
    "The function object contains a bunch of "
   ]
  }
 ],
 "metadata": {
  "kernelspec": {
   "display_name": "Python 3 (ipykernel)",
   "language": "python",
   "name": "python3"
  },
  "language_info": {
   "codemirror_mode": {
    "name": "ipython",
    "version": 3
   },
   "file_extension": ".py",
   "mimetype": "text/x-python",
   "name": "python",
   "nbconvert_exporter": "python",
   "pygments_lexer": "ipython3",
   "version": "3.10.5"
  }
 },
 "nbformat": 4,
 "nbformat_minor": 5
}
