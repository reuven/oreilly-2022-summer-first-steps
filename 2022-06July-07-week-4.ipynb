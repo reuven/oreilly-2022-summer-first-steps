{
 "cells": [
  {
   "cell_type": "markdown",
   "id": "9226d896",
   "metadata": {},
   "source": [
    "# Agenda: Week 4\n",
    "\n",
    "1. What are functions?\n",
    "2. Writing simple functions\n",
    "3. Arguments and parameters\n",
    "    - How we pass arguments\n",
    "    - How they are assigned to parameters\n",
    "4. Return values from functions  \n",
    "5. Default argument values\n",
    "6. Complex return values\n",
    "7. Local vs. global variables"
   ]
  },
  {
   "cell_type": "markdown",
   "id": "3fcdd3ca",
   "metadata": {},
   "source": [
    "# What are functions?\n",
    "\n",
    "Functions are the verbs of Python -- they get things done.  We call a function in order to accomplish a task.  (For our purposes, methods are the same as functions.)\n",
    "\n",
    "Do we need to define our own functions?  No...but we want to.\n",
    "\n",
    "Being able to define our own, new verbs in Python means that we can more easily describe what we're doing at a higher level -- and then we can think at that higher level, and build things on top of that.  \n",
    "\n",
    "This is another example of *abstraction*, one of the most important ideas in programming.  We build something, and then we paper over the details of that thing, so that we can use it in building a bigger thing."
   ]
  },
  {
   "cell_type": "code",
   "execution_count": 1,
   "id": "54c7c216",
   "metadata": {},
   "outputs": [],
   "source": [
    "def hello():            # \"def\" means: define a new function, then we give its name and () -- currently empty\n",
    "                        # colon comes at the end of the line\n",
    "    print('Hello!')     # This is the body of the function\n",
    "                        #  - the function body does *not* execute when we define the function\n",
    "                        #  - it does execute whenever we call the function"
   ]
  },
  {
   "cell_type": "code",
   "execution_count": 2,
   "id": "c7aaeb4e",
   "metadata": {},
   "outputs": [
    {
     "name": "stdout",
     "output_type": "stream",
     "text": [
      "Hello!\n"
     ]
    }
   ],
   "source": [
    "hello()                 # find the object named \"hello\""
   ]
  },
  {
   "cell_type": "code",
   "execution_count": 3,
   "id": "c95baf22",
   "metadata": {},
   "outputs": [
    {
     "data": {
      "text/plain": [
       "function"
      ]
     },
     "execution_count": 3,
     "metadata": {},
     "output_type": "execute_result"
    }
   ],
   "source": [
    "type(hello)   # what type of object does \"hello\" refer to?"
   ]
  },
  {
   "cell_type": "code",
   "execution_count": 4,
   "id": "1946ef0e",
   "metadata": {},
   "outputs": [
    {
     "ename": "TypeError",
     "evalue": "'int' object is not callable",
     "output_type": "error",
     "traceback": [
      "\u001b[0;31m---------------------------------------------------------------------------\u001b[0m",
      "\u001b[0;31mTypeError\u001b[0m                                 Traceback (most recent call last)",
      "\u001b[0;32m/var/folders/rr/0mnyyv811fs5vyp22gf4fxk00000gn/T/ipykernel_80330/1268624411.py\u001b[0m in \u001b[0;36m<module>\u001b[0;34m\u001b[0m\n\u001b[1;32m      1\u001b[0m \u001b[0mx\u001b[0m \u001b[0;34m=\u001b[0m \u001b[0;36m5\u001b[0m\u001b[0;34m\u001b[0m\u001b[0;34m\u001b[0m\u001b[0m\n\u001b[0;32m----> 2\u001b[0;31m \u001b[0mx\u001b[0m\u001b[0;34m(\u001b[0m\u001b[0;34m)\u001b[0m     \u001b[0;31m# let's try to execute this integer ... it won't go well\u001b[0m\u001b[0;34m\u001b[0m\u001b[0;34m\u001b[0m\u001b[0m\n\u001b[0m",
      "\u001b[0;31mTypeError\u001b[0m: 'int' object is not callable"
     ]
    }
   ],
   "source": [
    "x = 5\n",
    "x()     # let's try to execute this integer ... it won't go well"
   ]
  },
  {
   "cell_type": "markdown",
   "id": "b40a9eda",
   "metadata": {},
   "source": [
    "# What can go in a function?\n",
    "\n",
    "*ANYTHING*!\n",
    "\n",
    "- `print`\n",
    "- `input`\n",
    "- Assignment\n",
    "- `if`\n",
    "- `for` and `while`\n"
   ]
  },
  {
   "cell_type": "code",
   "execution_count": 5,
   "id": "80a5e80a",
   "metadata": {},
   "outputs": [],
   "source": [
    "def hello():\n",
    "    name = input('Enter your name: ').strip()\n",
    "    print(f'Hello, {name}!')"
   ]
  },
  {
   "cell_type": "code",
   "execution_count": 6,
   "id": "15943f04",
   "metadata": {},
   "outputs": [
    {
     "name": "stdout",
     "output_type": "stream",
     "text": [
      "Enter your name: Reuven\n",
      "Hello, Reuven!\n"
     ]
    }
   ],
   "source": [
    "hello()"
   ]
  },
  {
   "cell_type": "code",
   "execution_count": 7,
   "id": "2161234f",
   "metadata": {},
   "outputs": [],
   "source": [
    "def hello():\n",
    "    name = input('Enter your name: ').strip()\n",
    "\n",
    "    if name == 'Reuven':\n",
    "        print('Welcome the boss, Reuven!')\n",
    "    else:\n",
    "        print(f'Hello, {name}!')"
   ]
  },
  {
   "cell_type": "code",
   "execution_count": 9,
   "id": "0111906e",
   "metadata": {},
   "outputs": [
    {
     "name": "stdout",
     "output_type": "stream",
     "text": [
      "Enter your name: asdfafaa\n",
      "Hello, asdfafaa!\n"
     ]
    }
   ],
   "source": [
    "hello()"
   ]
  },
  {
   "cell_type": "code",
   "execution_count": 10,
   "id": "755aabeb",
   "metadata": {},
   "outputs": [
    {
     "name": "stdout",
     "output_type": "stream",
     "text": [
      "7\n"
     ]
    }
   ],
   "source": [
    "x = 5\n",
    "\n",
    "x = 7\n",
    "\n",
    "print(x)   # not surprisingly, x is 7"
   ]
  },
  {
   "cell_type": "markdown",
   "id": "99afe0d3",
   "metadata": {},
   "source": [
    "# Exercise: Calculator\n",
    "\n",
    "1. Write a function, `calc`, that when we run it does the following:\n",
    "    - Ask the user to enter a first number\n",
    "    - Ask the user to enter either `+` or `-`\n",
    "    - Ask the user to enter a second number\n",
    "2. Let's assume that the user gave us digits only, and that we can turn our inputs into numbers.\n",
    "3. Print the full expression, and the result.\n",
    "4. If the operator isn't known, then give an error message or just say \"invalid result.\"\n",
    "\n",
    "Example:\n",
    "\n",
    "    First number: 8\n",
    "    Operator: +\n",
    "    Second number: 3\n",
    "    8 + 3 = 11\n",
    "    "
   ]
  },
  {
   "cell_type": "code",
   "execution_count": 11,
   "id": "05c8b2e5",
   "metadata": {},
   "outputs": [],
   "source": [
    "def calc():\n",
    "    first = input('First number: ').strip()\n",
    "    op = input('Operator: ').strip()\n",
    "    second = input('Second number: ').strip()\n",
    "    \n",
    "    first = int(first)\n",
    "    second = int(second)\n",
    "    \n",
    "    if op == '+':\n",
    "        result = first + second\n",
    "    elif op == '-':\n",
    "        result = first - second\n",
    "    else:\n",
    "        result = f'Invalid operator {op}'\n",
    "        \n",
    "    print(f'{first} {op} {second} = {result}')"
   ]
  },
  {
   "cell_type": "code",
   "execution_count": 15,
   "id": "2afe4110",
   "metadata": {},
   "outputs": [
    {
     "name": "stdout",
     "output_type": "stream",
     "text": [
      "First number: 20\n",
      "Operator: *\n",
      "Second number: 6\n",
      "20 * 6 = Invalid operator *\n"
     ]
    }
   ],
   "source": [
    "calc()"
   ]
  },
  {
   "cell_type": "code",
   "execution_count": 16,
   "id": "8ee96ae5",
   "metadata": {},
   "outputs": [
    {
     "data": {
      "text/plain": [
       "4"
      ]
     },
     "execution_count": 16,
     "metadata": {},
     "output_type": "execute_result"
    }
   ],
   "source": [
    "len('abcd')   # here, I pass 'abcd' as an argument to len "
   ]
  },
  {
   "cell_type": "code",
   "execution_count": 17,
   "id": "814c4c4f",
   "metadata": {},
   "outputs": [
    {
     "name": "stdout",
     "output_type": "stream",
     "text": [
      "Hello\n"
     ]
    }
   ],
   "source": [
    "print('Hello')"
   ]
  },
  {
   "cell_type": "markdown",
   "id": "b5f1c422",
   "metadata": {},
   "source": [
    "# Arguments and parameters\n",
    "\n",
    "- Arguments are the values we pass to a function when we invoke it.  \n",
    "- Parameters are the variables that accept arguments in a function."
   ]
  },
  {
   "cell_type": "code",
   "execution_count": 18,
   "id": "5f3ae3b2",
   "metadata": {},
   "outputs": [],
   "source": [
    "def hello(name):   # name is a parameter in the hello function\n",
    "    print(f'Hello, {name}!')"
   ]
  },
  {
   "cell_type": "code",
   "execution_count": 19,
   "id": "1bb2e669",
   "metadata": {},
   "outputs": [
    {
     "name": "stdout",
     "output_type": "stream",
     "text": [
      "Hello, Reuven!\n"
     ]
    }
   ],
   "source": [
    "hello('Reuven')  # 'Reuven' is an argument I'm passing to hello, which will be assigned to name"
   ]
  },
  {
   "cell_type": "code",
   "execution_count": 20,
   "id": "89fdf75a",
   "metadata": {},
   "outputs": [],
   "source": [
    "# what kinds of arguments can I pass to our hello function?"
   ]
  },
  {
   "cell_type": "code",
   "execution_count": 21,
   "id": "955b29ac",
   "metadata": {},
   "outputs": [
    {
     "name": "stdout",
     "output_type": "stream",
     "text": [
      "Hello, world!\n"
     ]
    }
   ],
   "source": [
    "hello('world')"
   ]
  },
  {
   "cell_type": "code",
   "execution_count": 22,
   "id": "d302fe5e",
   "metadata": {},
   "outputs": [
    {
     "name": "stdout",
     "output_type": "stream",
     "text": [
      "Hello, 5!\n"
     ]
    }
   ],
   "source": [
    "hello(5)"
   ]
  },
  {
   "cell_type": "code",
   "execution_count": 23,
   "id": "0d29e672",
   "metadata": {},
   "outputs": [
    {
     "name": "stdout",
     "output_type": "stream",
     "text": [
      "Hello, [10, 20, 30]!\n"
     ]
    }
   ],
   "source": [
    "hello([10, 20, 30])"
   ]
  },
  {
   "cell_type": "code",
   "execution_count": 24,
   "id": "66a77896",
   "metadata": {},
   "outputs": [
    {
     "name": "stdout",
     "output_type": "stream",
     "text": [
      "Hello, <function hello at 0x1050c0a60>!\n"
     ]
    }
   ],
   "source": [
    "# this is the craziest one!\n",
    "hello(hello)"
   ]
  },
  {
   "cell_type": "code",
   "execution_count": 25,
   "id": "dae25557",
   "metadata": {},
   "outputs": [],
   "source": [
    "def hello(first, last):\n",
    "    print(f'Hello, {first} {last}!')"
   ]
  },
  {
   "cell_type": "code",
   "execution_count": 26,
   "id": "1f30f57e",
   "metadata": {},
   "outputs": [
    {
     "name": "stdout",
     "output_type": "stream",
     "text": [
      "Hello, Reuven Lerner!\n"
     ]
    }
   ],
   "source": [
    "hello('Reuven', 'Lerner')"
   ]
  },
  {
   "cell_type": "code",
   "execution_count": 27,
   "id": "9f0554c6",
   "metadata": {},
   "outputs": [
    {
     "ename": "TypeError",
     "evalue": "hello() missing 1 required positional argument: 'last'",
     "output_type": "error",
     "traceback": [
      "\u001b[0;31m---------------------------------------------------------------------------\u001b[0m",
      "\u001b[0;31mTypeError\u001b[0m                                 Traceback (most recent call last)",
      "\u001b[0;32m/var/folders/rr/0mnyyv811fs5vyp22gf4fxk00000gn/T/ipykernel_80330/1732743840.py\u001b[0m in \u001b[0;36m<module>\u001b[0;34m\u001b[0m\n\u001b[1;32m      1\u001b[0m \u001b[0;31m# can I still call \"hello\" with a single argument?\u001b[0m\u001b[0;34m\u001b[0m\u001b[0;34m\u001b[0m\u001b[0m\n\u001b[1;32m      2\u001b[0m \u001b[0;34m\u001b[0m\u001b[0m\n\u001b[0;32m----> 3\u001b[0;31m \u001b[0mhello\u001b[0m\u001b[0;34m(\u001b[0m\u001b[0;34m'Reuven'\u001b[0m\u001b[0;34m)\u001b[0m\u001b[0;34m\u001b[0m\u001b[0;34m\u001b[0m\u001b[0m\n\u001b[0m",
      "\u001b[0;31mTypeError\u001b[0m: hello() missing 1 required positional argument: 'last'"
     ]
    }
   ],
   "source": [
    "# can I still call \"hello\" with a single argument?\n",
    "\n",
    "hello('Reuven')"
   ]
  },
  {
   "cell_type": "code",
   "execution_count": 28,
   "id": "bde1951c",
   "metadata": {},
   "outputs": [
    {
     "name": "stdout",
     "output_type": "stream",
     "text": [
      "Hello, Reuven Lerner!\n"
     ]
    }
   ],
   "source": [
    "# parameters:  first   last\n",
    "# arguments:  'Reuven'  'Lerner'\n",
    "\n",
    "hello('Reuven', 'Lerner')   # positional arguments -- they're assigned to parameters based on their POSITIONS"
   ]
  },
  {
   "cell_type": "code",
   "execution_count": 31,
   "id": "f6a449c3",
   "metadata": {},
   "outputs": [],
   "source": [
    "def calc(first, op, second):   # parameters are local variables -- their values don't affect the outside world\n",
    "    if op == '+':\n",
    "        result = first + second\n",
    "    elif op == '-':\n",
    "        result = first - second\n",
    "    else:\n",
    "        result = f'Invalid operator {op}'\n",
    "        \n",
    "    print(f'{first} {op} {second} = {result}')"
   ]
  },
  {
   "cell_type": "code",
   "execution_count": 30,
   "id": "bf3aaf52",
   "metadata": {},
   "outputs": [
    {
     "name": "stdout",
     "output_type": "stream",
     "text": [
      "10 + 3 = 13\n"
     ]
    }
   ],
   "source": [
    "calc(10, '+', 3)"
   ]
  },
  {
   "cell_type": "markdown",
   "id": "1368c34f",
   "metadata": {},
   "source": [
    "# Exercise: `mysum`\n",
    "\n",
    "1. Python comes with a builtin function called `sum`, which takes a list (or set, or tuple) of numbers, and returns its sum. We're going to write a similar function, called `mysum`, which will *print* the sum of numbers passed to it.\n",
    "2. Don't use `sum` to implement `mysum`.\n",
    "3. Your function should take a single argument, an iterable (probably a list) of numbers. Add them, and print the result.\n",
    "\n",
    "```python\n",
    "mysum([10, 20, 30])   # this will print 60\n",
    "```\n",
    "\n"
   ]
  },
  {
   "cell_type": "code",
   "execution_count": 32,
   "id": "91728e70",
   "metadata": {},
   "outputs": [],
   "source": [
    "def mysum(numbers):    # numbers should be a list/tuple of integers\n",
    "    total = 0\n",
    "    for one_number in numbers:   # iterate over every integer in numbers\n",
    "        total += one_number      # add one_number to total\n",
    "    print(total)"
   ]
  },
  {
   "cell_type": "code",
   "execution_count": 33,
   "id": "c7eb11ff",
   "metadata": {},
   "outputs": [
    {
     "name": "stdout",
     "output_type": "stream",
     "text": [
      "60\n"
     ]
    }
   ],
   "source": [
    "mysum([10, 20, 30])"
   ]
  },
  {
   "cell_type": "code",
   "execution_count": 34,
   "id": "9bbadc59",
   "metadata": {},
   "outputs": [
    {
     "ename": "TypeError",
     "evalue": "unsupported operand type(s) for +=: 'int' and 'str'",
     "output_type": "error",
     "traceback": [
      "\u001b[0;31m---------------------------------------------------------------------------\u001b[0m",
      "\u001b[0;31mTypeError\u001b[0m                                 Traceback (most recent call last)",
      "\u001b[0;32m/var/folders/rr/0mnyyv811fs5vyp22gf4fxk00000gn/T/ipykernel_80330/3412263597.py\u001b[0m in \u001b[0;36m<module>\u001b[0;34m\u001b[0m\n\u001b[0;32m----> 1\u001b[0;31m \u001b[0mmysum\u001b[0m\u001b[0;34m(\u001b[0m\u001b[0;34m[\u001b[0m\u001b[0;36m10\u001b[0m\u001b[0;34m,\u001b[0m \u001b[0;36m20\u001b[0m\u001b[0;34m,\u001b[0m \u001b[0;34m'a'\u001b[0m\u001b[0;34m,\u001b[0m \u001b[0;36m30\u001b[0m\u001b[0;34m]\u001b[0m\u001b[0;34m)\u001b[0m\u001b[0;34m\u001b[0m\u001b[0;34m\u001b[0m\u001b[0m\n\u001b[0m",
      "\u001b[0;32m/var/folders/rr/0mnyyv811fs5vyp22gf4fxk00000gn/T/ipykernel_80330/1112836097.py\u001b[0m in \u001b[0;36mmysum\u001b[0;34m(numbers)\u001b[0m\n\u001b[1;32m      2\u001b[0m     \u001b[0mtotal\u001b[0m \u001b[0;34m=\u001b[0m \u001b[0;36m0\u001b[0m\u001b[0;34m\u001b[0m\u001b[0;34m\u001b[0m\u001b[0m\n\u001b[1;32m      3\u001b[0m     \u001b[0;32mfor\u001b[0m \u001b[0mone_number\u001b[0m \u001b[0;32min\u001b[0m \u001b[0mnumbers\u001b[0m\u001b[0;34m:\u001b[0m   \u001b[0;31m# iterate over every integer in numbers\u001b[0m\u001b[0;34m\u001b[0m\u001b[0;34m\u001b[0m\u001b[0m\n\u001b[0;32m----> 4\u001b[0;31m         \u001b[0mtotal\u001b[0m \u001b[0;34m+=\u001b[0m \u001b[0mone_number\u001b[0m      \u001b[0;31m# add one_number to total\u001b[0m\u001b[0;34m\u001b[0m\u001b[0;34m\u001b[0m\u001b[0m\n\u001b[0m\u001b[1;32m      5\u001b[0m     \u001b[0mprint\u001b[0m\u001b[0;34m(\u001b[0m\u001b[0mtotal\u001b[0m\u001b[0;34m)\u001b[0m\u001b[0;34m\u001b[0m\u001b[0;34m\u001b[0m\u001b[0m\n",
      "\u001b[0;31mTypeError\u001b[0m: unsupported operand type(s) for +=: 'int' and 'str'"
     ]
    }
   ],
   "source": [
    "mysum([10, 20, 'a', 30])"
   ]
  },
  {
   "cell_type": "code",
   "execution_count": 35,
   "id": "b8b8de89",
   "metadata": {},
   "outputs": [
    {
     "ename": "TypeError",
     "evalue": "unsupported operand type(s) for +: 'int' and 'str'",
     "output_type": "error",
     "traceback": [
      "\u001b[0;31m---------------------------------------------------------------------------\u001b[0m",
      "\u001b[0;31mTypeError\u001b[0m                                 Traceback (most recent call last)",
      "\u001b[0;32m/var/folders/rr/0mnyyv811fs5vyp22gf4fxk00000gn/T/ipykernel_80330/964805911.py\u001b[0m in \u001b[0;36m<module>\u001b[0;34m\u001b[0m\n\u001b[0;32m----> 1\u001b[0;31m \u001b[0msum\u001b[0m\u001b[0;34m(\u001b[0m\u001b[0;34m[\u001b[0m\u001b[0;36m10\u001b[0m\u001b[0;34m,\u001b[0m \u001b[0;36m20\u001b[0m\u001b[0;34m,\u001b[0m \u001b[0;34m'a'\u001b[0m\u001b[0;34m,\u001b[0m \u001b[0;36m30\u001b[0m\u001b[0;34m]\u001b[0m\u001b[0;34m)\u001b[0m\u001b[0;34m\u001b[0m\u001b[0;34m\u001b[0m\u001b[0m\n\u001b[0m",
      "\u001b[0;31mTypeError\u001b[0m: unsupported operand type(s) for +: 'int' and 'str'"
     ]
    }
   ],
   "source": [
    "sum([10, 20, 'a', 30])"
   ]
  },
  {
   "cell_type": "markdown",
   "id": "01fcce00",
   "metadata": {},
   "source": [
    "# Positional vs. keyword arguments\n",
    "\n",
    "How does Python assign arguments to parameters?  It has two techniques:\n",
    "\n",
    "- One, which we've already seen, is *positional arguments*, where the arguments are assigned to parameters based on their positions.\n",
    "- The second is *keyword arguments*, where we specify which parameter should get which argument."
   ]
  },
  {
   "cell_type": "code",
   "execution_count": 36,
   "id": "c3798af7",
   "metadata": {},
   "outputs": [],
   "source": [
    "def hello(first, last):\n",
    "    print(f'Hello, {first} {last}!')"
   ]
  },
  {
   "cell_type": "code",
   "execution_count": 37,
   "id": "2e1a2410",
   "metadata": {},
   "outputs": [
    {
     "name": "stdout",
     "output_type": "stream",
     "text": [
      "Hello, Reuven Lerner!\n"
     ]
    }
   ],
   "source": [
    "# parameters: first       last\n",
    "# arguments:  'Reuven'  'Lerner'\n",
    "\n",
    "hello('Reuven', 'Lerner')  # these are positional arguments... because they just are values"
   ]
  },
  {
   "cell_type": "code",
   "execution_count": 38,
   "id": "8e36508d",
   "metadata": {},
   "outputs": [
    {
     "name": "stdout",
     "output_type": "stream",
     "text": [
      "Hello, Reuven Lerner!\n"
     ]
    }
   ],
   "source": [
    "# now let's use keyword arguments!\n",
    "\n",
    "# parameters: first       last\n",
    "# arguments:  'Reuven'   'Lerner'\n",
    "\n",
    "hello(first='Reuven', last='Lerner')  # you can tell these are keyword arguments, because they\n",
    "                                      #  name=value.  If there's an =, then they are keyword arguments."
   ]
  },
  {
   "cell_type": "code",
   "execution_count": 40,
   "id": "9648c21a",
   "metadata": {},
   "outputs": [
    {
     "name": "stdout",
     "output_type": "stream",
     "text": [
      "Hello, Reuven Lerner!\n"
     ]
    }
   ],
   "source": [
    "# parameters: first       last\n",
    "# arguments:   'Reuven'  'Lerner'\n",
    "\n",
    "hello(last='Lerner', first='Reuven') "
   ]
  },
  {
   "cell_type": "code",
   "execution_count": null,
   "id": "70d4bf7f",
   "metadata": {},
   "outputs": [],
   "source": []
  }
 ],
 "metadata": {
  "kernelspec": {
   "display_name": "Python 3 (ipykernel)",
   "language": "python",
   "name": "python3"
  },
  "language_info": {
   "codemirror_mode": {
    "name": "ipython",
    "version": 3
   },
   "file_extension": ".py",
   "mimetype": "text/x-python",
   "name": "python",
   "nbconvert_exporter": "python",
   "pygments_lexer": "ipython3",
   "version": "3.10.5"
  }
 },
 "nbformat": 4,
 "nbformat_minor": 5
}
