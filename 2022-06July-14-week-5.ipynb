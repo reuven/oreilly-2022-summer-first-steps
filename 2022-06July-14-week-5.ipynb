{
 "cells": [
  {
   "cell_type": "markdown",
   "id": "ff98a6bc",
   "metadata": {},
   "source": [
    "# Agenda, Week 5: Modules and packages\n",
    "\n",
    "- Review of the challenge\n",
    "- Q&A\n",
    "- Modules\n",
    "    - What are modules?\n",
    "    - What do modules contain?\n",
    "    - `import` and modules\n",
    "- Writing a module\n",
    "    - Creating a module file\n",
    "    - Loading that module\n",
    "- Modules vs. packages\n",
    "- PyPI (Python Package Index)\n",
    "    - What is it?\n",
    "    - Downloading things with `pip`\n",
    "    - Deciding what modules you want to use (and don't want to use)\n",
    "- `pip` and installing packages from PyPI\n",
    "- Final questions\n",
    "- Where do you go from here?\n",
    "    - What can you do with the information from this course?\n",
    "    - What can/should you do to improve your Python further?"
   ]
  },
  {
   "cell_type": "markdown",
   "id": "f5d501dc",
   "metadata": {},
   "source": [
    "# Review of the challenge"
   ]
  },
  {
   "cell_type": "code",
   "execution_count": 13,
   "id": "56450b98",
   "metadata": {},
   "outputs": [
    {
     "name": "stdout",
     "output_type": "stream",
     "text": [
      "67.218.116.165:2\n",
      "66.249.71.65:3\n",
      "65.55.106.183:2\n",
      "66.249.65.12:32\n",
      "65.55.106.131:2\n",
      "65.55.106.186:2\n",
      "74.52.245.146:2\n",
      "66.249.65.43:3\n",
      "65.55.207.25:2\n",
      "65.55.207.94:2\n",
      "65.55.207.71:1\n",
      "98.242.170.241:1\n",
      "66.249.65.38:100\n",
      "65.55.207.126:2\n",
      "82.34.9.20:2\n",
      "65.55.106.155:2\n",
      "65.55.207.77:2\n",
      "208.80.193.28:1\n",
      "89.248.172.58:22\n",
      "67.195.112.35:16\n",
      "65.55.207.50:3\n",
      "65.55.215.75:2\n"
     ]
    }
   ],
   "source": [
    "def count_ips(filename):\n",
    "    output = {}\n",
    "\n",
    "    for one_line in open(filename):\n",
    "        ip_address = one_line.split()[0]\n",
    "\n",
    "        # if we have seen this IP address before,\n",
    "        # just increment its value by 1\n",
    "        if ip_address in output:\n",
    "            output[ip_address] += 1\n",
    "\n",
    "        # if this is the first time we're seeing ip_address,\n",
    "        # add it to the dict with a value of 1\n",
    "        else:\n",
    "            output[ip_address] = 1\n",
    "\n",
    "\n",
    "    return output\n",
    "\n",
    "ip_address_counts = count_ips('mini-access-log.txt')\n",
    "\n",
    "for key, value in ip_address_counts.items():\n",
    "    print(f'{key}:{value}')"
   ]
  },
  {
   "cell_type": "markdown",
   "id": "dbfa9af1",
   "metadata": {},
   "source": [
    "# How to sort anything, my talk from Euro Python 2021\n",
    "\n",
    "https://www.youtube.com/watch?v=Z3c2LvEJeu0"
   ]
  },
  {
   "cell_type": "code",
   "execution_count": 4,
   "id": "6dc5f05e",
   "metadata": {},
   "outputs": [
    {
     "data": {
      "text/plain": [
       "['abcde', 'fg', 'hijk', 'lmnop', 'qr']"
      ]
     },
     "execution_count": 4,
     "metadata": {},
     "output_type": "execute_result"
    }
   ],
   "source": [
    "s = 'abcde fg hijk lmnop qr'\n",
    "\n",
    "# If I run str.split() on this string, I'll get back a new list of strings\n",
    "\n",
    "s.split()  # any whitespace (space, \\n, \\t, \\r, \\v), any combination, any length"
   ]
  },
  {
   "cell_type": "code",
   "execution_count": 5,
   "id": "ddabc959",
   "metadata": {},
   "outputs": [
    {
     "data": {
      "text/plain": [
       "'abcde fg hijk lmnop qr'"
      ]
     },
     "execution_count": 5,
     "metadata": {},
     "output_type": "execute_result"
    }
   ],
   "source": [
    "# s hasn't changed at all!\n",
    "s"
   ]
  },
  {
   "cell_type": "code",
   "execution_count": 7,
   "id": "2b09d7cb",
   "metadata": {},
   "outputs": [
    {
     "data": {
      "text/plain": [
       "['abcde', 'fg', 'hijk', 'lmnop', 'qr']"
      ]
     },
     "execution_count": 7,
     "metadata": {},
     "output_type": "execute_result"
    }
   ],
   "source": [
    "s.split(' ')   # one space character at a time is our field separator"
   ]
  },
  {
   "cell_type": "code",
   "execution_count": 8,
   "id": "32806e53",
   "metadata": {},
   "outputs": [],
   "source": [
    "s = 'abcde   fg  hijk  lmnop    qr'"
   ]
  },
  {
   "cell_type": "code",
   "execution_count": 9,
   "id": "033dd05f",
   "metadata": {},
   "outputs": [
    {
     "data": {
      "text/plain": [
       "['abcde', 'fg', 'hijk', 'lmnop', 'qr']"
      ]
     },
     "execution_count": 9,
     "metadata": {},
     "output_type": "execute_result"
    }
   ],
   "source": [
    "s.split()  "
   ]
  },
  {
   "cell_type": "code",
   "execution_count": 10,
   "id": "858b992e",
   "metadata": {},
   "outputs": [
    {
     "data": {
      "text/plain": [
       "['abcde', '', '', 'fg', '', 'hijk', '', 'lmnop', '', '', '', 'qr']"
      ]
     },
     "execution_count": 10,
     "metadata": {},
     "output_type": "execute_result"
    }
   ],
   "source": [
    "s.split(' ')"
   ]
  },
  {
   "cell_type": "code",
   "execution_count": 11,
   "id": "715ec2eb",
   "metadata": {},
   "outputs": [
    {
     "data": {
      "text/plain": [
       "'abcde'"
      ]
     },
     "execution_count": 11,
     "metadata": {},
     "output_type": "execute_result"
    }
   ],
   "source": [
    "s.split()[0]   # get a new list based on s, then return the item at index 0 from that list"
   ]
  },
  {
   "cell_type": "code",
   "execution_count": 12,
   "id": "b1dec6c9",
   "metadata": {},
   "outputs": [
    {
     "ename": "NameError",
     "evalue": "name 'one_line' is not defined",
     "output_type": "error",
     "traceback": [
      "\u001b[0;31m---------------------------------------------------------------------------\u001b[0m",
      "\u001b[0;31mNameError\u001b[0m                                 Traceback (most recent call last)",
      "Input \u001b[0;32mIn [12]\u001b[0m, in \u001b[0;36m<cell line: 1>\u001b[0;34m()\u001b[0m\n\u001b[0;32m----> 1\u001b[0m \u001b[43mone_line\u001b[49m\n",
      "\u001b[0;31mNameError\u001b[0m: name 'one_line' is not defined"
     ]
    }
   ],
   "source": [
    "one_line"
   ]
  },
  {
   "cell_type": "code",
   "execution_count": 15,
   "id": "65f3cf2a",
   "metadata": {},
   "outputs": [
    {
     "name": "stdout",
     "output_type": "stream",
     "text": [
      "67.218.116.165\n",
      "66.249.71.65\n",
      "65.55.106.183\n",
      "65.55.106.183\n",
      "66.249.71.65\n",
      "66.249.71.65\n",
      "66.249.65.12\n",
      "66.249.65.12\n",
      "66.249.65.12\n",
      "66.249.65.12\n",
      "66.249.65.12\n",
      "65.55.106.131\n",
      "65.55.106.131\n",
      "66.249.65.12\n",
      "66.249.65.12\n",
      "66.249.65.12\n",
      "66.249.65.12\n",
      "66.249.65.12\n",
      "66.249.65.12\n",
      "66.249.65.12\n",
      "65.55.106.186\n",
      "65.55.106.186\n",
      "66.249.65.12\n",
      "66.249.65.12\n",
      "66.249.65.12\n",
      "74.52.245.146\n",
      "74.52.245.146\n",
      "66.249.65.43\n",
      "66.249.65.43\n",
      "66.249.65.43\n",
      "66.249.65.12\n",
      "66.249.65.12\n",
      "66.249.65.12\n",
      "66.249.65.12\n",
      "66.249.65.12\n",
      "66.249.65.12\n",
      "65.55.207.25\n",
      "65.55.207.25\n",
      "66.249.65.12\n",
      "66.249.65.12\n",
      "66.249.65.12\n",
      "66.249.65.12\n",
      "66.249.65.12\n",
      "66.249.65.12\n",
      "66.249.65.12\n",
      "65.55.207.94\n",
      "65.55.207.94\n",
      "66.249.65.12\n",
      "65.55.207.71\n",
      "66.249.65.12\n",
      "66.249.65.12\n",
      "66.249.65.12\n",
      "98.242.170.241\n",
      "66.249.65.38\n",
      "66.249.65.38\n",
      "66.249.65.38\n",
      "66.249.65.38\n",
      "66.249.65.38\n",
      "66.249.65.38\n",
      "66.249.65.38\n",
      "66.249.65.38\n",
      "66.249.65.38\n",
      "66.249.65.38\n",
      "66.249.65.38\n",
      "66.249.65.38\n",
      "66.249.65.38\n",
      "66.249.65.38\n",
      "66.249.65.38\n",
      "66.249.65.38\n",
      "66.249.65.38\n",
      "66.249.65.38\n",
      "66.249.65.38\n",
      "66.249.65.38\n",
      "66.249.65.38\n",
      "66.249.65.38\n",
      "66.249.65.38\n",
      "66.249.65.38\n",
      "66.249.65.38\n",
      "66.249.65.38\n",
      "65.55.207.126\n",
      "65.55.207.126\n",
      "66.249.65.38\n",
      "66.249.65.38\n",
      "66.249.65.38\n",
      "66.249.65.38\n",
      "82.34.9.20\n",
      "82.34.9.20\n",
      "66.249.65.38\n",
      "66.249.65.38\n",
      "66.249.65.38\n",
      "66.249.65.38\n",
      "66.249.65.38\n",
      "66.249.65.38\n",
      "66.249.65.38\n",
      "66.249.65.38\n",
      "66.249.65.38\n",
      "65.55.106.155\n",
      "65.55.106.155\n",
      "66.249.65.38\n",
      "66.249.65.38\n",
      "66.249.65.38\n",
      "66.249.65.38\n",
      "66.249.65.38\n",
      "65.55.207.77\n",
      "65.55.207.77\n",
      "66.249.65.38\n",
      "67.218.116.165\n",
      "66.249.65.38\n",
      "208.80.193.28\n",
      "66.249.65.38\n",
      "66.249.65.38\n",
      "66.249.65.38\n",
      "66.249.65.38\n",
      "66.249.65.38\n",
      "66.249.65.38\n",
      "66.249.65.38\n",
      "66.249.65.38\n",
      "66.249.65.38\n",
      "89.248.172.58\n",
      "89.248.172.58\n",
      "89.248.172.58\n",
      "89.248.172.58\n",
      "89.248.172.58\n",
      "89.248.172.58\n",
      "89.248.172.58\n",
      "89.248.172.58\n",
      "89.248.172.58\n",
      "89.248.172.58\n",
      "89.248.172.58\n",
      "89.248.172.58\n",
      "89.248.172.58\n",
      "89.248.172.58\n",
      "89.248.172.58\n",
      "89.248.172.58\n",
      "89.248.172.58\n",
      "89.248.172.58\n",
      "89.248.172.58\n",
      "89.248.172.58\n",
      "89.248.172.58\n",
      "89.248.172.58\n",
      "66.249.65.38\n",
      "66.249.65.38\n",
      "66.249.65.38\n",
      "66.249.65.38\n",
      "66.249.65.38\n",
      "66.249.65.38\n",
      "66.249.65.38\n",
      "66.249.65.38\n",
      "66.249.65.38\n",
      "66.249.65.38\n",
      "66.249.65.38\n",
      "66.249.65.38\n",
      "66.249.65.38\n",
      "66.249.65.38\n",
      "66.249.65.38\n",
      "66.249.65.38\n",
      "66.249.65.38\n",
      "66.249.65.38\n",
      "66.249.65.38\n",
      "66.249.65.38\n",
      "66.249.65.38\n",
      "66.249.65.38\n",
      "66.249.65.38\n",
      "66.249.65.38\n",
      "66.249.65.38\n",
      "66.249.65.38\n",
      "66.249.65.38\n",
      "66.249.65.38\n",
      "66.249.65.38\n",
      "67.195.112.35\n",
      "67.195.112.35\n",
      "67.195.112.35\n",
      "67.195.112.35\n",
      "67.195.112.35\n",
      "67.195.112.35\n",
      "67.195.112.35\n",
      "67.195.112.35\n",
      "67.195.112.35\n",
      "67.195.112.35\n",
      "67.195.112.35\n",
      "67.195.112.35\n",
      "67.195.112.35\n",
      "67.195.112.35\n",
      "67.195.112.35\n",
      "67.195.112.35\n",
      "66.249.65.38\n",
      "65.55.207.50\n",
      "65.55.207.50\n",
      "65.55.207.50\n",
      "66.249.65.38\n",
      "66.249.65.38\n",
      "66.249.65.38\n",
      "66.249.65.38\n",
      "66.249.65.38\n",
      "66.249.65.38\n",
      "65.55.215.75\n",
      "65.55.215.75\n",
      "66.249.65.38\n",
      "66.249.65.38\n",
      "66.249.65.38\n",
      "66.249.65.38\n",
      "66.249.65.38\n",
      "66.249.65.38\n",
      "66.249.65.38\n",
      "66.249.65.38\n",
      "66.249.65.38\n"
     ]
    }
   ],
   "source": [
    "counts = {}\n",
    "\n",
    "for one_line in open('mini-access-log.txt'):\n",
    "    ip_address - one_line.split()[0]   # grab the IP address, the item at index 0 in each line's list\n",
    "    counts[ip_address] += 1"
   ]
  },
  {
   "cell_type": "markdown",
   "id": "ee76fb2e",
   "metadata": {},
   "source": [
    "# DRY -- don't repeat yourself\n",
    "\n",
    "1. If you have the same line repeated multiple times, then you should use a loop.\n",
    "2. If you have the same code several times in the same program, then you should use a function.\n",
    "3. If you have the same code several times across *multiple* programs, then you should use a *library*. In Python, our libraries are called \"modules.\""
   ]
  },
  {
   "cell_type": "markdown",
   "id": "483ceb30",
   "metadata": {},
   "source": [
    "# Modules in Python do two things\n",
    "\n",
    "1. They are our libraries, allowing us to reuse code and thus write more maintainable software.\n",
    "2. They are our namespaces.  A \"namespace\" ensures that two parts of a program don't have the same variable name, and thus collide.  When they do, it's called a \"namespace collision.\"\n",
    "\n",
    "Let's say that I write part of a program, and call my variable `x`.  Let's say that you are collaborating with me, and by a strange freaky accident, you also call your variable `x`.  If we combine our two programs together, what will happen?\n",
    "\n",
    "In Python? The answer is that there likely won't be a problem, because each separate module is its own namespace. Meaning that each file we work with, each module we work with, has its own, separate set of variables.\n",
    "\n",
    "My module's `x` is distinct from your module's `x`.  And thus we don't have to worry about collisions."
   ]
  },
  {
   "cell_type": "markdown",
   "id": "aa7c5524",
   "metadata": {},
   "source": [
    "# To use a module, use the `import` statement\n",
    "\n",
    "Notice a few things about `import`:\n",
    "\n",
    "1. It's not a function. Don't use ().\n",
    "2. The name that comes after the `import` statement is the name of the module variable you want to create.  It's not a string. It's not a filename.\n",
    "3. After running `import`, the module is loaded into memory, and you can use the named module."
   ]
  },
  {
   "cell_type": "code",
   "execution_count": 16,
   "id": "692a0f49",
   "metadata": {},
   "outputs": [],
   "source": [
    "import random"
   ]
  },
  {
   "cell_type": "code",
   "execution_count": 17,
   "id": "5158ef70",
   "metadata": {},
   "outputs": [
    {
     "data": {
      "text/plain": [
       "module"
      ]
     },
     "execution_count": 17,
     "metadata": {},
     "output_type": "execute_result"
    }
   ],
   "source": [
    "# what is the value of \"random\"?\n",
    "type(random)"
   ]
  },
  {
   "cell_type": "code",
   "execution_count": 22,
   "id": "1885cc74",
   "metadata": {},
   "outputs": [
    {
     "data": {
      "text/plain": [
       "32"
      ]
     },
     "execution_count": 22,
     "metadata": {},
     "output_type": "execute_result"
    }
   ],
   "source": [
    "random.randint(0, 100)   # we'll call the randint function in the random module, passing (0, 100)"
   ]
  },
  {
   "cell_type": "code",
   "execution_count": 23,
   "id": "d6b1825e",
   "metadata": {},
   "outputs": [
    {
     "data": {
      "text/plain": [
       "['BPF',\n",
       " 'LOG4',\n",
       " 'NV_MAGICCONST',\n",
       " 'RECIP_BPF',\n",
       " 'Random',\n",
       " 'SG_MAGICCONST',\n",
       " 'SystemRandom',\n",
       " 'TWOPI',\n",
       " '_ONE',\n",
       " '_Sequence',\n",
       " '_Set',\n",
       " '__all__',\n",
       " '__builtins__',\n",
       " '__cached__',\n",
       " '__doc__',\n",
       " '__file__',\n",
       " '__loader__',\n",
       " '__name__',\n",
       " '__package__',\n",
       " '__spec__',\n",
       " '_accumulate',\n",
       " '_acos',\n",
       " '_bisect',\n",
       " '_ceil',\n",
       " '_cos',\n",
       " '_e',\n",
       " '_exp',\n",
       " '_floor',\n",
       " '_index',\n",
       " '_inst',\n",
       " '_isfinite',\n",
       " '_log',\n",
       " '_os',\n",
       " '_pi',\n",
       " '_random',\n",
       " '_repeat',\n",
       " '_sha512',\n",
       " '_sin',\n",
       " '_sqrt',\n",
       " '_test',\n",
       " '_test_generator',\n",
       " '_urandom',\n",
       " '_warn',\n",
       " 'betavariate',\n",
       " 'choice',\n",
       " 'choices',\n",
       " 'expovariate',\n",
       " 'gammavariate',\n",
       " 'gauss',\n",
       " 'getrandbits',\n",
       " 'getstate',\n",
       " 'lognormvariate',\n",
       " 'normalvariate',\n",
       " 'paretovariate',\n",
       " 'randbytes',\n",
       " 'randint',\n",
       " 'random',\n",
       " 'randrange',\n",
       " 'sample',\n",
       " 'seed',\n",
       " 'setstate',\n",
       " 'shuffle',\n",
       " 'triangular',\n",
       " 'uniform',\n",
       " 'vonmisesvariate',\n",
       " 'weibullvariate']"
      ]
     },
     "execution_count": 23,
     "metadata": {},
     "output_type": "execute_result"
    }
   ],
   "source": [
    "# what other methods (and data) are available to us via the module?\n",
    "\n",
    "# option 1: use \"dir\" on the module object, and find what attributes it defines\n",
    "dir(random)"
   ]
  },
  {
   "cell_type": "code",
   "execution_count": 24,
   "id": "561b1131",
   "metadata": {},
   "outputs": [
    {
     "ename": "AttributeError",
     "evalue": "module 'random' has no attribute 'g'",
     "output_type": "error",
     "traceback": [
      "\u001b[0;31m---------------------------------------------------------------------------\u001b[0m",
      "\u001b[0;31mAttributeError\u001b[0m                            Traceback (most recent call last)",
      "Input \u001b[0;32mIn [24]\u001b[0m, in \u001b[0;36m<cell line: 2>\u001b[0;34m()\u001b[0m\n\u001b[1;32m      1\u001b[0m \u001b[38;5;66;03m# option 2: in Jupyter, type the module name, ., then tab to expand\u001b[39;00m\n\u001b[0;32m----> 2\u001b[0m \u001b[43mrandom\u001b[49m\u001b[38;5;241;43m.\u001b[39;49m\u001b[43mg\u001b[49m\n",
      "\u001b[0;31mAttributeError\u001b[0m: module 'random' has no attribute 'g'"
     ]
    }
   ],
   "source": [
    "# option 2: in Jupyter, type the module name, ., then tab to expand\n",
    "random.g"
   ]
  },
  {
   "cell_type": "markdown",
   "id": "2fc64ef2",
   "metadata": {},
   "source": [
    "# Exercise: Count lowercase letters\n",
    "\n",
    "1. The `string` module contains an attribute named `ascii_lowercase`.\n",
    "2. Ask the user, repeatedly, to enter a string.\n",
    "    - If the user enters the empty string, then stop asking, and exit from the loop.\n",
    "3. If the user enters a non-empty string, count how many of these characters are lowercase.  I want you to iterate over each character of each line, checking to see if it's in `string.ascii_lowercase`\n",
    "4. Print the number of lowercase letters in the user's string."
   ]
  },
  {
   "cell_type": "code",
   "execution_count": 25,
   "id": "8a5666e2",
   "metadata": {},
   "outputs": [
    {
     "name": "stdout",
     "output_type": "stream",
     "text": [
      "Enter a string: hello\n",
      "There are 5 lowercase letters in hello.\n",
      "Enter a string: Hello\n",
      "There are 4 lowercase letters in Hello.\n",
      "Enter a string: h e l l o !\n",
      "There are 5 lowercase letters in h e l l o !.\n",
      "Enter a string: HELLO\n",
      "There are 0 lowercase letters in HELLO.\n",
      "Enter a string: \n"
     ]
    }
   ],
   "source": [
    "import string\n",
    "\n",
    "while True:\n",
    "    s = input('Enter a string: ').strip()\n",
    "    \n",
    "    if s == '':   # empty string? stop asking!\n",
    "        break\n",
    "        \n",
    "    total = 0 \n",
    "    for one_character in s:\n",
    "        if one_character in string.ascii_lowercase:\n",
    "            total += 1\n",
    "            \n",
    "    print(f'There are {total} lowercase letters in {s}.')\n",
    "        "
   ]
  },
  {
   "cell_type": "code",
   "execution_count": 27,
   "id": "5b04ca85",
   "metadata": {},
   "outputs": [
    {
     "name": "stdout",
     "output_type": "stream",
     "text": [
      "67.218.116.165:2\n",
      "66.249.71.65:3\n",
      "65.55.106.183:2\n",
      "66.249.65.12:32\n",
      "65.55.106.131:2\n",
      "65.55.106.186:2\n",
      "74.52.245.146:2\n",
      "66.249.65.43:3\n",
      "65.55.207.25:2\n",
      "65.55.207.94:2\n",
      "65.55.207.71:1\n",
      "98.242.170.241:1\n",
      "66.249.65.38:100\n",
      "65.55.207.126:2\n",
      "82.34.9.20:2\n",
      "65.55.106.155:2\n",
      "65.55.207.77:2\n",
      "208.80.193.28:1\n",
      "89.248.172.58:22\n",
      "67.195.112.35:16\n",
      "65.55.207.50:3\n",
      "65.55.215.75:2\n"
     ]
    }
   ],
   "source": [
    "# we can solve the earlier challenge in another way, too\n",
    "# we can use the collections.Counter module to count IP addresses\n",
    "\n",
    "import collections\n",
    "\n",
    "def count_ips(filename):\n",
    "    output = collections.Counter()   # create a new Counter object\n",
    "\n",
    "    for one_line in open(filename):\n",
    "        ip_address = one_line.split()[0]\n",
    "\n",
    "        output[ip_address] += 1\n",
    "\n",
    "    return output\n",
    "\n",
    "ip_address_counts = count_ips('mini-access-log.txt')\n",
    "\n",
    "for key, value in ip_address_counts.items():\n",
    "    print(f'{key}:{value}')"
   ]
  },
  {
   "cell_type": "code",
   "execution_count": null,
   "id": "76a4a051",
   "metadata": {},
   "outputs": [],
   "source": []
  }
 ],
 "metadata": {
  "kernelspec": {
   "display_name": "Python 3 (ipykernel)",
   "language": "python",
   "name": "python3"
  },
  "language_info": {
   "codemirror_mode": {
    "name": "ipython",
    "version": 3
   },
   "file_extension": ".py",
   "mimetype": "text/x-python",
   "name": "python",
   "nbconvert_exporter": "python",
   "pygments_lexer": "ipython3",
   "version": "3.10.5"
  }
 },
 "nbformat": 4,
 "nbformat_minor": 5
}
