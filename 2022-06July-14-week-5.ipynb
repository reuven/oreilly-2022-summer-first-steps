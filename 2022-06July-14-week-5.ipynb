{
 "cells": [
  {
   "cell_type": "markdown",
   "id": "2c290eb1",
   "metadata": {},
   "source": [
    "# Agenda, Week 5: Modules and packages\n",
    "\n",
    "- Review of the challenge\n",
    "- Q&A\n",
    "- Modules\n",
    "    - What are modules?\n",
    "    - What do modules contain?\n",
    "    - `import` and modules\n",
    "- Writing a module\n",
    "    - Creating a module file\n",
    "    - Loading that module\n",
    "- Modules vs. packages\n",
    "- PyPI (Python Package Index)\n",
    "    - What is it?\n",
    "    - Downloading things with `pip`\n",
    "    - Deciding what modules you want to use (and don't want to use)\n",
    "- `pip` and installing packages from PyPI\n",
    "- Final questions\n",
    "- Where do you go from here?\n",
    "    - What can you do with the information from this course?\n",
    "    - What can/should you do to improve your Python further?"
   ]
  },
  {
   "cell_type": "markdown",
   "id": "68e7c245",
   "metadata": {},
   "source": [
    "# Review of the challenge"
   ]
  },
  {
   "cell_type": "code",
   "execution_count": 2,
   "id": "0923ab25",
   "metadata": {},
   "outputs": [
    {
     "name": "stdout",
     "output_type": "stream",
     "text": [
      "{'67.218.116.165': 2, '66.249.71.65': 3, '65.55.106.183': 2, '66.249.65.12': 32, '65.55.106.131': 2, '65.55.106.186': 2, '74.52.245.146': 2, '66.249.65.43': 3, '65.55.207.25': 2, '65.55.207.94': 2, '65.55.207.71': 1, '98.242.170.241': 1, '66.249.65.38': 100, '65.55.207.126': 2, '82.34.9.20': 2, '65.55.106.155': 2, '65.55.207.77': 2, '208.80.193.28': 1, '89.248.172.58': 22, '67.195.112.35': 16, '65.55.207.50': 3, '65.55.215.75': 2}\n"
     ]
    }
   ],
   "source": [
    "def count_ips(filename):\n",
    "    output = {}\n",
    "\n",
    "    for one_line in open(filename):\n",
    "        ip_address = one_line.split()[0]\n",
    "\n",
    "        # if we have seen this IP address before,\n",
    "        # just increment its value by 1\n",
    "        if ip_address in output:\n",
    "            output[ip_address] += 1\n",
    "\n",
    "        # if this is the first time we're seeing ip_address,\n",
    "        # add it to the dict with a value of 1\n",
    "        else:\n",
    "            output[ip_address] = 1\n",
    "\n",
    "\n",
    "    return output\n",
    "\n",
    "ip_address_counts = count_ips('mini-access-log.txt')\n",
    "\n",
    "for key, value in ip_address_counts.items():\n",
    "    print(f'{key}:{valu}')\n"
   ]
  },
  {
   "cell_type": "code",
   "execution_count": null,
   "id": "d1d666d8",
   "metadata": {},
   "outputs": [],
   "source": []
  }
 ],
 "metadata": {
  "kernelspec": {
   "display_name": "Python 3 (ipykernel)",
   "language": "python",
   "name": "python3"
  },
  "language_info": {
   "codemirror_mode": {
    "name": "ipython",
    "version": 3
   },
   "file_extension": ".py",
   "mimetype": "text/x-python",
   "name": "python",
   "nbconvert_exporter": "python",
   "pygments_lexer": "ipython3",
   "version": "3.10.5"
  }
 },
 "nbformat": 4,
 "nbformat_minor": 5
}
