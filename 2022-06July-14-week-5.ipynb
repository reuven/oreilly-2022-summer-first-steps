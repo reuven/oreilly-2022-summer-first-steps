{
 "cells": [
  {
   "cell_type": "markdown",
   "id": "303fe12e",
   "metadata": {},
   "source": [
    "# Agenda, Week 5: Modules and packages\n",
    "\n",
    "- Review of the challenge\n",
    "- Q&A\n",
    "- Modules\n",
    "    - What are modules?\n",
    "    - What do modules contain?\n",
    "    - `import` and modules\n",
    "- Writing a module\n",
    "    - Creating a module file\n",
    "    - Loading that module\n",
    "- Modules vs. packages\n",
    "- Python standard library\n",
    "- PyPI (Python Package Index)\n",
    "    - What is it?\n",
    "    - Downloading things with `pip`\n",
    "    - Deciding what modules you want to use (and don't want to use)\n",
    "- `pip` and installing packages from PyPI\n",
    "- Final questions\n",
    "- Where do you go from here?\n",
    "    - What can you do with the information from this course?\n",
    "    - What can/should you do to improve your Python further?"
   ]
  },
  {
   "cell_type": "markdown",
   "id": "320c1d5f",
   "metadata": {},
   "source": [
    "# Review of the challenge"
   ]
  },
  {
   "cell_type": "code",
   "execution_count": 13,
   "id": "7b690b99",
   "metadata": {},
   "outputs": [
    {
     "name": "stdout",
     "output_type": "stream",
     "text": [
      "67.218.116.165:2\n",
      "66.249.71.65:3\n",
      "65.55.106.183:2\n",
      "66.249.65.12:32\n",
      "65.55.106.131:2\n",
      "65.55.106.186:2\n",
      "74.52.245.146:2\n",
      "66.249.65.43:3\n",
      "65.55.207.25:2\n",
      "65.55.207.94:2\n",
      "65.55.207.71:1\n",
      "98.242.170.241:1\n",
      "66.249.65.38:100\n",
      "65.55.207.126:2\n",
      "82.34.9.20:2\n",
      "65.55.106.155:2\n",
      "65.55.207.77:2\n",
      "208.80.193.28:1\n",
      "89.248.172.58:22\n",
      "67.195.112.35:16\n",
      "65.55.207.50:3\n",
      "65.55.215.75:2\n"
     ]
    }
   ],
   "source": [
    "def count_ips(filename):\n",
    "    output = {}\n",
    "\n",
    "    for one_line in open(filename):\n",
    "        ip_address = one_line.split()[0]\n",
    "\n",
    "        # if we have seen this IP address before,\n",
    "        # just increment its value by 1\n",
    "        if ip_address in output:\n",
    "            output[ip_address] += 1\n",
    "\n",
    "        # if this is the first time we're seeing ip_address,\n",
    "        # add it to the dict with a value of 1\n",
    "        else:\n",
    "            output[ip_address] = 1\n",
    "\n",
    "\n",
    "    return output\n",
    "\n",
    "ip_address_counts = count_ips('mini-access-log.txt')\n",
    "\n",
    "for key, value in ip_address_counts.items():\n",
    "    print(f'{key}:{value}')"
   ]
  },
  {
   "cell_type": "markdown",
   "id": "17a04800",
   "metadata": {},
   "source": [
    "# How to sort anything, my talk from Euro Python 2021\n",
    "\n",
    "https://www.youtube.com/watch?v=Z3c2LvEJeu0"
   ]
  },
  {
   "cell_type": "code",
   "execution_count": 4,
   "id": "d260bbc8",
   "metadata": {},
   "outputs": [
    {
     "data": {
      "text/plain": [
       "['abcde', 'fg', 'hijk', 'lmnop', 'qr']"
      ]
     },
     "execution_count": 4,
     "metadata": {},
     "output_type": "execute_result"
    }
   ],
   "source": [
    "s = 'abcde fg hijk lmnop qr'\n",
    "\n",
    "# If I run str.split() on this string, I'll get back a new list of strings\n",
    "\n",
    "s.split()  # any whitespace (space, \\n, \\t, \\r, \\v), any combination, any length"
   ]
  },
  {
   "cell_type": "code",
   "execution_count": 5,
   "id": "6f9731e1",
   "metadata": {},
   "outputs": [
    {
     "data": {
      "text/plain": [
       "'abcde fg hijk lmnop qr'"
      ]
     },
     "execution_count": 5,
     "metadata": {},
     "output_type": "execute_result"
    }
   ],
   "source": [
    "# s hasn't changed at all!\n",
    "s"
   ]
  },
  {
   "cell_type": "code",
   "execution_count": 7,
   "id": "494ad1a0",
   "metadata": {},
   "outputs": [
    {
     "data": {
      "text/plain": [
       "['abcde', 'fg', 'hijk', 'lmnop', 'qr']"
      ]
     },
     "execution_count": 7,
     "metadata": {},
     "output_type": "execute_result"
    }
   ],
   "source": [
    "s.split(' ')   # one space character at a time is our field separator"
   ]
  },
  {
   "cell_type": "code",
   "execution_count": 8,
   "id": "f2e38963",
   "metadata": {},
   "outputs": [],
   "source": [
    "s = 'abcde   fg  hijk  lmnop    qr'"
   ]
  },
  {
   "cell_type": "code",
   "execution_count": 9,
   "id": "eceac827",
   "metadata": {},
   "outputs": [
    {
     "data": {
      "text/plain": [
       "['abcde', 'fg', 'hijk', 'lmnop', 'qr']"
      ]
     },
     "execution_count": 9,
     "metadata": {},
     "output_type": "execute_result"
    }
   ],
   "source": [
    "s.split()  "
   ]
  },
  {
   "cell_type": "code",
   "execution_count": 10,
   "id": "d6d263a9",
   "metadata": {},
   "outputs": [
    {
     "data": {
      "text/plain": [
       "['abcde', '', '', 'fg', '', 'hijk', '', 'lmnop', '', '', '', 'qr']"
      ]
     },
     "execution_count": 10,
     "metadata": {},
     "output_type": "execute_result"
    }
   ],
   "source": [
    "s.split(' ')"
   ]
  },
  {
   "cell_type": "code",
   "execution_count": 11,
   "id": "c869c34b",
   "metadata": {},
   "outputs": [
    {
     "data": {
      "text/plain": [
       "'abcde'"
      ]
     },
     "execution_count": 11,
     "metadata": {},
     "output_type": "execute_result"
    }
   ],
   "source": [
    "s.split()[0]   # get a new list based on s, then return the item at index 0 from that list"
   ]
  },
  {
   "cell_type": "code",
   "execution_count": 12,
   "id": "7c1989cb",
   "metadata": {},
   "outputs": [
    {
     "ename": "NameError",
     "evalue": "name 'one_line' is not defined",
     "output_type": "error",
     "traceback": [
      "\u001b[0;31m---------------------------------------------------------------------------\u001b[0m",
      "\u001b[0;31mNameError\u001b[0m                                 Traceback (most recent call last)",
      "Input \u001b[0;32mIn [12]\u001b[0m, in \u001b[0;36m<cell line: 1>\u001b[0;34m()\u001b[0m\n\u001b[0;32m----> 1\u001b[0m \u001b[43mone_line\u001b[49m\n",
      "\u001b[0;31mNameError\u001b[0m: name 'one_line' is not defined"
     ]
    }
   ],
   "source": [
    "one_line"
   ]
  },
  {
   "cell_type": "code",
   "execution_count": 15,
   "id": "fa9950ac",
   "metadata": {},
   "outputs": [
    {
     "name": "stdout",
     "output_type": "stream",
     "text": [
      "67.218.116.165\n",
      "66.249.71.65\n",
      "65.55.106.183\n",
      "65.55.106.183\n",
      "66.249.71.65\n",
      "66.249.71.65\n",
      "66.249.65.12\n",
      "66.249.65.12\n",
      "66.249.65.12\n",
      "66.249.65.12\n",
      "66.249.65.12\n",
      "65.55.106.131\n",
      "65.55.106.131\n",
      "66.249.65.12\n",
      "66.249.65.12\n",
      "66.249.65.12\n",
      "66.249.65.12\n",
      "66.249.65.12\n",
      "66.249.65.12\n",
      "66.249.65.12\n",
      "65.55.106.186\n",
      "65.55.106.186\n",
      "66.249.65.12\n",
      "66.249.65.12\n",
      "66.249.65.12\n",
      "74.52.245.146\n",
      "74.52.245.146\n",
      "66.249.65.43\n",
      "66.249.65.43\n",
      "66.249.65.43\n",
      "66.249.65.12\n",
      "66.249.65.12\n",
      "66.249.65.12\n",
      "66.249.65.12\n",
      "66.249.65.12\n",
      "66.249.65.12\n",
      "65.55.207.25\n",
      "65.55.207.25\n",
      "66.249.65.12\n",
      "66.249.65.12\n",
      "66.249.65.12\n",
      "66.249.65.12\n",
      "66.249.65.12\n",
      "66.249.65.12\n",
      "66.249.65.12\n",
      "65.55.207.94\n",
      "65.55.207.94\n",
      "66.249.65.12\n",
      "65.55.207.71\n",
      "66.249.65.12\n",
      "66.249.65.12\n",
      "66.249.65.12\n",
      "98.242.170.241\n",
      "66.249.65.38\n",
      "66.249.65.38\n",
      "66.249.65.38\n",
      "66.249.65.38\n",
      "66.249.65.38\n",
      "66.249.65.38\n",
      "66.249.65.38\n",
      "66.249.65.38\n",
      "66.249.65.38\n",
      "66.249.65.38\n",
      "66.249.65.38\n",
      "66.249.65.38\n",
      "66.249.65.38\n",
      "66.249.65.38\n",
      "66.249.65.38\n",
      "66.249.65.38\n",
      "66.249.65.38\n",
      "66.249.65.38\n",
      "66.249.65.38\n",
      "66.249.65.38\n",
      "66.249.65.38\n",
      "66.249.65.38\n",
      "66.249.65.38\n",
      "66.249.65.38\n",
      "66.249.65.38\n",
      "66.249.65.38\n",
      "65.55.207.126\n",
      "65.55.207.126\n",
      "66.249.65.38\n",
      "66.249.65.38\n",
      "66.249.65.38\n",
      "66.249.65.38\n",
      "82.34.9.20\n",
      "82.34.9.20\n",
      "66.249.65.38\n",
      "66.249.65.38\n",
      "66.249.65.38\n",
      "66.249.65.38\n",
      "66.249.65.38\n",
      "66.249.65.38\n",
      "66.249.65.38\n",
      "66.249.65.38\n",
      "66.249.65.38\n",
      "65.55.106.155\n",
      "65.55.106.155\n",
      "66.249.65.38\n",
      "66.249.65.38\n",
      "66.249.65.38\n",
      "66.249.65.38\n",
      "66.249.65.38\n",
      "65.55.207.77\n",
      "65.55.207.77\n",
      "66.249.65.38\n",
      "67.218.116.165\n",
      "66.249.65.38\n",
      "208.80.193.28\n",
      "66.249.65.38\n",
      "66.249.65.38\n",
      "66.249.65.38\n",
      "66.249.65.38\n",
      "66.249.65.38\n",
      "66.249.65.38\n",
      "66.249.65.38\n",
      "66.249.65.38\n",
      "66.249.65.38\n",
      "89.248.172.58\n",
      "89.248.172.58\n",
      "89.248.172.58\n",
      "89.248.172.58\n",
      "89.248.172.58\n",
      "89.248.172.58\n",
      "89.248.172.58\n",
      "89.248.172.58\n",
      "89.248.172.58\n",
      "89.248.172.58\n",
      "89.248.172.58\n",
      "89.248.172.58\n",
      "89.248.172.58\n",
      "89.248.172.58\n",
      "89.248.172.58\n",
      "89.248.172.58\n",
      "89.248.172.58\n",
      "89.248.172.58\n",
      "89.248.172.58\n",
      "89.248.172.58\n",
      "89.248.172.58\n",
      "89.248.172.58\n",
      "66.249.65.38\n",
      "66.249.65.38\n",
      "66.249.65.38\n",
      "66.249.65.38\n",
      "66.249.65.38\n",
      "66.249.65.38\n",
      "66.249.65.38\n",
      "66.249.65.38\n",
      "66.249.65.38\n",
      "66.249.65.38\n",
      "66.249.65.38\n",
      "66.249.65.38\n",
      "66.249.65.38\n",
      "66.249.65.38\n",
      "66.249.65.38\n",
      "66.249.65.38\n",
      "66.249.65.38\n",
      "66.249.65.38\n",
      "66.249.65.38\n",
      "66.249.65.38\n",
      "66.249.65.38\n",
      "66.249.65.38\n",
      "66.249.65.38\n",
      "66.249.65.38\n",
      "66.249.65.38\n",
      "66.249.65.38\n",
      "66.249.65.38\n",
      "66.249.65.38\n",
      "66.249.65.38\n",
      "67.195.112.35\n",
      "67.195.112.35\n",
      "67.195.112.35\n",
      "67.195.112.35\n",
      "67.195.112.35\n",
      "67.195.112.35\n",
      "67.195.112.35\n",
      "67.195.112.35\n",
      "67.195.112.35\n",
      "67.195.112.35\n",
      "67.195.112.35\n",
      "67.195.112.35\n",
      "67.195.112.35\n",
      "67.195.112.35\n",
      "67.195.112.35\n",
      "67.195.112.35\n",
      "66.249.65.38\n",
      "65.55.207.50\n",
      "65.55.207.50\n",
      "65.55.207.50\n",
      "66.249.65.38\n",
      "66.249.65.38\n",
      "66.249.65.38\n",
      "66.249.65.38\n",
      "66.249.65.38\n",
      "66.249.65.38\n",
      "65.55.215.75\n",
      "65.55.215.75\n",
      "66.249.65.38\n",
      "66.249.65.38\n",
      "66.249.65.38\n",
      "66.249.65.38\n",
      "66.249.65.38\n",
      "66.249.65.38\n",
      "66.249.65.38\n",
      "66.249.65.38\n",
      "66.249.65.38\n"
     ]
    }
   ],
   "source": [
    "counts = {}\n",
    "\n",
    "for one_line in open('mini-access-log.txt'):\n",
    "    ip_address - one_line.split()[0]   # grab the IP address, the item at index 0 in each line's list\n",
    "    counts[ip_address] += 1"
   ]
  },
  {
   "cell_type": "markdown",
   "id": "7b3f0188",
   "metadata": {},
   "source": [
    "# DRY -- don't repeat yourself\n",
    "\n",
    "1. If you have the same line repeated multiple times, then you should use a loop.\n",
    "2. If you have the same code several times in the same program, then you should use a function.\n",
    "3. If you have the same code several times across *multiple* programs, then you should use a *library*. In Python, our libraries are called \"modules.\""
   ]
  },
  {
   "cell_type": "markdown",
   "id": "8169aeb9",
   "metadata": {},
   "source": [
    "# Modules in Python do two things\n",
    "\n",
    "1. They are our libraries, allowing us to reuse code and thus write more maintainable software.\n",
    "2. They are our namespaces.  A \"namespace\" ensures that two parts of a program don't have the same variable name, and thus collide.  When they do, it's called a \"namespace collision.\"\n",
    "\n",
    "Let's say that I write part of a program, and call my variable `x`.  Let's say that you are collaborating with me, and by a strange freaky accident, you also call your variable `x`.  If we combine our two programs together, what will happen?\n",
    "\n",
    "In Python? The answer is that there likely won't be a problem, because each separate module is its own namespace. Meaning that each file we work with, each module we work with, has its own, separate set of variables.\n",
    "\n",
    "My module's `x` is distinct from your module's `x`.  And thus we don't have to worry about collisions."
   ]
  },
  {
   "cell_type": "markdown",
   "id": "e54b5318",
   "metadata": {},
   "source": [
    "# To use a module, use the `import` statement\n",
    "\n",
    "Notice a few things about `import`:\n",
    "\n",
    "1. It's not a function. Don't use ().\n",
    "2. The name that comes after the `import` statement is the name of the module variable you want to create.  It's not a string. It's not a filename.\n",
    "3. After running `import`, the module is loaded into memory, and you can use the named module."
   ]
  },
  {
   "cell_type": "code",
   "execution_count": 16,
   "id": "fea6cd78",
   "metadata": {},
   "outputs": [],
   "source": [
    "import random"
   ]
  },
  {
   "cell_type": "code",
   "execution_count": 17,
   "id": "00f063ca",
   "metadata": {},
   "outputs": [
    {
     "data": {
      "text/plain": [
       "module"
      ]
     },
     "execution_count": 17,
     "metadata": {},
     "output_type": "execute_result"
    }
   ],
   "source": [
    "# what is the value of \"random\"?\n",
    "type(random)"
   ]
  },
  {
   "cell_type": "code",
   "execution_count": 22,
   "id": "f21085d4",
   "metadata": {},
   "outputs": [
    {
     "data": {
      "text/plain": [
       "32"
      ]
     },
     "execution_count": 22,
     "metadata": {},
     "output_type": "execute_result"
    }
   ],
   "source": [
    "random.randint(0, 100)   # we'll call the randint function in the random module, passing (0, 100)"
   ]
  },
  {
   "cell_type": "code",
   "execution_count": 23,
   "id": "b1ae7de5",
   "metadata": {},
   "outputs": [
    {
     "data": {
      "text/plain": [
       "['BPF',\n",
       " 'LOG4',\n",
       " 'NV_MAGICCONST',\n",
       " 'RECIP_BPF',\n",
       " 'Random',\n",
       " 'SG_MAGICCONST',\n",
       " 'SystemRandom',\n",
       " 'TWOPI',\n",
       " '_ONE',\n",
       " '_Sequence',\n",
       " '_Set',\n",
       " '__all__',\n",
       " '__builtins__',\n",
       " '__cached__',\n",
       " '__doc__',\n",
       " '__file__',\n",
       " '__loader__',\n",
       " '__name__',\n",
       " '__package__',\n",
       " '__spec__',\n",
       " '_accumulate',\n",
       " '_acos',\n",
       " '_bisect',\n",
       " '_ceil',\n",
       " '_cos',\n",
       " '_e',\n",
       " '_exp',\n",
       " '_floor',\n",
       " '_index',\n",
       " '_inst',\n",
       " '_isfinite',\n",
       " '_log',\n",
       " '_os',\n",
       " '_pi',\n",
       " '_random',\n",
       " '_repeat',\n",
       " '_sha512',\n",
       " '_sin',\n",
       " '_sqrt',\n",
       " '_test',\n",
       " '_test_generator',\n",
       " '_urandom',\n",
       " '_warn',\n",
       " 'betavariate',\n",
       " 'choice',\n",
       " 'choices',\n",
       " 'expovariate',\n",
       " 'gammavariate',\n",
       " 'gauss',\n",
       " 'getrandbits',\n",
       " 'getstate',\n",
       " 'lognormvariate',\n",
       " 'normalvariate',\n",
       " 'paretovariate',\n",
       " 'randbytes',\n",
       " 'randint',\n",
       " 'random',\n",
       " 'randrange',\n",
       " 'sample',\n",
       " 'seed',\n",
       " 'setstate',\n",
       " 'shuffle',\n",
       " 'triangular',\n",
       " 'uniform',\n",
       " 'vonmisesvariate',\n",
       " 'weibullvariate']"
      ]
     },
     "execution_count": 23,
     "metadata": {},
     "output_type": "execute_result"
    }
   ],
   "source": [
    "# what other methods (and data) are available to us via the module?\n",
    "\n",
    "# option 1: use \"dir\" on the module object, and find what attributes it defines\n",
    "dir(random)"
   ]
  },
  {
   "cell_type": "code",
   "execution_count": 24,
   "id": "452029a7",
   "metadata": {},
   "outputs": [
    {
     "ename": "AttributeError",
     "evalue": "module 'random' has no attribute 'g'",
     "output_type": "error",
     "traceback": [
      "\u001b[0;31m---------------------------------------------------------------------------\u001b[0m",
      "\u001b[0;31mAttributeError\u001b[0m                            Traceback (most recent call last)",
      "Input \u001b[0;32mIn [24]\u001b[0m, in \u001b[0;36m<cell line: 2>\u001b[0;34m()\u001b[0m\n\u001b[1;32m      1\u001b[0m \u001b[38;5;66;03m# option 2: in Jupyter, type the module name, ., then tab to expand\u001b[39;00m\n\u001b[0;32m----> 2\u001b[0m \u001b[43mrandom\u001b[49m\u001b[38;5;241;43m.\u001b[39;49m\u001b[43mg\u001b[49m\n",
      "\u001b[0;31mAttributeError\u001b[0m: module 'random' has no attribute 'g'"
     ]
    }
   ],
   "source": [
    "# option 2: in Jupyter, type the module name, ., then tab to expand\n",
    "random.g"
   ]
  },
  {
   "cell_type": "markdown",
   "id": "c021a41b",
   "metadata": {},
   "source": [
    "# Exercise: Count lowercase letters\n",
    "\n",
    "1. The `string` module contains an attribute named `ascii_lowercase`.\n",
    "2. Ask the user, repeatedly, to enter a string.\n",
    "    - If the user enters the empty string, then stop asking, and exit from the loop.\n",
    "3. If the user enters a non-empty string, count how many of these characters are lowercase.  I want you to iterate over each character of each line, checking to see if it's in `string.ascii_lowercase`\n",
    "4. Print the number of lowercase letters in the user's string."
   ]
  },
  {
   "cell_type": "code",
   "execution_count": 25,
   "id": "05e7c223",
   "metadata": {},
   "outputs": [
    {
     "name": "stdout",
     "output_type": "stream",
     "text": [
      "Enter a string: hello\n",
      "There are 5 lowercase letters in hello.\n",
      "Enter a string: Hello\n",
      "There are 4 lowercase letters in Hello.\n",
      "Enter a string: h e l l o !\n",
      "There are 5 lowercase letters in h e l l o !.\n",
      "Enter a string: HELLO\n",
      "There are 0 lowercase letters in HELLO.\n",
      "Enter a string: \n"
     ]
    }
   ],
   "source": [
    "import string\n",
    "\n",
    "while True:\n",
    "    s = input('Enter a string: ').strip()\n",
    "    \n",
    "    if s == '':   # empty string? stop asking!\n",
    "        break\n",
    "        \n",
    "    total = 0 \n",
    "    for one_character in s:\n",
    "        if one_character in string.ascii_lowercase:\n",
    "            total += 1\n",
    "            \n",
    "    print(f'There are {total} lowercase letters in {s}.')\n",
    "        "
   ]
  },
  {
   "cell_type": "code",
   "execution_count": 27,
   "id": "2e9c0c18",
   "metadata": {},
   "outputs": [
    {
     "name": "stdout",
     "output_type": "stream",
     "text": [
      "67.218.116.165:2\n",
      "66.249.71.65:3\n",
      "65.55.106.183:2\n",
      "66.249.65.12:32\n",
      "65.55.106.131:2\n",
      "65.55.106.186:2\n",
      "74.52.245.146:2\n",
      "66.249.65.43:3\n",
      "65.55.207.25:2\n",
      "65.55.207.94:2\n",
      "65.55.207.71:1\n",
      "98.242.170.241:1\n",
      "66.249.65.38:100\n",
      "65.55.207.126:2\n",
      "82.34.9.20:2\n",
      "65.55.106.155:2\n",
      "65.55.207.77:2\n",
      "208.80.193.28:1\n",
      "89.248.172.58:22\n",
      "67.195.112.35:16\n",
      "65.55.207.50:3\n",
      "65.55.215.75:2\n"
     ]
    }
   ],
   "source": [
    "# we can solve the earlier challenge in another way, too\n",
    "# we can use the collections.Counter module to count IP addresses\n",
    "\n",
    "import collections\n",
    "\n",
    "def count_ips(filename):\n",
    "    output = collections.Counter()   # create a new Counter object\n",
    "\n",
    "    for one_line in open(filename):\n",
    "        ip_address = one_line.split()[0]\n",
    "\n",
    "        output[ip_address] += 1\n",
    "\n",
    "    return output\n",
    "\n",
    "ip_address_counts = count_ips('mini-access-log.txt')\n",
    "\n",
    "for key, value in ip_address_counts.items():\n",
    "    print(f'{key}:{value}')"
   ]
  },
  {
   "cell_type": "code",
   "execution_count": 30,
   "id": "e4c64bca",
   "metadata": {},
   "outputs": [
    {
     "data": {
      "text/plain": [
       "[('66.249.65.38', 100),\n",
       " ('66.249.65.12', 32),\n",
       " ('89.248.172.58', 22),\n",
       " ('67.195.112.35', 16),\n",
       " ('66.249.71.65', 3),\n",
       " ('66.249.65.43', 3),\n",
       " ('65.55.207.50', 3),\n",
       " ('67.218.116.165', 2),\n",
       " ('65.55.106.183', 2),\n",
       " ('65.55.106.131', 2),\n",
       " ('65.55.106.186', 2),\n",
       " ('74.52.245.146', 2),\n",
       " ('65.55.207.25', 2),\n",
       " ('65.55.207.94', 2),\n",
       " ('65.55.207.126', 2),\n",
       " ('82.34.9.20', 2),\n",
       " ('65.55.106.155', 2),\n",
       " ('65.55.207.77', 2),\n",
       " ('65.55.215.75', 2),\n",
       " ('65.55.207.71', 1),\n",
       " ('98.242.170.241', 1),\n",
       " ('208.80.193.28', 1)]"
      ]
     },
     "execution_count": 30,
     "metadata": {},
     "output_type": "execute_result"
    }
   ],
   "source": [
    "# Counters are different in a number of ways from dicts\n",
    "# one way is that they implement the most_common method:\n",
    "\n",
    "ip_address_counts.most_common()   # sorted from most common to least common"
   ]
  },
  {
   "cell_type": "code",
   "execution_count": 31,
   "id": "1cfa15c9",
   "metadata": {
    "scrolled": true
   },
   "outputs": [
    {
     "data": {
      "text/plain": [
       "[('66.249.65.38', 100),\n",
       " ('66.249.65.12', 32),\n",
       " ('89.248.172.58', 22),\n",
       " ('67.195.112.35', 16),\n",
       " ('66.249.71.65', 3)]"
      ]
     },
     "execution_count": 31,
     "metadata": {},
     "output_type": "execute_result"
    }
   ],
   "source": [
    "ip_address_counts.most_common(5)   # show me the 5 most common IP addresses"
   ]
  },
  {
   "cell_type": "code",
   "execution_count": 33,
   "id": "badd7f20",
   "metadata": {},
   "outputs": [
    {
     "data": {
      "text/plain": [
       "dict_keys(['67.218.116.165', '66.249.71.65', '65.55.106.183', '66.249.65.12', '65.55.106.131', '65.55.106.186', '74.52.245.146', '66.249.65.43', '65.55.207.25', '65.55.207.94', '65.55.207.71', '98.242.170.241', '66.249.65.38', '65.55.207.126', '82.34.9.20', '65.55.106.155', '65.55.207.77', '208.80.193.28', '89.248.172.58', '67.195.112.35', '65.55.207.50', '65.55.215.75'])"
      ]
     },
     "execution_count": 33,
     "metadata": {},
     "output_type": "execute_result"
    }
   ],
   "source": [
    "# Counter objects are special-purpose dicts\n",
    "# anything a dict can do, they can do.  This is known as \"inheritance.\"\n",
    "\n",
    "ip_address_counts.keys()"
   ]
  },
  {
   "cell_type": "code",
   "execution_count": 34,
   "id": "70733c1a",
   "metadata": {},
   "outputs": [
    {
     "data": {
      "text/plain": [
       "dict_values([2, 3, 2, 32, 2, 2, 2, 3, 2, 2, 1, 1, 100, 2, 2, 2, 2, 1, 22, 16, 3, 2])"
      ]
     },
     "execution_count": 34,
     "metadata": {},
     "output_type": "execute_result"
    }
   ],
   "source": [
    "ip_address_counts.values()"
   ]
  },
  {
   "cell_type": "code",
   "execution_count": 35,
   "id": "e1390d0e",
   "metadata": {},
   "outputs": [
    {
     "data": {
      "text/plain": [
       "206"
      ]
     },
     "execution_count": 35,
     "metadata": {},
     "output_type": "execute_result"
    }
   ],
   "source": [
    "sum(ip_address_counts.values())"
   ]
  },
  {
   "cell_type": "markdown",
   "id": "8324e94d",
   "metadata": {},
   "source": [
    "# Next up\n",
    "\n",
    "1. Alternative forms of `import`\n",
    "2. Writing a module\n",
    "3. Modules vs. packages\n",
    "\n"
   ]
  },
  {
   "cell_type": "code",
   "execution_count": 36,
   "id": "3d90b2a3",
   "metadata": {},
   "outputs": [
    {
     "data": {
      "text/plain": [
       "9"
      ]
     },
     "execution_count": 36,
     "metadata": {},
     "output_type": "execute_result"
    }
   ],
   "source": [
    "# If I want to use random.randint, I cannot just say \"randint\"\n",
    "\n",
    "random.randint(0, 100)"
   ]
  },
  {
   "cell_type": "code",
   "execution_count": 38,
   "id": "6eeb6ec8",
   "metadata": {},
   "outputs": [
    {
     "ename": "NameError",
     "evalue": "name 'randint' is not defined",
     "output_type": "error",
     "traceback": [
      "\u001b[0;31m---------------------------------------------------------------------------\u001b[0m",
      "\u001b[0;31mNameError\u001b[0m                                 Traceback (most recent call last)",
      "Input \u001b[0;32mIn [38]\u001b[0m, in \u001b[0;36m<cell line: 1>\u001b[0;34m()\u001b[0m\n\u001b[0;32m----> 1\u001b[0m \u001b[43mrandint\u001b[49m(\u001b[38;5;241m0\u001b[39m, \u001b[38;5;241m100\u001b[39m)\n",
      "\u001b[0;31mNameError\u001b[0m: name 'randint' is not defined"
     ]
    }
   ],
   "source": [
    "randint(0, 100)   #randint doesn't exist as a variable -- it can only be named after a ."
   ]
  },
  {
   "cell_type": "code",
   "execution_count": 39,
   "id": "498f0699",
   "metadata": {},
   "outputs": [],
   "source": [
    "# we can make it possible to use \"randint\" directly as a variable, rather than\n",
    "# via \"random\", with the \"from .. import\" syntax\n",
    "\n",
    "from random import randint\n",
    "\n",
    "# this :\n",
    "# (1) imports the random module, if needed\n",
    "# (2) it defines randint as a global variable\n",
    "# (3) it does *not* define random  (but if random was previously defined, it's not erased)"
   ]
  },
  {
   "cell_type": "code",
   "execution_count": 40,
   "id": "7e96d619",
   "metadata": {},
   "outputs": [
    {
     "data": {
      "text/plain": [
       "14"
      ]
     },
     "execution_count": 40,
     "metadata": {},
     "output_type": "execute_result"
    }
   ],
   "source": [
    "randint(0, 100)"
   ]
  },
  {
   "cell_type": "code",
   "execution_count": 42,
   "id": "d3a2b3c3",
   "metadata": {},
   "outputs": [],
   "source": [
    "# if I want random and randint both to be defined (with randint being random.randint), I need\n",
    "# to execute two separate lines:\n",
    "\n",
    "import random                # this defines the \"random\" variable\n",
    "from random import randint   # this defines the \"randint\" variable"
   ]
  },
  {
   "cell_type": "code",
   "execution_count": 43,
   "id": "4ddc0578",
   "metadata": {},
   "outputs": [],
   "source": [
    "# what if I want to import a module, but I want to define a different variable name?\n",
    "# I can use the \"import .. as\" syntax\n",
    "\n",
    "import random as r    # this loads the random module, but defines the r variable to refer to it"
   ]
  },
  {
   "cell_type": "code",
   "execution_count": 44,
   "id": "dd62cf2b",
   "metadata": {},
   "outputs": [
    {
     "data": {
      "text/plain": [
       "30"
      ]
     },
     "execution_count": 44,
     "metadata": {},
     "output_type": "execute_result"
    }
   ],
   "source": [
    "r.randint(0, 100)"
   ]
  },
  {
   "cell_type": "code",
   "execution_count": 45,
   "id": "82b0031d",
   "metadata": {},
   "outputs": [],
   "source": [
    "# if I want to import a name from a module with an alias, I can do that, as well\n",
    "from random import randint as ri"
   ]
  },
  {
   "cell_type": "code",
   "execution_count": 46,
   "id": "c0f9fbeb",
   "metadata": {},
   "outputs": [
    {
     "data": {
      "text/plain": [
       "86"
      ]
     },
     "execution_count": 46,
     "metadata": {},
     "output_type": "execute_result"
    }
   ],
   "source": [
    "ri(0, 100)"
   ]
  },
  {
   "cell_type": "markdown",
   "id": "80915c89",
   "metadata": {},
   "source": [
    "# Four ways to import\n",
    "\n",
    "- `import MODNAME`\n",
    "- `import MODNAME as ALIAS`\n",
    "- `from MODNAME import NAME`\n",
    "- `from MODNAME import NAME as ALIAS`\n",
    "\n",
    "These all do the same two things:\n",
    "\n",
    "- Create a module object\n",
    "- Define a variable.  In the first two cases, the variable refers to the module object. In the second two cases, the variable refers to an attribute on that module object."
   ]
  },
  {
   "cell_type": "markdown",
   "id": "e86c7c24",
   "metadata": {},
   "source": [
    "# There is also a fifth way... which you should not use!\n",
    "\n",
    "`from MODNAME import *`\n",
    "\n",
    "Please **NEVER EVER EVER** use this!\n",
    "\n",
    "- it imports the module into memory\n",
    "- for each variable defined in the module, it defines a new global variable in your current namespace\n",
    "\n",
    "If the module defined variables, `a`, `b`, and `c`, then after running `from MODNAME import *`, you will also have variables named `a`, `b`, and `c`, all referring to the module's values of the same names.\n",
    "\n",
    "What's wrong here is that you don't know what variables will be defined, or how many there will be, or if there are clashes with variables/functions you've defined."
   ]
  },
  {
   "cell_type": "markdown",
   "id": "ef6e5ffb",
   "metadata": {},
   "source": [
    "# When I say `import`, where does Python look?\n",
    "\n",
    "The variable `sys.path` is a list of strings, indicating in which directories Python should look for module files.\n",
    "\n",
    "- If you say `import string`, then Python looks for a file called `string.py` in each directory of `sys.path`.\n",
    "- If it finds `string.py`, then that module is loaded, and Python stops looking.\n",
    "- If it doesn't find `string.py`, then it raises a `ModuleNotFoundError`."
   ]
  },
  {
   "cell_type": "code",
   "execution_count": 47,
   "id": "ad8a4ca5",
   "metadata": {},
   "outputs": [
    {
     "data": {
      "text/plain": [
       "['/Users/reuven/Courses/Current/oreilly-2022-summer-first-steps',\n",
       " '/usr/local/Cellar/python@3.10/3.10.5/Frameworks/Python.framework/Versions/3.10/lib/python310.zip',\n",
       " '/usr/local/Cellar/python@3.10/3.10.5/Frameworks/Python.framework/Versions/3.10/lib/python3.10',\n",
       " '/usr/local/Cellar/python@3.10/3.10.5/Frameworks/Python.framework/Versions/3.10/lib/python3.10/lib-dynload',\n",
       " '',\n",
       " '/usr/local/lib/python3.10/site-packages']"
      ]
     },
     "execution_count": 47,
     "metadata": {},
     "output_type": "execute_result"
    }
   ],
   "source": [
    "import sys    # create the variable that refers to this module\n",
    "\n",
    "sys.path"
   ]
  },
  {
   "cell_type": "code",
   "execution_count": 48,
   "id": "e6e52f07",
   "metadata": {},
   "outputs": [],
   "source": [
    "import random"
   ]
  },
  {
   "cell_type": "code",
   "execution_count": 49,
   "id": "37f59cbf",
   "metadata": {},
   "outputs": [
    {
     "data": {
      "text/plain": [
       "<module 'random' from '/usr/local/Cellar/python@3.10/3.10.5/Frameworks/Python.framework/Versions/3.10/lib/python3.10/random.py'>"
      ]
     },
     "execution_count": 49,
     "metadata": {},
     "output_type": "execute_result"
    }
   ],
   "source": [
    "random"
   ]
  },
  {
   "cell_type": "code",
   "execution_count": 50,
   "id": "cbbe3eee",
   "metadata": {},
   "outputs": [
    {
     "data": {
      "text/plain": [
       "<module 'string' from '/usr/local/Cellar/python@3.10/3.10.5/Frameworks/Python.framework/Versions/3.10/lib/python3.10/string.py'>"
      ]
     },
     "execution_count": 50,
     "metadata": {},
     "output_type": "execute_result"
    }
   ],
   "source": [
    "string"
   ]
  },
  {
   "cell_type": "code",
   "execution_count": 51,
   "id": "8a101c59",
   "metadata": {},
   "outputs": [
    {
     "data": {
      "text/plain": [
       "<module 'collections' from '/usr/local/Cellar/python@3.10/3.10.5/Frameworks/Python.framework/Versions/3.10/lib/python3.10/collections/__init__.py'>"
      ]
     },
     "execution_count": 51,
     "metadata": {},
     "output_type": "execute_result"
    }
   ],
   "source": [
    "collections"
   ]
  },
  {
   "cell_type": "code",
   "execution_count": 52,
   "id": "d9df1033",
   "metadata": {},
   "outputs": [
    {
     "name": "stdout",
     "output_type": "stream",
     "text": [
      "-rw-r--r-- 1 reuven staff 0 Jul 14 18:19 mymod.py\r\n"
     ]
    }
   ],
   "source": [
    "!ls -l mymod.py"
   ]
  },
  {
   "cell_type": "code",
   "execution_count": 53,
   "id": "5ca9e246",
   "metadata": {},
   "outputs": [],
   "source": [
    "# can I import this module?\n",
    "import mymod"
   ]
  },
  {
   "cell_type": "code",
   "execution_count": 54,
   "id": "4fb397ac",
   "metadata": {},
   "outputs": [
    {
     "data": {
      "text/plain": [
       "<module 'mymod' from '/Users/reuven/Courses/Current/oreilly-2022-summer-first-steps/mymod.py'>"
      ]
     },
     "execution_count": 54,
     "metadata": {},
     "output_type": "execute_result"
    }
   ],
   "source": [
    "mymod"
   ]
  },
  {
   "cell_type": "code",
   "execution_count": 55,
   "id": "7dd150e8",
   "metadata": {},
   "outputs": [
    {
     "data": {
      "text/plain": [
       "module"
      ]
     },
     "execution_count": 55,
     "metadata": {},
     "output_type": "execute_result"
    }
   ],
   "source": [
    "type(mymod)"
   ]
  },
  {
   "cell_type": "code",
   "execution_count": 58,
   "id": "54a163bb",
   "metadata": {},
   "outputs": [],
   "source": [
    "# what names are defined on this module?\n",
    "# many, even for an empty module -- the \"dunder\" names (double underscore) are defined,\n",
    "# because Python's module-loading system put them there."
   ]
  },
  {
   "cell_type": "code",
   "execution_count": 59,
   "id": "0bf2974a",
   "metadata": {},
   "outputs": [
    {
     "data": {
      "text/plain": [
       "['__builtins__',\n",
       " '__cached__',\n",
       " '__doc__',\n",
       " '__file__',\n",
       " '__loader__',\n",
       " '__name__',\n",
       " '__package__',\n",
       " '__spec__']"
      ]
     },
     "execution_count": 59,
     "metadata": {},
     "output_type": "execute_result"
    }
   ],
   "source": [
    "dir(mymod)"
   ]
  },
  {
   "cell_type": "code",
   "execution_count": 60,
   "id": "e2cae362",
   "metadata": {},
   "outputs": [
    {
     "data": {
      "text/plain": [
       "'/Users/reuven/Courses/Current/oreilly-2022-summer-first-steps/mymod.py'"
      ]
     },
     "execution_count": 60,
     "metadata": {},
     "output_type": "execute_result"
    }
   ],
   "source": [
    "mymod.__file__"
   ]
  },
  {
   "cell_type": "code",
   "execution_count": 62,
   "id": "05b83e69",
   "metadata": {},
   "outputs": [
    {
     "data": {
      "text/plain": [
       "'mymod'"
      ]
     },
     "execution_count": 62,
     "metadata": {},
     "output_type": "execute_result"
    }
   ],
   "source": [
    "mymod.__name__"
   ]
  },
  {
   "cell_type": "code",
   "execution_count": 63,
   "id": "0a9502ee",
   "metadata": {},
   "outputs": [],
   "source": [
    "# let's import the module again!\n",
    "import mymod"
   ]
  },
  {
   "cell_type": "code",
   "execution_count": 65,
   "id": "9928b92b",
   "metadata": {},
   "outputs": [
    {
     "data": {
      "text/plain": [
       "['__builtins__',\n",
       " '__cached__',\n",
       " '__doc__',\n",
       " '__file__',\n",
       " '__loader__',\n",
       " '__name__',\n",
       " '__package__',\n",
       " '__spec__']"
      ]
     },
     "execution_count": 65,
     "metadata": {},
     "output_type": "execute_result"
    }
   ],
   "source": [
    "# where are all of the names (x , y, and hello) that I just defined?\n",
    "\n",
    "dir(mymod)"
   ]
  },
  {
   "cell_type": "markdown",
   "id": "3ab5182f",
   "metadata": {},
   "source": [
    "# Python only loads modules once\n",
    "\n",
    "In a given Python session, `import` will only actually load a module the first time you ask it to do so. Every subsequent time, `import` will define the variable, but not load the module.\n",
    "\n",
    "- Solution 1: Restart Python and/or Jupyter\n",
    "- Solution 2: Load `importlib` and use `importlib.reload`\n",
    "\n",
    "`importlib` is a module (of course) that gives us access to the module-handling internals in Python."
   ]
  },
  {
   "cell_type": "code",
   "execution_count": 66,
   "id": "d4420258",
   "metadata": {},
   "outputs": [
    {
     "data": {
      "text/plain": [
       "<module 'mymod' from '/Users/reuven/Courses/Current/oreilly-2022-summer-first-steps/mymod.py'>"
      ]
     },
     "execution_count": 66,
     "metadata": {},
     "output_type": "execute_result"
    }
   ],
   "source": [
    "import importlib\n",
    "importlib.reload(mymod)  # reload the \"mymod\" module again"
   ]
  },
  {
   "cell_type": "code",
   "execution_count": 67,
   "id": "9aec2c97",
   "metadata": {},
   "outputs": [
    {
     "data": {
      "text/plain": [
       "['__builtins__',\n",
       " '__cached__',\n",
       " '__doc__',\n",
       " '__file__',\n",
       " '__loader__',\n",
       " '__name__',\n",
       " '__package__',\n",
       " '__spec__',\n",
       " 'hello',\n",
       " 'x',\n",
       " 'y']"
      ]
     },
     "execution_count": 67,
     "metadata": {},
     "output_type": "execute_result"
    }
   ],
   "source": [
    "dir(mymod)"
   ]
  },
  {
   "cell_type": "code",
   "execution_count": 68,
   "id": "86715ad8",
   "metadata": {},
   "outputs": [
    {
     "data": {
      "text/plain": [
       "100"
      ]
     },
     "execution_count": 68,
     "metadata": {},
     "output_type": "execute_result"
    }
   ],
   "source": [
    "mymod.x"
   ]
  },
  {
   "cell_type": "code",
   "execution_count": 69,
   "id": "51a2c436",
   "metadata": {},
   "outputs": [
    {
     "data": {
      "text/plain": [
       "[10, 20, 30]"
      ]
     },
     "execution_count": 69,
     "metadata": {},
     "output_type": "execute_result"
    }
   ],
   "source": [
    "mymod.y"
   ]
  },
  {
   "cell_type": "code",
   "execution_count": 70,
   "id": "4da527e4",
   "metadata": {},
   "outputs": [
    {
     "data": {
      "text/plain": [
       "'Hello, world!'"
      ]
     },
     "execution_count": 70,
     "metadata": {},
     "output_type": "execute_result"
    }
   ],
   "source": [
    "mymod.hello('world')"
   ]
  },
  {
   "cell_type": "code",
   "execution_count": 72,
   "id": "5b23152f",
   "metadata": {},
   "outputs": [
    {
     "data": {
      "text/plain": [
       "True"
      ]
     },
     "execution_count": 72,
     "metadata": {},
     "output_type": "execute_result"
    }
   ],
   "source": [
    "# every module's __builtins__ just refers to the core builtins module in every Python system\n",
    "string.__builtins__ is mymod.__builtins__"
   ]
  },
  {
   "cell_type": "markdown",
   "id": "446291a3",
   "metadata": {},
   "source": [
    "# Exercise: Writing a module\n",
    "\n",
    "1. Create a new module, `vowels.py`.\n",
    "2. In this module, write a function, `count_vowels`, which takes a string and retuns an integer.\n",
    "    - The string will be text\n",
    "    - The integer will be the number of vowels in that text.\n",
    "3. This means that your function can be accessed by `import vowels` and then running `vowels.count_vowels` on a string.\n",
    "4. From outside of the module (i.e., in Jupyter or a separate program), `import vowels` and run `vowels.count_vowels`.\n",
    "\n",
    "Reminder: `import` only works once within a given Python session for a certain module. So if you update your module, you'll need to either restart Jupyter's kernel or use `importlib.reload` to reload the module object you already created."
   ]
  },
  {
   "cell_type": "code",
   "execution_count": 73,
   "id": "eceeca91",
   "metadata": {},
   "outputs": [
    {
     "name": "stdout",
     "output_type": "stream",
     "text": [
      "Enter a string: this is a fantastic test, right?\n",
      "Your string contains 8 vowels.\n"
     ]
    }
   ],
   "source": [
    "import vowels\n",
    "\n",
    "user_string = input('Enter a string: ').strip()\n",
    "\n",
    "count = vowels.count_vowels(user_string)\n",
    "\n",
    "print(f'Your string contains {count} vowels.')"
   ]
  },
  {
   "cell_type": "code",
   "execution_count": 74,
   "id": "e9b9fbc5",
   "metadata": {},
   "outputs": [
    {
     "data": {
      "text/plain": [
       "['__builtins__',\n",
       " '__cached__',\n",
       " '__doc__',\n",
       " '__file__',\n",
       " '__loader__',\n",
       " '__name__',\n",
       " '__package__',\n",
       " '__spec__',\n",
       " 'count_vowels']"
      ]
     },
     "execution_count": 74,
     "metadata": {},
     "output_type": "execute_result"
    }
   ],
   "source": [
    "dir(vowels)"
   ]
  },
  {
   "cell_type": "markdown",
   "id": "896e51ab",
   "metadata": {},
   "source": [
    "If all global variables *inside* of my module file are then accessible as attributes on the module object (e.g., `count_vowels` is a global function in `vowels.py`, but is found as `vowels.count_vowels` when we import `vowels`), is the opposite true?\n",
    "\n",
    "For example, if `__name__` is an attribute on the module `vowels`, then is `__name__` available as a globl variable inside of our module file?"
   ]
  },
  {
   "cell_type": "code",
   "execution_count": 75,
   "id": "c2c2188d",
   "metadata": {},
   "outputs": [
    {
     "name": "stdout",
     "output_type": "stream",
     "text": [
      "Hello from mymod!\n",
      "Goodbye from mymod!\n"
     ]
    },
    {
     "data": {
      "text/plain": [
       "<module 'mymod' from '/Users/reuven/Courses/Current/oreilly-2022-summer-first-steps/mymod.py'>"
      ]
     },
     "execution_count": 75,
     "metadata": {},
     "output_type": "execute_result"
    }
   ],
   "source": [
    "importlib.reload(mymod)   # reload the mymod module, executing every line in the file"
   ]
  },
  {
   "cell_type": "code",
   "execution_count": 77,
   "id": "4f99b611",
   "metadata": {},
   "outputs": [
    {
     "name": "stdout",
     "output_type": "stream",
     "text": [
      "Hello from mymod!\n",
      "Goodbye from mymod!\n"
     ]
    },
    {
     "data": {
      "text/plain": [
       "<module 'mymod' from '/Users/reuven/Courses/Current/oreilly-2022-summer-first-steps/mymod.py'>"
      ]
     },
     "execution_count": 77,
     "metadata": {},
     "output_type": "execute_result"
    }
   ],
   "source": [
    "importlib.reload(mymod)  # here, I replaced the string 'mymod' with __name__... and it worked!"
   ]
  },
  {
   "cell_type": "markdown",
   "id": "3433d7cf",
   "metadata": {},
   "source": [
    "# The special `__name__` variable\n",
    "\n",
    "The variable `__name__` is always defined in Python. It represents the namespace in which you're currently operating.  \n",
    "\n",
    "It can either contain the string `'__main__'` or it can contain the name of the current module.\n",
    "\n",
    "1. If our module was imported, then `__name__` containd `'__main__'`.\n",
    "2. But if our module was run as a program from the command line, or is the first program to execute, then `__name__` is defined to be the string `'__main__'`.\n",
    "\n",
    "By checking whether `_"
   ]
  },
  {
   "cell_type": "code",
   "execution_count": 78,
   "id": "f4eb85ea",
   "metadata": {},
   "outputs": [
    {
     "name": "stdout",
     "output_type": "stream",
     "text": [
      "Hello from mymod!\n",
      "Goodbye from mymod!\n"
     ]
    },
    {
     "data": {
      "text/plain": [
       "100"
      ]
     },
     "execution_count": 78,
     "metadata": {},
     "output_type": "execute_result"
    }
   ],
   "source": [
    "importlib.reload(mymod)\n",
    "\n",
    "mymod.x"
   ]
  },
  {
   "cell_type": "code",
   "execution_count": 79,
   "id": "901c45bb",
   "metadata": {},
   "outputs": [
    {
     "data": {
      "text/plain": [
       "[10, 20, 30]"
      ]
     },
     "execution_count": 79,
     "metadata": {},
     "output_type": "execute_result"
    }
   ],
   "source": [
    "mymod.y"
   ]
  },
  {
   "cell_type": "code",
   "execution_count": 80,
   "id": "07c51846",
   "metadata": {},
   "outputs": [
    {
     "data": {
      "text/plain": [
       "'Hello, world!'"
      ]
     },
     "execution_count": 80,
     "metadata": {},
     "output_type": "execute_result"
    }
   ],
   "source": [
    "mymod.hello('world')"
   ]
  },
  {
   "cell_type": "code",
   "execution_count": null,
   "id": "69c400b6",
   "metadata": {},
   "outputs": [],
   "source": []
  }
 ],
 "metadata": {
  "kernelspec": {
   "display_name": "Python 3 (ipykernel)",
   "language": "python",
   "name": "python3"
  },
  "language_info": {
   "codemirror_mode": {
    "name": "ipython",
    "version": 3
   },
   "file_extension": ".py",
   "mimetype": "text/x-python",
   "name": "python",
   "nbconvert_exporter": "python",
   "pygments_lexer": "ipython3",
   "version": "3.10.5"
  }
 },
 "nbformat": 4,
 "nbformat_minor": 5
}
