{
 "cells": [
  {
   "cell_type": "markdown",
   "id": "09f327d5",
   "metadata": {},
   "source": [
    "# Agenda, Week 5: Modules and packages\n",
    "\n",
    "- Review of the challenge\n",
    "- Q&A\n",
    "- Modules\n",
    "    - What are modules?\n",
    "    - What do modules contain?\n",
    "    - `import` and modules\n",
    "- Writing a module\n",
    "    - Creating a module file\n",
    "    - Loading that module\n",
    "- Modules vs. packages\n",
    "- Python standard library\n",
    "- PyPI (Python Package Index)\n",
    "    - What is it?\n",
    "    - Downloading things with `pip`\n",
    "    - Deciding what modules you want to use (and don't want to use)\n",
    "- `pip` and installing packages from PyPI\n",
    "- Final questions\n",
    "- Where do you go from here?\n",
    "    - What can you do with the information from this course?\n",
    "    - What can/should you do to improve your Python further?"
   ]
  },
  {
   "cell_type": "markdown",
   "id": "17e9655d",
   "metadata": {},
   "source": [
    "# Review of the challenge"
   ]
  },
  {
   "cell_type": "code",
   "execution_count": 13,
   "id": "f047da87",
   "metadata": {},
   "outputs": [
    {
     "name": "stdout",
     "output_type": "stream",
     "text": [
      "67.218.116.165:2\n",
      "66.249.71.65:3\n",
      "65.55.106.183:2\n",
      "66.249.65.12:32\n",
      "65.55.106.131:2\n",
      "65.55.106.186:2\n",
      "74.52.245.146:2\n",
      "66.249.65.43:3\n",
      "65.55.207.25:2\n",
      "65.55.207.94:2\n",
      "65.55.207.71:1\n",
      "98.242.170.241:1\n",
      "66.249.65.38:100\n",
      "65.55.207.126:2\n",
      "82.34.9.20:2\n",
      "65.55.106.155:2\n",
      "65.55.207.77:2\n",
      "208.80.193.28:1\n",
      "89.248.172.58:22\n",
      "67.195.112.35:16\n",
      "65.55.207.50:3\n",
      "65.55.215.75:2\n"
     ]
    }
   ],
   "source": [
    "def count_ips(filename):\n",
    "    output = {}\n",
    "\n",
    "    for one_line in open(filename):\n",
    "        ip_address = one_line.split()[0]\n",
    "\n",
    "        # if we have seen this IP address before,\n",
    "        # just increment its value by 1\n",
    "        if ip_address in output:\n",
    "            output[ip_address] += 1\n",
    "\n",
    "        # if this is the first time we're seeing ip_address,\n",
    "        # add it to the dict with a value of 1\n",
    "        else:\n",
    "            output[ip_address] = 1\n",
    "\n",
    "\n",
    "    return output\n",
    "\n",
    "ip_address_counts = count_ips('mini-access-log.txt')\n",
    "\n",
    "for key, value in ip_address_counts.items():\n",
    "    print(f'{key}:{value}')"
   ]
  },
  {
   "cell_type": "markdown",
   "id": "dd49f526",
   "metadata": {},
   "source": [
    "# How to sort anything, my talk from Euro Python 2021\n",
    "\n",
    "https://www.youtube.com/watch?v=Z3c2LvEJeu0"
   ]
  },
  {
   "cell_type": "code",
   "execution_count": 4,
   "id": "159e81f8",
   "metadata": {},
   "outputs": [
    {
     "data": {
      "text/plain": [
       "['abcde', 'fg', 'hijk', 'lmnop', 'qr']"
      ]
     },
     "execution_count": 4,
     "metadata": {},
     "output_type": "execute_result"
    }
   ],
   "source": [
    "s = 'abcde fg hijk lmnop qr'\n",
    "\n",
    "# If I run str.split() on this string, I'll get back a new list of strings\n",
    "\n",
    "s.split()  # any whitespace (space, \\n, \\t, \\r, \\v), any combination, any length"
   ]
  },
  {
   "cell_type": "code",
   "execution_count": 5,
   "id": "0abfaec6",
   "metadata": {},
   "outputs": [
    {
     "data": {
      "text/plain": [
       "'abcde fg hijk lmnop qr'"
      ]
     },
     "execution_count": 5,
     "metadata": {},
     "output_type": "execute_result"
    }
   ],
   "source": [
    "# s hasn't changed at all!\n",
    "s"
   ]
  },
  {
   "cell_type": "code",
   "execution_count": 7,
   "id": "6ec53245",
   "metadata": {},
   "outputs": [
    {
     "data": {
      "text/plain": [
       "['abcde', 'fg', 'hijk', 'lmnop', 'qr']"
      ]
     },
     "execution_count": 7,
     "metadata": {},
     "output_type": "execute_result"
    }
   ],
   "source": [
    "s.split(' ')   # one space character at a time is our field separator"
   ]
  },
  {
   "cell_type": "code",
   "execution_count": 8,
   "id": "d5fad52d",
   "metadata": {},
   "outputs": [],
   "source": [
    "s = 'abcde   fg  hijk  lmnop    qr'"
   ]
  },
  {
   "cell_type": "code",
   "execution_count": 9,
   "id": "7a59da24",
   "metadata": {},
   "outputs": [
    {
     "data": {
      "text/plain": [
       "['abcde', 'fg', 'hijk', 'lmnop', 'qr']"
      ]
     },
     "execution_count": 9,
     "metadata": {},
     "output_type": "execute_result"
    }
   ],
   "source": [
    "s.split()  "
   ]
  },
  {
   "cell_type": "code",
   "execution_count": 10,
   "id": "9ef3ccc3",
   "metadata": {},
   "outputs": [
    {
     "data": {
      "text/plain": [
       "['abcde', '', '', 'fg', '', 'hijk', '', 'lmnop', '', '', '', 'qr']"
      ]
     },
     "execution_count": 10,
     "metadata": {},
     "output_type": "execute_result"
    }
   ],
   "source": [
    "s.split(' ')"
   ]
  },
  {
   "cell_type": "code",
   "execution_count": 11,
   "id": "e7c5f813",
   "metadata": {},
   "outputs": [
    {
     "data": {
      "text/plain": [
       "'abcde'"
      ]
     },
     "execution_count": 11,
     "metadata": {},
     "output_type": "execute_result"
    }
   ],
   "source": [
    "s.split()[0]   # get a new list based on s, then return the item at index 0 from that list"
   ]
  },
  {
   "cell_type": "code",
   "execution_count": 12,
   "id": "d34b764e",
   "metadata": {},
   "outputs": [
    {
     "ename": "NameError",
     "evalue": "name 'one_line' is not defined",
     "output_type": "error",
     "traceback": [
      "\u001b[0;31m---------------------------------------------------------------------------\u001b[0m",
      "\u001b[0;31mNameError\u001b[0m                                 Traceback (most recent call last)",
      "Input \u001b[0;32mIn [12]\u001b[0m, in \u001b[0;36m<cell line: 1>\u001b[0;34m()\u001b[0m\n\u001b[0;32m----> 1\u001b[0m \u001b[43mone_line\u001b[49m\n",
      "\u001b[0;31mNameError\u001b[0m: name 'one_line' is not defined"
     ]
    }
   ],
   "source": [
    "one_line"
   ]
  },
  {
   "cell_type": "code",
   "execution_count": 15,
   "id": "d55d30b6",
   "metadata": {},
   "outputs": [
    {
     "name": "stdout",
     "output_type": "stream",
     "text": [
      "67.218.116.165\n",
      "66.249.71.65\n",
      "65.55.106.183\n",
      "65.55.106.183\n",
      "66.249.71.65\n",
      "66.249.71.65\n",
      "66.249.65.12\n",
      "66.249.65.12\n",
      "66.249.65.12\n",
      "66.249.65.12\n",
      "66.249.65.12\n",
      "65.55.106.131\n",
      "65.55.106.131\n",
      "66.249.65.12\n",
      "66.249.65.12\n",
      "66.249.65.12\n",
      "66.249.65.12\n",
      "66.249.65.12\n",
      "66.249.65.12\n",
      "66.249.65.12\n",
      "65.55.106.186\n",
      "65.55.106.186\n",
      "66.249.65.12\n",
      "66.249.65.12\n",
      "66.249.65.12\n",
      "74.52.245.146\n",
      "74.52.245.146\n",
      "66.249.65.43\n",
      "66.249.65.43\n",
      "66.249.65.43\n",
      "66.249.65.12\n",
      "66.249.65.12\n",
      "66.249.65.12\n",
      "66.249.65.12\n",
      "66.249.65.12\n",
      "66.249.65.12\n",
      "65.55.207.25\n",
      "65.55.207.25\n",
      "66.249.65.12\n",
      "66.249.65.12\n",
      "66.249.65.12\n",
      "66.249.65.12\n",
      "66.249.65.12\n",
      "66.249.65.12\n",
      "66.249.65.12\n",
      "65.55.207.94\n",
      "65.55.207.94\n",
      "66.249.65.12\n",
      "65.55.207.71\n",
      "66.249.65.12\n",
      "66.249.65.12\n",
      "66.249.65.12\n",
      "98.242.170.241\n",
      "66.249.65.38\n",
      "66.249.65.38\n",
      "66.249.65.38\n",
      "66.249.65.38\n",
      "66.249.65.38\n",
      "66.249.65.38\n",
      "66.249.65.38\n",
      "66.249.65.38\n",
      "66.249.65.38\n",
      "66.249.65.38\n",
      "66.249.65.38\n",
      "66.249.65.38\n",
      "66.249.65.38\n",
      "66.249.65.38\n",
      "66.249.65.38\n",
      "66.249.65.38\n",
      "66.249.65.38\n",
      "66.249.65.38\n",
      "66.249.65.38\n",
      "66.249.65.38\n",
      "66.249.65.38\n",
      "66.249.65.38\n",
      "66.249.65.38\n",
      "66.249.65.38\n",
      "66.249.65.38\n",
      "66.249.65.38\n",
      "65.55.207.126\n",
      "65.55.207.126\n",
      "66.249.65.38\n",
      "66.249.65.38\n",
      "66.249.65.38\n",
      "66.249.65.38\n",
      "82.34.9.20\n",
      "82.34.9.20\n",
      "66.249.65.38\n",
      "66.249.65.38\n",
      "66.249.65.38\n",
      "66.249.65.38\n",
      "66.249.65.38\n",
      "66.249.65.38\n",
      "66.249.65.38\n",
      "66.249.65.38\n",
      "66.249.65.38\n",
      "65.55.106.155\n",
      "65.55.106.155\n",
      "66.249.65.38\n",
      "66.249.65.38\n",
      "66.249.65.38\n",
      "66.249.65.38\n",
      "66.249.65.38\n",
      "65.55.207.77\n",
      "65.55.207.77\n",
      "66.249.65.38\n",
      "67.218.116.165\n",
      "66.249.65.38\n",
      "208.80.193.28\n",
      "66.249.65.38\n",
      "66.249.65.38\n",
      "66.249.65.38\n",
      "66.249.65.38\n",
      "66.249.65.38\n",
      "66.249.65.38\n",
      "66.249.65.38\n",
      "66.249.65.38\n",
      "66.249.65.38\n",
      "89.248.172.58\n",
      "89.248.172.58\n",
      "89.248.172.58\n",
      "89.248.172.58\n",
      "89.248.172.58\n",
      "89.248.172.58\n",
      "89.248.172.58\n",
      "89.248.172.58\n",
      "89.248.172.58\n",
      "89.248.172.58\n",
      "89.248.172.58\n",
      "89.248.172.58\n",
      "89.248.172.58\n",
      "89.248.172.58\n",
      "89.248.172.58\n",
      "89.248.172.58\n",
      "89.248.172.58\n",
      "89.248.172.58\n",
      "89.248.172.58\n",
      "89.248.172.58\n",
      "89.248.172.58\n",
      "89.248.172.58\n",
      "66.249.65.38\n",
      "66.249.65.38\n",
      "66.249.65.38\n",
      "66.249.65.38\n",
      "66.249.65.38\n",
      "66.249.65.38\n",
      "66.249.65.38\n",
      "66.249.65.38\n",
      "66.249.65.38\n",
      "66.249.65.38\n",
      "66.249.65.38\n",
      "66.249.65.38\n",
      "66.249.65.38\n",
      "66.249.65.38\n",
      "66.249.65.38\n",
      "66.249.65.38\n",
      "66.249.65.38\n",
      "66.249.65.38\n",
      "66.249.65.38\n",
      "66.249.65.38\n",
      "66.249.65.38\n",
      "66.249.65.38\n",
      "66.249.65.38\n",
      "66.249.65.38\n",
      "66.249.65.38\n",
      "66.249.65.38\n",
      "66.249.65.38\n",
      "66.249.65.38\n",
      "66.249.65.38\n",
      "67.195.112.35\n",
      "67.195.112.35\n",
      "67.195.112.35\n",
      "67.195.112.35\n",
      "67.195.112.35\n",
      "67.195.112.35\n",
      "67.195.112.35\n",
      "67.195.112.35\n",
      "67.195.112.35\n",
      "67.195.112.35\n",
      "67.195.112.35\n",
      "67.195.112.35\n",
      "67.195.112.35\n",
      "67.195.112.35\n",
      "67.195.112.35\n",
      "67.195.112.35\n",
      "66.249.65.38\n",
      "65.55.207.50\n",
      "65.55.207.50\n",
      "65.55.207.50\n",
      "66.249.65.38\n",
      "66.249.65.38\n",
      "66.249.65.38\n",
      "66.249.65.38\n",
      "66.249.65.38\n",
      "66.249.65.38\n",
      "65.55.215.75\n",
      "65.55.215.75\n",
      "66.249.65.38\n",
      "66.249.65.38\n",
      "66.249.65.38\n",
      "66.249.65.38\n",
      "66.249.65.38\n",
      "66.249.65.38\n",
      "66.249.65.38\n",
      "66.249.65.38\n",
      "66.249.65.38\n"
     ]
    }
   ],
   "source": [
    "counts = {}\n",
    "\n",
    "for one_line in open('mini-access-log.txt'):\n",
    "    ip_address - one_line.split()[0]   # grab the IP address, the item at index 0 in each line's list\n",
    "    counts[ip_address] += 1"
   ]
  },
  {
   "cell_type": "markdown",
   "id": "a7a5ff52",
   "metadata": {},
   "source": [
    "# DRY -- don't repeat yourself\n",
    "\n",
    "1. If you have the same line repeated multiple times, then you should use a loop.\n",
    "2. If you have the same code several times in the same program, then you should use a function.\n",
    "3. If you have the same code several times across *multiple* programs, then you should use a *library*. In Python, our libraries are called \"modules.\""
   ]
  },
  {
   "cell_type": "markdown",
   "id": "74ab37f8",
   "metadata": {},
   "source": [
    "# Modules in Python do two things\n",
    "\n",
    "1. They are our libraries, allowing us to reuse code and thus write more maintainable software.\n",
    "2. They are our namespaces.  A \"namespace\" ensures that two parts of a program don't have the same variable name, and thus collide.  When they do, it's called a \"namespace collision.\"\n",
    "\n",
    "Let's say that I write part of a program, and call my variable `x`.  Let's say that you are collaborating with me, and by a strange freaky accident, you also call your variable `x`.  If we combine our two programs together, what will happen?\n",
    "\n",
    "In Python? The answer is that there likely won't be a problem, because each separate module is its own namespace. Meaning that each file we work with, each module we work with, has its own, separate set of variables.\n",
    "\n",
    "My module's `x` is distinct from your module's `x`.  And thus we don't have to worry about collisions."
   ]
  },
  {
   "cell_type": "markdown",
   "id": "17925d7b",
   "metadata": {},
   "source": [
    "# To use a module, use the `import` statement\n",
    "\n",
    "Notice a few things about `import`:\n",
    "\n",
    "1. It's not a function. Don't use ().\n",
    "2. The name that comes after the `import` statement is the name of the module variable you want to create.  It's not a string. It's not a filename.\n",
    "3. After running `import`, the module is loaded into memory, and you can use the named module."
   ]
  },
  {
   "cell_type": "code",
   "execution_count": 16,
   "id": "641c4373",
   "metadata": {},
   "outputs": [],
   "source": [
    "import random"
   ]
  },
  {
   "cell_type": "code",
   "execution_count": 17,
   "id": "6f442d18",
   "metadata": {},
   "outputs": [
    {
     "data": {
      "text/plain": [
       "module"
      ]
     },
     "execution_count": 17,
     "metadata": {},
     "output_type": "execute_result"
    }
   ],
   "source": [
    "# what is the value of \"random\"?\n",
    "type(random)"
   ]
  },
  {
   "cell_type": "code",
   "execution_count": 22,
   "id": "622a6228",
   "metadata": {},
   "outputs": [
    {
     "data": {
      "text/plain": [
       "32"
      ]
     },
     "execution_count": 22,
     "metadata": {},
     "output_type": "execute_result"
    }
   ],
   "source": [
    "random.randint(0, 100)   # we'll call the randint function in the random module, passing (0, 100)"
   ]
  },
  {
   "cell_type": "code",
   "execution_count": 23,
   "id": "f0111611",
   "metadata": {},
   "outputs": [
    {
     "data": {
      "text/plain": [
       "['BPF',\n",
       " 'LOG4',\n",
       " 'NV_MAGICCONST',\n",
       " 'RECIP_BPF',\n",
       " 'Random',\n",
       " 'SG_MAGICCONST',\n",
       " 'SystemRandom',\n",
       " 'TWOPI',\n",
       " '_ONE',\n",
       " '_Sequence',\n",
       " '_Set',\n",
       " '__all__',\n",
       " '__builtins__',\n",
       " '__cached__',\n",
       " '__doc__',\n",
       " '__file__',\n",
       " '__loader__',\n",
       " '__name__',\n",
       " '__package__',\n",
       " '__spec__',\n",
       " '_accumulate',\n",
       " '_acos',\n",
       " '_bisect',\n",
       " '_ceil',\n",
       " '_cos',\n",
       " '_e',\n",
       " '_exp',\n",
       " '_floor',\n",
       " '_index',\n",
       " '_inst',\n",
       " '_isfinite',\n",
       " '_log',\n",
       " '_os',\n",
       " '_pi',\n",
       " '_random',\n",
       " '_repeat',\n",
       " '_sha512',\n",
       " '_sin',\n",
       " '_sqrt',\n",
       " '_test',\n",
       " '_test_generator',\n",
       " '_urandom',\n",
       " '_warn',\n",
       " 'betavariate',\n",
       " 'choice',\n",
       " 'choices',\n",
       " 'expovariate',\n",
       " 'gammavariate',\n",
       " 'gauss',\n",
       " 'getrandbits',\n",
       " 'getstate',\n",
       " 'lognormvariate',\n",
       " 'normalvariate',\n",
       " 'paretovariate',\n",
       " 'randbytes',\n",
       " 'randint',\n",
       " 'random',\n",
       " 'randrange',\n",
       " 'sample',\n",
       " 'seed',\n",
       " 'setstate',\n",
       " 'shuffle',\n",
       " 'triangular',\n",
       " 'uniform',\n",
       " 'vonmisesvariate',\n",
       " 'weibullvariate']"
      ]
     },
     "execution_count": 23,
     "metadata": {},
     "output_type": "execute_result"
    }
   ],
   "source": [
    "# what other methods (and data) are available to us via the module?\n",
    "\n",
    "# option 1: use \"dir\" on the module object, and find what attributes it defines\n",
    "dir(random)"
   ]
  },
  {
   "cell_type": "code",
   "execution_count": 24,
   "id": "9c7413d0",
   "metadata": {},
   "outputs": [
    {
     "ename": "AttributeError",
     "evalue": "module 'random' has no attribute 'g'",
     "output_type": "error",
     "traceback": [
      "\u001b[0;31m---------------------------------------------------------------------------\u001b[0m",
      "\u001b[0;31mAttributeError\u001b[0m                            Traceback (most recent call last)",
      "Input \u001b[0;32mIn [24]\u001b[0m, in \u001b[0;36m<cell line: 2>\u001b[0;34m()\u001b[0m\n\u001b[1;32m      1\u001b[0m \u001b[38;5;66;03m# option 2: in Jupyter, type the module name, ., then tab to expand\u001b[39;00m\n\u001b[0;32m----> 2\u001b[0m \u001b[43mrandom\u001b[49m\u001b[38;5;241;43m.\u001b[39;49m\u001b[43mg\u001b[49m\n",
      "\u001b[0;31mAttributeError\u001b[0m: module 'random' has no attribute 'g'"
     ]
    }
   ],
   "source": [
    "# option 2: in Jupyter, type the module name, ., then tab to expand\n",
    "random.g"
   ]
  },
  {
   "cell_type": "markdown",
   "id": "1f88a792",
   "metadata": {},
   "source": [
    "# Exercise: Count lowercase letters\n",
    "\n",
    "1. The `string` module contains an attribute named `ascii_lowercase`.\n",
    "2. Ask the user, repeatedly, to enter a string.\n",
    "    - If the user enters the empty string, then stop asking, and exit from the loop.\n",
    "3. If the user enters a non-empty string, count how many of these characters are lowercase.  I want you to iterate over each character of each line, checking to see if it's in `string.ascii_lowercase`\n",
    "4. Print the number of lowercase letters in the user's string."
   ]
  },
  {
   "cell_type": "code",
   "execution_count": 25,
   "id": "1987ba0d",
   "metadata": {},
   "outputs": [
    {
     "name": "stdout",
     "output_type": "stream",
     "text": [
      "Enter a string: hello\n",
      "There are 5 lowercase letters in hello.\n",
      "Enter a string: Hello\n",
      "There are 4 lowercase letters in Hello.\n",
      "Enter a string: h e l l o !\n",
      "There are 5 lowercase letters in h e l l o !.\n",
      "Enter a string: HELLO\n",
      "There are 0 lowercase letters in HELLO.\n",
      "Enter a string: \n"
     ]
    }
   ],
   "source": [
    "import string\n",
    "\n",
    "while True:\n",
    "    s = input('Enter a string: ').strip()\n",
    "    \n",
    "    if s == '':   # empty string? stop asking!\n",
    "        break\n",
    "        \n",
    "    total = 0 \n",
    "    for one_character in s:\n",
    "        if one_character in string.ascii_lowercase:\n",
    "            total += 1\n",
    "            \n",
    "    print(f'There are {total} lowercase letters in {s}.')\n",
    "        "
   ]
  },
  {
   "cell_type": "code",
   "execution_count": 27,
   "id": "4b16dde9",
   "metadata": {},
   "outputs": [
    {
     "name": "stdout",
     "output_type": "stream",
     "text": [
      "67.218.116.165:2\n",
      "66.249.71.65:3\n",
      "65.55.106.183:2\n",
      "66.249.65.12:32\n",
      "65.55.106.131:2\n",
      "65.55.106.186:2\n",
      "74.52.245.146:2\n",
      "66.249.65.43:3\n",
      "65.55.207.25:2\n",
      "65.55.207.94:2\n",
      "65.55.207.71:1\n",
      "98.242.170.241:1\n",
      "66.249.65.38:100\n",
      "65.55.207.126:2\n",
      "82.34.9.20:2\n",
      "65.55.106.155:2\n",
      "65.55.207.77:2\n",
      "208.80.193.28:1\n",
      "89.248.172.58:22\n",
      "67.195.112.35:16\n",
      "65.55.207.50:3\n",
      "65.55.215.75:2\n"
     ]
    }
   ],
   "source": [
    "# we can solve the earlier challenge in another way, too\n",
    "# we can use the collections.Counter module to count IP addresses\n",
    "\n",
    "import collections\n",
    "\n",
    "def count_ips(filename):\n",
    "    output = collections.Counter()   # create a new Counter object\n",
    "\n",
    "    for one_line in open(filename):\n",
    "        ip_address = one_line.split()[0]\n",
    "\n",
    "        output[ip_address] += 1\n",
    "\n",
    "    return output\n",
    "\n",
    "ip_address_counts = count_ips('mini-access-log.txt')\n",
    "\n",
    "for key, value in ip_address_counts.items():\n",
    "    print(f'{key}:{value}')"
   ]
  },
  {
   "cell_type": "code",
   "execution_count": 30,
   "id": "2c52baac",
   "metadata": {},
   "outputs": [
    {
     "data": {
      "text/plain": [
       "[('66.249.65.38', 100),\n",
       " ('66.249.65.12', 32),\n",
       " ('89.248.172.58', 22),\n",
       " ('67.195.112.35', 16),\n",
       " ('66.249.71.65', 3),\n",
       " ('66.249.65.43', 3),\n",
       " ('65.55.207.50', 3),\n",
       " ('67.218.116.165', 2),\n",
       " ('65.55.106.183', 2),\n",
       " ('65.55.106.131', 2),\n",
       " ('65.55.106.186', 2),\n",
       " ('74.52.245.146', 2),\n",
       " ('65.55.207.25', 2),\n",
       " ('65.55.207.94', 2),\n",
       " ('65.55.207.126', 2),\n",
       " ('82.34.9.20', 2),\n",
       " ('65.55.106.155', 2),\n",
       " ('65.55.207.77', 2),\n",
       " ('65.55.215.75', 2),\n",
       " ('65.55.207.71', 1),\n",
       " ('98.242.170.241', 1),\n",
       " ('208.80.193.28', 1)]"
      ]
     },
     "execution_count": 30,
     "metadata": {},
     "output_type": "execute_result"
    }
   ],
   "source": [
    "# Counters are different in a number of ways from dicts\n",
    "# one way is that they implement the most_common method:\n",
    "\n",
    "ip_address_counts.most_common()   # sorted from most common to least common"
   ]
  },
  {
   "cell_type": "code",
   "execution_count": 31,
   "id": "1a4bd419",
   "metadata": {
    "scrolled": true
   },
   "outputs": [
    {
     "data": {
      "text/plain": [
       "[('66.249.65.38', 100),\n",
       " ('66.249.65.12', 32),\n",
       " ('89.248.172.58', 22),\n",
       " ('67.195.112.35', 16),\n",
       " ('66.249.71.65', 3)]"
      ]
     },
     "execution_count": 31,
     "metadata": {},
     "output_type": "execute_result"
    }
   ],
   "source": [
    "ip_address_counts.most_common(5)   # show me the 5 most common IP addresses"
   ]
  },
  {
   "cell_type": "code",
   "execution_count": 33,
   "id": "ec6fedc6",
   "metadata": {},
   "outputs": [
    {
     "data": {
      "text/plain": [
       "dict_keys(['67.218.116.165', '66.249.71.65', '65.55.106.183', '66.249.65.12', '65.55.106.131', '65.55.106.186', '74.52.245.146', '66.249.65.43', '65.55.207.25', '65.55.207.94', '65.55.207.71', '98.242.170.241', '66.249.65.38', '65.55.207.126', '82.34.9.20', '65.55.106.155', '65.55.207.77', '208.80.193.28', '89.248.172.58', '67.195.112.35', '65.55.207.50', '65.55.215.75'])"
      ]
     },
     "execution_count": 33,
     "metadata": {},
     "output_type": "execute_result"
    }
   ],
   "source": [
    "# Counter objects are special-purpose dicts\n",
    "# anything a dict can do, they can do.  This is known as \"inheritance.\"\n",
    "\n",
    "ip_address_counts.keys()"
   ]
  },
  {
   "cell_type": "code",
   "execution_count": 34,
   "id": "c7078671",
   "metadata": {},
   "outputs": [
    {
     "data": {
      "text/plain": [
       "dict_values([2, 3, 2, 32, 2, 2, 2, 3, 2, 2, 1, 1, 100, 2, 2, 2, 2, 1, 22, 16, 3, 2])"
      ]
     },
     "execution_count": 34,
     "metadata": {},
     "output_type": "execute_result"
    }
   ],
   "source": [
    "ip_address_counts.values()"
   ]
  },
  {
   "cell_type": "code",
   "execution_count": 35,
   "id": "525874e9",
   "metadata": {},
   "outputs": [
    {
     "data": {
      "text/plain": [
       "206"
      ]
     },
     "execution_count": 35,
     "metadata": {},
     "output_type": "execute_result"
    }
   ],
   "source": [
    "sum(ip_address_counts.values())"
   ]
  },
  {
   "cell_type": "markdown",
   "id": "caa88ddb",
   "metadata": {},
   "source": [
    "# Next up\n",
    "\n",
    "1. Alternative forms of `import`\n",
    "2. Writing a module\n",
    "3. Modules vs. packages\n",
    "\n"
   ]
  },
  {
   "cell_type": "code",
   "execution_count": 36,
   "id": "080457c6",
   "metadata": {},
   "outputs": [
    {
     "data": {
      "text/plain": [
       "9"
      ]
     },
     "execution_count": 36,
     "metadata": {},
     "output_type": "execute_result"
    }
   ],
   "source": [
    "# If I want to use random.randint, I cannot just say \"randint\"\n",
    "\n",
    "random.randint(0, 100)"
   ]
  },
  {
   "cell_type": "code",
   "execution_count": 38,
   "id": "92ad4fdb",
   "metadata": {},
   "outputs": [
    {
     "ename": "NameError",
     "evalue": "name 'randint' is not defined",
     "output_type": "error",
     "traceback": [
      "\u001b[0;31m---------------------------------------------------------------------------\u001b[0m",
      "\u001b[0;31mNameError\u001b[0m                                 Traceback (most recent call last)",
      "Input \u001b[0;32mIn [38]\u001b[0m, in \u001b[0;36m<cell line: 1>\u001b[0;34m()\u001b[0m\n\u001b[0;32m----> 1\u001b[0m \u001b[43mrandint\u001b[49m(\u001b[38;5;241m0\u001b[39m, \u001b[38;5;241m100\u001b[39m)\n",
      "\u001b[0;31mNameError\u001b[0m: name 'randint' is not defined"
     ]
    }
   ],
   "source": [
    "randint(0, 100)   #randint doesn't exist as a variable -- it can only be named after a ."
   ]
  },
  {
   "cell_type": "code",
   "execution_count": 39,
   "id": "4f380867",
   "metadata": {},
   "outputs": [],
   "source": [
    "# we can make it possible to use \"randint\" directly as a variable, rather than\n",
    "# via \"random\", with the \"from .. import\" syntax\n",
    "\n",
    "from random import randint\n",
    "\n",
    "# this :\n",
    "# (1) imports the random module, if needed\n",
    "# (2) it defines randint as a global variable\n",
    "# (3) it does *not* define random  (but if random was previously defined, it's not erased)"
   ]
  },
  {
   "cell_type": "code",
   "execution_count": 40,
   "id": "75d93a63",
   "metadata": {},
   "outputs": [
    {
     "data": {
      "text/plain": [
       "14"
      ]
     },
     "execution_count": 40,
     "metadata": {},
     "output_type": "execute_result"
    }
   ],
   "source": [
    "randint(0, 100)"
   ]
  },
  {
   "cell_type": "code",
   "execution_count": 42,
   "id": "1e232a93",
   "metadata": {},
   "outputs": [],
   "source": [
    "# if I want random and randint both to be defined (with randint being random.randint), I need\n",
    "# to execute two separate lines:\n",
    "\n",
    "import random                # this defines the \"random\" variable\n",
    "from random import randint   # this defines the \"randint\" variable"
   ]
  },
  {
   "cell_type": "code",
   "execution_count": 43,
   "id": "83d751a4",
   "metadata": {},
   "outputs": [],
   "source": [
    "# what if I want to import a module, but I want to define a different variable name?\n",
    "# I can use the \"import .. as\" syntax\n",
    "\n",
    "import random as r    # this loads the random module, but defines the r variable to refer to it"
   ]
  },
  {
   "cell_type": "code",
   "execution_count": 44,
   "id": "8e1ba7b1",
   "metadata": {},
   "outputs": [
    {
     "data": {
      "text/plain": [
       "30"
      ]
     },
     "execution_count": 44,
     "metadata": {},
     "output_type": "execute_result"
    }
   ],
   "source": [
    "r.randint(0, 100)"
   ]
  },
  {
   "cell_type": "code",
   "execution_count": 45,
   "id": "129afbf3",
   "metadata": {},
   "outputs": [],
   "source": [
    "# if I want to import a name from a module with an alias, I can do that, as well\n",
    "from random import randint as ri"
   ]
  },
  {
   "cell_type": "code",
   "execution_count": 46,
   "id": "d05a9c0f",
   "metadata": {},
   "outputs": [
    {
     "data": {
      "text/plain": [
       "86"
      ]
     },
     "execution_count": 46,
     "metadata": {},
     "output_type": "execute_result"
    }
   ],
   "source": [
    "ri(0, 100)"
   ]
  },
  {
   "cell_type": "markdown",
   "id": "fde0b144",
   "metadata": {},
   "source": [
    "# Four ways to import\n",
    "\n",
    "- `import MODNAME`\n",
    "- `import MODNAME as ALIAS`\n",
    "- `from MODNAME import NAME`\n",
    "- `from MODNAME import NAME as ALIAS`\n",
    "\n",
    "These all do the same two things:\n",
    "\n",
    "- Create a module object\n",
    "- Define a variable.  In the first two cases, the variable refers to the module object. In the second two cases, the variable refers to an attribute on that module object."
   ]
  },
  {
   "cell_type": "markdown",
   "id": "91137835",
   "metadata": {},
   "source": [
    "# There is also a fifth way... which you should not use!\n",
    "\n",
    "`from MODNAME import *`\n",
    "\n",
    "Please **NEVER EVER EVER** use this!\n",
    "\n",
    "- it imports the module into memory\n",
    "- for each variable defined in the module, it defines a new global variable in your current namespace\n",
    "\n",
    "If the module defined variables, `a`, `b`, and `c`, then after running `from MODNAME import *`, you will also have variables named `a`, `b`, and `c`, all referring to the module's values of the same names.\n",
    "\n",
    "What's wrong here is that you don't know what variables will be defined, or how many there will be, or if there are clashes with variables/functions you've defined."
   ]
  },
  {
   "cell_type": "markdown",
   "id": "da2e405a",
   "metadata": {},
   "source": [
    "# When I say `import`, where does Python look?\n",
    "\n",
    "The variable `sys.path` is a list of strings, indicating in which directories Python should look for module files.\n",
    "\n",
    "- If you say `import string`, then Python looks for a file called `string.py` in each directory of `sys.path`.\n",
    "- If it finds `string.py`, then that module is loaded, and Python stops looking.\n",
    "- If it doesn't find `string.py`, then it raises a `ModuleNotFoundError`."
   ]
  },
  {
   "cell_type": "code",
   "execution_count": 47,
   "id": "4d55079c",
   "metadata": {},
   "outputs": [
    {
     "data": {
      "text/plain": [
       "['/Users/reuven/Courses/Current/oreilly-2022-summer-first-steps',\n",
       " '/usr/local/Cellar/python@3.10/3.10.5/Frameworks/Python.framework/Versions/3.10/lib/python310.zip',\n",
       " '/usr/local/Cellar/python@3.10/3.10.5/Frameworks/Python.framework/Versions/3.10/lib/python3.10',\n",
       " '/usr/local/Cellar/python@3.10/3.10.5/Frameworks/Python.framework/Versions/3.10/lib/python3.10/lib-dynload',\n",
       " '',\n",
       " '/usr/local/lib/python3.10/site-packages']"
      ]
     },
     "execution_count": 47,
     "metadata": {},
     "output_type": "execute_result"
    }
   ],
   "source": [
    "import sys    # create the variable that refers to this module\n",
    "\n",
    "sys.path"
   ]
  },
  {
   "cell_type": "code",
   "execution_count": 48,
   "id": "f5c1310f",
   "metadata": {},
   "outputs": [],
   "source": [
    "import random"
   ]
  },
  {
   "cell_type": "code",
   "execution_count": 49,
   "id": "c6ace9b7",
   "metadata": {},
   "outputs": [
    {
     "data": {
      "text/plain": [
       "<module 'random' from '/usr/local/Cellar/python@3.10/3.10.5/Frameworks/Python.framework/Versions/3.10/lib/python3.10/random.py'>"
      ]
     },
     "execution_count": 49,
     "metadata": {},
     "output_type": "execute_result"
    }
   ],
   "source": [
    "random"
   ]
  },
  {
   "cell_type": "code",
   "execution_count": 50,
   "id": "b50b7439",
   "metadata": {},
   "outputs": [
    {
     "data": {
      "text/plain": [
       "<module 'string' from '/usr/local/Cellar/python@3.10/3.10.5/Frameworks/Python.framework/Versions/3.10/lib/python3.10/string.py'>"
      ]
     },
     "execution_count": 50,
     "metadata": {},
     "output_type": "execute_result"
    }
   ],
   "source": [
    "string"
   ]
  },
  {
   "cell_type": "code",
   "execution_count": 51,
   "id": "ee5e6442",
   "metadata": {},
   "outputs": [
    {
     "data": {
      "text/plain": [
       "<module 'collections' from '/usr/local/Cellar/python@3.10/3.10.5/Frameworks/Python.framework/Versions/3.10/lib/python3.10/collections/__init__.py'>"
      ]
     },
     "execution_count": 51,
     "metadata": {},
     "output_type": "execute_result"
    }
   ],
   "source": [
    "collections"
   ]
  },
  {
   "cell_type": "code",
   "execution_count": 52,
   "id": "31775d43",
   "metadata": {},
   "outputs": [
    {
     "name": "stdout",
     "output_type": "stream",
     "text": [
      "-rw-r--r-- 1 reuven staff 0 Jul 14 18:19 mymod.py\r\n"
     ]
    }
   ],
   "source": [
    "!ls -l mymod.py"
   ]
  },
  {
   "cell_type": "code",
   "execution_count": 53,
   "id": "8db9b26a",
   "metadata": {},
   "outputs": [],
   "source": [
    "# can I import this module?\n",
    "import mymod"
   ]
  },
  {
   "cell_type": "code",
   "execution_count": 54,
   "id": "bcc1500f",
   "metadata": {},
   "outputs": [
    {
     "data": {
      "text/plain": [
       "<module 'mymod' from '/Users/reuven/Courses/Current/oreilly-2022-summer-first-steps/mymod.py'>"
      ]
     },
     "execution_count": 54,
     "metadata": {},
     "output_type": "execute_result"
    }
   ],
   "source": [
    "mymod"
   ]
  },
  {
   "cell_type": "code",
   "execution_count": 55,
   "id": "bb573ccb",
   "metadata": {},
   "outputs": [
    {
     "data": {
      "text/plain": [
       "module"
      ]
     },
     "execution_count": 55,
     "metadata": {},
     "output_type": "execute_result"
    }
   ],
   "source": [
    "type(mymod)"
   ]
  },
  {
   "cell_type": "code",
   "execution_count": 58,
   "id": "39fec02b",
   "metadata": {},
   "outputs": [],
   "source": [
    "# what names are defined on this module?\n",
    "# many, even for an empty module -- the \"dunder\" names (double underscore) are defined,\n",
    "# because Python's module-loading system put them there."
   ]
  },
  {
   "cell_type": "code",
   "execution_count": 59,
   "id": "15ae9196",
   "metadata": {},
   "outputs": [
    {
     "data": {
      "text/plain": [
       "['__builtins__',\n",
       " '__cached__',\n",
       " '__doc__',\n",
       " '__file__',\n",
       " '__loader__',\n",
       " '__name__',\n",
       " '__package__',\n",
       " '__spec__']"
      ]
     },
     "execution_count": 59,
     "metadata": {},
     "output_type": "execute_result"
    }
   ],
   "source": [
    "dir(mymod)"
   ]
  },
  {
   "cell_type": "code",
   "execution_count": 60,
   "id": "5f42c0af",
   "metadata": {},
   "outputs": [
    {
     "data": {
      "text/plain": [
       "'/Users/reuven/Courses/Current/oreilly-2022-summer-first-steps/mymod.py'"
      ]
     },
     "execution_count": 60,
     "metadata": {},
     "output_type": "execute_result"
    }
   ],
   "source": [
    "mymod.__file__"
   ]
  },
  {
   "cell_type": "code",
   "execution_count": 62,
   "id": "33412a76",
   "metadata": {},
   "outputs": [
    {
     "data": {
      "text/plain": [
       "'mymod'"
      ]
     },
     "execution_count": 62,
     "metadata": {},
     "output_type": "execute_result"
    }
   ],
   "source": [
    "mymod.__name__"
   ]
  },
  {
   "cell_type": "code",
   "execution_count": 63,
   "id": "b124bc7c",
   "metadata": {},
   "outputs": [],
   "source": [
    "# let's import the module again!\n",
    "import mymod"
   ]
  },
  {
   "cell_type": "code",
   "execution_count": 65,
   "id": "a88d75fd",
   "metadata": {},
   "outputs": [
    {
     "data": {
      "text/plain": [
       "['__builtins__',\n",
       " '__cached__',\n",
       " '__doc__',\n",
       " '__file__',\n",
       " '__loader__',\n",
       " '__name__',\n",
       " '__package__',\n",
       " '__spec__']"
      ]
     },
     "execution_count": 65,
     "metadata": {},
     "output_type": "execute_result"
    }
   ],
   "source": [
    "# where are all of the names (x , y, and hello) that I just defined?\n",
    "\n",
    "dir(mymod)"
   ]
  },
  {
   "cell_type": "markdown",
   "id": "0209be5c",
   "metadata": {},
   "source": [
    "# Python only loads modules once\n",
    "\n",
    "In a given Python session, `import` will only actually load a module the first time you ask it to do so. Every subsequent time, `import` will define the variable, but not load the module.\n",
    "\n",
    "- Solution 1: Restart Python and/or Jupyter\n",
    "- Solution 2: Load `importlib` and use `importlib.reload`\n",
    "\n",
    "`importlib` is a module (of course) that gives us access to the module-handling internals in Python."
   ]
  },
  {
   "cell_type": "code",
   "execution_count": 66,
   "id": "7a42734e",
   "metadata": {},
   "outputs": [
    {
     "data": {
      "text/plain": [
       "<module 'mymod' from '/Users/reuven/Courses/Current/oreilly-2022-summer-first-steps/mymod.py'>"
      ]
     },
     "execution_count": 66,
     "metadata": {},
     "output_type": "execute_result"
    }
   ],
   "source": [
    "import importlib\n",
    "importlib.reload(mymod)  # reload the \"mymod\" module again"
   ]
  },
  {
   "cell_type": "code",
   "execution_count": 67,
   "id": "56ae2668",
   "metadata": {},
   "outputs": [
    {
     "data": {
      "text/plain": [
       "['__builtins__',\n",
       " '__cached__',\n",
       " '__doc__',\n",
       " '__file__',\n",
       " '__loader__',\n",
       " '__name__',\n",
       " '__package__',\n",
       " '__spec__',\n",
       " 'hello',\n",
       " 'x',\n",
       " 'y']"
      ]
     },
     "execution_count": 67,
     "metadata": {},
     "output_type": "execute_result"
    }
   ],
   "source": [
    "dir(mymod)"
   ]
  },
  {
   "cell_type": "code",
   "execution_count": 68,
   "id": "32586f9e",
   "metadata": {},
   "outputs": [
    {
     "data": {
      "text/plain": [
       "100"
      ]
     },
     "execution_count": 68,
     "metadata": {},
     "output_type": "execute_result"
    }
   ],
   "source": [
    "mymod.x"
   ]
  },
  {
   "cell_type": "code",
   "execution_count": 69,
   "id": "94318a98",
   "metadata": {},
   "outputs": [
    {
     "data": {
      "text/plain": [
       "[10, 20, 30]"
      ]
     },
     "execution_count": 69,
     "metadata": {},
     "output_type": "execute_result"
    }
   ],
   "source": [
    "mymod.y"
   ]
  },
  {
   "cell_type": "code",
   "execution_count": 70,
   "id": "8b55fb6e",
   "metadata": {},
   "outputs": [
    {
     "data": {
      "text/plain": [
       "'Hello, world!'"
      ]
     },
     "execution_count": 70,
     "metadata": {},
     "output_type": "execute_result"
    }
   ],
   "source": [
    "mymod.hello('world')"
   ]
  },
  {
   "cell_type": "code",
   "execution_count": 72,
   "id": "92ab9030",
   "metadata": {},
   "outputs": [
    {
     "data": {
      "text/plain": [
       "True"
      ]
     },
     "execution_count": 72,
     "metadata": {},
     "output_type": "execute_result"
    }
   ],
   "source": [
    "# every module's __builtins__ just refers to the core builtins module in every Python system\n",
    "string.__builtins__ is mymod.__builtins__"
   ]
  },
  {
   "cell_type": "markdown",
   "id": "096a3e11",
   "metadata": {},
   "source": [
    "# Exercise: Writing a module\n",
    "\n",
    "1. Create a new module, `vowels.py`.\n",
    "2. In this module, write a function, `count_vowels`, which takes a string and retuns an integer.\n",
    "    - The string will be text\n",
    "    - The integer will be the number of vowels in that text.\n",
    "3. This means that your function can be accessed by `import vowels` and then running `vowels.count_vowels` on a string.\n",
    "4. From outside of the module (i.e., in Jupyter or a separate program), `import vowels` and run `vowels.count_vowels`.\n",
    "\n",
    "Reminder: `import` only works once within a given Python session for a certain module. So if you update your module, you'll need to either restart Jupyter's kernel or use `importlib.reload` to reload the module object you already created."
   ]
  },
  {
   "cell_type": "code",
   "execution_count": 73,
   "id": "7bc60a80",
   "metadata": {},
   "outputs": [
    {
     "name": "stdout",
     "output_type": "stream",
     "text": [
      "Enter a string: this is a fantastic test, right?\n",
      "Your string contains 8 vowels.\n"
     ]
    }
   ],
   "source": [
    "import vowels\n",
    "\n",
    "user_string = input('Enter a string: ').strip()\n",
    "\n",
    "count = vowels.count_vowels(user_string)\n",
    "\n",
    "print(f'Your string contains {count} vowels.')"
   ]
  },
  {
   "cell_type": "code",
   "execution_count": 74,
   "id": "06adef10",
   "metadata": {},
   "outputs": [
    {
     "data": {
      "text/plain": [
       "['__builtins__',\n",
       " '__cached__',\n",
       " '__doc__',\n",
       " '__file__',\n",
       " '__loader__',\n",
       " '__name__',\n",
       " '__package__',\n",
       " '__spec__',\n",
       " 'count_vowels']"
      ]
     },
     "execution_count": 74,
     "metadata": {},
     "output_type": "execute_result"
    }
   ],
   "source": [
    "dir(vowels)"
   ]
  },
  {
   "cell_type": "markdown",
   "id": "0a92afcb",
   "metadata": {},
   "source": [
    "If all global variables *inside* of my module file are then accessible as attributes on the module object (e.g., `count_vowels` is a global function in `vowels.py`, but is found as `vowels.count_vowels` when we import `vowels`), is the opposite true?\n",
    "\n",
    "For example, if `__name__` is an attribute on the module `vowels`, then is `__name__` available as a globl variable inside of our module file?"
   ]
  },
  {
   "cell_type": "code",
   "execution_count": 75,
   "id": "222db178",
   "metadata": {},
   "outputs": [
    {
     "name": "stdout",
     "output_type": "stream",
     "text": [
      "Hello from mymod!\n",
      "Goodbye from mymod!\n"
     ]
    },
    {
     "data": {
      "text/plain": [
       "<module 'mymod' from '/Users/reuven/Courses/Current/oreilly-2022-summer-first-steps/mymod.py'>"
      ]
     },
     "execution_count": 75,
     "metadata": {},
     "output_type": "execute_result"
    }
   ],
   "source": [
    "importlib.reload(mymod)   # reload the mymod module, executing every line in the file"
   ]
  },
  {
   "cell_type": "code",
   "execution_count": 77,
   "id": "9d0e243f",
   "metadata": {},
   "outputs": [
    {
     "name": "stdout",
     "output_type": "stream",
     "text": [
      "Hello from mymod!\n",
      "Goodbye from mymod!\n"
     ]
    },
    {
     "data": {
      "text/plain": [
       "<module 'mymod' from '/Users/reuven/Courses/Current/oreilly-2022-summer-first-steps/mymod.py'>"
      ]
     },
     "execution_count": 77,
     "metadata": {},
     "output_type": "execute_result"
    }
   ],
   "source": [
    "importlib.reload(mymod)  # here, I replaced the string 'mymod' with __name__... and it worked!"
   ]
  },
  {
   "cell_type": "markdown",
   "id": "6989bed3",
   "metadata": {},
   "source": [
    "# The special `__name__` variable\n",
    "\n",
    "The variable `__name__` is always defined in Python. It represents the namespace in which you're currently operating.  \n",
    "\n",
    "It can either contain the string `'__main__'` or it can contain the name of the current module.\n",
    "\n",
    "1. If our module was imported, then `__name__` containd `'__main__'`.\n",
    "2. But if our module was run as a program from the command line, or is the first program to execute, then `__name__` is defined to be the string `'__main__'`.\n",
    "\n",
    "By checking whether `__name__` is `'__main__'`, we can know if the module file was imported, or if it is being run as a standalone program."
   ]
  },
  {
   "cell_type": "code",
   "execution_count": 78,
   "id": "854def27",
   "metadata": {},
   "outputs": [
    {
     "name": "stdout",
     "output_type": "stream",
     "text": [
      "Hello from mymod!\n",
      "Goodbye from mymod!\n"
     ]
    },
    {
     "data": {
      "text/plain": [
       "100"
      ]
     },
     "execution_count": 78,
     "metadata": {},
     "output_type": "execute_result"
    }
   ],
   "source": [
    "importlib.reload(mymod)\n",
    "\n",
    "mymod.x"
   ]
  },
  {
   "cell_type": "code",
   "execution_count": 79,
   "id": "dfa88673",
   "metadata": {},
   "outputs": [
    {
     "data": {
      "text/plain": [
       "[10, 20, 30]"
      ]
     },
     "execution_count": 79,
     "metadata": {},
     "output_type": "execute_result"
    }
   ],
   "source": [
    "mymod.y"
   ]
  },
  {
   "cell_type": "code",
   "execution_count": 80,
   "id": "a1072d8b",
   "metadata": {},
   "outputs": [
    {
     "data": {
      "text/plain": [
       "'Hello, world!'"
      ]
     },
     "execution_count": 80,
     "metadata": {},
     "output_type": "execute_result"
    }
   ],
   "source": [
    "mymod.hello('world')"
   ]
  },
  {
   "cell_type": "code",
   "execution_count": 81,
   "id": "d37ec43a",
   "metadata": {},
   "outputs": [
    {
     "data": {
      "text/plain": [
       "<module 'mymod' from '/Users/reuven/Courses/Current/oreilly-2022-summer-first-steps/mymod.py'>"
      ]
     },
     "execution_count": 81,
     "metadata": {},
     "output_type": "execute_result"
    }
   ],
   "source": [
    "importlib.reload(mymod)\n"
   ]
  },
  {
   "cell_type": "markdown",
   "id": "05fbd9d7",
   "metadata": {},
   "source": [
    "# Cached modules\n",
    "\n",
    "Every time you import a module, Python looks for the .py file.  It also looks for a `.pyc` file, in the `__pycache__` directory:\n",
    "\n",
    "- If there is a `.pyc` and no `.py`, that's what is executed.\n",
    "- If there is a `.pyc` and a `.py`, then one of two things will happen:\n",
    "    - If the `.pyc` is newer than the `.py`, it is loaded\n",
    "    - If the `.pyc` is older than the `.py`, then the `.py` is compiled into a `.pyc` (\"Python compiled\") file, and then loaded.\n",
    "- If there's only a `.py`, then it is compiled, executed, loaded, and sticks around until the `.py` is updated again."
   ]
  },
  {
   "cell_type": "code",
   "execution_count": 83,
   "id": "eeab7735",
   "metadata": {},
   "outputs": [
    {
     "name": "stdout",
     "output_type": "stream",
     "text": [
      "mymod.cpython-310.pyc  vowels.cpython-310.pyc\r\n"
     ]
    }
   ],
   "source": [
    "!ls __pycache__"
   ]
  },
  {
   "cell_type": "markdown",
   "id": "72f0b6cf",
   "metadata": {},
   "source": [
    "# Next up\n",
    "\n",
    "1. Standard library, and what it contains\n",
    "2. Practice using the standard library a bit more\n",
    "3. PyPI and `pip`\n",
    "4. Q&A -- what next?"
   ]
  },
  {
   "cell_type": "code",
   "execution_count": 84,
   "id": "4f77a200",
   "metadata": {},
   "outputs": [],
   "source": [
    "import os"
   ]
  },
  {
   "cell_type": "code",
   "execution_count": 85,
   "id": "6cd39cd7",
   "metadata": {},
   "outputs": [
    {
     "data": {
      "text/plain": [
       "['myconfig.txt',\n",
       " 'mini-access-log.txt',\n",
       " 'nums.txt',\n",
       " '2022-06Jun-23-week-2.ipynb',\n",
       " '2022-06Jun-30-week-3.ipynb',\n",
       " 'shoe-data.txt',\n",
       " 'linux-etc-passwd.txt',\n",
       " '__pycache__',\n",
       " 'vowels.py',\n",
       " 'README.md',\n",
       " 'wcfile.txt',\n",
       " '2022-06Jun-16-week-1.ipynb',\n",
       " '2022-06July-07-week-4.ipynb',\n",
       " 'exercise-files.zip',\n",
       " 'myfile.txt',\n",
       " '.ipynb_checkpoints',\n",
       " '2022-06July-14-week-5.ipynb',\n",
       " '.git',\n",
       " 'mymod.py']"
      ]
     },
     "execution_count": 85,
     "metadata": {},
     "output_type": "execute_result"
    }
   ],
   "source": [
    "os.listdir('.')   # return a list of strings, filenames in the current directory"
   ]
  },
  {
   "cell_type": "code",
   "execution_count": 86,
   "id": "68d95b10",
   "metadata": {},
   "outputs": [
    {
     "data": {
      "text/plain": [
       "<module 'os' from '/usr/local/Cellar/python@3.10/3.10.5/Frameworks/Python.framework/Versions/3.10/lib/python3.10/os.py'>"
      ]
     },
     "execution_count": 86,
     "metadata": {},
     "output_type": "execute_result"
    }
   ],
   "source": [
    "os"
   ]
  },
  {
   "cell_type": "code",
   "execution_count": 87,
   "id": "54680e79",
   "metadata": {},
   "outputs": [],
   "source": [
    "import collections"
   ]
  },
  {
   "cell_type": "code",
   "execution_count": 89,
   "id": "bc95a761",
   "metadata": {},
   "outputs": [
    {
     "data": {
      "text/plain": [
       "<module 'collections' from '/usr/local/Cellar/python@3.10/3.10.5/Frameworks/Python.framework/Versions/3.10/lib/python3.10/collections/__init__.py'>"
      ]
     },
     "execution_count": 89,
     "metadata": {},
     "output_type": "execute_result"
    }
   ],
   "source": [
    "collections  # this is a *package* -- a directory/folder containing Python modules"
   ]
  },
  {
   "cell_type": "code",
   "execution_count": 90,
   "id": "87aebe71",
   "metadata": {},
   "outputs": [
    {
     "data": {
      "text/plain": [
       "module"
      ]
     },
     "execution_count": 90,
     "metadata": {},
     "output_type": "execute_result"
    }
   ],
   "source": [
    "type(collections)   # this is a package, i.e., a directory containing modules, but the object is of type..."
   ]
  },
  {
   "cell_type": "code",
   "execution_count": 91,
   "id": "9b4f0e83",
   "metadata": {},
   "outputs": [],
   "source": [
    "import calendar"
   ]
  },
  {
   "cell_type": "code",
   "execution_count": 92,
   "id": "a8a9bece",
   "metadata": {},
   "outputs": [
    {
     "data": {
      "text/plain": [
       "['Calendar',\n",
       " 'EPOCH',\n",
       " 'FRIDAY',\n",
       " 'February',\n",
       " 'HTMLCalendar',\n",
       " 'IllegalMonthError',\n",
       " 'IllegalWeekdayError',\n",
       " 'January',\n",
       " 'LocaleHTMLCalendar',\n",
       " 'LocaleTextCalendar',\n",
       " 'MONDAY',\n",
       " 'SATURDAY',\n",
       " 'SUNDAY',\n",
       " 'THURSDAY',\n",
       " 'TUESDAY',\n",
       " 'TextCalendar',\n",
       " 'WEDNESDAY',\n",
       " '_EPOCH_ORD',\n",
       " '__all__',\n",
       " '__builtins__',\n",
       " '__cached__',\n",
       " '__doc__',\n",
       " '__file__',\n",
       " '__loader__',\n",
       " '__name__',\n",
       " '__package__',\n",
       " '__spec__',\n",
       " '_colwidth',\n",
       " '_locale',\n",
       " '_localized_day',\n",
       " '_localized_month',\n",
       " '_monthlen',\n",
       " '_nextmonth',\n",
       " '_prevmonth',\n",
       " '_spacing',\n",
       " 'c',\n",
       " 'calendar',\n",
       " 'datetime',\n",
       " 'day_abbr',\n",
       " 'day_name',\n",
       " 'different_locale',\n",
       " 'error',\n",
       " 'firstweekday',\n",
       " 'format',\n",
       " 'formatstring',\n",
       " 'isleap',\n",
       " 'leapdays',\n",
       " 'main',\n",
       " 'mdays',\n",
       " 'month',\n",
       " 'month_abbr',\n",
       " 'month_name',\n",
       " 'monthcalendar',\n",
       " 'monthrange',\n",
       " 'prcal',\n",
       " 'prmonth',\n",
       " 'prweek',\n",
       " 'repeat',\n",
       " 'setfirstweekday',\n",
       " 'sys',\n",
       " 'timegm',\n",
       " 'week',\n",
       " 'weekday',\n",
       " 'weekheader']"
      ]
     },
     "execution_count": 92,
     "metadata": {},
     "output_type": "execute_result"
    }
   ],
   "source": [
    "dir(calendar)  # what names are defined in the calendar module?"
   ]
  },
  {
   "cell_type": "code",
   "execution_count": 95,
   "id": "e5aac1b0",
   "metadata": {},
   "outputs": [
    {
     "name": "stdout",
     "output_type": "stream",
     "text": [
      "                                  2022\n",
      "\n",
      "      January                   February                   March\n",
      "Mo Tu We Th Fr Sa Su      Mo Tu We Th Fr Sa Su      Mo Tu We Th Fr Sa Su\n",
      "                1  2          1  2  3  4  5  6          1  2  3  4  5  6\n",
      " 3  4  5  6  7  8  9       7  8  9 10 11 12 13       7  8  9 10 11 12 13\n",
      "10 11 12 13 14 15 16      14 15 16 17 18 19 20      14 15 16 17 18 19 20\n",
      "17 18 19 20 21 22 23      21 22 23 24 25 26 27      21 22 23 24 25 26 27\n",
      "24 25 26 27 28 29 30      28                        28 29 30 31\n",
      "31\n",
      "\n",
      "       April                      May                       June\n",
      "Mo Tu We Th Fr Sa Su      Mo Tu We Th Fr Sa Su      Mo Tu We Th Fr Sa Su\n",
      "             1  2  3                         1             1  2  3  4  5\n",
      " 4  5  6  7  8  9 10       2  3  4  5  6  7  8       6  7  8  9 10 11 12\n",
      "11 12 13 14 15 16 17       9 10 11 12 13 14 15      13 14 15 16 17 18 19\n",
      "18 19 20 21 22 23 24      16 17 18 19 20 21 22      20 21 22 23 24 25 26\n",
      "25 26 27 28 29 30         23 24 25 26 27 28 29      27 28 29 30\n",
      "                          30 31\n",
      "\n",
      "        July                     August                  September\n",
      "Mo Tu We Th Fr Sa Su      Mo Tu We Th Fr Sa Su      Mo Tu We Th Fr Sa Su\n",
      "             1  2  3       1  2  3  4  5  6  7                1  2  3  4\n",
      " 4  5  6  7  8  9 10       8  9 10 11 12 13 14       5  6  7  8  9 10 11\n",
      "11 12 13 14 15 16 17      15 16 17 18 19 20 21      12 13 14 15 16 17 18\n",
      "18 19 20 21 22 23 24      22 23 24 25 26 27 28      19 20 21 22 23 24 25\n",
      "25 26 27 28 29 30 31      29 30 31                  26 27 28 29 30\n",
      "\n",
      "      October                   November                  December\n",
      "Mo Tu We Th Fr Sa Su      Mo Tu We Th Fr Sa Su      Mo Tu We Th Fr Sa Su\n",
      "                1  2          1  2  3  4  5  6                1  2  3  4\n",
      " 3  4  5  6  7  8  9       7  8  9 10 11 12 13       5  6  7  8  9 10 11\n",
      "10 11 12 13 14 15 16      14 15 16 17 18 19 20      12 13 14 15 16 17 18\n",
      "17 18 19 20 21 22 23      21 22 23 24 25 26 27      19 20 21 22 23 24 25\n",
      "24 25 26 27 28 29 30      28 29 30                  26 27 28 29 30 31\n",
      "31\n",
      "\n"
     ]
    }
   ],
   "source": [
    "print(calendar.calendar(2022))"
   ]
  },
  {
   "cell_type": "code",
   "execution_count": 98,
   "id": "abb5740f",
   "metadata": {},
   "outputs": [
    {
     "name": "stdout",
     "output_type": "stream",
     "text": [
      "                                  2022\n",
      "\n",
      "      January                   February                   March\n",
      "Mo Tu We Th Fr Sa Su      Mo Tu We Th Fr Sa Su      Mo Tu We Th Fr Sa Su\n",
      "                1  2          1  2  3  4  5  6          1  2  3  4  5  6\n",
      " 3  4  5  6  7  8  9       7  8  9 10 11 12 13       7  8  9 10 11 12 13\n",
      "10 11 12 13 14 15 16      14 15 16 17 18 19 20      14 15 16 17 18 19 20\n",
      "17 18 19 20 21 22 23      21 22 23 24 25 26 27      21 22 23 24 25 26 27\n",
      "24 25 26 27 28 29 30      28                        28 29 30 31\n",
      "31\n",
      "\n",
      "       April                      May                       June\n",
      "Mo Tu We Th Fr Sa Su      Mo Tu We Th Fr Sa Su      Mo Tu We Th Fr Sa Su\n",
      "             1  2  3                         1             1  2  3  4  5\n",
      " 4  5  6  7  8  9 10       2  3  4  5  6  7  8       6  7  8  9 10 11 12\n",
      "11 12 13 14 15 16 17       9 10 11 12 13 14 15      13 14 15 16 17 18 19\n",
      "18 19 20 21 22 23 24      16 17 18 19 20 21 22      20 21 22 23 24 25 26\n",
      "25 26 27 28 29 30         23 24 25 26 27 28 29      27 28 29 30\n",
      "                          30 31\n",
      "\n",
      "        July                     August                  September\n",
      "Mo Tu We Th Fr Sa Su      Mo Tu We Th Fr Sa Su      Mo Tu We Th Fr Sa Su\n",
      "             1  2  3       1  2  3  4  5  6  7                1  2  3  4\n",
      " 4  5  6  7  8  9 10       8  9 10 11 12 13 14       5  6  7  8  9 10 11\n",
      "11 12 13 14 15 16 17      15 16 17 18 19 20 21      12 13 14 15 16 17 18\n",
      "18 19 20 21 22 23 24      22 23 24 25 26 27 28      19 20 21 22 23 24 25\n",
      "25 26 27 28 29 30 31      29 30 31                  26 27 28 29 30\n",
      "\n",
      "      October                   November                  December\n",
      "Mo Tu We Th Fr Sa Su      Mo Tu We Th Fr Sa Su      Mo Tu We Th Fr Sa Su\n",
      "                1  2          1  2  3  4  5  6                1  2  3  4\n",
      " 3  4  5  6  7  8  9       7  8  9 10 11 12 13       5  6  7  8  9 10 11\n",
      "10 11 12 13 14 15 16      14 15 16 17 18 19 20      12 13 14 15 16 17 18\n",
      "17 18 19 20 21 22 23      21 22 23 24 25 26 27      19 20 21 22 23 24 25\n",
      "24 25 26 27 28 29 30      28 29 30                  26 27 28 29 30 31\n",
      "31\n",
      "\n"
     ]
    }
   ],
   "source": [
    "print(calendar.calendar(2022))"
   ]
  },
  {
   "cell_type": "code",
   "execution_count": 99,
   "id": "40d5e06d",
   "metadata": {},
   "outputs": [
    {
     "data": {
      "text/plain": [
       "['vowels.py', 'mymod.py']"
      ]
     },
     "execution_count": 99,
     "metadata": {},
     "output_type": "execute_result"
    }
   ],
   "source": [
    "# if I want to find all of the files in a directory that \n",
    "# match a pattern, I can use \"glob.glob\"\n",
    "\n",
    "# meaning: module glob, function glob\n",
    "\n",
    "# the function takes a string as an argument, a pattern, e.g., '*.txt' or 'a*.txt'\n",
    "\n",
    "import glob\n",
    "glob.glob('*.py')"
   ]
  },
  {
   "cell_type": "markdown",
   "id": "03f43dcd",
   "metadata": {},
   "source": [
    "# Exercise: List matching filenames\n",
    "\n",
    "1. Ask the user, repeatedly, to enter a \"globbing pattern\" for filenames in the current directory.\n",
    "2. If the user enters an empty string, stop asking.\n",
    "3. Get the list of filenames matching the pattern with `glob.glob`, and iterate over them, printing one name at a time.\n",
    "\n",
    "Example:\n",
    "\n",
    "    Enter pattern: *.py\n",
    "        vowels.py\n",
    "        mymod.py\n",
    "    Enter pattern: *.ipynb\n",
    "        week1.ipynb\n",
    "        week2.ipynb\n",
    "        week3.ipynb\n",
    "        week4.ipynb\n",
    "        week5.ipynb\n",
    "    Enter pattern: [ENTER]\n",
    "    \n",
    "        "
   ]
  },
  {
   "cell_type": "code",
   "execution_count": 100,
   "id": "1350f11c",
   "metadata": {},
   "outputs": [
    {
     "name": "stdout",
     "output_type": "stream",
     "text": [
      "Enter pattern: *.py\n",
      "\tvowels.py\n",
      "\tmymod.py\n",
      "Enter pattern: *.ipynb\n",
      "\t2022-06Jun-23-week-2.ipynb\n",
      "\t2022-06Jun-30-week-3.ipynb\n",
      "\t2022-06Jun-16-week-1.ipynb\n",
      "\t2022-06July-07-week-4.ipynb\n",
      "\t2022-06July-14-week-5.ipynb\n",
      "Enter pattern: asdfasfaas\n",
      "Enter pattern: \n"
     ]
    }
   ],
   "source": [
    "import glob\n",
    "\n",
    "while True:   # infinite loop -- keep going until the user gives us an empty string\n",
    "    \n",
    "    s = input('Enter pattern: ').strip()\n",
    "    \n",
    "    if s == '':   # we got an empty string? break\n",
    "        break\n",
    "        \n",
    "    for one_filename in glob.glob(s):\n",
    "        print(f'\\t{one_filename}')"
   ]
  },
  {
   "cell_type": "code",
   "execution_count": 102,
   "id": "94a9273b",
   "metadata": {},
   "outputs": [],
   "source": [
    "# \"pretty print\"\n",
    "import pprint"
   ]
  },
  {
   "cell_type": "code",
   "execution_count": 107,
   "id": "c03aa311",
   "metadata": {},
   "outputs": [],
   "source": [
    "d = {'a':[10, 20, 30,40,50,60], 'b':[100, 200, 300], 'c':[1,2,3,4,5,6,7]}"
   ]
  },
  {
   "cell_type": "code",
   "execution_count": 108,
   "id": "20a5441f",
   "metadata": {},
   "outputs": [
    {
     "name": "stdout",
     "output_type": "stream",
     "text": [
      "{'a': [10, 20, 30, 40, 50, 60], 'b': [100, 200, 300], 'c': [1, 2, 3, 4, 5, 6, 7]}\n"
     ]
    }
   ],
   "source": [
    "print(d)"
   ]
  },
  {
   "cell_type": "code",
   "execution_count": 109,
   "id": "3598be65",
   "metadata": {},
   "outputs": [
    {
     "name": "stdout",
     "output_type": "stream",
     "text": [
      "{'a': [10, 20, 30, 40, 50, 60],\n",
      " 'b': [100, 200, 300],\n",
      " 'c': [1, 2, 3, 4, 5, 6, 7]}\n"
     ]
    }
   ],
   "source": [
    "pprint.pprint(d)"
   ]
  },
  {
   "cell_type": "code",
   "execution_count": 110,
   "id": "b84fba50",
   "metadata": {},
   "outputs": [
    {
     "name": "stdout",
     "output_type": "stream",
     "text": [
      "{'a': [10, 20, 30, 40, 50, 60],\n",
      " 'b': [100, 200, 300],\n",
      " 'c': [1, 2, 3, 4, 5, 6, 7]}\n"
     ]
    }
   ],
   "source": [
    "pprint.pp(d)"
   ]
  },
  {
   "cell_type": "code",
   "execution_count": 111,
   "id": "2648cd7b",
   "metadata": {},
   "outputs": [
    {
     "data": {
      "text/plain": [
       "{'a': [10, 20, 30, 40, 50, 60],\n",
       " 'b': [100, 200, 300],\n",
       " 'c': [1, 2, 3, 4, 5, 6, 7]}"
      ]
     },
     "execution_count": 111,
     "metadata": {},
     "output_type": "execute_result"
    }
   ],
   "source": [
    "d"
   ]
  },
  {
   "cell_type": "code",
   "execution_count": 112,
   "id": "1bc61468",
   "metadata": {},
   "outputs": [],
   "source": [
    "from iso4217 import Currency"
   ]
  },
  {
   "cell_type": "code",
   "execution_count": 113,
   "id": "3d4533d7",
   "metadata": {},
   "outputs": [
    {
     "data": {
      "text/plain": [
       "<Currency.ils: 'ILS'>"
      ]
     },
     "execution_count": 113,
     "metadata": {},
     "output_type": "execute_result"
    }
   ],
   "source": [
    "Currency.ils"
   ]
  },
  {
   "cell_type": "code",
   "execution_count": 114,
   "id": "636c8188",
   "metadata": {},
   "outputs": [
    {
     "data": {
      "text/plain": [
       "'ILS'"
      ]
     },
     "execution_count": 114,
     "metadata": {},
     "output_type": "execute_result"
    }
   ],
   "source": [
    "Currency.ils.code"
   ]
  },
  {
   "cell_type": "code",
   "execution_count": 115,
   "id": "fef32b13",
   "metadata": {},
   "outputs": [
    {
     "data": {
      "text/plain": [
       "frozenset({'ISRAEL'})"
      ]
     },
     "execution_count": 115,
     "metadata": {},
     "output_type": "execute_result"
    }
   ],
   "source": [
    "Currency.ils.country_names"
   ]
  },
  {
   "cell_type": "code",
   "execution_count": 116,
   "id": "34e8bb5d",
   "metadata": {},
   "outputs": [
    {
     "data": {
      "text/plain": [
       "<Currency.usd: 'USD'>"
      ]
     },
     "execution_count": 116,
     "metadata": {},
     "output_type": "execute_result"
    }
   ],
   "source": [
    "Currency.usd"
   ]
  },
  {
   "cell_type": "code",
   "execution_count": 117,
   "id": "de0a47de",
   "metadata": {},
   "outputs": [
    {
     "data": {
      "text/plain": [
       "frozenset({'AMERICAN SAMOA',\n",
       "           'BONAIRE, SINT EUSTATIUS AND SABA',\n",
       "           'BRITISH INDIAN OCEAN TERRITORY (THE)',\n",
       "           'ECUADOR',\n",
       "           'EL SALVADOR',\n",
       "           'GUAM',\n",
       "           'HAITI',\n",
       "           'MARSHALL ISLANDS (THE)',\n",
       "           'MICRONESIA (FEDERATED STATES OF)',\n",
       "           'NORTHERN MARIANA ISLANDS (THE)',\n",
       "           'PALAU',\n",
       "           'PANAMA',\n",
       "           'PUERTO RICO',\n",
       "           'TIMOR-LESTE',\n",
       "           'TURKS AND CAICOS ISLANDS (THE)',\n",
       "           'UNITED STATES MINOR OUTLYING ISLANDS (THE)',\n",
       "           'UNITED STATES OF AMERICA (THE)',\n",
       "           'VIRGIN ISLANDS (BRITISH)',\n",
       "           'VIRGIN ISLANDS (U.S.)'})"
      ]
     },
     "execution_count": 117,
     "metadata": {},
     "output_type": "execute_result"
    }
   ],
   "source": [
    "Currency.usd.country_names"
   ]
  },
  {
   "cell_type": "markdown",
   "id": "b1f4bb10",
   "metadata": {},
   "source": [
    "# Next up\n",
    "\n",
    "1. Trying some popular packages from PyPI\n",
    "2. Q&A (about Python, life, software engineering)\n",
    "3. Where do we go from here?"
   ]
  },
  {
   "cell_type": "code",
   "execution_count": 119,
   "id": "62cb5cdc",
   "metadata": {},
   "outputs": [],
   "source": [
    "from friendly import jupyter"
   ]
  },
  {
   "cell_type": "code",
   "execution_count": 120,
   "id": "b0c180ce",
   "metadata": {},
   "outputs": [
    {
     "data": {
      "text/html": [
       "<div id='friendly-message2'><pre style='white-space:pre;overflow-x:auto;line-height:normal'><span style=\"color: #dd0000; text-decoration-color: #dd0000; background-color: #ffffff\">TypeError</span>: unsupported operand type(s) for +: 'int' and 'str'         \n",
       "</pre></div>"
      ],
      "text/plain": [
       "\u001b[38;2;221;0;0;48;2;255;255;255mTypeError\u001b[0m: unsupported operand type(s) for +: 'int' and 'str'         \n"
      ]
     },
     "metadata": {},
     "output_type": "display_data"
    },
    {
     "data": {
      "text/html": [
       "\n",
       "        <button\n",
       "            id='friendly-tb-btn-show2'\n",
       "            onclick='friendly_toggle_more2()'\n",
       "            style=''>\n",
       "        More ...\n",
       "        </button>\n",
       "        <script type=\"text/Javascript\"> function friendly_toggle_more2(){\n",
       "        var btn = document.getElementById('friendly-tb-btn-show2');\n",
       "        var btn_what = document.getElementById('friendly-tb-btn-show-what2');\n",
       "        var btn_where = document.getElementById('friendly-tb-btn-show-where2');\n",
       "        var btn_why = document.getElementById('friendly-tb-btn-show-why2');\n",
       "        ;\n",
       "        var message = document.getElementById('friendly-message2');\n",
       "        var friendly_tb_content = document.getElementById('friendly-tb-friendly_tb-content2');\n",
       "        var what_content = document.getElementById('friendly-tb-what-content2');\n",
       "        var why_content = document.getElementById('friendly-tb-why-content2');\n",
       "        var where_content = document.getElementById('friendly-tb-where-content2');\n",
       "        ;\n",
       "\n",
       "        if (btn_what.style.display == 'none'){\n",
       "            message.style.display = 'none';\n",
       "            btn_what.style.display = 'block';\n",
       "            btn_why.style.display = 'block';\n",
       "            btn_where.style.display = 'block';\n",
       "            friendly_tb_content.style.display = 'block';\n",
       "            ;\n",
       "            btn.textContent = \"Show message only\";\n",
       "            ;\n",
       "        } else {\n",
       "            btn_what.style.display = 'none';\n",
       "            btn_what.textContent = 'what()';\n",
       "            btn_why.style.display = 'none';\n",
       "            btn_why.textContent = 'why()';\n",
       "            btn_where.style.display = 'none';\n",
       "            btn_where.textContent = 'where()';\n",
       "            what_content.style.display = 'none';\n",
       "            why_content.style.display = 'none';\n",
       "            where_content.style.display = 'none';\n",
       "            ;\n",
       "            friendly_tb_content.style.display = 'none';\n",
       "            message.style.display = 'block';\n",
       "            btn.textContent = \"More ...\";\n",
       "            ;\n",
       "        }\n",
       "        };\n",
       "        </script>\n",
       "        "
      ]
     },
     "metadata": {},
     "output_type": "display_data"
    },
    {
     "data": {
      "text/html": [
       "<div id='friendly-tb-friendly_tb-content2' style='display:none'><pre style='white-space:pre;overflow-x:auto;line-height:normal'><span style=\"color: #dd0000; text-decoration-color: #dd0000; background-color: #ffffff\">Traceback (most recent call last):</span><span style=\"background-color: #ffffff\">                                                                  </span>\n",
       "<span style=\"color: #101010; text-decoration-color: #101010; background-color: #ffffff\">  Code block </span><span style=\"color: #783114; text-decoration-color: #783114; background-color: #ffffff\">[</span><span style=\"color: #101010; text-decoration-color: #101010; background-color: #ffffff\">120</span><span style=\"color: #783114; text-decoration-color: #783114; background-color: #ffffff\">]</span><span style=\"color: #101010; text-decoration-color: #101010; background-color: #ffffff\">, line 6</span><span style=\"background-color: #ffffff\">                                                                          </span>\n",
       "<span style=\"color: #101010; text-decoration-color: #101010; background-color: #ffffff\">    </span><span style=\"color: #005500; text-decoration-color: #005500; background-color: #ffffff\">print</span><span style=\"color: #783114; text-decoration-color: #783114; background-color: #ffffff\">(</span><span style=\"color: #0011aa; text-decoration-color: #0011aa; background-color: #ffffff\">x</span><span style=\"color: #783114; text-decoration-color: #783114; background-color: #ffffff\">+</span><span style=\"color: #0011aa; text-decoration-color: #0011aa; background-color: #ffffff\">y</span><span style=\"color: #783114; text-decoration-color: #783114; background-color: #ffffff\">)</span><span style=\"background-color: #ffffff\">                                                                                      </span>\n",
       "<span style=\"color: #dd0000; text-decoration-color: #dd0000; background-color: #ffffff\">TypeError</span><span style=\"color: #101010; text-decoration-color: #101010; background-color: #ffffff\">: </span><span style=\"color: #0011aa; text-decoration-color: #0011aa; background-color: #ffffff\">unsupported operand type(s) for +: 'int' and 'str'</span><span style=\"background-color: #ffffff\">                                       </span>\n",
       "\n",
       "Did you forget to convert the string <span style=\"color: #0011aa; text-decoration-color: #0011aa; background-color: #ffffff\">y</span> into an integer (<span style=\"color: #005500; text-decoration-color: #005500; background-color: #ffffff\">int</span>)?                                       \n",
       "</pre></div>"
      ],
      "text/plain": [
       "\u001b[38;2;221;0;0;48;2;255;255;255mTraceback (most recent call last):\u001b[0m\u001b[48;2;255;255;255m                                                                  \u001b[0m\n",
       "\u001b[38;2;16;16;16;48;2;255;255;255m  Code block \u001b[0m\u001b[38;2;120;49;20;48;2;255;255;255m[\u001b[0m\u001b[38;2;16;16;16;48;2;255;255;255m120\u001b[0m\u001b[38;2;120;49;20;48;2;255;255;255m]\u001b[0m\u001b[38;2;16;16;16;48;2;255;255;255m, line \u001b[0m\u001b[38;2;16;16;16;48;2;255;255;255m6\u001b[0m\u001b[48;2;255;255;255m                                                                          \u001b[0m\n",
       "\u001b[38;2;16;16;16;48;2;255;255;255m    \u001b[0m\u001b[38;2;0;85;0;48;2;255;255;255mprint\u001b[0m\u001b[38;2;120;49;20;48;2;255;255;255m(\u001b[0m\u001b[38;2;0;17;170;48;2;255;255;255mx\u001b[0m\u001b[38;2;120;49;20;48;2;255;255;255m+\u001b[0m\u001b[38;2;0;17;170;48;2;255;255;255my\u001b[0m\u001b[38;2;120;49;20;48;2;255;255;255m)\u001b[0m\u001b[48;2;255;255;255m                                                                                      \u001b[0m\n",
       "\u001b[38;2;221;0;0;48;2;255;255;255mTypeError\u001b[0m\u001b[38;2;16;16;16;48;2;255;255;255m: \u001b[0m\u001b[38;2;0;17;170;48;2;255;255;255munsupported operand type(s) for +: 'int' and 'str'\u001b[0m\u001b[48;2;255;255;255m                                       \u001b[0m\n",
       "\n",
       "Did you forget to convert the string \u001b[38;2;0;17;170;48;2;255;255;255my\u001b[0m into an integer (\u001b[38;2;0;85;0;48;2;255;255;255mint\u001b[0m)?                                       \n"
      ]
     },
     "metadata": {},
     "output_type": "display_data"
    },
    {
     "data": {
      "text/html": [
       "<script type=\"text/Javascript\"> function toggle_what2(){\n",
       "     var content = document.getElementById('friendly-tb-what-content2');\n",
       "     var btn = document.getElementById('friendly-tb-btn-show-what2');\n",
       "        if (content.style.display === 'none') {\n",
       "            content.style.display = 'block';\n",
       "            btn.textContent = \"Hide what()\";\n",
       "        } else {\n",
       "            content.style.display = 'none';\n",
       "            btn.textContent = \"what()\";\n",
       "       }\n",
       "    }\n",
       "     </script>\n",
       "     <button\n",
       "         id='friendly-tb-btn-show-what2'\n",
       "         onclick='toggle_what2()'\n",
       "         style='display:none '>\n",
       "     what()\n",
       "     </button>\n",
       "    "
      ]
     },
     "metadata": {},
     "output_type": "display_data"
    },
    {
     "data": {
      "text/html": [
       "<div id='friendly-tb-what-content2' style='display:none'><pre style='white-space:pre;overflow-x:auto;line-height:normal'>A <span style=\"color: #dd0000; text-decoration-color: #dd0000; background-color: #ffffff\">TypeError</span> is usually caused by trying to combine two incompatible   \n",
       "types of objects, by calling a function with the wrong type of object,\n",
       "or by trying to do an operation not allowed on a given type of object.\n",
       "</pre></div>"
      ],
      "text/plain": [
       "A \u001b[38;2;221;0;0;48;2;255;255;255mTypeError\u001b[0m is usually caused by trying to combine two incompatible   \n",
       "types of objects, by calling a function with the wrong type of object,\n",
       "or by trying to do an operation not allowed on a given type of object.\n"
      ]
     },
     "metadata": {},
     "output_type": "display_data"
    },
    {
     "data": {
      "text/html": [
       "<script type=\"text/Javascript\"> function toggle_why2(){\n",
       "     var content = document.getElementById('friendly-tb-why-content2');\n",
       "     var btn = document.getElementById('friendly-tb-btn-show-why2');\n",
       "        if (content.style.display === 'none') {\n",
       "            content.style.display = 'block';\n",
       "            btn.textContent = \"Hide why()\";\n",
       "        } else {\n",
       "            content.style.display = 'none';\n",
       "            btn.textContent = \"why()\";\n",
       "       }\n",
       "    }\n",
       "     </script>\n",
       "     <button\n",
       "         id='friendly-tb-btn-show-why2'\n",
       "         onclick='toggle_why2()'\n",
       "         style='display:none '>\n",
       "     why()\n",
       "     </button>\n",
       "    "
      ]
     },
     "metadata": {},
     "output_type": "display_data"
    },
    {
     "data": {
      "text/html": [
       "<div id='friendly-tb-why-content2' style='display:none'><pre style='white-space:pre;overflow-x:auto;line-height:normal'>You tried to add two incompatible types of objects: an integer (<span style=\"color: #005500; text-decoration-color: #005500; background-color: #ffffff\">int</span>)  \n",
       "and a string (<span style=\"color: #005500; text-decoration-color: #005500; background-color: #ffffff\">str</span>). Perhaps you forgot to convert the string <span style=\"color: #0011aa; text-decoration-color: #0011aa; background-color: #ffffff\">y</span> into an\n",
       "integer (<span style=\"color: #005500; text-decoration-color: #005500; background-color: #ffffff\">int</span>).                                                        \n",
       "</pre></div>"
      ],
      "text/plain": [
       "You tried to add two incompatible types of objects: an integer (\u001b[38;2;0;85;0;48;2;255;255;255mint\u001b[0m)  \n",
       "and a string (\u001b[38;2;0;85;0;48;2;255;255;255mstr\u001b[0m). Perhaps you forgot to convert the string \u001b[38;2;0;17;170;48;2;255;255;255my\u001b[0m into an\n",
       "integer (\u001b[38;2;0;85;0;48;2;255;255;255mint\u001b[0m).                                                        \n"
      ]
     },
     "metadata": {},
     "output_type": "display_data"
    },
    {
     "data": {
      "text/html": [
       "<script type=\"text/Javascript\"> function toggle_where2(){\n",
       "     var content = document.getElementById('friendly-tb-where-content2');\n",
       "     var btn = document.getElementById('friendly-tb-btn-show-where2');\n",
       "        if (content.style.display === 'none') {\n",
       "            content.style.display = 'block';\n",
       "            btn.textContent = \"Hide where()\";\n",
       "        } else {\n",
       "            content.style.display = 'none';\n",
       "            btn.textContent = \"where()\";\n",
       "       }\n",
       "    }\n",
       "     </script>\n",
       "     <button\n",
       "         id='friendly-tb-btn-show-where2'\n",
       "         onclick='toggle_where2()'\n",
       "         style='display:none '>\n",
       "     where()\n",
       "     </button>\n",
       "    "
      ]
     },
     "metadata": {},
     "output_type": "display_data"
    },
    {
     "data": {
      "text/html": [
       "<div id='friendly-tb-where-content2' style='display:none'><pre style='white-space:pre;overflow-x:auto;line-height:normal'><span style=\"color: #dd0000; text-decoration-color: #dd0000\">Exception raised on line 6 of code block </span><span style=\"color: #783114; text-decoration-color: #783114; background-color: #ffffff\">[</span><span style=\"color: #101010; text-decoration-color: #101010; background-color: #ffffff\">120</span><span style=\"color: #783114; text-decoration-color: #783114; background-color: #ffffff\">]</span><span style=\"color: #dd0000; text-decoration-color: #dd0000\">.</span>                                                     \n",
       "\n",
       "<span style=\"color: #101010; text-decoration-color: #101010; background-color: #ffffff\">       1</span><span style=\"color: #783114; text-decoration-color: #783114; background-color: #ffffff\">:</span><span style=\"color: #101010; text-decoration-color: #101010; background-color: #ffffff\"> </span><span style=\"color: #808080; text-decoration-color: #808080; background-color: #ffffff\"># the point of \"friendly\" is to give you better info about your errors</span><span style=\"background-color: #ffffff\">                    </span>\n",
       "<span style=\"color: #101010; text-decoration-color: #101010; background-color: #ffffff\">       2</span><span style=\"color: #783114; text-decoration-color: #783114; background-color: #ffffff\">:</span><span style=\"color: #101010; text-decoration-color: #101010; background-color: #ffffff\"> </span><span style=\"background-color: #ffffff\">                                                                                          </span>\n",
       "<span style=\"color: #101010; text-decoration-color: #101010; background-color: #ffffff\">       3</span><span style=\"color: #783114; text-decoration-color: #783114; background-color: #ffffff\">:</span><span style=\"color: #101010; text-decoration-color: #101010; background-color: #ffffff\"> </span><span style=\"color: #0011aa; text-decoration-color: #0011aa; background-color: #ffffff\">x</span><span style=\"color: #101010; text-decoration-color: #101010; background-color: #ffffff\"> </span><span style=\"color: #783114; text-decoration-color: #783114; background-color: #ffffff\">=</span><span style=\"color: #101010; text-decoration-color: #101010; background-color: #ffffff\"> 10</span><span style=\"background-color: #ffffff\">                                                                                    </span>\n",
       "<span style=\"color: #101010; text-decoration-color: #101010; background-color: #ffffff\">       4</span><span style=\"color: #783114; text-decoration-color: #783114; background-color: #ffffff\">:</span><span style=\"color: #101010; text-decoration-color: #101010; background-color: #ffffff\"> </span><span style=\"color: #0011aa; text-decoration-color: #0011aa; background-color: #ffffff\">y</span><span style=\"color: #101010; text-decoration-color: #101010; background-color: #ffffff\"> </span><span style=\"color: #783114; text-decoration-color: #783114; background-color: #ffffff\">=</span><span style=\"color: #101010; text-decoration-color: #101010; background-color: #ffffff\"> </span><span style=\"color: #8b008b; text-decoration-color: #8b008b; background-color: #ffffff\">'20'</span><span style=\"color: #101010; text-decoration-color: #101010; background-color: #ffffff\">  </span><span style=\"color: #808080; text-decoration-color: #808080; background-color: #ffffff\"># string!</span><span style=\"background-color: #ffffff\">                                                                       </span>\n",
       "<span style=\"color: #101010; text-decoration-color: #101010; background-color: #ffffff\">       5</span><span style=\"color: #783114; text-decoration-color: #783114; background-color: #ffffff\">:</span><span style=\"color: #101010; text-decoration-color: #101010; background-color: #ffffff\"> </span><span style=\"background-color: #ffffff\">                                                                                          </span>\n",
       "<span style=\"color: #0011aa; text-decoration-color: #0011aa; background-color: #ffffff\">    </span><span style=\"color: #783114; text-decoration-color: #783114; background-color: #ffffff\">--&gt;</span><span style=\"color: #101010; text-decoration-color: #101010; background-color: #ffffff\">6</span><span style=\"color: #783114; text-decoration-color: #783114; background-color: #ffffff\">:</span><span style=\"color: #0011aa; text-decoration-color: #0011aa; background-color: #ffffff\"> </span><span style=\"color: #005500; text-decoration-color: #005500; background-color: #ffffff\">print</span><span style=\"color: #783114; text-decoration-color: #783114; background-color: #ffffff\">(</span><span style=\"color: #ffffff; text-decoration-color: #ffffff; background-color: #cc0000\">x+y</span><span style=\"color: #783114; text-decoration-color: #783114; background-color: #ffffff\">)</span>\n",
       "\n",
       "<span style=\"color: #101010; text-decoration-color: #101010; background-color: #ffffff\">    </span><span style=\"color: #0011aa; text-decoration-color: #0011aa; background-color: #ffffff\">x</span><span style=\"color: #783114; text-decoration-color: #783114; background-color: #ffffff\">:</span><span style=\"color: #101010; text-decoration-color: #101010; background-color: #ffffff\">  10</span><span style=\"background-color: #ffffff\">                                                                                          </span>\n",
       "<span style=\"color: #101010; text-decoration-color: #101010; background-color: #ffffff\">    </span><span style=\"color: #0011aa; text-decoration-color: #0011aa; background-color: #ffffff\">y</span><span style=\"color: #783114; text-decoration-color: #783114; background-color: #ffffff\">:</span><span style=\"color: #101010; text-decoration-color: #101010; background-color: #ffffff\">  </span><span style=\"color: #8b008b; text-decoration-color: #8b008b; background-color: #ffffff\">'20'</span><span style=\"background-color: #ffffff\">                                                                                        </span>\n",
       "</pre></div>"
      ],
      "text/plain": [
       "\u001b[38;2;221;0;0mException raised on line 6 of code block \u001b[0m\u001b[38;2;120;49;20;48;2;255;255;255m[\u001b[0m\u001b[38;2;16;16;16;48;2;255;255;255m120\u001b[0m\u001b[38;2;120;49;20;48;2;255;255;255m]\u001b[0m\u001b[38;2;221;0;0m.\u001b[0m                                                     \n",
       "\n",
       "\u001b[38;2;16;16;16;48;2;255;255;255m       \u001b[0m\u001b[38;2;16;16;16;48;2;255;255;255m1\u001b[0m\u001b[38;2;120;49;20;48;2;255;255;255m:\u001b[0m\u001b[38;2;16;16;16;48;2;255;255;255m \u001b[0m\u001b[38;2;128;128;128;48;2;255;255;255m# the point of \"friendly\" is to give you better info about your errors\u001b[0m\u001b[48;2;255;255;255m                    \u001b[0m\n",
       "\u001b[38;2;16;16;16;48;2;255;255;255m       \u001b[0m\u001b[38;2;16;16;16;48;2;255;255;255m2\u001b[0m\u001b[38;2;120;49;20;48;2;255;255;255m:\u001b[0m\u001b[38;2;16;16;16;48;2;255;255;255m \u001b[0m\u001b[48;2;255;255;255m                                                                                          \u001b[0m\n",
       "\u001b[38;2;16;16;16;48;2;255;255;255m       \u001b[0m\u001b[38;2;16;16;16;48;2;255;255;255m3\u001b[0m\u001b[38;2;120;49;20;48;2;255;255;255m:\u001b[0m\u001b[38;2;16;16;16;48;2;255;255;255m \u001b[0m\u001b[38;2;0;17;170;48;2;255;255;255mx\u001b[0m\u001b[38;2;16;16;16;48;2;255;255;255m \u001b[0m\u001b[38;2;120;49;20;48;2;255;255;255m=\u001b[0m\u001b[38;2;16;16;16;48;2;255;255;255m \u001b[0m\u001b[38;2;16;16;16;48;2;255;255;255m10\u001b[0m\u001b[48;2;255;255;255m                                                                                    \u001b[0m\n",
       "\u001b[38;2;16;16;16;48;2;255;255;255m       \u001b[0m\u001b[38;2;16;16;16;48;2;255;255;255m4\u001b[0m\u001b[38;2;120;49;20;48;2;255;255;255m:\u001b[0m\u001b[38;2;16;16;16;48;2;255;255;255m \u001b[0m\u001b[38;2;0;17;170;48;2;255;255;255my\u001b[0m\u001b[38;2;16;16;16;48;2;255;255;255m \u001b[0m\u001b[38;2;120;49;20;48;2;255;255;255m=\u001b[0m\u001b[38;2;16;16;16;48;2;255;255;255m \u001b[0m\u001b[38;2;139;0;139;48;2;255;255;255m'\u001b[0m\u001b[38;2;139;0;139;48;2;255;255;255m20\u001b[0m\u001b[38;2;139;0;139;48;2;255;255;255m'\u001b[0m\u001b[38;2;16;16;16;48;2;255;255;255m  \u001b[0m\u001b[38;2;128;128;128;48;2;255;255;255m# string!\u001b[0m\u001b[48;2;255;255;255m                                                                       \u001b[0m\n",
       "\u001b[38;2;16;16;16;48;2;255;255;255m       \u001b[0m\u001b[38;2;16;16;16;48;2;255;255;255m5\u001b[0m\u001b[38;2;120;49;20;48;2;255;255;255m:\u001b[0m\u001b[38;2;16;16;16;48;2;255;255;255m \u001b[0m\u001b[48;2;255;255;255m                                                                                          \u001b[0m\n",
       "\u001b[38;2;0;17;170;48;2;255;255;255m    \u001b[0m\u001b[38;2;120;49;20;48;2;255;255;255m-\u001b[0m\u001b[38;2;120;49;20;48;2;255;255;255m->\u001b[0m\u001b[38;2;16;16;16;48;2;255;255;255m6\u001b[0m\u001b[38;2;120;49;20;48;2;255;255;255m:\u001b[0m\u001b[38;2;0;17;170;48;2;255;255;255m \u001b[0m\u001b[38;2;0;85;0;48;2;255;255;255mprint\u001b[0m\u001b[38;2;120;49;20;48;2;255;255;255m(\u001b[0m\u001b[38;2;255;255;255;48;2;204;0;0mx+y\u001b[0m\u001b[38;2;120;49;20;48;2;255;255;255m)\u001b[0m\n",
       "\n",
       "\u001b[38;2;16;16;16;48;2;255;255;255m    \u001b[0m\u001b[38;2;0;17;170;48;2;255;255;255mx\u001b[0m\u001b[38;2;120;49;20;48;2;255;255;255m:\u001b[0m\u001b[38;2;16;16;16;48;2;255;255;255m  \u001b[0m\u001b[38;2;16;16;16;48;2;255;255;255m10\u001b[0m\u001b[48;2;255;255;255m                                                                                          \u001b[0m\n",
       "\u001b[38;2;16;16;16;48;2;255;255;255m    \u001b[0m\u001b[38;2;0;17;170;48;2;255;255;255my\u001b[0m\u001b[38;2;120;49;20;48;2;255;255;255m:\u001b[0m\u001b[38;2;16;16;16;48;2;255;255;255m  \u001b[0m\u001b[38;2;139;0;139;48;2;255;255;255m'\u001b[0m\u001b[38;2;139;0;139;48;2;255;255;255m20\u001b[0m\u001b[38;2;139;0;139;48;2;255;255;255m'\u001b[0m\u001b[48;2;255;255;255m                                                                                        \u001b[0m\n"
      ]
     },
     "metadata": {},
     "output_type": "display_data"
    }
   ],
   "source": [
    "# the point of \"friendly\" is to give you better info about your errors\n",
    "\n",
    "x = 10\n",
    "y = '20'  # string!\n",
    "\n",
    "print(x+y)"
   ]
  },
  {
   "cell_type": "code",
   "execution_count": 121,
   "id": "257d1773",
   "metadata": {},
   "outputs": [
    {
     "data": {
      "text/html": [
       "<div id='friendly-message3'><pre style='white-space:pre;overflow-x:auto;line-height:normal'><span style=\"color: #dd0000; text-decoration-color: #dd0000; background-color: #ffffff\">TypeError</span>: hello() takes 1 positional argument but 2 were given       \n",
       "</pre></div>"
      ],
      "text/plain": [
       "\u001b[38;2;221;0;0;48;2;255;255;255mTypeError\u001b[0m: hello() takes 1 positional argument but 2 were given       \n"
      ]
     },
     "metadata": {},
     "output_type": "display_data"
    },
    {
     "data": {
      "text/html": [
       "\n",
       "        <button\n",
       "            id='friendly-tb-btn-show3'\n",
       "            onclick='friendly_toggle_more3()'\n",
       "            style=''>\n",
       "        More ...\n",
       "        </button>\n",
       "        <script type=\"text/Javascript\"> function friendly_toggle_more3(){\n",
       "        var btn = document.getElementById('friendly-tb-btn-show3');\n",
       "        var btn_what = document.getElementById('friendly-tb-btn-show-what3');\n",
       "        var btn_where = document.getElementById('friendly-tb-btn-show-where3');\n",
       "        var btn_why = document.getElementById('friendly-tb-btn-show-why3');\n",
       "        ;\n",
       "        var message = document.getElementById('friendly-message3');\n",
       "        var friendly_tb_content = document.getElementById('friendly-tb-friendly_tb-content3');\n",
       "        var what_content = document.getElementById('friendly-tb-what-content3');\n",
       "        var why_content = document.getElementById('friendly-tb-why-content3');\n",
       "        var where_content = document.getElementById('friendly-tb-where-content3');\n",
       "        ;\n",
       "\n",
       "        if (btn_what.style.display == 'none'){\n",
       "            message.style.display = 'none';\n",
       "            btn_what.style.display = 'block';\n",
       "            btn_why.style.display = 'block';\n",
       "            btn_where.style.display = 'block';\n",
       "            friendly_tb_content.style.display = 'block';\n",
       "            ;\n",
       "            btn.textContent = \"Show message only\";\n",
       "            ;\n",
       "        } else {\n",
       "            btn_what.style.display = 'none';\n",
       "            btn_what.textContent = 'what()';\n",
       "            btn_why.style.display = 'none';\n",
       "            btn_why.textContent = 'why()';\n",
       "            btn_where.style.display = 'none';\n",
       "            btn_where.textContent = 'where()';\n",
       "            what_content.style.display = 'none';\n",
       "            why_content.style.display = 'none';\n",
       "            where_content.style.display = 'none';\n",
       "            ;\n",
       "            friendly_tb_content.style.display = 'none';\n",
       "            message.style.display = 'block';\n",
       "            btn.textContent = \"More ...\";\n",
       "            ;\n",
       "        }\n",
       "        };\n",
       "        </script>\n",
       "        "
      ]
     },
     "metadata": {},
     "output_type": "display_data"
    },
    {
     "data": {
      "text/html": [
       "<div id='friendly-tb-friendly_tb-content3' style='display:none'><pre style='white-space:pre;overflow-x:auto;line-height:normal'><span style=\"color: #dd0000; text-decoration-color: #dd0000; background-color: #ffffff\">Traceback (most recent call last):</span><span style=\"background-color: #ffffff\">                                                                  </span>\n",
       "<span style=\"color: #101010; text-decoration-color: #101010; background-color: #ffffff\">  Code block </span><span style=\"color: #783114; text-decoration-color: #783114; background-color: #ffffff\">[</span><span style=\"color: #101010; text-decoration-color: #101010; background-color: #ffffff\">121</span><span style=\"color: #783114; text-decoration-color: #783114; background-color: #ffffff\">]</span><span style=\"color: #101010; text-decoration-color: #101010; background-color: #ffffff\">, line 4</span><span style=\"background-color: #ffffff\">                                                                          </span>\n",
       "<span style=\"color: #101010; text-decoration-color: #101010; background-color: #ffffff\">    </span><span style=\"color: #0011aa; text-decoration-color: #0011aa; background-color: #ffffff\">hello</span><span style=\"color: #783114; text-decoration-color: #783114; background-color: #ffffff\">(</span><span style=\"color: #8b008b; text-decoration-color: #8b008b; background-color: #ffffff\">'Reuven'</span><span style=\"color: #783114; text-decoration-color: #783114; background-color: #ffffff\">,</span><span style=\"color: #101010; text-decoration-color: #101010; background-color: #ffffff\"> </span><span style=\"color: #8b008b; text-decoration-color: #8b008b; background-color: #ffffff\">'Lerner'</span><span style=\"color: #783114; text-decoration-color: #783114; background-color: #ffffff\">)</span><span style=\"background-color: #ffffff\">                                                                       </span>\n",
       "<span style=\"color: #dd0000; text-decoration-color: #dd0000; background-color: #ffffff\">TypeError</span><span style=\"color: #101010; text-decoration-color: #101010; background-color: #ffffff\">: </span><span style=\"color: #0011aa; text-decoration-color: #0011aa; background-color: #ffffff\">hello() takes 1 positional argument but 2 were given</span><span style=\"background-color: #ffffff\">                                     </span>\n",
       "</pre></div>"
      ],
      "text/plain": [
       "\u001b[38;2;221;0;0;48;2;255;255;255mTraceback (most recent call last):\u001b[0m\u001b[48;2;255;255;255m                                                                  \u001b[0m\n",
       "\u001b[38;2;16;16;16;48;2;255;255;255m  Code block \u001b[0m\u001b[38;2;120;49;20;48;2;255;255;255m[\u001b[0m\u001b[38;2;16;16;16;48;2;255;255;255m121\u001b[0m\u001b[38;2;120;49;20;48;2;255;255;255m]\u001b[0m\u001b[38;2;16;16;16;48;2;255;255;255m, line \u001b[0m\u001b[38;2;16;16;16;48;2;255;255;255m4\u001b[0m\u001b[48;2;255;255;255m                                                                          \u001b[0m\n",
       "\u001b[38;2;16;16;16;48;2;255;255;255m    \u001b[0m\u001b[38;2;0;17;170;48;2;255;255;255mhello\u001b[0m\u001b[38;2;120;49;20;48;2;255;255;255m(\u001b[0m\u001b[38;2;139;0;139;48;2;255;255;255m'\u001b[0m\u001b[38;2;139;0;139;48;2;255;255;255mReuven\u001b[0m\u001b[38;2;139;0;139;48;2;255;255;255m'\u001b[0m\u001b[38;2;120;49;20;48;2;255;255;255m,\u001b[0m\u001b[38;2;16;16;16;48;2;255;255;255m \u001b[0m\u001b[38;2;139;0;139;48;2;255;255;255m'\u001b[0m\u001b[38;2;139;0;139;48;2;255;255;255mLerner\u001b[0m\u001b[38;2;139;0;139;48;2;255;255;255m'\u001b[0m\u001b[38;2;120;49;20;48;2;255;255;255m)\u001b[0m\u001b[48;2;255;255;255m                                                                       \u001b[0m\n",
       "\u001b[38;2;221;0;0;48;2;255;255;255mTypeError\u001b[0m\u001b[38;2;16;16;16;48;2;255;255;255m: \u001b[0m\u001b[38;2;0;17;170;48;2;255;255;255mhello() takes 1 positional argument but 2 were given\u001b[0m\u001b[48;2;255;255;255m                                     \u001b[0m\n"
      ]
     },
     "metadata": {},
     "output_type": "display_data"
    },
    {
     "data": {
      "text/html": [
       "<script type=\"text/Javascript\"> function toggle_what3(){\n",
       "     var content = document.getElementById('friendly-tb-what-content3');\n",
       "     var btn = document.getElementById('friendly-tb-btn-show-what3');\n",
       "        if (content.style.display === 'none') {\n",
       "            content.style.display = 'block';\n",
       "            btn.textContent = \"Hide what()\";\n",
       "        } else {\n",
       "            content.style.display = 'none';\n",
       "            btn.textContent = \"what()\";\n",
       "       }\n",
       "    }\n",
       "     </script>\n",
       "     <button\n",
       "         id='friendly-tb-btn-show-what3'\n",
       "         onclick='toggle_what3()'\n",
       "         style='display:none '>\n",
       "     what()\n",
       "     </button>\n",
       "    "
      ]
     },
     "metadata": {},
     "output_type": "display_data"
    },
    {
     "data": {
      "text/html": [
       "<div id='friendly-tb-what-content3' style='display:none'><pre style='white-space:pre;overflow-x:auto;line-height:normal'>A <span style=\"color: #dd0000; text-decoration-color: #dd0000; background-color: #ffffff\">TypeError</span> is usually caused by trying to combine two incompatible   \n",
       "types of objects, by calling a function with the wrong type of object,\n",
       "or by trying to do an operation not allowed on a given type of object.\n",
       "</pre></div>"
      ],
      "text/plain": [
       "A \u001b[38;2;221;0;0;48;2;255;255;255mTypeError\u001b[0m is usually caused by trying to combine two incompatible   \n",
       "types of objects, by calling a function with the wrong type of object,\n",
       "or by trying to do an operation not allowed on a given type of object.\n"
      ]
     },
     "metadata": {},
     "output_type": "display_data"
    },
    {
     "data": {
      "text/html": [
       "<script type=\"text/Javascript\"> function toggle_why3(){\n",
       "     var content = document.getElementById('friendly-tb-why-content3');\n",
       "     var btn = document.getElementById('friendly-tb-btn-show-why3');\n",
       "        if (content.style.display === 'none') {\n",
       "            content.style.display = 'block';\n",
       "            btn.textContent = \"Hide why()\";\n",
       "        } else {\n",
       "            content.style.display = 'none';\n",
       "            btn.textContent = \"why()\";\n",
       "       }\n",
       "    }\n",
       "     </script>\n",
       "     <button\n",
       "         id='friendly-tb-btn-show-why3'\n",
       "         onclick='toggle_why3()'\n",
       "         style='display:none '>\n",
       "     why()\n",
       "     </button>\n",
       "    "
      ]
     },
     "metadata": {},
     "output_type": "display_data"
    },
    {
     "data": {
      "text/html": [
       "<div id='friendly-tb-why-content3' style='display:none'><pre style='white-space:pre;overflow-x:auto;line-height:normal'>You apparently have called the function <span style=\"color: #0011aa; text-decoration-color: #0011aa; background-color: #ffffff\">hello</span> with 2 positional       \n",
       "argument(s) while it requires 1 such positional argument(s).          \n",
       "</pre></div>"
      ],
      "text/plain": [
       "You apparently have called the function \u001b[38;2;0;17;170;48;2;255;255;255mhello\u001b[0m with 2 positional       \n",
       "argument(s) while it requires 1 such positional argument(s).          \n"
      ]
     },
     "metadata": {},
     "output_type": "display_data"
    },
    {
     "data": {
      "text/html": [
       "<script type=\"text/Javascript\"> function toggle_where3(){\n",
       "     var content = document.getElementById('friendly-tb-where-content3');\n",
       "     var btn = document.getElementById('friendly-tb-btn-show-where3');\n",
       "        if (content.style.display === 'none') {\n",
       "            content.style.display = 'block';\n",
       "            btn.textContent = \"Hide where()\";\n",
       "        } else {\n",
       "            content.style.display = 'none';\n",
       "            btn.textContent = \"where()\";\n",
       "       }\n",
       "    }\n",
       "     </script>\n",
       "     <button\n",
       "         id='friendly-tb-btn-show-where3'\n",
       "         onclick='toggle_where3()'\n",
       "         style='display:none '>\n",
       "     where()\n",
       "     </button>\n",
       "    "
      ]
     },
     "metadata": {},
     "output_type": "display_data"
    },
    {
     "data": {
      "text/html": [
       "<div id='friendly-tb-where-content3' style='display:none'><pre style='white-space:pre;overflow-x:auto;line-height:normal'><span style=\"color: #dd0000; text-decoration-color: #dd0000\">Exception raised on line 4 of code block </span><span style=\"color: #783114; text-decoration-color: #783114; background-color: #ffffff\">[</span><span style=\"color: #101010; text-decoration-color: #101010; background-color: #ffffff\">121</span><span style=\"color: #783114; text-decoration-color: #783114; background-color: #ffffff\">]</span><span style=\"color: #dd0000; text-decoration-color: #dd0000\">.</span>                                                     \n",
       "\n",
       "<span style=\"color: #101010; text-decoration-color: #101010; background-color: #ffffff\">       1</span><span style=\"color: #783114; text-decoration-color: #783114; background-color: #ffffff\">:</span><span style=\"color: #101010; text-decoration-color: #101010; background-color: #ffffff\"> </span><span style=\"color: #005500; text-decoration-color: #005500; background-color: #ffffff\">def</span><span style=\"color: #101010; text-decoration-color: #101010; background-color: #ffffff\"> </span><span style=\"color: #0011aa; text-decoration-color: #0011aa; background-color: #ffffff\">hello</span><span style=\"color: #783114; text-decoration-color: #783114; background-color: #ffffff\">(</span><span style=\"color: #0011aa; text-decoration-color: #0011aa; background-color: #ffffff\">name</span><span style=\"color: #783114; text-decoration-color: #783114; background-color: #ffffff\">):</span><span style=\"background-color: #ffffff\">                                                                          </span>\n",
       "<span style=\"color: #101010; text-decoration-color: #101010; background-color: #ffffff\">       2</span><span style=\"color: #783114; text-decoration-color: #783114; background-color: #ffffff\">:</span><span style=\"color: #101010; text-decoration-color: #101010; background-color: #ffffff\">     </span><span style=\"color: #005500; text-decoration-color: #005500; background-color: #ffffff\">return</span><span style=\"color: #101010; text-decoration-color: #101010; background-color: #ffffff\"> </span><span style=\"color: #8b008b; text-decoration-color: #8b008b; background-color: #ffffff\">f'Hello, {</span><span style=\"color: #0011aa; text-decoration-color: #0011aa; background-color: #ffffff\">name</span><span style=\"color: #8b008b; text-decoration-color: #8b008b; background-color: #ffffff\">}!'</span><span style=\"background-color: #ffffff\">                                                              </span>\n",
       "<span style=\"color: #101010; text-decoration-color: #101010; background-color: #ffffff\">       3</span><span style=\"color: #783114; text-decoration-color: #783114; background-color: #ffffff\">:</span><span style=\"color: #101010; text-decoration-color: #101010; background-color: #ffffff\"> </span><span style=\"background-color: #ffffff\">                                                                                          </span>\n",
       "<span style=\"color: #0011aa; text-decoration-color: #0011aa; background-color: #ffffff\">    </span><span style=\"color: #783114; text-decoration-color: #783114; background-color: #ffffff\">--&gt;</span><span style=\"color: #101010; text-decoration-color: #101010; background-color: #ffffff\">4</span><span style=\"color: #783114; text-decoration-color: #783114; background-color: #ffffff\">:</span><span style=\"color: #0011aa; text-decoration-color: #0011aa; background-color: #ffffff\"> </span><span style=\"color: #ffffff; text-decoration-color: #ffffff; background-color: #cc0000\">hello('Reuven', 'Lerner')</span>\n",
       "\n",
       "<span style=\"color: #101010; text-decoration-color: #101010; background-color: #ffffff\">    </span><span style=\"color: #0011aa; text-decoration-color: #0011aa; background-color: #ffffff\">hello</span><span style=\"color: #783114; text-decoration-color: #783114; background-color: #ffffff\">:</span><span style=\"color: #101010; text-decoration-color: #101010; background-color: #ffffff\">  </span><span style=\"color: #783114; text-decoration-color: #783114; background-color: #ffffff\">&lt;</span><span style=\"color: #0011aa; text-decoration-color: #0011aa; background-color: #ffffff\">function</span><span style=\"color: #101010; text-decoration-color: #101010; background-color: #ffffff\"> </span><span style=\"color: #0011aa; text-decoration-color: #0011aa; background-color: #ffffff\">hello</span><span style=\"color: #783114; text-decoration-color: #783114; background-color: #ffffff\">&gt;</span><span style=\"background-color: #ffffff\">                                                                        </span>\n",
       "</pre></div>"
      ],
      "text/plain": [
       "\u001b[38;2;221;0;0mException raised on line 4 of code block \u001b[0m\u001b[38;2;120;49;20;48;2;255;255;255m[\u001b[0m\u001b[38;2;16;16;16;48;2;255;255;255m121\u001b[0m\u001b[38;2;120;49;20;48;2;255;255;255m]\u001b[0m\u001b[38;2;221;0;0m.\u001b[0m                                                     \n",
       "\n",
       "\u001b[38;2;16;16;16;48;2;255;255;255m       \u001b[0m\u001b[38;2;16;16;16;48;2;255;255;255m1\u001b[0m\u001b[38;2;120;49;20;48;2;255;255;255m:\u001b[0m\u001b[38;2;16;16;16;48;2;255;255;255m \u001b[0m\u001b[38;2;0;85;0;48;2;255;255;255mdef\u001b[0m\u001b[38;2;16;16;16;48;2;255;255;255m \u001b[0m\u001b[38;2;0;17;170;48;2;255;255;255mhello\u001b[0m\u001b[38;2;120;49;20;48;2;255;255;255m(\u001b[0m\u001b[38;2;0;17;170;48;2;255;255;255mname\u001b[0m\u001b[38;2;120;49;20;48;2;255;255;255m)\u001b[0m\u001b[38;2;120;49;20;48;2;255;255;255m:\u001b[0m\u001b[48;2;255;255;255m                                                                          \u001b[0m\n",
       "\u001b[38;2;16;16;16;48;2;255;255;255m       \u001b[0m\u001b[38;2;16;16;16;48;2;255;255;255m2\u001b[0m\u001b[38;2;120;49;20;48;2;255;255;255m:\u001b[0m\u001b[38;2;16;16;16;48;2;255;255;255m     \u001b[0m\u001b[38;2;0;85;0;48;2;255;255;255mreturn\u001b[0m\u001b[38;2;16;16;16;48;2;255;255;255m \u001b[0m\u001b[38;2;139;0;139;48;2;255;255;255mf\u001b[0m\u001b[38;2;139;0;139;48;2;255;255;255m'\u001b[0m\u001b[38;2;139;0;139;48;2;255;255;255mHello, \u001b[0m\u001b[38;2;139;0;139;48;2;255;255;255m{\u001b[0m\u001b[38;2;0;17;170;48;2;255;255;255mname\u001b[0m\u001b[38;2;139;0;139;48;2;255;255;255m}\u001b[0m\u001b[38;2;139;0;139;48;2;255;255;255m!\u001b[0m\u001b[38;2;139;0;139;48;2;255;255;255m'\u001b[0m\u001b[48;2;255;255;255m                                                              \u001b[0m\n",
       "\u001b[38;2;16;16;16;48;2;255;255;255m       \u001b[0m\u001b[38;2;16;16;16;48;2;255;255;255m3\u001b[0m\u001b[38;2;120;49;20;48;2;255;255;255m:\u001b[0m\u001b[38;2;16;16;16;48;2;255;255;255m \u001b[0m\u001b[48;2;255;255;255m                                                                                          \u001b[0m\n",
       "\u001b[38;2;0;17;170;48;2;255;255;255m    \u001b[0m\u001b[38;2;120;49;20;48;2;255;255;255m-\u001b[0m\u001b[38;2;120;49;20;48;2;255;255;255m->\u001b[0m\u001b[38;2;16;16;16;48;2;255;255;255m4\u001b[0m\u001b[38;2;120;49;20;48;2;255;255;255m:\u001b[0m\u001b[38;2;0;17;170;48;2;255;255;255m \u001b[0m\u001b[38;2;255;255;255;48;2;204;0;0mhello('Reuven', 'Lerner')\u001b[0m\n",
       "\n",
       "\u001b[38;2;16;16;16;48;2;255;255;255m    \u001b[0m\u001b[38;2;0;17;170;48;2;255;255;255mhello\u001b[0m\u001b[38;2;120;49;20;48;2;255;255;255m:\u001b[0m\u001b[38;2;16;16;16;48;2;255;255;255m  \u001b[0m\u001b[38;2;120;49;20;48;2;255;255;255m<\u001b[0m\u001b[38;2;0;17;170;48;2;255;255;255mfunction\u001b[0m\u001b[38;2;16;16;16;48;2;255;255;255m \u001b[0m\u001b[38;2;0;17;170;48;2;255;255;255mhello\u001b[0m\u001b[38;2;120;49;20;48;2;255;255;255m>\u001b[0m\u001b[48;2;255;255;255m                                                                        \u001b[0m\n"
      ]
     },
     "metadata": {},
     "output_type": "display_data"
    }
   ],
   "source": [
    "def hello(name):\n",
    "    return f'Hello, {name}!'\n",
    "\n",
    "hello('Reuven', 'Lerner')"
   ]
  },
  {
   "cell_type": "code",
   "execution_count": null,
   "id": "86d1baf0",
   "metadata": {},
   "outputs": [],
   "source": []
  }
 ],
 "metadata": {
  "kernelspec": {
   "display_name": "Python 3 (ipykernel)",
   "language": "python",
   "name": "python3"
  },
  "language_info": {
   "codemirror_mode": {
    "name": "ipython",
    "version": 3
   },
   "file_extension": ".py",
   "mimetype": "text/x-python",
   "name": "python",
   "nbconvert_exporter": "python",
   "pygments_lexer": "ipython3",
   "version": "3.10.5"
  }
 },
 "nbformat": 4,
 "nbformat_minor": 5
}
