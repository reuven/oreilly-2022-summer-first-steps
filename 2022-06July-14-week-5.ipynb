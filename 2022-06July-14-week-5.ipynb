{
 "cells": [
  {
   "cell_type": "markdown",
   "id": "bb7d3366",
   "metadata": {},
   "source": [
    "# Agenda, Week 5: Modules and packages\n",
    "\n",
    "- Review of the challenge\n",
    "- Q&A\n",
    "- Modules\n",
    "    - What are modules?\n",
    "    - What do modules contain?\n",
    "    - `import` and modules\n",
    "- Writing a module\n",
    "    - Creating a module file\n",
    "    - Loading that module\n",
    "- Modules v"
   ]
  },
  {
   "cell_type": "code",
   "execution_count": null,
   "id": "03e8dad4",
   "metadata": {},
   "outputs": [],
   "source": []
  }
 ],
 "metadata": {
  "kernelspec": {
   "display_name": "Python 3 (ipykernel)",
   "language": "python",
   "name": "python3"
  },
  "language_info": {
   "codemirror_mode": {
    "name": "ipython",
    "version": 3
   },
   "file_extension": ".py",
   "mimetype": "text/x-python",
   "name": "python",
   "nbconvert_exporter": "python",
   "pygments_lexer": "ipython3",
   "version": "3.10.5"
  }
 },
 "nbformat": 4,
 "nbformat_minor": 5
}
