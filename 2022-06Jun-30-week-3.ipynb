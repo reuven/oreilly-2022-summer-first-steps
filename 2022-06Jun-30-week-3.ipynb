{
 "cells": [
  {
   "cell_type": "markdown",
   "id": "b5ca257b",
   "metadata": {},
   "source": [
    "# Week 3: Dictionaries and files\n",
    "\n",
    "1. Recap of topics from last week\n",
    "2. Dictionaries\n",
    "    - What are they?\n",
    "    - They are mutable (what does this mean?)\n",
    "    - Accumulating in dictionaries\n",
    "    - Accumulating the unknown \n",
    "    - Looping over dicts\n",
    "    - How do dicts work?\n",
    "3. Files\n",
    "    - File objects (what are they?)\n",
    "    - Reading from files in a variety of ways\n",
    "    - Writing to files and the `with` construct"
   ]
  },
  {
   "cell_type": "markdown",
   "id": "05e6a22c",
   "metadata": {},
   "source": [
    "# Recap\n",
    "\n",
    "1. Loops\n",
    "    - `for` loop -- go over every element of an item each time (string, list, or tuple)\n",
    "    - `for` loop has a body, and it can contain any code at all -- `if`, `for`, `print`, `input`\n",
    "    - `while` loops run until the condition is `False`, sort of like `if`, but it doesn't only run once\n",
    "    - You use `for` loops when you know how many times you want to do something -- once for each element of a string/list/tuple.  You use `while` loops when you don't know how many times you want to do something, but you know when you want to stop.\n",
    "    - If you want to loop a number of times, you can use the `range` builtin.  If you say `range(5)`, then you'll loop 5 times, getting the numbers 0, 1, 2, 3, and 4.\n",
    "    \n",
    "```python\n",
    "for one_item in 'abcd':    # iterate over a string\n",
    "    print(one_item)        # print a, b, c, and then d\n",
    "    \n",
    "total = 0\n",
    "for one_number in [10, 20, 30]:    # iterating over a list\n",
    "    total += one_number            # with each number, we add it to total\n",
    "print(total)    \n",
    "\n",
    "for i in range(5):                 # iterate 5 times, getting the numbers 0 through 4 in each iteration\n",
    "    print(f'{i}: Hello!')          # it'll print \"Hello\", preceded by the current value of i\n",
    "```\n",
    "    \n",
    "2. Lists\n",
    "    - Lists are defined with `[]`\n",
    "    - Like strings (and \n",
    "\n",
    "3. Tuples and unpacking"
   ]
  },
  {
   "cell_type": "code",
   "execution_count": null,
   "id": "180cb633",
   "metadata": {},
   "outputs": [],
   "source": []
  }
 ],
 "metadata": {
  "kernelspec": {
   "display_name": "Python 3 (ipykernel)",
   "language": "python",
   "name": "python3"
  },
  "language_info": {
   "codemirror_mode": {
    "name": "ipython",
    "version": 3
   },
   "file_extension": ".py",
   "mimetype": "text/x-python",
   "name": "python",
   "nbconvert_exporter": "python",
   "pygments_lexer": "ipython3",
   "version": "3.10.5"
  }
 },
 "nbformat": 4,
 "nbformat_minor": 5
}
