{
 "cells": [
  {
   "cell_type": "markdown",
   "id": "f310f78b",
   "metadata": {},
   "source": [
    "# Week 3: Dictionaries and files"
   ]
  },
  {
   "cell_type": "code",
   "execution_count": null,
   "id": "bc594063",
   "metadata": {},
   "outputs": [],
   "source": []
  }
 ],
 "metadata": {
  "kernelspec": {
   "display_name": "Python 3 (ipykernel)",
   "language": "python",
   "name": "python3"
  },
  "language_info": {
   "codemirror_mode": {
    "name": "ipython",
    "version": 3
   },
   "file_extension": ".py",
   "mimetype": "text/x-python",
   "name": "python",
   "nbconvert_exporter": "python",
   "pygments_lexer": "ipython3",
   "version": "3.10.5"
  }
 },
 "nbformat": 4,
 "nbformat_minor": 5
}
