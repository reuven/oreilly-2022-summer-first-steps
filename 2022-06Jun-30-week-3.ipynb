{
 "cells": [
  {
   "cell_type": "markdown",
   "id": "58ae1189",
   "metadata": {},
   "source": [
    "# Week 3: Dictionaries and files\n",
    "\n",
    "1. Recap of topics from last week\n",
    "2. Dictionaries\n",
    "    - What are they?\n",
    "    - They are mutable (what does this mean?)\n",
    "    - Accumulating in dictionaries\n",
    "    - Accumulating the unknown \n",
    "    - Looping over dicts\n",
    "    - How do dicts work?\n",
    "3. Files\n",
    "    - File objects (what are they?)\n",
    "    - Reading from files in a variety of ways\n",
    "    - Writing to files and the `with` construct"
   ]
  },
  {
   "cell_type": "markdown",
   "id": "25eaa170",
   "metadata": {},
   "source": [
    "# Recap\n",
    "\n",
    "1. Loops\n",
    "    - `for` loop -- go over every element of an item each time (string, list, or tuple)\n",
    "    - `for` loop has a body, and it can contain any code at all -- `if`, `for`, `print`, `input`\n",
    "    - `while` loops run until the condition is `False`, sort of like `if`, but it doesn't only run once\n",
    "    - You use `for` loops when you know how many times you want to do something -- once for each element of a string/list/tuple.  You use `while` loops when you don't know how many times you want to do something, but you know when you want to stop.\n",
    "    - If you want to loop a number of times, you can use the `range` builtin.  If you say `range(5)`, then you'll loop 5 times, getting the numbers 0, 1, 2, 3, and 4.\n",
    "    \n",
    "```python\n",
    "for one_item in 'abcd':    # iterate over a string\n",
    "    print(one_item)        # print a, b, c, and then d\n",
    "    \n",
    "total = 0\n",
    "for one_number in [10, 20, 30]:    # iterating over a list\n",
    "    total += one_number            # with each number, we add it to total\n",
    "print(total)    \n",
    "\n",
    "for i in range(5):                 # iterate 5 times, getting the numbers 0 through 4 in each iteration\n",
    "    print(f'{i}: Hello!')          # it'll print \"Hello\", preceded by the current value of i\n",
    "```\n",
    "    \n",
    "2. Lists\n",
    "    - Lists are defined with `[]`\n",
    "    - Like strings (and tuples), we can:\n",
    "        - Iterate over them in a `for` loop\n",
    "        - Retrieve one item with `[i]`\n",
    "        - Retrieve a slice with `[start:end]`\n",
    "        - Search using `in`\n",
    "    - Lists are meant for sequences of data of the same type -- a list of strings, a list of integers, a list of lists, a list of tuples\n",
    "    - Lists are mutable, so we can modify individual elements.\n",
    "    - To add an item to a list, use the `.append` method.  That'll add whatever you give it to the end of the list\n",
    "    - To remove an item from the end of the list, use the `.pop` method, which both removes and returns it\n",
    "\n",
    "3. Tuples and unpacking\n",
    "    - Define tuples with `()` and `,` -- note that you can have tuples without `()`, too.\n",
    "    - They are immutable, meant to be used with sequences of different types\n",
    "    - Sort of like records/structs in other programming languages\n",
    "    - They don't have many methods, but they share many operations with strings and lists:\n",
    "        - Iterate over them in a `for` loop\n",
    "        - Retrieve one item with `[i]`\n",
    "        - Retrieve a slice with `[start:end]`\n",
    "        - Search using `in`\n",
    "    - Unpacking allows us to assign multiple values from any iterable (string, list, or tuple) to multiple variables.  So I can say `x,y,z = [10, 20, 30]` and after that, each will get assigned a value from the list."
   ]
  },
  {
   "cell_type": "markdown",
   "id": "2f13a586",
   "metadata": {},
   "source": [
    "# Dictionaries\n",
    "\n",
    "I'm going to put some data in a list:\n",
    "\n",
    "    mylist = [10, 20, 30, 40, 50, 60]\n",
    "    \n",
    "I can retrieve that data using numeric indexes:\n",
    "\n",
    "    mylist[3]  # will return 40\n",
    "    \n",
    "I can search through `mylist` with the `in` operator:\n",
    "\n",
    "    50 in mylist\n",
    "    \n",
    "These work, and they work well.  But let's think about two things:\n",
    "\n",
    "1. How long does it take to search with `in`?\n",
    "2. Do I really want to use numeric indexes for all of my data?\n",
    "\n",
    "For example:\n",
    "\n",
    "    person = ['Reuven', 'Lerner', 51, 'Israel']\n",
    "    \n",
    "    person[2]  # is this age or country?  age, at index 2\n",
    "    person[3]  # is this age or country? country, at index 3\n",
    "    \n",
    "So using numeric indexes is fine, *but* it gets hard to remember what each index is.  We're better (as humans) at using words.\n",
    "\n",
    "`in` is implemented by iterating in a `for` loop (behind the scenes) over the data structure. So if we're looking in a list, `in` will have to go through each element of the list until it finds what we're looking for or doesn't.  Either way, the longer the list is, the longer it'll take (on average) to find something in the list.\n",
    "\n",
    "Dictionaries solve both of these problems.  Dictionaries (\"dicts\") are not unique to Python!  They have many other names:\n",
    "\n",
    "- hash table\n",
    "- hash\n",
    "- hash map\n",
    "- map\n",
    "- key-value pair\n",
    "- name-value pair\n",
    "- associative array\n",
    "\n",
    "A list or tuple has elements, and the system assigns the index to each element based on its order.  In a dict, we have keys and values. The keys are the indexes, but *we* determine what they are!  The values are anything at all.\n",
    "\n",
    "Where could I use a dict? Anywhere that I have an association between two values:\n",
    "\n",
    "- User ID + username\n",
    "- Username + real-world name\n",
    "- Zip code and state\n",
    "- Country code and country name\n",
    "- Country name and country code\n",
    "- Error code and the text describing it\n",
    "- IP address and the computer's name for it\n",
    "- Month names and month numbers\n",
    "\n",
    "    "
   ]
  },
  {
   "cell_type": "code",
   "execution_count": 1,
   "id": "adecd176",
   "metadata": {},
   "outputs": [],
   "source": [
    "# create a dict with {}\n",
    "# each key and value are separated with :\n",
    "# key-value pairs are separated from one another with ,\n",
    "\n",
    "d = {'a':1, 'b':2, 'c':3}   # 3 pairs in this dict, assigned to d"
   ]
  },
  {
   "cell_type": "code",
   "execution_count": 2,
   "id": "cec32218",
   "metadata": {},
   "outputs": [
    {
     "data": {
      "text/plain": [
       "dict"
      ]
     },
     "execution_count": 2,
     "metadata": {},
     "output_type": "execute_result"
    }
   ],
   "source": [
    "type(d)"
   ]
  },
  {
   "cell_type": "code",
   "execution_count": 3,
   "id": "b2328e4a",
   "metadata": {},
   "outputs": [
    {
     "data": {
      "text/plain": [
       "1"
      ]
     },
     "execution_count": 3,
     "metadata": {},
     "output_type": "execute_result"
    }
   ],
   "source": [
    "# retrieve from the dict using [] and the key\n",
    "d['a'] "
   ]
  },
  {
   "cell_type": "code",
   "execution_count": 4,
   "id": "2376f234",
   "metadata": {},
   "outputs": [
    {
     "ename": "NameError",
     "evalue": "name 'a' is not defined",
     "output_type": "error",
     "traceback": [
      "\u001b[0;31m---------------------------------------------------------------------------\u001b[0m",
      "\u001b[0;31mNameError\u001b[0m                                 Traceback (most recent call last)",
      "\u001b[0;32m/var/folders/rr/0mnyyv811fs5vyp22gf4fxk00000gn/T/ipykernel_73150/581778827.py\u001b[0m in \u001b[0;36m<module>\u001b[0;34m\u001b[0m\n\u001b[0;32m----> 1\u001b[0;31m \u001b[0md\u001b[0m\u001b[0;34m[\u001b[0m\u001b[0ma\u001b[0m\u001b[0;34m]\u001b[0m   \u001b[0;31m# without quotes? Python assumes that a is a variable\u001b[0m\u001b[0;34m\u001b[0m\u001b[0;34m\u001b[0m\u001b[0m\n\u001b[0m",
      "\u001b[0;31mNameError\u001b[0m: name 'a' is not defined"
     ]
    }
   ],
   "source": [
    "d[a]   # without quotes? Python assumes that a is a variable"
   ]
  },
  {
   "cell_type": "code",
   "execution_count": 5,
   "id": "ffc9df4e",
   "metadata": {},
   "outputs": [
    {
     "data": {
      "text/plain": [
       "2"
      ]
     },
     "execution_count": 5,
     "metadata": {},
     "output_type": "execute_result"
    }
   ],
   "source": [
    "d['b']"
   ]
  },
  {
   "cell_type": "code",
   "execution_count": 6,
   "id": "1a6a17e3",
   "metadata": {},
   "outputs": [
    {
     "data": {
      "text/plain": [
       "3"
      ]
     },
     "execution_count": 6,
     "metadata": {},
     "output_type": "execute_result"
    }
   ],
   "source": [
    "d['c']"
   ]
  },
  {
   "cell_type": "code",
   "execution_count": 7,
   "id": "cd02fb54",
   "metadata": {},
   "outputs": [
    {
     "ename": "KeyError",
     "evalue": "'x'",
     "output_type": "error",
     "traceback": [
      "\u001b[0;31m---------------------------------------------------------------------------\u001b[0m",
      "\u001b[0;31mKeyError\u001b[0m                                  Traceback (most recent call last)",
      "\u001b[0;32m/var/folders/rr/0mnyyv811fs5vyp22gf4fxk00000gn/T/ipykernel_73150/2324463119.py\u001b[0m in \u001b[0;36m<module>\u001b[0;34m\u001b[0m\n\u001b[0;32m----> 1\u001b[0;31m \u001b[0md\u001b[0m\u001b[0;34m[\u001b[0m\u001b[0;34m'x'\u001b[0m\u001b[0;34m]\u001b[0m\u001b[0;34m\u001b[0m\u001b[0;34m\u001b[0m\u001b[0m\n\u001b[0m",
      "\u001b[0;31mKeyError\u001b[0m: 'x'"
     ]
    }
   ],
   "source": [
    "d['x']"
   ]
  },
  {
   "cell_type": "code",
   "execution_count": 8,
   "id": "86155384",
   "metadata": {},
   "outputs": [
    {
     "data": {
      "text/plain": [
       "{'a': 1, 'b': 2, 'c': 3}"
      ]
     },
     "execution_count": 8,
     "metadata": {},
     "output_type": "execute_result"
    }
   ],
   "source": [
    "d"
   ]
  },
  {
   "cell_type": "code",
   "execution_count": 9,
   "id": "4ed0c8b3",
   "metadata": {},
   "outputs": [
    {
     "data": {
      "text/plain": [
       "3"
      ]
     },
     "execution_count": 9,
     "metadata": {},
     "output_type": "execute_result"
    }
   ],
   "source": [
    "len(d)  # how many pairs do I have?"
   ]
  },
  {
   "cell_type": "code",
   "execution_count": 11,
   "id": "bb9ae441",
   "metadata": {},
   "outputs": [
    {
     "data": {
      "text/plain": [
       "True"
      ]
     },
     "execution_count": 11,
     "metadata": {},
     "output_type": "execute_result"
    }
   ],
   "source": [
    "# is a key in the dict?\n",
    "\n",
    "'b' in d  # this only checks the keys.  It does *not* check the values!"
   ]
  },
  {
   "cell_type": "markdown",
   "id": "1b596ba7",
   "metadata": {},
   "source": [
    "# Dicts so far\n",
    "\n",
    "1. Define a dict with `{}`.  \n",
    "2. If we want key-value pairs in it, we can set them using `:` and `,`:\n",
    "\n",
    "```python\n",
    "d = {}                  # empty dict\n",
    "d = {'a':1, 'b':2}      # dict with two pairs\n",
    "d = {1:'Jan', 2:'Feb'}  # dict with two months\n",
    "```\n",
    "\n",
    "3. To retrieve from a dict, use the key, as in `d['a']`\n",
    "4. You can use a variable instead of a literal value:\n",
    "\n",
    "```python\n",
    "d = {'a':1, 'b':2, 'c':3}\n",
    "k = 'b'\n",
    "d[k]   # notice -- k is a variable, its value is 'b', and we get back 2\n",
    "```\n",
    "\n",
    "5. Is a key in the dict?  I can search with `in`:\n",
    "\n",
    "- Only immutable types (integers, floats, strings) can be dict keys\n",
    "- Anything *whatsoever* in Python can be a dict value"
   ]
  },
  {
   "cell_type": "markdown",
   "id": "e89608e3",
   "metadata": {},
   "source": [
    "# Exercise: Restaurant\n",
    "\n",
    "1. Define a dict, called `menu`.  The keys should be the dish names and the values should be numbers, the price of each dish.\n",
    "2. Define `total` to be 0.\n",
    "3. Again and again (i.e., in a `while` loop), ask the user what they want to order.\n",
    "    - If they enter an empty string, `break` out of the loop\n",
    "    - If they enter something that is on the menu (i.e., is a key in our `menu` dict), then add the price to `total`, print the item's price, and the new total\n",
    "    - If they enter something that is *not* on the menu, scold them.\n",
    "4. Print their total\n",
    "\n",
    "Example:\n",
    "\n",
    "    Order: sandwich\n",
    "    sandwich is 10, total is 10\n",
    "    Order: tea\n",
    "    tea is 5, total is 15\n",
    "    Order: elephant\n",
    "    sorry, we are fresh out of elephant today!\n",
    "    Order: [ENTER]\n",
    "    total is 15\n",
    "    "
   ]
  },
  {
   "cell_type": "code",
   "execution_count": 12,
   "id": "65bee3db",
   "metadata": {},
   "outputs": [],
   "source": [
    "# define a dict, and assign it to the variable menu\n",
    "\n",
    "#         key:value    key:value   key:value  key:value\n",
    "menu = {'sandwich':10, 'tea':5, 'apple':2, 'cake':7}\n",
    "\n"
   ]
  },
  {
   "cell_type": "code",
   "execution_count": 14,
   "id": "bb7c27d7",
   "metadata": {},
   "outputs": [
    {
     "data": {
      "text/plain": [
       "10"
      ]
     },
     "execution_count": 14,
     "metadata": {},
     "output_type": "execute_result"
    }
   ],
   "source": [
    "menu['sandwich']   # use the key to get the value"
   ]
  },
  {
   "cell_type": "code",
   "execution_count": 15,
   "id": "6eff0356",
   "metadata": {},
   "outputs": [
    {
     "data": {
      "text/plain": [
       "10"
      ]
     },
     "execution_count": 15,
     "metadata": {},
     "output_type": "execute_result"
    }
   ],
   "source": [
    "order = 'sandwich'  # assign 'sandwich' to a variable\n",
    "menu[order]         # retrieve the value for order from menu"
   ]
  },
  {
   "cell_type": "code",
   "execution_count": 16,
   "id": "5cb2c671",
   "metadata": {},
   "outputs": [
    {
     "data": {
      "text/plain": [
       "True"
      ]
     },
     "execution_count": 16,
     "metadata": {},
     "output_type": "execute_result"
    }
   ],
   "source": [
    "# is something a key in our dict?\n",
    "'sandwich' in menu"
   ]
  },
  {
   "cell_type": "code",
   "execution_count": 17,
   "id": "801d8134",
   "metadata": {},
   "outputs": [
    {
     "data": {
      "text/plain": [
       "False"
      ]
     },
     "execution_count": 17,
     "metadata": {},
     "output_type": "execute_result"
    }
   ],
   "source": [
    "'elephant' in menu"
   ]
  },
  {
   "cell_type": "code",
   "execution_count": 18,
   "id": "abc0de25",
   "metadata": {},
   "outputs": [
    {
     "name": "stdout",
     "output_type": "stream",
     "text": [
      "Enter order: sandwich\n",
      "sandwich is 10, total is now 10\n",
      "Enter order: tea\n",
      "tea is 5, total is now 15\n",
      "Enter order: cake\n",
      "cake is 7, total is now 22\n",
      "Enter order: apple\n",
      "apple is 2, total is now 24\n",
      "Enter order: tea\n",
      "tea is 5, total is now 29\n",
      "Enter order: elephant\n",
      "Sorry, we are out of elephant today.\n",
      "Enter order: \n",
      "Total is 29.\n"
     ]
    }
   ],
   "source": [
    "menu = {'sandwich':10, 'tea':5, 'apple':2, 'cake':7}\n",
    "total = 0\n",
    "\n",
    "while True:    # this means: infinite loop! Somewhere, we need a break, or this will take a long time...\n",
    "    order = input('Enter order: ').strip()\n",
    "    \n",
    "    if order == '':    # did the user give us an empty order? Break out of the loop\n",
    "        break\n",
    "        \n",
    "    if order in menu:  # is the user's order a key in our menu dict?\n",
    "        price = menu[order]\n",
    "        total += price\n",
    "        print(f'{order} is {price}, total is now {total}')\n",
    "    else:\n",
    "        print(f'Sorry, we are out of {order} today.')\n",
    "        \n",
    "print(f'Total is {total}.')        "
   ]
  },
  {
   "cell_type": "markdown",
   "id": "f903bcd6",
   "metadata": {},
   "source": [
    "# Dictionaries are mutable!"
   ]
  },
  {
   "cell_type": "code",
   "execution_count": 19,
   "id": "5e1c7e49",
   "metadata": {},
   "outputs": [
    {
     "data": {
      "text/plain": [
       "1"
      ]
     },
     "execution_count": 19,
     "metadata": {},
     "output_type": "execute_result"
    }
   ],
   "source": [
    "d = {'a':1, 'b':2, 'c':3}\n",
    "\n",
    "d['a']"
   ]
  },
  {
   "cell_type": "code",
   "execution_count": 20,
   "id": "a8fa88fa",
   "metadata": {},
   "outputs": [],
   "source": [
    "d['a'] = 'hello'  # to change a value associated with a key, just assign to the key"
   ]
  },
  {
   "cell_type": "code",
   "execution_count": 21,
   "id": "4cfa04a2",
   "metadata": {},
   "outputs": [
    {
     "data": {
      "text/plain": [
       "{'a': 'hello', 'b': 2, 'c': 3}"
      ]
     },
     "execution_count": 21,
     "metadata": {},
     "output_type": "execute_result"
    }
   ],
   "source": [
    "# did it work?\n",
    "d"
   ]
  },
  {
   "cell_type": "code",
   "execution_count": 22,
   "id": "acaa5413",
   "metadata": {},
   "outputs": [
    {
     "data": {
      "text/plain": [
       "{'a': 'hello', 'b': [10, 20, 30, 40], 'c': 3}"
      ]
     },
     "execution_count": 22,
     "metadata": {},
     "output_type": "execute_result"
    }
   ],
   "source": [
    "# can I change the type of value when I assign? Yes!\n",
    "\n",
    "d['b'] = [10, 20, 30, 40]\n",
    "d"
   ]
  },
  {
   "cell_type": "markdown",
   "id": "0f9c66aa",
   "metadata": {},
   "source": [
    "This is great for updating an existing dict can we add new key-value pairs to a dict?\n",
    "YES!\n",
    "\n",
    "There is no special method to add new key-value pairs to a dict. Instead, you just assign to it.\n",
    "\n",
    "When you assign to a dict:\n",
    "- If the key already exists, then its value is updated/changed.\n",
    "- If the key doesn't yet exist, then the new key-value pair is added.\n"
   ]
  },
  {
   "cell_type": "code",
   "execution_count": 23,
   "id": "9c5917aa",
   "metadata": {},
   "outputs": [
    {
     "data": {
      "text/plain": [
       "{'a': 'hello', 'b': [10, 20, 30, 40], 'c': 3}"
      ]
     },
     "execution_count": 23,
     "metadata": {},
     "output_type": "execute_result"
    }
   ],
   "source": [
    "d"
   ]
  },
  {
   "cell_type": "code",
   "execution_count": 27,
   "id": "003e19a9",
   "metadata": {},
   "outputs": [],
   "source": [
    "d['x'] = 100  # adds the key-value pair, because 'x' isn't yet in d\n"
   ]
  },
  {
   "cell_type": "code",
   "execution_count": 25,
   "id": "5570cbef",
   "metadata": {},
   "outputs": [
    {
     "data": {
      "text/plain": [
       "{'a': 'hello', 'b': [10, 20, 30, 40], 'c': 3, 'x': 100}"
      ]
     },
     "execution_count": 25,
     "metadata": {},
     "output_type": "execute_result"
    }
   ],
   "source": [
    "d\n"
   ]
  },
  {
   "cell_type": "code",
   "execution_count": 28,
   "id": "5eea09d5",
   "metadata": {},
   "outputs": [
    {
     "data": {
      "text/plain": [
       "{'a': 'hello', 'b': [10, 20, 30, 40], 'c': 3, 'x': 234}"
      ]
     },
     "execution_count": 28,
     "metadata": {},
     "output_type": "execute_result"
    }
   ],
   "source": [
    "d['x'] = 234  # updates the value for 'x', because 'x is already in d\n",
    "d"
   ]
  },
  {
   "cell_type": "markdown",
   "id": "7119a28a",
   "metadata": {},
   "source": [
    "# Remove an item from a dict\n",
    "\n",
    "To remove an item from a dict, use the `pop` method.  You have to give the key you want to remove.  The key-value pair is removed, and the value is returned."
   ]
  },
  {
   "cell_type": "code",
   "execution_count": 29,
   "id": "b9255ffb",
   "metadata": {},
   "outputs": [
    {
     "data": {
      "text/plain": [
       "{'a': 'hello', 'b': [10, 20, 30, 40], 'c': 3, 'x': 234}"
      ]
     },
     "execution_count": 29,
     "metadata": {},
     "output_type": "execute_result"
    }
   ],
   "source": [
    "d"
   ]
  },
  {
   "cell_type": "code",
   "execution_count": 30,
   "id": "e774c7f6",
   "metadata": {},
   "outputs": [
    {
     "data": {
      "text/plain": [
       "[10, 20, 30, 40]"
      ]
     },
     "execution_count": 30,
     "metadata": {},
     "output_type": "execute_result"
    }
   ],
   "source": [
    "d.pop('b')  # remove the key-value pair associated with 'b', and it will return the value of d['b']"
   ]
  },
  {
   "cell_type": "code",
   "execution_count": 31,
   "id": "a2b9376d",
   "metadata": {},
   "outputs": [
    {
     "data": {
      "text/plain": [
       "{'a': 'hello', 'c': 3, 'x': 234}"
      ]
     },
     "execution_count": 31,
     "metadata": {},
     "output_type": "execute_result"
    }
   ],
   "source": [
    "d"
   ]
  },
  {
   "cell_type": "code",
   "execution_count": 32,
   "id": "9ab9eeaf",
   "metadata": {},
   "outputs": [
    {
     "ename": "KeyError",
     "evalue": "'b'",
     "output_type": "error",
     "traceback": [
      "\u001b[0;31m---------------------------------------------------------------------------\u001b[0m",
      "\u001b[0;31mKeyError\u001b[0m                                  Traceback (most recent call last)",
      "\u001b[0;32m/var/folders/rr/0mnyyv811fs5vyp22gf4fxk00000gn/T/ipykernel_73150/3512599569.py\u001b[0m in \u001b[0;36m<module>\u001b[0;34m\u001b[0m\n\u001b[0;32m----> 1\u001b[0;31m \u001b[0md\u001b[0m\u001b[0;34m.\u001b[0m\u001b[0mpop\u001b[0m\u001b[0;34m(\u001b[0m\u001b[0;34m'b'\u001b[0m\u001b[0;34m)\u001b[0m  \u001b[0;31m# can we do it again\u001b[0m\u001b[0;34m\u001b[0m\u001b[0;34m\u001b[0m\u001b[0m\n\u001b[0m",
      "\u001b[0;31mKeyError\u001b[0m: 'b'"
     ]
    }
   ],
   "source": [
    "d.pop('b')  # can we do it again"
   ]
  },
  {
   "cell_type": "code",
   "execution_count": 33,
   "id": "da556fce",
   "metadata": {},
   "outputs": [
    {
     "data": {
      "text/plain": [
       "{'a': 10, 'b': 20, 'c': 30}"
      ]
     },
     "execution_count": 33,
     "metadata": {},
     "output_type": "execute_result"
    }
   ],
   "source": [
    "d = {}  # empty dict\n",
    "d['a'] = 10\n",
    "d['b'] = 20\n",
    "d['c'] = 30\n",
    "\n",
    "d"
   ]
  },
  {
   "cell_type": "code",
   "execution_count": 34,
   "id": "36fe33d6",
   "metadata": {},
   "outputs": [
    {
     "data": {
      "text/plain": [
       "{'a': 10, 'b': 4321, 'c': 9876}"
      ]
     },
     "execution_count": 34,
     "metadata": {},
     "output_type": "execute_result"
    }
   ],
   "source": [
    "d['b'] = 4321\n",
    "d['c'] = 9876\n",
    "d"
   ]
  },
  {
   "cell_type": "code",
   "execution_count": 35,
   "id": "312617c6",
   "metadata": {},
   "outputs": [
    {
     "data": {
      "text/plain": [
       "{'reuven': 1, 'john': 0, 'mary': 1, 'david': 0}"
      ]
     },
     "execution_count": 35,
     "metadata": {},
     "output_type": "execute_result"
    }
   ],
   "source": [
    "# use a dict to track logins by different users\n",
    "\n",
    "d = {'reuven':0, 'john':0, 'mary':0, 'david':0}\n",
    "\n",
    "d['reuven'] += 1\n",
    "d['mary'] += 1\n",
    "\n",
    "d"
   ]
  },
  {
   "cell_type": "markdown",
   "id": "87f3434d",
   "metadata": {},
   "source": [
    "# Next up\n",
    "\n",
    "1. Accumulating in dicts\n",
    "2. Accumulating the unknown \n",
    "\n"
   ]
  },
  {
   "cell_type": "code",
   "execution_count": 37,
   "id": "dbd7d61e",
   "metadata": {},
   "outputs": [
    {
     "name": "stdout",
     "output_type": "stream",
     "text": [
      "\t10 is even\n",
      "\t11 is odd\n",
      "\t12 is even\n",
      "\t18 is even\n",
      "\t75 is odd\n",
      "\t22 is even\n",
      "\t36 is even\n",
      "odds = 2\n",
      "evens = 5\n"
     ]
    }
   ],
   "source": [
    "mylist = [10, 11, 12, 18, 75, 22, 36]\n",
    "\n",
    "odds = 0\n",
    "evens = 0\n",
    "\n",
    "for one_number in mylist:\n",
    "    if one_number % 2 == 1:   # if it's odd\n",
    "        print(f'\\t{one_number} is odd')\n",
    "        odds += 1\n",
    "    else:\n",
    "        print(f'\\t{one_number} is even')\n",
    "        evens += 1\n",
    "        \n",
    "print(f'odds = {odds}')\n",
    "print(f'evens = {evens}')\n",
    "\n"
   ]
  },
  {
   "cell_type": "code",
   "execution_count": 38,
   "id": "4319e1c6",
   "metadata": {},
   "outputs": [
    {
     "name": "stdout",
     "output_type": "stream",
     "text": [
      "\t10 is even\n",
      "\t11 is odd\n",
      "\t12 is even\n",
      "\t18 is even\n",
      "\t75 is odd\n",
      "\t22 is even\n",
      "\t36 is even\n",
      "odds = 2\n",
      "evens = 5\n"
     ]
    }
   ],
   "source": [
    "# let's do this again, but using a dictionary\n",
    "\n",
    "mylist = [10, 11, 12, 18, 75, 22, 36]\n",
    "\n",
    "counts = {'odds':0,        \n",
    "          'evens': 0}\n",
    "\n",
    "for one_number in mylist:\n",
    "    if one_number % 2 == 1:   # if it's odd\n",
    "        print(f'\\t{one_number} is odd')\n",
    "        counts['odds'] += 1\n",
    "    else:\n",
    "        print(f'\\t{one_number} is even')\n",
    "        counts['evens'] += 1\n",
    "        \n",
    "print(f'odds = {counts[\"odds\"]}')\n",
    "print(f'evens = {counts[\"evens\"]}')\n",
    "\n"
   ]
  },
  {
   "cell_type": "code",
   "execution_count": 39,
   "id": "9e6d88ba",
   "metadata": {},
   "outputs": [
    {
     "data": {
      "text/plain": [
       "{'odds': 2, 'evens': 5}"
      ]
     },
     "execution_count": 39,
     "metadata": {},
     "output_type": "execute_result"
    }
   ],
   "source": [
    "counts"
   ]
  },
  {
   "cell_type": "markdown",
   "id": "7d57e3e7",
   "metadata": {},
   "source": [
    "# Paradigms of dict use\n",
    "\n",
    "1. Define the dict at the start of the program, and use it as a read-only database.\n",
    "2. Define a dict at the start of the program, in which the keys won't change, and they are initialized with 0 or some similar starting value.  Over the course of the program, the values will grow, often adding 1 with each found item."
   ]
  },
  {
   "cell_type": "code",
   "execution_count": 40,
   "id": "6c006df9",
   "metadata": {},
   "outputs": [
    {
     "name": "stdout",
     "output_type": "stream",
     "text": [
      "Enter numbers, separated by space: 10 15 23 78\n",
      "\t10 is even\n",
      "\t15 is odd\n",
      "\t23 is odd\n",
      "\t78 is even\n",
      "odds = 2\n",
      "evens = 2\n"
     ]
    }
   ],
   "source": [
    "# let's get input from the user, in a string\n",
    "# we'll break that string into words, and every numeric word will be checked\n",
    "\n",
    "mylist = input('Enter numbers, separated by space: ').split()   # returns a list of strings to mylist\n",
    "\n",
    "counts = {'odds':0,        \n",
    "          'evens': 0}\n",
    "\n",
    "for one_number in mylist:\n",
    "    if not one_number.isdigit():\n",
    "        print(f'{one_number} is not numeric')\n",
    "        continue   # go to the next iteration of the for loop\n",
    "\n",
    "    one_number = int(one_number)  # we know that one_number.isdigit(), so we can turn it into an int\n",
    "    if one_number % 2 == 1:   # if it's odd\n",
    "        print(f'\\t{one_number} is odd')\n",
    "        counts['odds'] += 1\n",
    "    else:\n",
    "        print(f'\\t{one_number} is even')\n",
    "        counts['evens'] += 1\n",
    "        \n",
    "print(f'odds = {counts[\"odds\"]}')\n",
    "print(f'evens = {counts[\"evens\"]}')"
   ]
  },
  {
   "cell_type": "markdown",
   "id": "ef4265b5",
   "metadata": {},
   "source": [
    "# Exercise: Vowels, digits, and others\n",
    "\n",
    "1. Define a dict, `counts`, in which you have three keys: `vowels`, `digits`, and `others`, and all values are 0.\n",
    "2. Ask the user to enter a string.\n",
    "3. Go through the string, one character at a time.\n",
    "    - If the character is a vowel, increase the value of `counts['vowels']` by 1.\n",
    "    - If the character is a digit, increase the value of `counts['digits']` by 1.\n",
    "    - If the character is neither, increase the value of `counts['others']` by 1.\n",
    "4. Then print the dict    \n",
    "    "
   ]
  },
  {
   "cell_type": "code",
   "execution_count": 41,
   "id": "c013c21b",
   "metadata": {},
   "outputs": [
    {
     "name": "stdout",
     "output_type": "stream",
     "text": [
      "Enter a string: hello 123!!\n",
      "{'vowels': 2, 'digits': 3, 'others': 6}\n"
     ]
    }
   ],
   "source": [
    "counts = {'vowels':0, 'digits':0, 'others':0}\n",
    "\n",
    "s = input('Enter a string: ').strip()\n",
    "\n",
    "for one_character in s:            # iterate over every character in the string\n",
    "    if one_character.isdigit():    # is the current character a digit?\n",
    "        counts['digits'] += 1      # - add 1 to counts['digits']  \n",
    "    elif one_character in 'aeiou': # is the current character a vowel?\n",
    "        counts['vowels'] += 1      # - add 1 to counts['vowels']\n",
    "    else:\n",
    "        counts['others'] += 1       # otherwise, add 1 to counts['others']\n",
    "        \n",
    "print(counts)        "
   ]
  },
  {
   "cell_type": "code",
   "execution_count": 42,
   "id": "128741b3",
   "metadata": {},
   "outputs": [
    {
     "name": "stdout",
     "output_type": "stream",
     "text": [
      "Enter a string: hello 123!!\n",
      "{'vowels': ['e', 'o'], 'digits': ['1', '2', '3'], 'others': ['h', 'l', 'l', ' ', '!', '!']}\n"
     ]
    }
   ],
   "source": [
    "# what if I want to keep track of the characters?\n",
    "# I can create a dict whose values are lists\n",
    "# then, when I encounter a character, I can append it to the right list\n",
    "\n",
    "counts = {'vowels':[],\n",
    "          'digits':[],\n",
    "          'others':[]}\n",
    "\n",
    "s = input('Enter a string: ').strip()\n",
    "\n",
    "for one_character in s:            \n",
    "    if one_character.isdigit():    \n",
    "        counts['digits'].append(one_character) # add this digit to counts['digits'], a list\n",
    "    elif one_character in 'aeiou': \n",
    "        counts['vowels'].append(one_character) # add this vowel to counts['vowels'], a list\n",
    "    else:\n",
    "        counts['others'].append(one_character)  # add this other character counts['others'], a list\n",
    "        \n",
    "print(counts)        "
   ]
  },
  {
   "cell_type": "code",
   "execution_count": 43,
   "id": "f3a2f10e",
   "metadata": {},
   "outputs": [
    {
     "data": {
      "text/plain": [
       "2"
      ]
     },
     "execution_count": 43,
     "metadata": {},
     "output_type": "execute_result"
    }
   ],
   "source": [
    "# counts['vowels'] is a list\n",
    "# we can get the number of elements in a list with the len() function\n",
    "\n",
    "len(counts['vowels'])"
   ]
  },
  {
   "cell_type": "code",
   "execution_count": 46,
   "id": "c8a2ee55",
   "metadata": {},
   "outputs": [
    {
     "name": "stdout",
     "output_type": "stream",
     "text": [
      "Enter a string: hello 123 !!!\n",
      "{'vowels': ['e', 'o'], 'digits': ['1', '2', '3'], 'others': ['h', 'l', 'l', ' ', ' ', '!', '!', '!'], 'upper': [], 'lower': ['h', 'e', 'l', 'l', 'o']}\n"
     ]
    }
   ],
   "source": [
    "# let's now track *TWO* different types of things, \n",
    "# 1. vowels/digits/others\n",
    "# 2. lowercase/uppercase\n",
    "\n",
    "counts = {'vowels':[],\n",
    "          'digits':[],\n",
    "          'others':[],\n",
    "          'upper':[],\n",
    "          'lower':[]}\n",
    "\n",
    "s = input('Enter a string: ').strip()\n",
    "\n",
    "for one_character in s:            \n",
    "    if one_character.isupper():\n",
    "        counts['upper'].append(one_character)\n",
    "    if one_character.islower():\n",
    "        counts['lower'].append(one_character)\n",
    "\n",
    "    if one_character.isdigit():    \n",
    "        counts['digits'].append(one_character) # add this digit to counts['digits'], a list\n",
    "    elif one_character in 'aeiou': \n",
    "        counts['vowels'].append(one_character) # add this vowel to counts['vowels'], a list\n",
    "    else:\n",
    "        counts['others'].append(one_character)  # add this other character counts['others'], a list\n",
    "        \n",
    "print(counts)        "
   ]
  },
  {
   "cell_type": "code",
   "execution_count": 44,
   "id": "76061c0e",
   "metadata": {},
   "outputs": [
    {
     "data": {
      "text/plain": [
       "False"
      ]
     },
     "execution_count": 44,
     "metadata": {},
     "output_type": "execute_result"
    }
   ],
   "source": [
    "'7'.isupper()"
   ]
  },
  {
   "cell_type": "code",
   "execution_count": 45,
   "id": "77f4aada",
   "metadata": {},
   "outputs": [
    {
     "data": {
      "text/plain": [
       "False"
      ]
     },
     "execution_count": 45,
     "metadata": {},
     "output_type": "execute_result"
    }
   ],
   "source": [
    "'7'.islower()"
   ]
  },
  {
   "cell_type": "code",
   "execution_count": 47,
   "id": "dc4c08cd",
   "metadata": {},
   "outputs": [
    {
     "data": {
      "text/plain": [
       "'abcdef'"
      ]
     },
     "execution_count": 47,
     "metadata": {},
     "output_type": "execute_result"
    }
   ],
   "source": [
    "s = 'aBcDeF'\n",
    "\n",
    "s.lower()  # this returns a new string, all lowercase"
   ]
  },
  {
   "cell_type": "code",
   "execution_count": 48,
   "id": "8d35ecf6",
   "metadata": {
    "scrolled": true
   },
   "outputs": [
    {
     "data": {
      "text/plain": [
       "False"
      ]
     },
     "execution_count": 48,
     "metadata": {},
     "output_type": "execute_result"
    }
   ],
   "source": [
    "s.islower()  # this returns True or False, indicating if all characters are lowercaes"
   ]
  },
  {
   "cell_type": "code",
   "execution_count": 49,
   "id": "b73c2bed",
   "metadata": {},
   "outputs": [],
   "source": [
    "# can we find out if a string is mixed case?\n",
    "\n",
    "s1 = 'aBcDeF'\n",
    "s2 = 'abcdef'\n",
    "s3 = 'ABCDEF'\n",
    "\n",
    "# how can I figure out if it's all caps, all lower, or mixed case?\n"
   ]
  },
  {
   "cell_type": "code",
   "execution_count": 51,
   "id": "66ea087e",
   "metadata": {},
   "outputs": [
    {
     "name": "stdout",
     "output_type": "stream",
     "text": [
      "Currently checking aBcDeF\n",
      "It is mixed case, and/or contains non-alphabetic characters\n",
      "Currently checking abcdef\n",
      "All characters are lowercase\n",
      "Currently checking ABCDEF\n",
      "All characters are uppercase\n"
     ]
    }
   ],
   "source": [
    "for one_string in [s1, s2, s3]:\n",
    "    print(f'Currently checking {one_string}')\n",
    "    \n",
    "    if one_string.islower():\n",
    "        print(f'All characters are lowercase')\n",
    "    elif one_string.isupper():\n",
    "        print(f'All characters are uppercase')\n",
    "    else:\n",
    "        print(f'It is mixed case, and/or contains non-alphabetic characters')\n",
    "    "
   ]
  },
  {
   "cell_type": "markdown",
   "id": "153ec90d",
   "metadata": {},
   "source": [
    "# Paradigms of dict use\n",
    "\n",
    "1. Define the dict at the start of the program, and use it as a read-only database.\n",
    "2. Define a dict at the start of the program, in which the keys won't change, and they are initialized with 0 or some similar starting value.  Over the course of the program, the values will grow, often adding 1 with each found item.\n",
    "3. We define an *empty* dict at the start of the program, adding new keys and values as we find new things to track (the keys) and new times they appear (the values).  We can thus count anything."
   ]
  },
  {
   "cell_type": "code",
   "execution_count": 53,
   "id": "414a40ca",
   "metadata": {},
   "outputs": [
    {
     "name": "stdout",
     "output_type": "stream",
     "text": [
      "Enter a string: hello to everyone\n",
      "{'h': 1, 'e': 4, 'l': 2, 'o': 3, ' ': 2, 't': 1, 'v': 1, 'r': 1, 'y': 1, 'n': 1}\n"
     ]
    }
   ],
   "source": [
    "# let's count the number of times each character appears in a user's string\n",
    "\n",
    "counts = {}   # empty dict\n",
    "\n",
    "s = input('Enter a string: ').strip()\n",
    "\n",
    "for one_character in s:\n",
    "    if one_character in counts:      # have we seen this character before?\n",
    "        counts[one_character] += 1   # add 1 to its total\n",
    "    else:\n",
    "        counts[one_character] = 1    # otherwise, add the new key-value pair of s:1\n",
    "        \n",
    "print(counts)        "
   ]
  },
  {
   "cell_type": "code",
   "execution_count": 54,
   "id": "ca64cd20",
   "metadata": {},
   "outputs": [
    {
     "ename": "KeyError",
     "evalue": "'a'",
     "output_type": "error",
     "traceback": [
      "\u001b[0;31m---------------------------------------------------------------------------\u001b[0m",
      "\u001b[0;31mKeyError\u001b[0m                                  Traceback (most recent call last)",
      "\u001b[0;32m/var/folders/rr/0mnyyv811fs5vyp22gf4fxk00000gn/T/ipykernel_73150/3594478282.py\u001b[0m in \u001b[0;36m<module>\u001b[0;34m\u001b[0m\n\u001b[1;32m      1\u001b[0m \u001b[0mcounts\u001b[0m \u001b[0;34m=\u001b[0m \u001b[0;34m{\u001b[0m\u001b[0;34m}\u001b[0m\u001b[0;34m\u001b[0m\u001b[0;34m\u001b[0m\u001b[0m\n\u001b[1;32m      2\u001b[0m \u001b[0;34m\u001b[0m\u001b[0m\n\u001b[0;32m----> 3\u001b[0;31m \u001b[0mcounts\u001b[0m\u001b[0;34m[\u001b[0m\u001b[0;34m'a'\u001b[0m\u001b[0;34m]\u001b[0m \u001b[0;34m+=\u001b[0m \u001b[0;36m1\u001b[0m\u001b[0;34m\u001b[0m\u001b[0;34m\u001b[0m\u001b[0m\n\u001b[0m",
      "\u001b[0;31mKeyError\u001b[0m: 'a'"
     ]
    }
   ],
   "source": [
    "counts = {}\n",
    "\n",
    "counts['a'] += 1   # counts['a'] = counts['a'] + 1"
   ]
  },
  {
   "cell_type": "markdown",
   "id": "f58c818a",
   "metadata": {},
   "source": [
    "# Exercise: Rainfall\n",
    "\n",
    "The plan is to have a dict, `rainfall`, in which the keys are strings (city names) and the values are integers (mm of rain that fell in each city). \n",
    "\n",
    "1. Define `rainfall` to be an empty dict.\n",
    "2. Ask the user, repeatedly, to enter the name of a city. \n",
    "    - If they give us an empty string, stop asking\n",
    "3. If we got a city name, ask the user to enter the number of mm rain that fell there.\n",
    "    - Let's assume that we got a numeric response.\n",
    "4. Add this data to our dict:\n",
    "    - If this is the first time we're encountering a city, add the key-value pair to the dict\n",
    "    - If this is not the first time we're encountering a city, add the value to the existing one for the key.\n",
    "5. Print the dict.\n",
    "\n",
    "Example:\n",
    "\n",
    "    City: Tel Aviv\n",
    "    Rain: 4\n",
    "    City: Jerusalem\n",
    "    Rain: 5\n",
    "    City: Tel Aviv\n",
    "    Rain: 6\n",
    "    City: [ENTER]\n",
    "    {'Tel Aviv': 10, 'Jerusalem': 5}"
   ]
  },
  {
   "cell_type": "code",
   "execution_count": 55,
   "id": "e37a363a",
   "metadata": {},
   "outputs": [
    {
     "name": "stdout",
     "output_type": "stream",
     "text": [
      "City: a\n",
      "Rain: 5\n",
      "City: b\n",
      "Rain: 4\n",
      "City: a\n",
      "Rain: 3\n",
      "City: \n",
      "{'a': 8, 'b': 4}\n"
     ]
    }
   ],
   "source": [
    "rainfall = {}  \n",
    "\n",
    "while True:\n",
    "    city_name = input('City: ').strip()\n",
    "    \n",
    "    if city_name == '':  # did we get an empty city name? If so, exit the while loop\n",
    "        break\n",
    "        \n",
    "    mm_rain = input('Rain: ').strip()\n",
    "    \n",
    "    # assume that we got a numeric value\n",
    "    mm_rain = int(mm_rain)\n",
    "    \n",
    "    # have we seen this city before? we can check in the keys of our \"rainfall\" dict\n",
    "    if city_name in rainfall:\n",
    "        rainfall[city_name] += mm_rain   # add mm_rain to any existing value for city_name\n",
    "    else:\n",
    "        rainfall[city_name] = mm_rain    # set mm_rain as the value for our key, city_name\n",
    "        \n",
    "print(rainfall)        "
   ]
  },
  {
   "cell_type": "markdown",
   "id": "cb71bde7",
   "metadata": {},
   "source": [
    "# Next up\n",
    "\n",
    "1. Looping over dicts\n",
    "2. How dicts work behind the scenes\n",
    "3. Files\n",
    "    - Reading \n",
    "    - Writing\n",
    "    \n",
    "If you want some text files to play with (and these are the files I'll be playing with), then download them from https://files.lerner.co.il/exercise-files.zip.\n",
    "\n"
   ]
  },
  {
   "cell_type": "markdown",
   "id": "6fe19f28",
   "metadata": {},
   "source": [
    "# Looping over different data structures\n",
    "\n",
    "- Loop over a string, and I get the characters of a string\n",
    "- Loop over a list, I get the elements of the list\n",
    "- Loop over a tuple, I get the elements of the tuple"
   ]
  },
  {
   "cell_type": "code",
   "execution_count": 58,
   "id": "f5dfe914",
   "metadata": {},
   "outputs": [
    {
     "name": "stdout",
     "output_type": "stream",
     "text": [
      "a\n",
      "b\n",
      "c\n",
      "d\n"
     ]
    }
   ],
   "source": [
    "s = 'abcd'\n",
    "for one_item in s:\n",
    "    print(one_item)"
   ]
  },
  {
   "cell_type": "code",
   "execution_count": 59,
   "id": "711db53d",
   "metadata": {},
   "outputs": [
    {
     "name": "stdout",
     "output_type": "stream",
     "text": [
      "10\n",
      "20\n",
      "30\n"
     ]
    }
   ],
   "source": [
    "mylist = [10, 20, 30]\n",
    "for one_item in mylist:\n",
    "    print(one_item)"
   ]
  },
  {
   "cell_type": "code",
   "execution_count": 61,
   "id": "40fd1d19",
   "metadata": {},
   "outputs": [
    {
     "name": "stdout",
     "output_type": "stream",
     "text": [
      "100\n",
      "200\n",
      "300\n"
     ]
    }
   ],
   "source": [
    "t = (100, 200, 300)\n",
    "for one_item in t:\n",
    "    print(one_item)"
   ]
  },
  {
   "cell_type": "code",
   "execution_count": 63,
   "id": "cae400d4",
   "metadata": {},
   "outputs": [
    {
     "name": "stdout",
     "output_type": "stream",
     "text": [
      "a\n",
      "b\n",
      "c\n"
     ]
    }
   ],
   "source": [
    "d = {'a':10, 'b':20, 'c':30}\n",
    "\n",
    "for one_item in d:  # iterating over a dict gives us its keys!\n",
    "    print(one_item)"
   ]
  },
  {
   "cell_type": "code",
   "execution_count": 64,
   "id": "5d0dde12",
   "metadata": {},
   "outputs": [
    {
     "name": "stdout",
     "output_type": "stream",
     "text": [
      "a: 10\n",
      "b: 20\n",
      "c: 30\n"
     ]
    }
   ],
   "source": [
    "# let's print all of the keys and values in our dict\n",
    "for key in d:\n",
    "    print(f'{key}: {d[key]}')"
   ]
  },
  {
   "cell_type": "code",
   "execution_count": 65,
   "id": "c1600d1b",
   "metadata": {},
   "outputs": [
    {
     "data": {
      "text/plain": [
       "dict_keys(['a', 'b', 'c'])"
      ]
     },
     "execution_count": 65,
     "metadata": {},
     "output_type": "execute_result"
    }
   ],
   "source": [
    "# dicts have a few additional methods to extract things\n",
    "d.keys()  # this returns the dict's keys"
   ]
  },
  {
   "cell_type": "code",
   "execution_count": 66,
   "id": "b1093dea",
   "metadata": {},
   "outputs": [],
   "source": [
    "# don't make the mistake of searching in or looping over d.keys()!\n",
    "# just search in d, or loop on d\n",
    "\n"
   ]
  },
  {
   "cell_type": "code",
   "execution_count": 67,
   "id": "d753a1ad",
   "metadata": {},
   "outputs": [
    {
     "data": {
      "text/plain": [
       "dict_values([10, 20, 30])"
      ]
     },
     "execution_count": 67,
     "metadata": {},
     "output_type": "execute_result"
    }
   ],
   "source": [
    "# what if I want the dict's values?\n",
    "# I can execute d.values() ,and get those\n",
    "\n",
    "d.values()"
   ]
  },
  {
   "cell_type": "code",
   "execution_count": 68,
   "id": "e2ca7b5e",
   "metadata": {},
   "outputs": [
    {
     "data": {
      "text/plain": [
       "True"
      ]
     },
     "execution_count": 68,
     "metadata": {},
     "output_type": "execute_result"
    }
   ],
   "source": [
    "20 in d.values()  "
   ]
  },
  {
   "cell_type": "code",
   "execution_count": 69,
   "id": "a44a7088",
   "metadata": {},
   "outputs": [
    {
     "data": {
      "text/plain": [
       "True"
      ]
     },
     "execution_count": 69,
     "metadata": {},
     "output_type": "execute_result"
    }
   ],
   "source": [
    "30 in d.values()"
   ]
  },
  {
   "cell_type": "code",
   "execution_count": 70,
   "id": "c5c109c2",
   "metadata": {},
   "outputs": [],
   "source": [
    "d = {'a':10, 'b':10, 'c':10, 'd':10, 'e':50}"
   ]
  },
  {
   "cell_type": "code",
   "execution_count": 71,
   "id": "7cadf13e",
   "metadata": {},
   "outputs": [
    {
     "data": {
      "text/plain": [
       "dict_keys(['a', 'b', 'c', 'd', 'e'])"
      ]
     },
     "execution_count": 71,
     "metadata": {},
     "output_type": "execute_result"
    }
   ],
   "source": [
    "d.keys()"
   ]
  },
  {
   "cell_type": "code",
   "execution_count": 72,
   "id": "3ff83542",
   "metadata": {},
   "outputs": [
    {
     "data": {
      "text/plain": [
       "dict_values([10, 10, 10, 10, 50])"
      ]
     },
     "execution_count": 72,
     "metadata": {},
     "output_type": "execute_result"
    }
   ],
   "source": [
    "d.values()"
   ]
  },
  {
   "cell_type": "code",
   "execution_count": 73,
   "id": "cc72944f",
   "metadata": {},
   "outputs": [
    {
     "data": {
      "text/plain": [
       "True"
      ]
     },
     "execution_count": 73,
     "metadata": {},
     "output_type": "execute_result"
    }
   ],
   "source": [
    "10 in d.values()"
   ]
  },
  {
   "cell_type": "code",
   "execution_count": 74,
   "id": "704cca89",
   "metadata": {},
   "outputs": [
    {
     "data": {
      "text/plain": [
       "True"
      ]
     },
     "execution_count": 74,
     "metadata": {},
     "output_type": "execute_result"
    }
   ],
   "source": [
    "50 in d.values()"
   ]
  },
  {
   "cell_type": "code",
   "execution_count": 75,
   "id": "fa644102",
   "metadata": {},
   "outputs": [
    {
     "data": {
      "text/plain": [
       "False"
      ]
     },
     "execution_count": 75,
     "metadata": {},
     "output_type": "execute_result"
    }
   ],
   "source": [
    "50 in d  # no, because 50 is a value, not a key"
   ]
  },
  {
   "cell_type": "code",
   "execution_count": 76,
   "id": "d7642526",
   "metadata": {},
   "outputs": [
    {
     "data": {
      "text/plain": [
       "dict_items([('a', 10), ('b', 10), ('c', 10), ('d', 10), ('e', 50)])"
      ]
     },
     "execution_count": 76,
     "metadata": {},
     "output_type": "execute_result"
    }
   ],
   "source": [
    "d.items()  # returns something looking like a list of 2-element tuples"
   ]
  },
  {
   "cell_type": "code",
   "execution_count": 78,
   "id": "005106e3",
   "metadata": {},
   "outputs": [
    {
     "name": "stdout",
     "output_type": "stream",
     "text": [
      "a: 10\n",
      "b: 10\n",
      "c: 10\n",
      "d: 10\n",
      "e: 50\n"
     ]
    }
   ],
   "source": [
    "# let's try using d.items() to iterate over our keys and values together\n",
    "# in each iteration, we'll get a tuple!\n",
    "\n",
    "for t in d.items():\n",
    "    print(f'{t[0]}: {t[1]}')   # t[0] is the key, t[1] is the value"
   ]
  },
  {
   "cell_type": "code",
   "execution_count": 79,
   "id": "af33a8a2",
   "metadata": {},
   "outputs": [
    {
     "data": {
      "text/plain": [
       "('e', 50)"
      ]
     },
     "execution_count": 79,
     "metadata": {},
     "output_type": "execute_result"
    }
   ],
   "source": [
    "# remember unpacking?\n",
    "\n",
    "t"
   ]
  },
  {
   "cell_type": "code",
   "execution_count": 80,
   "id": "789576ae",
   "metadata": {},
   "outputs": [],
   "source": [
    "x,y = t   # t has 2 elements, which are assigned in parallel to x,y"
   ]
  },
  {
   "cell_type": "code",
   "execution_count": 81,
   "id": "c14fc96a",
   "metadata": {},
   "outputs": [
    {
     "data": {
      "text/plain": [
       "'e'"
      ]
     },
     "execution_count": 81,
     "metadata": {},
     "output_type": "execute_result"
    }
   ],
   "source": [
    "x"
   ]
  },
  {
   "cell_type": "code",
   "execution_count": 82,
   "id": "314be8e3",
   "metadata": {},
   "outputs": [
    {
     "data": {
      "text/plain": [
       "50"
      ]
     },
     "execution_count": 82,
     "metadata": {},
     "output_type": "execute_result"
    }
   ],
   "source": [
    "y"
   ]
  },
  {
   "cell_type": "code",
   "execution_count": 84,
   "id": "9ce682ab",
   "metadata": {},
   "outputs": [
    {
     "name": "stdout",
     "output_type": "stream",
     "text": [
      "a: 10\n",
      "b: 10\n",
      "c: 10\n",
      "d: 10\n",
      "e: 50\n"
     ]
    }
   ],
   "source": [
    "for t in d.items():\n",
    "    key, value = t\n",
    "    print(f'{key}: {value}')   # after unpacking, we can use key/value"
   ]
  },
  {
   "cell_type": "code",
   "execution_count": 85,
   "id": "3199c1c0",
   "metadata": {},
   "outputs": [
    {
     "name": "stdout",
     "output_type": "stream",
     "text": [
      "a: 10\n",
      "b: 10\n",
      "c: 10\n",
      "d: 10\n",
      "e: 50\n"
     ]
    }
   ],
   "source": [
    "for key, value in d.items():  # unpack in the for loop\n",
    "    print(f'{key}: {value}')  "
   ]
  },
  {
   "cell_type": "markdown",
   "id": "a9b31741",
   "metadata": {},
   "source": [
    "# Exercise: Restaurant, redux\n",
    "\n",
    "1. Define a dict, `menu`, with dishes and prices.\n",
    "2. Go through the menu, and print each of the menu items and their prices.\n",
    "3. If the price is > the mean (average) price on the menu, mark it with a star (*) next to it.\n",
    "\n",
    "Hint: You can get the mean by calculating the sum / the length of the values.  There is a builtin Python `sum` function, just as there's a builtin `len` function.  Both work on a dict values object."
   ]
  },
  {
   "cell_type": "code",
   "execution_count": 89,
   "id": "3f652640",
   "metadata": {},
   "outputs": [
    {
     "name": "stdout",
     "output_type": "stream",
     "text": [
      "*sandwich: 10\n",
      "tea: 5\n",
      "apple: 2\n",
      "*cake: 7\n"
     ]
    }
   ],
   "source": [
    "menu = {'sandwich':10, 'tea':5, 'apple':2, 'cake':7}\n",
    "\n",
    "average_price = sum(menu.values()) / len(menu.values())\n",
    "\n",
    "for key, value in menu.items():\n",
    "    if value > average_price:\n",
    "        print(f'*{key}: {value}')\n",
    "    else:\n",
    "        print(f'{key}: {value}')        "
   ]
  },
  {
   "cell_type": "markdown",
   "id": "d57d3549",
   "metadata": {},
   "source": [
    "# How do dicts work?\n",
    "\n",
    "In a string, list, or tuple, the elements are stored in order, starting with index 0 and going up to index `len()-1`.  We don't have any say in the indexes; they're given to us.\n",
    "\n",
    "Bad news, as we've seen/discussed, is that we have to use the numeric indexes, which are inflexible.  The items are laid out in order.\n",
    "\n",
    "Similar to looking for a friend in an office building without any directory or receptionist.  I go from office to office, presumably in a reasonable order, until I find my friend or (worst case) after looking in every office, I don't find them.\n",
    "\n"
   ]
  }
 ],
 "metadata": {
  "kernelspec": {
   "display_name": "Python 3 (ipykernel)",
   "language": "python",
   "name": "python3"
  },
  "language_info": {
   "codemirror_mode": {
    "name": "ipython",
    "version": 3
   },
   "file_extension": ".py",
   "mimetype": "text/x-python",
   "name": "python",
   "nbconvert_exporter": "python",
   "pygments_lexer": "ipython3",
   "version": "3.10.5"
  }
 },
 "nbformat": 4,
 "nbformat_minor": 5
}
