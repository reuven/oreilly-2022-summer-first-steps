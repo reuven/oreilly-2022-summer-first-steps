{
 "cells": [
  {
   "cell_type": "markdown",
   "id": "972b3da9",
   "metadata": {},
   "source": [
    "# Week 3: Dictionaries and files\n",
    "\n",
    "1. Recap of topics from last week\n",
    "2. Dictionaries\n",
    "    - What are they?\n",
    "    - They are mutable (what does this mean?)\n",
    "    - Accumulating in dictionaries\n",
    "    - Accumulating the unknown \n",
    "    - Looping over dicts\n",
    "    - How do dicts work?\n",
    "3. Files\n",
    "    - File objects (what are they?)\n",
    "    - Reading from files in a variety of ways\n",
    "    - Writing to files and the `with` construct"
   ]
  },
  {
   "cell_type": "markdown",
   "id": "9171fb49",
   "metadata": {},
   "source": [
    "# Recap\n",
    "\n",
    "1. Loops\n",
    "    - `for` loop -- go over every element of an item each time (string, list, or tuple)\n",
    "    - `for` loop has a body, and it can contain any code at all -- `if`, `for`, `print`, `input`\n",
    "    - `while` loops run until the condition is `False`, sort of like `if`, but it doesn't only run once\n",
    "    - You use `for` loops when you know how many times you want to do something -- once for each element of a string/list/tuple.  You use `while` loops when you don't know how many times you want to do something, but you know when you want to stop.\n",
    "    - If you want to loop a number of times, you can use the `range` builtin.  If you say `range(5)`, then you'll loop 5 times, getting the numbers 0, 1, 2, 3, and 4.\n",
    "    \n",
    "```python\n",
    "for one_item in 'abcd':    # iterate over a string\n",
    "    print(one_item)        # print a, b, c, and then d\n",
    "    \n",
    "total = 0\n",
    "for one_number in [10, 20, 30]:    # iterating over a list\n",
    "    total += one_number            # with each number, we add it to total\n",
    "print(total)    \n",
    "\n",
    "for i in range(5):                 # iterate 5 times, getting the numbers 0 through 4 in each iteration\n",
    "    print(f'{i}: Hello!')          # it'll print \"Hello\", preceded by the current value of i\n",
    "```\n",
    "    \n",
    "2. Lists\n",
    "    - Lists are defined with `[]`\n",
    "    - Like strings (and tuples), we can:\n",
    "        - Iterate over them in a `for` loop\n",
    "        - Retrieve one item with `[i]`\n",
    "        - Retrieve a slice with `[start:end]`\n",
    "        - Search using `in`\n",
    "    - Lists are meant for sequences of data of the same type -- a list of strings, a list of integers, a list of lists, a list of tuples\n",
    "    - Lists are mutable, so we can modify individual elements.\n",
    "    - To add an item to a list, use the `.append` method.  That'll add whatever you give it to the end of the list\n",
    "    - To remove an item from the end of the list, use the `.pop` method, which both removes and returns it\n",
    "\n",
    "3. Tuples and unpacking\n",
    "    - Define tuples with `()` and `,` -- note that you can have tuples without `()`, too.\n",
    "    - They are immutable, meant to be used with sequences of different types\n",
    "    - Sort of like records/structs in other programming languages\n",
    "    - They don't have many methods, but they share many operations with strings and lists:\n",
    "        - Iterate over them in a `for` loop\n",
    "        - Retrieve one item with `[i]`\n",
    "        - Retrieve a slice with `[start:end]`\n",
    "        - Search using `in`\n",
    "    - Unpacking allows us to assign multiple values from any iterable (string, list, or tuple) to multiple variables.  So I can say `x,y,z = [10, 20, 30]` and after that, each will get assigned a value from the list."
   ]
  },
  {
   "cell_type": "markdown",
   "id": "a89e78a3",
   "metadata": {},
   "source": [
    "# Dictionaries\n",
    "\n",
    "I'm going to put some data in a list:\n",
    "\n",
    "    mylist = [10, 20, 30, 40, 50, 60]\n",
    "    \n",
    "I can retrieve that data using numeric indexes:\n",
    "\n",
    "    mylist[3]  # will return 40\n",
    "    \n",
    "I can search through `mylist` with the `in` operator:\n",
    "\n",
    "    50 in mylist\n",
    "    \n",
    "These work, and they work well.  But let's think about two things:\n",
    "\n",
    "1. How long does it take to search with `in`?\n",
    "2. Do I really want to use numeric indexes for all of my data?\n",
    "\n",
    "For example:\n",
    "\n",
    "    person = ['Reuven', 'Lerner', 51, 'Israel']\n",
    "    \n",
    "    person[2]  # is this age or country?  age, at index 2\n",
    "    person[3]  # is this age or country? country, at index 3\n",
    "    \n",
    "So using numeric indexes is fine, *but* it gets hard to remember what each index is.  We're better (as humans) at using words.\n",
    "\n",
    "`in` is implemented by iterating in a `for` loop (behind the scenes) over the data structure. So if we're looking in a list, `in` will have to go through each element of the list until it finds what we're looking for or doesn't.  Either way, the longer the list is, the longer it'll take (on average) to find something in the list.\n",
    "\n",
    "Dictionaries solve both of these problems.  Dictionaries (\"dicts\") are not unique to Python!  They have many other names:\n",
    "\n",
    "- hash table\n",
    "- hash\n",
    "- hash map\n",
    "- map\n",
    "- key-value pair\n",
    "- name-value pair\n",
    "- associative array\n",
    "\n",
    "A list or tuple has elements, and the system assigns the index to each element based on its order.  In a dict, we have keys and values. The keys are the indexes, but *we* determine what they are!  The values are anything at all.\n",
    "\n",
    "Where could I use a dict? Anywhere that I have an association between two values:\n",
    "\n",
    "- User ID + username\n",
    "- Username + real-world name\n",
    "- Zip code and state\n",
    "- Country code and country name\n",
    "- Country name and country code\n",
    "- Error code and the text describing it\n",
    "- IP address and the computer's name for it\n",
    "- Month names and month numbers\n",
    "\n",
    "    "
   ]
  },
  {
   "cell_type": "code",
   "execution_count": 1,
   "id": "bde2bc79",
   "metadata": {},
   "outputs": [],
   "source": [
    "# create a dict with {}\n",
    "# each key and value are separated with :\n",
    "# key-value pairs are separated from one another with ,\n",
    "\n",
    "d = {'a':1, 'b':2, 'c':3}   # 3 pairs in this dict, assigned to d"
   ]
  },
  {
   "cell_type": "code",
   "execution_count": 2,
   "id": "3b5c0829",
   "metadata": {},
   "outputs": [
    {
     "data": {
      "text/plain": [
       "dict"
      ]
     },
     "execution_count": 2,
     "metadata": {},
     "output_type": "execute_result"
    }
   ],
   "source": [
    "type(d)"
   ]
  },
  {
   "cell_type": "code",
   "execution_count": 3,
   "id": "0689df10",
   "metadata": {},
   "outputs": [
    {
     "data": {
      "text/plain": [
       "1"
      ]
     },
     "execution_count": 3,
     "metadata": {},
     "output_type": "execute_result"
    }
   ],
   "source": [
    "# retrieve from the dict using [] and the key\n",
    "d['a'] "
   ]
  },
  {
   "cell_type": "code",
   "execution_count": 4,
   "id": "cd8f3e0c",
   "metadata": {},
   "outputs": [
    {
     "ename": "NameError",
     "evalue": "name 'a' is not defined",
     "output_type": "error",
     "traceback": [
      "\u001b[0;31m---------------------------------------------------------------------------\u001b[0m",
      "\u001b[0;31mNameError\u001b[0m                                 Traceback (most recent call last)",
      "\u001b[0;32m/var/folders/rr/0mnyyv811fs5vyp22gf4fxk00000gn/T/ipykernel_73150/581778827.py\u001b[0m in \u001b[0;36m<module>\u001b[0;34m\u001b[0m\n\u001b[0;32m----> 1\u001b[0;31m \u001b[0md\u001b[0m\u001b[0;34m[\u001b[0m\u001b[0ma\u001b[0m\u001b[0;34m]\u001b[0m   \u001b[0;31m# without quotes? Python assumes that a is a variable\u001b[0m\u001b[0;34m\u001b[0m\u001b[0;34m\u001b[0m\u001b[0m\n\u001b[0m",
      "\u001b[0;31mNameError\u001b[0m: name 'a' is not defined"
     ]
    }
   ],
   "source": [
    "d[a]   # without quotes? Python assumes that a is a variable"
   ]
  },
  {
   "cell_type": "code",
   "execution_count": 5,
   "id": "0e3b5e9f",
   "metadata": {},
   "outputs": [
    {
     "data": {
      "text/plain": [
       "2"
      ]
     },
     "execution_count": 5,
     "metadata": {},
     "output_type": "execute_result"
    }
   ],
   "source": [
    "d['b']"
   ]
  },
  {
   "cell_type": "code",
   "execution_count": 6,
   "id": "47c89879",
   "metadata": {},
   "outputs": [
    {
     "data": {
      "text/plain": [
       "3"
      ]
     },
     "execution_count": 6,
     "metadata": {},
     "output_type": "execute_result"
    }
   ],
   "source": [
    "d['c']"
   ]
  },
  {
   "cell_type": "code",
   "execution_count": 7,
   "id": "6bf908a1",
   "metadata": {},
   "outputs": [
    {
     "ename": "KeyError",
     "evalue": "'x'",
     "output_type": "error",
     "traceback": [
      "\u001b[0;31m---------------------------------------------------------------------------\u001b[0m",
      "\u001b[0;31mKeyError\u001b[0m                                  Traceback (most recent call last)",
      "\u001b[0;32m/var/folders/rr/0mnyyv811fs5vyp22gf4fxk00000gn/T/ipykernel_73150/2324463119.py\u001b[0m in \u001b[0;36m<module>\u001b[0;34m\u001b[0m\n\u001b[0;32m----> 1\u001b[0;31m \u001b[0md\u001b[0m\u001b[0;34m[\u001b[0m\u001b[0;34m'x'\u001b[0m\u001b[0;34m]\u001b[0m\u001b[0;34m\u001b[0m\u001b[0;34m\u001b[0m\u001b[0m\n\u001b[0m",
      "\u001b[0;31mKeyError\u001b[0m: 'x'"
     ]
    }
   ],
   "source": [
    "d['x']"
   ]
  },
  {
   "cell_type": "code",
   "execution_count": 8,
   "id": "7aaba747",
   "metadata": {},
   "outputs": [
    {
     "data": {
      "text/plain": [
       "{'a': 1, 'b': 2, 'c': 3}"
      ]
     },
     "execution_count": 8,
     "metadata": {},
     "output_type": "execute_result"
    }
   ],
   "source": [
    "d"
   ]
  },
  {
   "cell_type": "code",
   "execution_count": 9,
   "id": "f32fcbe6",
   "metadata": {},
   "outputs": [
    {
     "data": {
      "text/plain": [
       "3"
      ]
     },
     "execution_count": 9,
     "metadata": {},
     "output_type": "execute_result"
    }
   ],
   "source": [
    "len(d)  # how many pairs do I have?"
   ]
  },
  {
   "cell_type": "code",
   "execution_count": 11,
   "id": "d09ffc62",
   "metadata": {},
   "outputs": [
    {
     "data": {
      "text/plain": [
       "True"
      ]
     },
     "execution_count": 11,
     "metadata": {},
     "output_type": "execute_result"
    }
   ],
   "source": [
    "# is a key in the dict?\n",
    "\n",
    "'b' in d  # this only checks the keys.  It does *not* check the values!"
   ]
  },
  {
   "cell_type": "markdown",
   "id": "9bfb97c8",
   "metadata": {},
   "source": [
    "# Dicts so far\n",
    "\n",
    "1. Define a dict with `{}`.  \n",
    "2. If we want key-value pairs in it, we can set them using `:` and `,`:\n",
    "\n",
    "```python\n",
    "d = {}                  # empty dict\n",
    "d = {'a':1, 'b':2}      # dict with two pairs\n",
    "d = {1:'Jan', 2:'Feb'}  # dict with two months\n",
    "```\n",
    "\n",
    "3. To retrieve from a dict, use the key, as in `d['a']`\n",
    "4. You can use a variable instead of a literal value:\n",
    "\n",
    "```python\n",
    "d = {'a':1, 'b':2, 'c':3}\n",
    "k = 'b'\n",
    "d[k]   # notice -- k is a variable, its value is 'b', and we get back 2\n",
    "```\n",
    "\n",
    "5. Is a key in the dict?  I can search with `in`:\n",
    "\n",
    "- Only immutable types (integers, floats, strings) can be dict keys\n",
    "- Anything *whatsoever* in Python can be a dict value"
   ]
  },
  {
   "cell_type": "markdown",
   "id": "83b37db2",
   "metadata": {},
   "source": [
    "# Exercise: Restaurant\n",
    "\n",
    "1. Define a dict, called `menu`.  The keys should be the dish names and the values should be numbers, the price of each dish.\n",
    "2. Define `total` to be 0.\n",
    "3. Again and again (i.e., in a `while` loop), ask the user what they want to order.\n",
    "    - If they enter an empty string, `break` out of the loop\n",
    "    - If they enter something that is on the menu (i.e., is a key in our `menu` dict), then add the price to `total`, print the item's price, and the new total\n",
    "    - If they enter something that is *not* on the menu, scold them.\n",
    "4. Print their total\n",
    "\n",
    "Example:\n",
    "\n",
    "    Order: sandwich\n",
    "    sandwich is 10, total is 10\n",
    "    Order: tea\n",
    "    tea is 5, total is 15\n",
    "    Order: elephant\n",
    "    sorry, we are fresh out of elephant today!\n",
    "    Order: [ENTER]\n",
    "    total is 15\n",
    "    "
   ]
  },
  {
   "cell_type": "code",
   "execution_count": 12,
   "id": "3b076b31",
   "metadata": {},
   "outputs": [],
   "source": [
    "# define a dict, and assign it to the variable menu\n",
    "\n",
    "#         key:value    key:value   key:value  key:value\n",
    "menu = {'sandwich':10, 'tea':5, 'apple':2, 'cake':7}\n",
    "\n"
   ]
  },
  {
   "cell_type": "code",
   "execution_count": 14,
   "id": "8edee667",
   "metadata": {},
   "outputs": [
    {
     "data": {
      "text/plain": [
       "10"
      ]
     },
     "execution_count": 14,
     "metadata": {},
     "output_type": "execute_result"
    }
   ],
   "source": [
    "menu['sandwich']   # use the key to get the value"
   ]
  },
  {
   "cell_type": "code",
   "execution_count": 15,
   "id": "61aba147",
   "metadata": {},
   "outputs": [
    {
     "data": {
      "text/plain": [
       "10"
      ]
     },
     "execution_count": 15,
     "metadata": {},
     "output_type": "execute_result"
    }
   ],
   "source": [
    "order = 'sandwich'  # assign 'sandwich' to a variable\n",
    "menu[order]         # retrieve the value for order from menu"
   ]
  },
  {
   "cell_type": "code",
   "execution_count": 16,
   "id": "8027cbe0",
   "metadata": {},
   "outputs": [
    {
     "data": {
      "text/plain": [
       "True"
      ]
     },
     "execution_count": 16,
     "metadata": {},
     "output_type": "execute_result"
    }
   ],
   "source": [
    "# is something a key in our dict?\n",
    "'sandwich' in menu"
   ]
  },
  {
   "cell_type": "code",
   "execution_count": 17,
   "id": "81550a67",
   "metadata": {},
   "outputs": [
    {
     "data": {
      "text/plain": [
       "False"
      ]
     },
     "execution_count": 17,
     "metadata": {},
     "output_type": "execute_result"
    }
   ],
   "source": [
    "'elephant' in menu"
   ]
  },
  {
   "cell_type": "code",
   "execution_count": 18,
   "id": "7fe91374",
   "metadata": {},
   "outputs": [
    {
     "name": "stdout",
     "output_type": "stream",
     "text": [
      "Enter order: sandwich\n",
      "sandwich is 10, total is now 10\n",
      "Enter order: tea\n",
      "tea is 5, total is now 15\n",
      "Enter order: cake\n",
      "cake is 7, total is now 22\n",
      "Enter order: apple\n",
      "apple is 2, total is now 24\n",
      "Enter order: tea\n",
      "tea is 5, total is now 29\n",
      "Enter order: elephant\n",
      "Sorry, we are out of elephant today.\n",
      "Enter order: \n",
      "Total is 29.\n"
     ]
    }
   ],
   "source": [
    "menu = {'sandwich':10, 'tea':5, 'apple':2, 'cake':7}\n",
    "total = 0\n",
    "\n",
    "while True:    # this means: infinite loop! Somewhere, we need a break, or this will take a long time...\n",
    "    order = input('Enter order: ').strip()\n",
    "    \n",
    "    if order == '':    # did the user give us an empty order? Break out of the loop\n",
    "        break\n",
    "        \n",
    "    if order in menu:  # is the user's order a key in our menu dict?\n",
    "        price = menu[order]\n",
    "        total += price\n",
    "        print(f'{order} is {price}, total is now {total}')\n",
    "    else:\n",
    "        print(f'Sorry, we are out of {order} today.')\n",
    "        \n",
    "print(f'Total is {total}.')        "
   ]
  },
  {
   "cell_type": "markdown",
   "id": "2e17b7f4",
   "metadata": {},
   "source": [
    "# Dictionaries are mutable!"
   ]
  },
  {
   "cell_type": "code",
   "execution_count": 19,
   "id": "f8782f0a",
   "metadata": {},
   "outputs": [
    {
     "data": {
      "text/plain": [
       "1"
      ]
     },
     "execution_count": 19,
     "metadata": {},
     "output_type": "execute_result"
    }
   ],
   "source": [
    "d = {'a':1, 'b':2, 'c':3}\n",
    "\n",
    "d['a']"
   ]
  },
  {
   "cell_type": "code",
   "execution_count": 20,
   "id": "e29c201e",
   "metadata": {},
   "outputs": [],
   "source": [
    "d['a'] = 'hello'  # to change a value associated with a key, just assign to the key"
   ]
  },
  {
   "cell_type": "code",
   "execution_count": 21,
   "id": "851168a1",
   "metadata": {},
   "outputs": [
    {
     "data": {
      "text/plain": [
       "{'a': 'hello', 'b': 2, 'c': 3}"
      ]
     },
     "execution_count": 21,
     "metadata": {},
     "output_type": "execute_result"
    }
   ],
   "source": [
    "# did it work?\n",
    "d"
   ]
  },
  {
   "cell_type": "code",
   "execution_count": 22,
   "id": "190a3b11",
   "metadata": {},
   "outputs": [
    {
     "data": {
      "text/plain": [
       "{'a': 'hello', 'b': [10, 20, 30, 40], 'c': 3}"
      ]
     },
     "execution_count": 22,
     "metadata": {},
     "output_type": "execute_result"
    }
   ],
   "source": [
    "# can I change the type of value when I assign? Yes!\n",
    "\n",
    "d['b'] = [10, 20, 30, 40]\n",
    "d"
   ]
  },
  {
   "cell_type": "markdown",
   "id": "e52c6fdd",
   "metadata": {},
   "source": [
    "This is great for updating an existing dict can we add new key-value pairs to a dict?\n",
    "YES!\n",
    "\n",
    "There is no special method to add new key-value pairs to a dict. Instead, you just assign to it.\n",
    "\n",
    "When you assign to a dict:\n",
    "- If the key already exists, then its value is updated/changed.\n",
    "- If the key doesn't yet exist, then the new key-value pair is added.\n"
   ]
  },
  {
   "cell_type": "code",
   "execution_count": 23,
   "id": "e8140365",
   "metadata": {},
   "outputs": [
    {
     "data": {
      "text/plain": [
       "{'a': 'hello', 'b': [10, 20, 30, 40], 'c': 3}"
      ]
     },
     "execution_count": 23,
     "metadata": {},
     "output_type": "execute_result"
    }
   ],
   "source": [
    "d"
   ]
  },
  {
   "cell_type": "code",
   "execution_count": 27,
   "id": "99a25582",
   "metadata": {},
   "outputs": [],
   "source": [
    "d['x'] = 100  # adds the key-value pair, because 'x' isn't yet in d\n"
   ]
  },
  {
   "cell_type": "code",
   "execution_count": 25,
   "id": "d9faec69",
   "metadata": {},
   "outputs": [
    {
     "data": {
      "text/plain": [
       "{'a': 'hello', 'b': [10, 20, 30, 40], 'c': 3, 'x': 100}"
      ]
     },
     "execution_count": 25,
     "metadata": {},
     "output_type": "execute_result"
    }
   ],
   "source": [
    "d\n"
   ]
  },
  {
   "cell_type": "code",
   "execution_count": 28,
   "id": "6846307f",
   "metadata": {},
   "outputs": [
    {
     "data": {
      "text/plain": [
       "{'a': 'hello', 'b': [10, 20, 30, 40], 'c': 3, 'x': 234}"
      ]
     },
     "execution_count": 28,
     "metadata": {},
     "output_type": "execute_result"
    }
   ],
   "source": [
    "d['x'] = 234  # updates the value for 'x', because 'x is already in d\n",
    "d"
   ]
  },
  {
   "cell_type": "markdown",
   "id": "4a3f4c98",
   "metadata": {},
   "source": [
    "# Remove an item from a dict\n",
    "\n",
    "To remove an item from a dict, use the `pop` method.  You have to give the key you want to remove.  The key-value pair is removed, and the value is returned."
   ]
  },
  {
   "cell_type": "code",
   "execution_count": 29,
   "id": "e295fdf3",
   "metadata": {},
   "outputs": [
    {
     "data": {
      "text/plain": [
       "{'a': 'hello', 'b': [10, 20, 30, 40], 'c': 3, 'x': 234}"
      ]
     },
     "execution_count": 29,
     "metadata": {},
     "output_type": "execute_result"
    }
   ],
   "source": [
    "d"
   ]
  },
  {
   "cell_type": "code",
   "execution_count": 30,
   "id": "3208e0a2",
   "metadata": {},
   "outputs": [
    {
     "data": {
      "text/plain": [
       "[10, 20, 30, 40]"
      ]
     },
     "execution_count": 30,
     "metadata": {},
     "output_type": "execute_result"
    }
   ],
   "source": [
    "d.pop('b')  # remove the key-value pair associated with 'b', and it will return the value of d['b']"
   ]
  },
  {
   "cell_type": "code",
   "execution_count": 31,
   "id": "f4b4902f",
   "metadata": {},
   "outputs": [
    {
     "data": {
      "text/plain": [
       "{'a': 'hello', 'c': 3, 'x': 234}"
      ]
     },
     "execution_count": 31,
     "metadata": {},
     "output_type": "execute_result"
    }
   ],
   "source": [
    "d"
   ]
  },
  {
   "cell_type": "code",
   "execution_count": 32,
   "id": "3583ea7d",
   "metadata": {},
   "outputs": [
    {
     "ename": "KeyError",
     "evalue": "'b'",
     "output_type": "error",
     "traceback": [
      "\u001b[0;31m---------------------------------------------------------------------------\u001b[0m",
      "\u001b[0;31mKeyError\u001b[0m                                  Traceback (most recent call last)",
      "\u001b[0;32m/var/folders/rr/0mnyyv811fs5vyp22gf4fxk00000gn/T/ipykernel_73150/3512599569.py\u001b[0m in \u001b[0;36m<module>\u001b[0;34m\u001b[0m\n\u001b[0;32m----> 1\u001b[0;31m \u001b[0md\u001b[0m\u001b[0;34m.\u001b[0m\u001b[0mpop\u001b[0m\u001b[0;34m(\u001b[0m\u001b[0;34m'b'\u001b[0m\u001b[0;34m)\u001b[0m  \u001b[0;31m# can we do it again\u001b[0m\u001b[0;34m\u001b[0m\u001b[0;34m\u001b[0m\u001b[0m\n\u001b[0m",
      "\u001b[0;31mKeyError\u001b[0m: 'b'"
     ]
    }
   ],
   "source": [
    "d.pop('b')  # can we do it again"
   ]
  },
  {
   "cell_type": "code",
   "execution_count": 33,
   "id": "74b0e2e1",
   "metadata": {},
   "outputs": [
    {
     "data": {
      "text/plain": [
       "{'a': 10, 'b': 20, 'c': 30}"
      ]
     },
     "execution_count": 33,
     "metadata": {},
     "output_type": "execute_result"
    }
   ],
   "source": [
    "d = {}  # empty dict\n",
    "d['a'] = 10\n",
    "d['b'] = 20\n",
    "d['c'] = 30\n",
    "\n",
    "d"
   ]
  },
  {
   "cell_type": "code",
   "execution_count": 34,
   "id": "70a16d7f",
   "metadata": {},
   "outputs": [
    {
     "data": {
      "text/plain": [
       "{'a': 10, 'b': 4321, 'c': 9876}"
      ]
     },
     "execution_count": 34,
     "metadata": {},
     "output_type": "execute_result"
    }
   ],
   "source": [
    "d['b'] = 4321\n",
    "d['c'] = 9876\n",
    "d"
   ]
  },
  {
   "cell_type": "code",
   "execution_count": 35,
   "id": "aafe55d2",
   "metadata": {},
   "outputs": [
    {
     "data": {
      "text/plain": [
       "{'reuven': 1, 'john': 0, 'mary': 1, 'david': 0}"
      ]
     },
     "execution_count": 35,
     "metadata": {},
     "output_type": "execute_result"
    }
   ],
   "source": [
    "# use a dict to track logins by different users\n",
    "\n",
    "d = {'reuven':0, 'john':0, 'mary':0, 'david':0}\n",
    "\n",
    "d['reuven'] += 1\n",
    "d['mary'] += 1\n",
    "\n",
    "d"
   ]
  },
  {
   "cell_type": "markdown",
   "id": "22fa4f69",
   "metadata": {},
   "source": [
    "# Next up\n",
    "\n",
    "1. Accumulating in dicts\n",
    "2. Accumulating the unknown \n",
    "\n"
   ]
  },
  {
   "cell_type": "code",
   "execution_count": 37,
   "id": "2c535a42",
   "metadata": {},
   "outputs": [
    {
     "name": "stdout",
     "output_type": "stream",
     "text": [
      "\t10 is even\n",
      "\t11 is odd\n",
      "\t12 is even\n",
      "\t18 is even\n",
      "\t75 is odd\n",
      "\t22 is even\n",
      "\t36 is even\n",
      "odds = 2\n",
      "evens = 5\n"
     ]
    }
   ],
   "source": [
    "mylist = [10, 11, 12, 18, 75, 22, 36]\n",
    "\n",
    "odds = 0\n",
    "evens = 0\n",
    "\n",
    "for one_number in mylist:\n",
    "    if one_number % 2 == 1:   # if it's odd\n",
    "        print(f'\\t{one_number} is odd')\n",
    "        odds += 1\n",
    "    else:\n",
    "        print(f'\\t{one_number} is even')\n",
    "        evens += 1\n",
    "        \n",
    "print(f'odds = {odds}')\n",
    "print(f'evens = {evens}')\n",
    "\n"
   ]
  },
  {
   "cell_type": "code",
   "execution_count": 38,
   "id": "da9834bd",
   "metadata": {},
   "outputs": [
    {
     "name": "stdout",
     "output_type": "stream",
     "text": [
      "\t10 is even\n",
      "\t11 is odd\n",
      "\t12 is even\n",
      "\t18 is even\n",
      "\t75 is odd\n",
      "\t22 is even\n",
      "\t36 is even\n",
      "odds = 2\n",
      "evens = 5\n"
     ]
    }
   ],
   "source": [
    "# let's do this again, but using a dictionary\n",
    "\n",
    "mylist = [10, 11, 12, 18, 75, 22, 36]\n",
    "\n",
    "counts = {'odds':0,        \n",
    "          'evens': 0}\n",
    "\n",
    "for one_number in mylist:\n",
    "    if one_number % 2 == 1:   # if it's odd\n",
    "        print(f'\\t{one_number} is odd')\n",
    "        counts['odds'] += 1\n",
    "    else:\n",
    "        print(f'\\t{one_number} is even')\n",
    "        counts['evens'] += 1\n",
    "        \n",
    "print(f'odds = {counts[\"odds\"]}')\n",
    "print(f'evens = {counts[\"evens\"]}')\n",
    "\n"
   ]
  },
  {
   "cell_type": "code",
   "execution_count": 39,
   "id": "d4b1ccef",
   "metadata": {},
   "outputs": [
    {
     "data": {
      "text/plain": [
       "{'odds': 2, 'evens': 5}"
      ]
     },
     "execution_count": 39,
     "metadata": {},
     "output_type": "execute_result"
    }
   ],
   "source": [
    "counts"
   ]
  },
  {
   "cell_type": "markdown",
   "id": "070fe2f5",
   "metadata": {},
   "source": [
    "# Paradigms of dict use\n",
    "\n",
    "1. Define the dict at the start of the program, and use it as a read-only database.\n",
    "2. Define a dict at the start of the program, in which the keys won't change, and they are initialized with 0 or some similar starting value.  Over the course of the program, the values will grow, often adding 1 with each found item."
   ]
  },
  {
   "cell_type": "code",
   "execution_count": 40,
   "id": "b677dc37",
   "metadata": {},
   "outputs": [
    {
     "name": "stdout",
     "output_type": "stream",
     "text": [
      "Enter numbers, separated by space: 10 15 23 78\n",
      "\t10 is even\n",
      "\t15 is odd\n",
      "\t23 is odd\n",
      "\t78 is even\n",
      "odds = 2\n",
      "evens = 2\n"
     ]
    }
   ],
   "source": [
    "# let's get input from the user, in a string\n",
    "# we'll break that string into words, and every numeric word will be checked\n",
    "\n",
    "mylist = input('Enter numbers, separated by space: ').split()   # returns a list of strings to mylist\n",
    "\n",
    "counts = {'odds':0,        \n",
    "          'evens': 0}\n",
    "\n",
    "for one_number in mylist:\n",
    "    if not one_number.isdigit():\n",
    "        print(f'{one_number} is not numeric')\n",
    "        continue   # go to the next iteration of the for loop\n",
    "\n",
    "    one_number = int(one_number)  # we know that one_number.isdigit(), so we can turn it into an int\n",
    "    if one_number % 2 == 1:   # if it's odd\n",
    "        print(f'\\t{one_number} is odd')\n",
    "        counts['odds'] += 1\n",
    "    else:\n",
    "        print(f'\\t{one_number} is even')\n",
    "        counts['evens'] += 1\n",
    "        \n",
    "print(f'odds = {counts[\"odds\"]}')\n",
    "print(f'evens = {counts[\"evens\"]}')"
   ]
  },
  {
   "cell_type": "markdown",
   "id": "cec27f22",
   "metadata": {},
   "source": [
    "# Exercise: Vowels, digits, and others\n",
    "\n",
    "1. Define a dict, `counts`, in which you have three keys: `vowels`, `digits`, and `others`, and all values are 0.\n",
    "2. Ask the user to enter a string.\n",
    "3. Go through the string, one character at a time.\n",
    "    - If the character is a vowel, increase the value of `counts['vowels']` by 1.\n",
    "    - If the character is a digit, increase the value of `counts['digits']` by 1.\n",
    "    - If the character is neither, increase the value of `counts['others']` by 1.\n",
    "4. Then print the dict    \n",
    "    "
   ]
  },
  {
   "cell_type": "code",
   "execution_count": null,
   "id": "82c8033f",
   "metadata": {},
   "outputs": [],
   "source": []
  }
 ],
 "metadata": {
  "kernelspec": {
   "display_name": "Python 3 (ipykernel)",
   "language": "python",
   "name": "python3"
  },
  "language_info": {
   "codemirror_mode": {
    "name": "ipython",
    "version": 3
   },
   "file_extension": ".py",
   "mimetype": "text/x-python",
   "name": "python",
   "nbconvert_exporter": "python",
   "pygments_lexer": "ipython3",
   "version": "3.10.5"
  }
 },
 "nbformat": 4,
 "nbformat_minor": 5
}
