{
 "cells": [
  {
   "cell_type": "markdown",
   "id": "13561f29",
   "metadata": {},
   "source": [
    "# Week 3: Dictionaries and files\n",
    "\n",
    "1. Recap of topics from last week\n",
    "2. Dictionaries\n",
    "    - What are they?\n",
    "    - They are mutable (what does this mean?)\n",
    "    - Accumulating in dictionaries\n",
    "    - Accumulating the unknown \n",
    "    - Looping over dicts\n",
    "    - How do dicts work?\n",
    "3. Files\n",
    "    - File objects (what are they?)\n",
    "    - Reading from files in a variety of ways\n",
    "    - Writing to files and the `with` construct"
   ]
  },
  {
   "cell_type": "markdown",
   "id": "0746ada0",
   "metadata": {},
   "source": [
    "# Recap\n",
    "\n",
    "1. Loops\n",
    "    - `for` loop -- go over every element of an item each time (string, list, or tuple)\n",
    "    - `for` loop has a body, and it can contain any code at all -- `if`, `for`, `print`, `input`\n",
    "    - `while` loops run until the condition is `False`, sort of like `if`, but it doesn't only run once\n",
    "    - You use `for` loops when you know how many times you want to do something -- once for each element of a string/list/tuple.  You use `while` loops when you don't know how many times you want to do something, but you know when you want to stop.\n",
    "    - If you want to loop a number of times, you can use the `range` builtin.  If you say `range(5)`, then you'll loop 5 times, getting the numbers 0, 1, 2, 3, and 4.\n",
    "    \n",
    "```python\n",
    "for one_item in 'abcd':    # iterate over a string\n",
    "    print(one_item)        # print a, b, c, and then d\n",
    "    \n",
    "total = 0\n",
    "for one_number in [10, 20, 30]:    # iterating over a list\n",
    "    total += one_number            # with each number, we add it to total\n",
    "print(total)    \n",
    "\n",
    "for i in range(5):                 # iterate 5 times, getting the numbers 0 through 4 in each iteration\n",
    "    print(f'{i}: Hello!')          # it'll print \"Hello\", preceded by the current value of i\n",
    "```\n",
    "    \n",
    "2. Lists\n",
    "    - Lists are defined with `[]`\n",
    "    - Like strings (and tuples), we can:\n",
    "        - Iterate over them in a `for` loop\n",
    "        - Retrieve one item with `[i]`\n",
    "        - Retrieve a slice with `[start:end]`\n",
    "        - Search using `in`\n",
    "    - Lists are meant for sequences of data of the same type -- a list of strings, a list of integers, a list of lists, a list of tuples\n",
    "    - Lists are mutable, so we can modify individual elements.\n",
    "    - To add an item to a list, use the `.append` method.  That'll add whatever you give it to the end of the list\n",
    "    - To remove an item from the end of the list, use the `.pop` method, which both removes and returns it\n",
    "\n",
    "3. Tuples and unpacking\n",
    "    - Define tuples with `()` and `,` -- note that you can have tuples without `()`, too.\n",
    "    - They are immutable, meant to be used with sequences of different types\n",
    "    - Sort of like records/structs in other programming languages\n",
    "    - They don't have many methods, but they share many operations with strings and lists:\n",
    "        - Iterate over them in a `for` loop\n",
    "        - Retrieve one item with `[i]`\n",
    "        - Retrieve a slice with `[start:end]`\n",
    "        - Search using `in`\n",
    "    - Unpacking allows us to assign multiple values from any iterable (string, list, or tuple) to multiple variables.  So I can say `x,y,z = [10, 20, 30]` and after that, each will get assigned a value from the list."
   ]
  },
  {
   "cell_type": "markdown",
   "id": "f99b9924",
   "metadata": {},
   "source": [
    "# Dictionaries\n",
    "\n",
    "I'm going to put some data in a list:\n",
    "\n",
    "    mylist = [10, 20, 30, 40, 50, 60]\n",
    "    \n",
    "I can retrieve that data using numeric indexes:\n",
    "\n",
    "    mylist[3]  # will return 40\n",
    "    \n",
    "I can search through `mylist` with the `in` operator:\n",
    "\n",
    "    50 in mylist\n",
    "    \n",
    "These work, and they work well.  But let's think about two things:\n",
    "\n",
    "1. How long does it take to search with `in`?\n",
    "2. Do I really want to use numeric indexes for all of my data?\n",
    "\n",
    "For example:\n",
    "\n",
    "    person = ['Reuven', 'Lerner', 51, 'Israel']\n",
    "    \n",
    "    person[2]  # is this age or country?  age, at index 2\n",
    "    person[3]  # is this age or country? country, at index 3\n",
    "    \n",
    "So using numeric indexes is fine, *but* it gets hard to remember what each index is.  We're better (as humans) at using words.\n",
    "\n",
    "`in` is implemented by iterating in a `for` loop (behind the scenes) over the data structure. So if we're looking in a list, `in` will have to go through each element of the list until it finds what we're looking for or doesn't.  Either way, the longer the list is, the longer it'll take (on average) to find something in the list.\n",
    "\n",
    "Dictionaries solve both of these problems.  Dictionaries (\"dicts\") are not unique to Python!  They have many other names:\n",
    "\n",
    "- hash table\n",
    "- hash\n",
    "- hash map\n",
    "- map\n",
    "- key-value pair\n",
    "- name-value pair\n",
    "- associative array\n",
    "\n",
    "A list or tuple has elements, and the system assigns the index to each element based on its order.  In a dict, we have keys and values. The keys are the indexes, but *we* determine what they are!  The values are anything at all.\n",
    "\n",
    "Where could I use a dict? Anywhere that I have an association between two values:\n",
    "\n",
    "- User ID + username\n",
    "- Username + real-world name\n",
    "- Zip code and state\n",
    "- Country code and country name\n",
    "- Country name and country code\n",
    "- Error code and the text describing it\n",
    "- IP address and the computer's name for it\n",
    "- Month names and month numbers\n",
    "\n",
    "    "
   ]
  },
  {
   "cell_type": "code",
   "execution_count": 1,
   "id": "51f3a329",
   "metadata": {},
   "outputs": [],
   "source": [
    "# create a dict with {}\n",
    "# each key and value are separated with :\n",
    "# key-value pairs are separated from one another with ,\n",
    "\n",
    "d = {'a':1, 'b':2, 'c':3}   # 3 pairs in this dict, assigned to d"
   ]
  },
  {
   "cell_type": "code",
   "execution_count": 2,
   "id": "2e1a2abe",
   "metadata": {},
   "outputs": [
    {
     "data": {
      "text/plain": [
       "dict"
      ]
     },
     "execution_count": 2,
     "metadata": {},
     "output_type": "execute_result"
    }
   ],
   "source": [
    "type(d)"
   ]
  },
  {
   "cell_type": "code",
   "execution_count": 3,
   "id": "245242c6",
   "metadata": {},
   "outputs": [
    {
     "data": {
      "text/plain": [
       "1"
      ]
     },
     "execution_count": 3,
     "metadata": {},
     "output_type": "execute_result"
    }
   ],
   "source": [
    "# retrieve from the dict using [] and the key\n",
    "d['a'] "
   ]
  },
  {
   "cell_type": "code",
   "execution_count": 4,
   "id": "259d0314",
   "metadata": {},
   "outputs": [
    {
     "ename": "NameError",
     "evalue": "name 'a' is not defined",
     "output_type": "error",
     "traceback": [
      "\u001b[0;31m---------------------------------------------------------------------------\u001b[0m",
      "\u001b[0;31mNameError\u001b[0m                                 Traceback (most recent call last)",
      "\u001b[0;32m/var/folders/rr/0mnyyv811fs5vyp22gf4fxk00000gn/T/ipykernel_73150/581778827.py\u001b[0m in \u001b[0;36m<module>\u001b[0;34m\u001b[0m\n\u001b[0;32m----> 1\u001b[0;31m \u001b[0md\u001b[0m\u001b[0;34m[\u001b[0m\u001b[0ma\u001b[0m\u001b[0;34m]\u001b[0m   \u001b[0;31m# without quotes? Python assumes that a is a variable\u001b[0m\u001b[0;34m\u001b[0m\u001b[0;34m\u001b[0m\u001b[0m\n\u001b[0m",
      "\u001b[0;31mNameError\u001b[0m: name 'a' is not defined"
     ]
    }
   ],
   "source": [
    "d[a]   # without quotes? Python assumes that a is a variable"
   ]
  },
  {
   "cell_type": "code",
   "execution_count": 5,
   "id": "b71f4a9c",
   "metadata": {},
   "outputs": [
    {
     "data": {
      "text/plain": [
       "2"
      ]
     },
     "execution_count": 5,
     "metadata": {},
     "output_type": "execute_result"
    }
   ],
   "source": [
    "d['b']"
   ]
  },
  {
   "cell_type": "code",
   "execution_count": 6,
   "id": "4194f875",
   "metadata": {},
   "outputs": [
    {
     "data": {
      "text/plain": [
       "3"
      ]
     },
     "execution_count": 6,
     "metadata": {},
     "output_type": "execute_result"
    }
   ],
   "source": [
    "d['c']"
   ]
  },
  {
   "cell_type": "code",
   "execution_count": 7,
   "id": "b6f00a3d",
   "metadata": {},
   "outputs": [
    {
     "ename": "KeyError",
     "evalue": "'x'",
     "output_type": "error",
     "traceback": [
      "\u001b[0;31m---------------------------------------------------------------------------\u001b[0m",
      "\u001b[0;31mKeyError\u001b[0m                                  Traceback (most recent call last)",
      "\u001b[0;32m/var/folders/rr/0mnyyv811fs5vyp22gf4fxk00000gn/T/ipykernel_73150/2324463119.py\u001b[0m in \u001b[0;36m<module>\u001b[0;34m\u001b[0m\n\u001b[0;32m----> 1\u001b[0;31m \u001b[0md\u001b[0m\u001b[0;34m[\u001b[0m\u001b[0;34m'x'\u001b[0m\u001b[0;34m]\u001b[0m\u001b[0;34m\u001b[0m\u001b[0;34m\u001b[0m\u001b[0m\n\u001b[0m",
      "\u001b[0;31mKeyError\u001b[0m: 'x'"
     ]
    }
   ],
   "source": [
    "d['x']"
   ]
  },
  {
   "cell_type": "code",
   "execution_count": 8,
   "id": "aca5a022",
   "metadata": {},
   "outputs": [
    {
     "data": {
      "text/plain": [
       "{'a': 1, 'b': 2, 'c': 3}"
      ]
     },
     "execution_count": 8,
     "metadata": {},
     "output_type": "execute_result"
    }
   ],
   "source": [
    "d"
   ]
  },
  {
   "cell_type": "code",
   "execution_count": 9,
   "id": "147966e2",
   "metadata": {},
   "outputs": [
    {
     "data": {
      "text/plain": [
       "3"
      ]
     },
     "execution_count": 9,
     "metadata": {},
     "output_type": "execute_result"
    }
   ],
   "source": [
    "len(d)  # how many pairs do I have?"
   ]
  },
  {
   "cell_type": "code",
   "execution_count": 11,
   "id": "62532ba3",
   "metadata": {},
   "outputs": [
    {
     "data": {
      "text/plain": [
       "True"
      ]
     },
     "execution_count": 11,
     "metadata": {},
     "output_type": "execute_result"
    }
   ],
   "source": [
    "# is a key in the dict?\n",
    "\n",
    "'b' in d  # this only checks the keys.  It does *not* check the values!"
   ]
  },
  {
   "cell_type": "markdown",
   "id": "8773bf6b",
   "metadata": {},
   "source": [
    "# Dicts so far\n",
    "\n",
    "1. Define a dict with `{}`.  \n",
    "2. If we want key-value pairs in it, we can set them using `:` and `,`:\n",
    "\n",
    "```python\n",
    "d = {}                  # empty dict\n",
    "d = {'a':1, 'b':2}      # dict with two pairs\n",
    "d = {1:'Jan', 2:'Feb'}  # dict with two months\n",
    "```\n",
    "\n",
    "3. To retrieve from a dict, use the key, as in `d['a']`\n",
    "4. You can use a variable instead of a literal value:\n",
    "\n",
    "```python\n",
    "d = {'a':1, 'b':2, 'c':3}\n",
    "k = 'b'\n",
    "d[k]   # notice -- k is a variable, its value is 'b', and we get back 2\n",
    "```\n",
    "\n",
    "5. Is a key in the dict?  I can search with `in`:\n",
    "\n",
    "- Only immutable types (integers, floats, strings) can be dict keys\n",
    "- Anything *whatsoever* in Python can be a dict value"
   ]
  },
  {
   "cell_type": "code",
   "execution_count": null,
   "id": "67ae75b6",
   "metadata": {},
   "outputs": [],
   "source": []
  }
 ],
 "metadata": {
  "kernelspec": {
   "display_name": "Python 3 (ipykernel)",
   "language": "python",
   "name": "python3"
  },
  "language_info": {
   "codemirror_mode": {
    "name": "ipython",
    "version": 3
   },
   "file_extension": ".py",
   "mimetype": "text/x-python",
   "name": "python",
   "nbconvert_exporter": "python",
   "pygments_lexer": "ipython3",
   "version": "3.10.5"
  }
 },
 "nbformat": 4,
 "nbformat_minor": 5
}
