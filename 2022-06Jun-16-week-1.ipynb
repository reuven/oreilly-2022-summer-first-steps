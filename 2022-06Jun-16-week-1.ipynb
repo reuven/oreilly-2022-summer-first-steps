{
 "cells": [
  {
   "cell_type": "markdown",
   "metadata": {},
   "source": [
    "# Welcome!\n",
    "\n",
    "This is the Jupyter notebook.  It allows me to write Python code, as well as documentation, for the class."
   ]
  },
  {
   "cell_type": "markdown",
   "metadata": {},
   "source": [
    "# Agenda\n",
    "\n",
    "1. Fundamentals\n",
    "    - Variables\n",
    "    - Data\n",
    "    - Numbers\n",
    "    - Text (strings)\n",
    "    - Comparisons\n",
    "    - Conditions\n",
    "2. Loops, lists, and tuples\n",
    "    - Loops (`for` and `while`)\n",
    "    - Lists\n",
    "    - Lists to strings, and back\n",
    "    - Tuples\n",
    "3. Dictionaries and files\n",
    "    - Dictionaries (super powerful data structure)\n",
    "    - Files (reading from and writing to them)\n",
    "4. Functions\n",
    "    - What they are\n",
    "    - How to define them\n",
    "    - Parameters and arguments\n",
    "5. Modules and Packages\n",
    "    - Importing modules\n",
    "    - Using modules in different ways\n",
    "    - PyPI archive and installing things from there with `pip`\n",
    "    \n",
    "    "
   ]
  },
  {
   "cell_type": "markdown",
   "metadata": {},
   "source": [
    "# What is Jupyter (this thing I'm typing into)?\n",
    "\n",
    "Jupyter is an illusion -- you think that you're writing Python in your Web browser, but you aren't.  \n",
    "\n",
    "It's a very convenient way to experiment with Python.   It's not a professional Python editor (those are e.g., PyCharm and VSCode).  But it's a great way to try things.  It's also very commonly used in the world of data science."
   ]
  },
  {
   "cell_type": "code",
   "execution_count": 2,
   "metadata": {},
   "outputs": [
    {
     "name": "stdout",
     "output_type": "stream",
     "text": [
      "Welcome to the course!\n"
     ]
    }
   ],
   "source": [
    "# this is a comment -- anything starting with #, until the end of the line, is for people\n",
    "# Python ignores all comments\n",
    "\n",
    "print('Welcome to the course!')   # shift + enter means: execute the contents of this cell"
   ]
  },
  {
   "cell_type": "code",
   "execution_count": 3,
   "metadata": {},
   "outputs": [
    {
     "name": "stdout",
     "output_type": "stream",
     "text": [
      "20\n",
      "40\n",
      "60\n"
     ]
    }
   ],
   "source": [
    "# can I have more than one Python command in a cell?  YES!\n",
    "\n",
    "print(10+10)   # here, I'm adding two numbers.  Then I press Enter to go down one line.\n",
    "print(20+20)   # I'm adding more numbers + pressing Enter\n",
    "print(30+30)   # Even more numbers, then I press shift+Enter"
   ]
  },
  {
   "cell_type": "markdown",
   "metadata": {},
   "source": [
    "# Jupyter modes\n",
    "\n",
    "Jupyter actually has two modes:\n",
    "\n",
    "- Edit mode.  This is what I'm using now, to type into a cell.  The cell has a green outline.  I can enter edit mode by clicking in the cell, or by pressing Enter.  This is used to enter text + code.\n",
    "- Command mode. Command mode lets me give commands to Jupyter itself.  The cell has a blue outline.  When I type a letter, it's interpreted as a command.  I can enter command mode clicking to the left of the cell or by pressing ESC.\n",
    "\n",
    "What sorts of commands do I have in command mode?  (I can edit things, like this!)\n",
    "\n",
    "- `h` -- gives me help for command mode\n",
    "- `c` -- copies the current cell\n",
    "- `x` -- cuts the current cell\n",
    "- `v` -- pastes the most recently copied/cut cell\n",
    "- `a` -- new, empty cell above the current one\n",
    "- `b` -- new, empty cell below the current one\n",
    "- `m` -- put the cell into Markdown mode, for writing documentation (like this!)\n",
    "- `y` -- put the cell into Python mode, for writing code"
   ]
  },
  {
   "cell_type": "code",
   "execution_count": 4,
   "metadata": {},
   "outputs": [
    {
     "name": "stdout",
     "output_type": "stream",
     "text": [
      "Hello out there!\n"
     ]
    }
   ],
   "source": [
    "print('Hello out there!')"
   ]
  },
  {
   "cell_type": "code",
   "execution_count": 5,
   "metadata": {},
   "outputs": [
    {
     "name": "stdout",
     "output_type": "stream",
     "text": [
      "Hello, Reuven!\n"
     ]
    }
   ],
   "source": [
    "print('Hello, Reuven!')"
   ]
  },
  {
   "cell_type": "code",
   "execution_count": 6,
   "metadata": {},
   "outputs": [
    {
     "name": "stdout",
     "output_type": "stream",
     "text": [
      "Hello, Reuven\n"
     ]
    }
   ],
   "source": [
    "# I'd like to store my name somewhere, and use that stored value later on\n",
    "# such storage is called a \"variable\"\n",
    "\n",
    "# variables are sort of like pronouns -- they refer to actual values\n",
    "\n",
    "print('Hello, ' + 'Reuven')   # I can use + to connect to pieces of text"
   ]
  },
  {
   "cell_type": "code",
   "execution_count": 7,
   "metadata": {},
   "outputs": [
    {
     "name": "stdout",
     "output_type": "stream",
     "text": [
      "Hello, Reuven!\n"
     ]
    }
   ],
   "source": [
    "print('Hello, ' + 'Reuven' + '!')   # I can use + to connect to pieces of text"
   ]
  },
  {
   "cell_type": "code",
   "execution_count": 9,
   "metadata": {},
   "outputs": [],
   "source": [
    "# I'm going to store my name in a variable, and then use it\n",
    "\n",
    "name = 'Reuven'   # this creates a new variable called \"name\" and assigns to it the text/string value 'Reuven'"
   ]
  },
  {
   "cell_type": "code",
   "execution_count": 10,
   "metadata": {},
   "outputs": [],
   "source": [
    "name = 'someone else'   # the variable already exists, so we simply assign it a new value"
   ]
  },
  {
   "cell_type": "code",
   "execution_count": 11,
   "metadata": {},
   "outputs": [
    {
     "name": "stdout",
     "output_type": "stream",
     "text": [
      "Hello, someone else!\n"
     ]
    }
   ],
   "source": [
    "print('Hello, ' + name + '!')"
   ]
  },
  {
   "cell_type": "code",
   "execution_count": 12,
   "metadata": {},
   "outputs": [
    {
     "name": "stdout",
     "output_type": "stream",
     "text": [
      "Hello, Reuven!\n"
     ]
    }
   ],
   "source": [
    "name = 'Reuven'\n",
    "print('Hello, ' + name + '!')"
   ]
  },
  {
   "cell_type": "markdown",
   "metadata": {},
   "source": [
    "# Assignment \n",
    "\n",
    "When I give a value to a variable, I'm *assigning* to it.\n",
    "\n",
    "- If the variable didn't already exist, it does after I assign to it\n",
    "- If the variable *did* already exist, it now has a new value\n",
    "\n",
    "A variable can only have a single value at a time.  It cannot be both `'a'` and `'b'`.   The most recent assignment to the variable wins.\n",
    "\n",
    "We use the `=` for assignment in Python.  In Python, `=` **DOES NOT** mean the same thing as it did in math class.  It doesn't mean that the two sides are equal. It means, instead, that we want to take the value on the right and assign it to the variable on the left."
   ]
  },
  {
   "cell_type": "code",
   "execution_count": 13,
   "metadata": {},
   "outputs": [
    {
     "name": "stdout",
     "output_type": "stream",
     "text": [
      "30\n"
     ]
    }
   ],
   "source": [
    "# we can also assign numbers\n",
    "\n",
    "x = 10\n",
    "y = 20\n",
    "\n",
    "print(x + y)"
   ]
  },
  {
   "cell_type": "code",
   "execution_count": 14,
   "metadata": {},
   "outputs": [
    {
     "ename": "TypeError",
     "evalue": "unsupported operand type(s) for +: 'int' and 'str'",
     "output_type": "error",
     "traceback": [
      "\u001b[0;31m---------------------------------------------------------------------------\u001b[0m",
      "\u001b[0;31mTypeError\u001b[0m                                 Traceback (most recent call last)",
      "\u001b[0;32m/var/folders/rr/0mnyyv811fs5vyp22gf4fxk00000gn/T/ipykernel_92016/4112704752.py\u001b[0m in \u001b[0;36m<module>\u001b[0;34m\u001b[0m\n\u001b[1;32m      4\u001b[0m \u001b[0my\u001b[0m \u001b[0;34m=\u001b[0m \u001b[0;34m'20'\u001b[0m   \u001b[0;31m# this is not the number 20 -- it's the text string '20'\u001b[0m\u001b[0;34m\u001b[0m\u001b[0;34m\u001b[0m\u001b[0m\n\u001b[1;32m      5\u001b[0m \u001b[0;34m\u001b[0m\u001b[0m\n\u001b[0;32m----> 6\u001b[0;31m \u001b[0mx\u001b[0m \u001b[0;34m+\u001b[0m \u001b[0my\u001b[0m  \u001b[0;31m# what will Python do?  Will it turn x into text, and give us '1020'?  Or turn y into a number, giving us 30?\u001b[0m\u001b[0;34m\u001b[0m\u001b[0;34m\u001b[0m\u001b[0m\n\u001b[0m",
      "\u001b[0;31mTypeError\u001b[0m: unsupported operand type(s) for +: 'int' and 'str'"
     ]
    }
   ],
   "source": [
    "# Python doesn't care about different types of data? Can we really mix and match them?\n",
    "\n",
    "x = 10\n",
    "y = '20'   # this is not the number 20 -- it's the text string '20'\n",
    "\n",
    "x + y  # what will Python do?  Will it turn x into text, and give us '1020'?  Or turn y into a number, giving us 30?"
   ]
  },
  {
   "cell_type": "markdown",
   "metadata": {},
   "source": [
    "# Exercise: Friendly greeting\n",
    "\n",
    "1. Assign your name (in a text string, using `''`) to a variable called `name`.\n",
    "2. Print a friendly greeting to yourself from the computer, with `'Hello'` before it and punctuation after."
   ]
  },
  {
   "cell_type": "code",
   "execution_count": null,
   "metadata": {},
   "outputs": [],
   "source": []
  }
 ],
 "metadata": {
  "kernelspec": {
   "display_name": "Python 3 (ipykernel)",
   "language": "python",
   "name": "python3"
  },
  "language_info": {
   "codemirror_mode": {
    "name": "ipython",
    "version": 3
   },
   "file_extension": ".py",
   "mimetype": "text/x-python",
   "name": "python",
   "nbconvert_exporter": "python",
   "pygments_lexer": "ipython3",
   "version": "3.10.4"
  }
 },
 "nbformat": 4,
 "nbformat_minor": 4
}
