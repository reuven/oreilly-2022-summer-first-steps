{
 "cells": [
  {
   "cell_type": "markdown",
   "metadata": {},
   "source": [
    "# Welcome!\n",
    "\n",
    "This is the Jupyter notebook.  It allows me to write Python code, as well as documentation, for the class."
   ]
  },
  {
   "cell_type": "markdown",
   "metadata": {},
   "source": [
    "# Agenda\n",
    "\n",
    "1. Fundamentals\n",
    "    - Variables\n",
    "    - Data\n",
    "    - Numbers\n",
    "    - Text (strings)\n",
    "    - Comparisons\n",
    "    - Conditions\n",
    "2. Loops, lists, and tuples\n",
    "    - Loops (`for` and `while`)\n",
    "    - Lists\n",
    "    - Lists to strings, and back\n",
    "    - Tuples\n",
    "3. Dictionaries and files\n",
    "    - Dictionaries (super powerful data structure)\n",
    "    - Files (reading from and writing to them)\n",
    "4. Functions\n",
    "    - What they are\n",
    "    - How to define them\n",
    "    - Parameters and arguments\n",
    "5. Modules and Packages\n",
    "    - Importing modules\n",
    "    - Using modules in different ways\n",
    "    - PyPI archive and installing things from there with `pip`\n",
    "    \n",
    "    "
   ]
  },
  {
   "cell_type": "markdown",
   "metadata": {},
   "source": [
    "# What is Jupyter (this thing I'm typing into)?\n",
    "\n",
    "Jupyter is an illusion -- you think that you're writing Python in your Web browser, but you aren't.  \n",
    "\n",
    "It's a very convenient way to experiment with Python.   It's not a professional Python editor (those are e.g., PyCharm and VSCode).  But it's a great way to try things.  It's also very commonly used in the world of data science."
   ]
  }
 ],
 "metadata": {
  "kernelspec": {
   "display_name": "Python 3 (ipykernel)",
   "language": "python",
   "name": "python3"
  },
  "language_info": {
   "codemirror_mode": {
    "name": "ipython",
    "version": 3
   },
   "file_extension": ".py",
   "mimetype": "text/x-python",
   "name": "python",
   "nbconvert_exporter": "python",
   "pygments_lexer": "ipython3",
   "version": "3.10.4"
  }
 },
 "nbformat": 4,
 "nbformat_minor": 4
}
