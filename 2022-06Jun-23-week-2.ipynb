{
 "cells": [
  {
   "cell_type": "markdown",
   "id": "257e76b4",
   "metadata": {},
   "source": [
    "# Week 2: Loops, lists, and tuples\n",
    "\n",
    "1. Q&A from last time\n",
    "2. Loops\n",
    "    - `for` loops\n",
    "    - Looping over numbers\n",
    "    - `while` loops\n",
    "3. Lists\n",
    "    - What are they?\n",
    "    - How are they similar to strings, and how are they different?\n",
    "    - Mutable vs. immutable\n",
    "4. Strings to lists and back\n",
    "    - Breaking a string into a list of strings (with split)\n",
    "    - Turning a list of strings into a single string (with join)\n",
    "5. Tuples\n",
    "    - What are they?\n",
    "    - Tuple tnpacking"
   ]
  },
  {
   "cell_type": "markdown",
   "id": "802e9059",
   "metadata": {},
   "source": [
    "# DRY -- don't repeat yourself\n",
    "\n",
    "This rule is an important one to remember whenever you're programming.  If you repeat yourself, then you're (a) making life harder for yourself while you're programming, and (b) you're also making it harder for yourself down the road when you have to maintain/debug your code."
   ]
  },
  {
   "cell_type": "code",
   "execution_count": 2,
   "id": "4736be1f",
   "metadata": {},
   "outputs": [
    {
     "name": "stdout",
     "output_type": "stream",
     "text": [
      "a\n",
      "b\n",
      "c\n",
      "d\n"
     ]
    }
   ],
   "source": [
    "# Let's define a string, and print each of the characters in the string\n",
    "\n",
    "s = 'abcd'\n",
    "\n",
    "print(s[0])   # unfortunately, this works!\n",
    "print(s[1])\n",
    "print(s[2])\n",
    "print(s[3])"
   ]
  },
  {
   "cell_type": "code",
   "execution_count": 3,
   "id": "a501da57",
   "metadata": {},
   "outputs": [
    {
     "name": "stdout",
     "output_type": "stream",
     "text": [
      "a\n",
      "b\n",
      "c\n",
      "d\n"
     ]
    }
   ],
   "source": [
    "# Loops allow us to describe what we want to do once, and how many times we want to do it,\n",
    "# and then let the computer handle the repetition.\n",
    "\n",
    "# I can handle this with a \"for\" loop\n",
    "\n",
    "for one_character in s:\n",
    "    print(one_character)"
   ]
  },
  {
   "cell_type": "markdown",
   "id": "f1ce5533",
   "metadata": {},
   "source": [
    "# What's happening in our `for` loop?\n",
    "\n",
    "1. The `for` loop turns to `s` (or to whatever else is at the end of the line), and asks: Are you iterable? Meaning: Do you know how to behave inside of a `for` loop?\n",
    "2. If the answer is \"yes,\" then the `for` loop says: OK, give me your next thing.\n",
    "    - Either `s` gives us its next thing, which is assigned to `one_character`, and we then execute the body of the loop (i.e., the indented part)\n",
    "    - Or `s` says: I'm done!  And the loop exits\n",
    "3. After the loop body executes, we go back to step 2, asking the object for its next thing.    "
   ]
  },
  {
   "cell_type": "code",
   "execution_count": 4,
   "id": "cb3d9cd0",
   "metadata": {},
   "outputs": [
    {
     "ename": "TypeError",
     "evalue": "'int' object is not iterable",
     "output_type": "error",
     "traceback": [
      "\u001b[0;31m---------------------------------------------------------------------------\u001b[0m",
      "\u001b[0;31mTypeError\u001b[0m                                 Traceback (most recent call last)",
      "\u001b[0;32m/var/folders/rr/0mnyyv811fs5vyp22gf4fxk00000gn/T/ipykernel_85715/1259451884.py\u001b[0m in \u001b[0;36m<module>\u001b[0;34m\u001b[0m\n\u001b[1;32m      3\u001b[0m \u001b[0;31m# an example: integers\u001b[0m\u001b[0;34m\u001b[0m\u001b[0;34m\u001b[0m\u001b[0m\n\u001b[1;32m      4\u001b[0m \u001b[0;34m\u001b[0m\u001b[0m\n\u001b[0;32m----> 5\u001b[0;31m \u001b[0;32mfor\u001b[0m \u001b[0mone_item\u001b[0m \u001b[0;32min\u001b[0m \u001b[0;36m5\u001b[0m\u001b[0;34m:\u001b[0m\u001b[0;34m\u001b[0m\u001b[0;34m\u001b[0m\u001b[0m\n\u001b[0m\u001b[1;32m      6\u001b[0m     \u001b[0mprint\u001b[0m\u001b[0;34m(\u001b[0m\u001b[0mone_item\u001b[0m\u001b[0;34m)\u001b[0m\u001b[0;34m\u001b[0m\u001b[0;34m\u001b[0m\u001b[0m\n",
      "\u001b[0;31mTypeError\u001b[0m: 'int' object is not iterable"
     ]
    }
   ],
   "source": [
    "# what if the object isn't iterable? What if we cannot iterate over it?\n",
    "\n",
    "# an example: integers\n",
    "\n",
    "for one_item in 5:\n",
    "    print(one_item)"
   ]
  },
  {
   "cell_type": "markdown",
   "id": "f8e82639",
   "metadata": {},
   "source": [
    "# Exercise: Count vowels and consonants\n",
    "\n",
    "Remember (maybe) from last week that we can check to see if one string is inside of another string with `in`.  For example:\n",
    "\n",
    "    'a' in 'abcd'   # returns True\n",
    "    'q' in 'abcd'   # returns False\n",
    "    \n",
    "I want you to write a program that asks the user for input, and counts how many vowels there are in the input, and how many consonants.\n",
    "\n",
    "1. Define two variables, `vowels` and `consonants`.  They should both be set to 0.\n",
    "2. Ask the user to enter a string.\n",
    "3. Iterate over the string, one character at a time.  \n",
    "4. For each character, ask: \n",
    "    - Is it a vowel? If so, then add 1 to `vowels`.\n",
    "    - Is it a consonant? If so, then add 1 to `consonants`.\n",
    "    - If it is neither, then ignore it.\n",
    "5. Print the values of both `vowels` and `consonants`.\n",
    "\n",
    "Example:\n",
    "\n",
    "    Enter a string: hello!\n",
    "    vowels: 2\n",
    "    consonants: 3\n"
   ]
  },
  {
   "cell_type": "code",
   "execution_count": 5,
   "id": "54d1e287",
   "metadata": {},
   "outputs": [
    {
     "name": "stdout",
     "output_type": "stream",
     "text": [
      "Enter a string: hello!\n",
      "Ignoring !\n",
      "vowels = 2\n",
      "consonants = 3\n"
     ]
    }
   ],
   "source": [
    "vowels = 0\n",
    "consonants = 0\n",
    "\n",
    "s = input('Enter a string: ').strip()    # strip at the end removes leading/trailing whitespace\n",
    "\n",
    "for one_character in s:  # go through the string, one character at a time\n",
    "    if one_character in 'aeiou':\n",
    "        vowels += 1\n",
    "    elif one_character in 'bcdfghjklmnpqrstvwxyz':\n",
    "        consonants += 1\n",
    "    else:\n",
    "        print(f'Ignoring {one_character}')\n",
    "        \n",
    "print(f'vowels = {vowels}')        \n",
    "print(f'consonants = {consonants}')"
   ]
  },
  {
   "cell_type": "code",
   "execution_count": null,
   "id": "b5ccd53f",
   "metadata": {},
   "outputs": [],
   "source": [
    "# alternative solution, in which we assume the user only enters vowels + consonants\n",
    "\n",
    "vowels = 0\n",
    "consonants = 0\n",
    "\n",
    "s = input('Enter a string: ').strip()    # strip at the end removes leading/trailing whitespace\n",
    "\n",
    "for one_character in s.lower():  # go through the string, one character at a time\n",
    "    if one_character in 'aeiou':\n",
    "        vowels += 1\n",
    "    else:\n",
    "        consonants += 1\n",
    "        \n",
    "print(f'vowels = {vowels}')   # f-string -- just like a regular string, except that {} can contain Python expressions\n",
    "print(f'consonants = {consonants}')"
   ]
  },
  {
   "cell_type": "code",
   "execution_count": 7,
   "id": "e2c6897f",
   "metadata": {},
   "outputs": [
    {
     "ename": "NameError",
     "evalue": "name 'x' is not defined",
     "output_type": "error",
     "traceback": [
      "\u001b[0;31m---------------------------------------------------------------------------\u001b[0m",
      "\u001b[0;31mNameError\u001b[0m                                 Traceback (most recent call last)",
      "\u001b[0;32m/var/folders/rr/0mnyyv811fs5vyp22gf4fxk00000gn/T/ipykernel_85715/1292930421.py\u001b[0m in \u001b[0;36m<module>\u001b[0;34m\u001b[0m\n\u001b[0;32m----> 1\u001b[0;31m \u001b[0mx\u001b[0m \u001b[0;34m+=\u001b[0m \u001b[0;36m1\u001b[0m   \u001b[0;31m# what will Python do? We want to add 1 to the current value of x... which doesn't exist\u001b[0m\u001b[0;34m\u001b[0m\u001b[0;34m\u001b[0m\u001b[0m\n\u001b[0m",
      "\u001b[0;31mNameError\u001b[0m: name 'x' is not defined"
     ]
    }
   ],
   "source": [
    "x += 1   # what will Python do? We want to add 1 to the current value of x... which doesn't exist"
   ]
  },
  {
   "cell_type": "code",
   "execution_count": null,
   "id": "8a5a2c18",
   "metadata": {},
   "outputs": [],
   "source": [
    "# this will work... but this is where you really want to use if/else\n",
    "\n",
    "if one_character in 'aeiou':\n",
    "    vowels += 1\n",
    "if one_character not in 'aeiou':  \n",
    "    consonants += 1"
   ]
  },
  {
   "cell_type": "markdown",
   "id": "be8e0f81",
   "metadata": {},
   "source": [
    "# Method chaining\n",
    "\n",
    "I can run any string method on any string.  For example:\n",
    "\n",
    "```python\n",
    "s = input('Enter a string: ').strip()\n",
    "```\n",
    "\n",
    "This works because `input` returns a string.  Before `input`'s return value is assigned to `s`, we first invoke `strip` on it.  In other words:\n",
    "\n",
    "- `input` gets a string from the user\n",
    "- `input` returns a string\n",
    "- `str.strip` is invoked on that (anonymous) string returned by `input`\n",
    "- The result of `str.strip` is assigned to `s`\n",
    "\n",
    "Since I can call any string method on any string, and since `str.strip` returns a string, I can then use more than one method.  This is known as \"method chaining\":\n",
    "\n",
    "```python\n",
    "s = input('Enter a string: ').strip().lower()\n",
    "```\n",
    "\n",
    "- `input` gets a string from the user\n",
    "- `input` returns a string\n",
    "- `str.strip` is invoked on that (anonymous) string returned by `input`, and returns a string value\n",
    "- `str.lower` is invoked on that (also anonymous) string returned by `str.strip`, and returns a string value\n",
    "- The result of `str.lower` is assigned to `s`\n"
   ]
  },
  {
   "cell_type": "code",
   "execution_count": 8,
   "id": "cad1fc39",
   "metadata": {},
   "outputs": [
    {
     "name": "stdout",
     "output_type": "stream",
     "text": [
      "a\n",
      "b\n",
      "c\n",
      "d\n",
      "e\n",
      "f\n",
      "g\n",
      "h\n",
      "i\n",
      "j\n"
     ]
    }
   ],
   "source": [
    "s = 'abcdefghijklmnopqrstuvwxyz'\n",
    "\n",
    "# What if I only want to iterate over the first 10 characters in s?\n",
    "# it's very easy -- just use a slice!\n",
    "\n",
    "for one_character in s[:10]:\n",
    "    print(one_character)"
   ]
  },
  {
   "cell_type": "markdown",
   "id": "5412a0fe",
   "metadata": {},
   "source": [
    "# How can we execute something a number of times?\n",
    "\n",
    "We might thing (wrongly!) that we can invoke `for` on an integer, and thus accomplish something a number of times.  But no, we'll need other tools."
   ]
  },
  {
   "cell_type": "code",
   "execution_count": 9,
   "id": "78953a94",
   "metadata": {},
   "outputs": [
    {
     "name": "stdout",
     "output_type": "stream",
     "text": [
      "Hooray!\n",
      "Hooray!\n",
      "Hooray!\n"
     ]
    }
   ],
   "source": [
    "# Example: I'm teaching Python, and I'm super happy about it\n",
    "\n",
    "print('Hooray!')\n",
    "print('Hooray!')\n",
    "print('Hooray!')\n",
    "\n",
    "# this, of course, violates the DRY (don't repeat yourself) rule, and so now I'm sad."
   ]
  },
  {
   "cell_type": "code",
   "execution_count": 10,
   "id": "ed8b3533",
   "metadata": {},
   "outputs": [
    {
     "ename": "TypeError",
     "evalue": "'int' object is not iterable",
     "output_type": "error",
     "traceback": [
      "\u001b[0;31m---------------------------------------------------------------------------\u001b[0m",
      "\u001b[0;31mTypeError\u001b[0m                                 Traceback (most recent call last)",
      "\u001b[0;32m/var/folders/rr/0mnyyv811fs5vyp22gf4fxk00000gn/T/ipykernel_85715/3297198287.py\u001b[0m in \u001b[0;36m<module>\u001b[0;34m\u001b[0m\n\u001b[0;32m----> 1\u001b[0;31m \u001b[0;32mfor\u001b[0m \u001b[0mcounter\u001b[0m \u001b[0;32min\u001b[0m \u001b[0;36m3\u001b[0m\u001b[0;34m:\u001b[0m\u001b[0;34m\u001b[0m\u001b[0;34m\u001b[0m\u001b[0m\n\u001b[0m\u001b[1;32m      2\u001b[0m     \u001b[0mprint\u001b[0m\u001b[0;34m(\u001b[0m\u001b[0;34m'Hooray!'\u001b[0m\u001b[0;34m)\u001b[0m\u001b[0;34m\u001b[0m\u001b[0;34m\u001b[0m\u001b[0m\n",
      "\u001b[0;31mTypeError\u001b[0m: 'int' object is not iterable"
     ]
    }
   ],
   "source": [
    "for counter in 3:\n",
    "    print('Hooray!')"
   ]
  },
  {
   "cell_type": "code",
   "execution_count": 11,
   "id": "9413fbb3",
   "metadata": {},
   "outputs": [
    {
     "name": "stdout",
     "output_type": "stream",
     "text": [
      "Hooray!\n",
      "Hooray!\n",
      "Hooray!\n"
     ]
    }
   ],
   "source": [
    "# the way we do this is with \"range\"\n",
    "# the \"range\" function is meant for use with iterations and for loops\n",
    "# we give it an integer, and it allows us to iterate that number of times\n",
    "\n",
    "for counter in range(3):   # what is counter?\n",
    "    print('Hooray!')"
   ]
  },
  {
   "cell_type": "code",
   "execution_count": 12,
   "id": "d8d204c1",
   "metadata": {},
   "outputs": [
    {
     "name": "stdout",
     "output_type": "stream",
     "text": [
      "0 Hooray!\n",
      "1 Hooray!\n",
      "2 Hooray!\n"
     ]
    }
   ],
   "source": [
    "for counter in range(3):   # what is counter?\n",
    "    print(f'{counter} Hooray!')"
   ]
  },
  {
   "cell_type": "markdown",
   "id": "1de8e4e1",
   "metadata": {},
   "source": [
    "# `range`\n",
    "\n",
    "If we want to run a `for` loop a certain number of times, we can call `range` with an integer.  This `range` object knows how to behave inside of a `for` loop.  With each iteration, it returns an integer, starting at 0, and going up to (but not including) the number that we specified.\n",
    "\n",
    "Remember:\n",
    "\n",
    "- String indexes start at 0, and go up to (but not including) the number of characters"
   ]
  },
  {
   "cell_type": "markdown",
   "id": "2e88fef1",
   "metadata": {},
   "source": [
    "# Exercise: Name triangles\n",
    "\n",
    "1. Ask the user to enter their name.\n",
    "2. Print a triangle based on their name:\n",
    "    - On the first line, we'll print just the first letter\n",
    "    - On the second line, we'll print the first two letters\n",
    "    - ...\n",
    "    - On the final line, we'll print the full name\n",
    "    \n",
    "Example:\n",
    "\n",
    "    Enter your name: Reuven\n",
    "    R\n",
    "    Re\n",
    "    Reu\n",
    "    Reuv\n",
    "    Reuve\n",
    "    Reuven\n",
    "    \n",
    "Hints:\n",
    "- Remember that `range` can be used with an integer input\n",
    "- Remember that `len` counts the number of characters in a string, and returns an integer\n",
    "- Remember that a slice lets us retrieve part of a string, either from `[start:end+1]` or `[:end+1]`"
   ]
  },
  {
   "cell_type": "code",
   "execution_count": 15,
   "id": "a8660607",
   "metadata": {},
   "outputs": [
    {
     "name": "stdout",
     "output_type": "stream",
     "text": [
      "Enter your name: Reuven\n",
      "R\n",
      "Re\n",
      "Reu\n",
      "Reuv\n",
      "Reuve\n",
      "Reuven\n"
     ]
    }
   ],
   "source": [
    "name = input('Enter your name: ').strip()\n",
    "\n",
    "# assume that the name is \"Reuven\"\n",
    "\n",
    "print(name[:1])   # from the start, up to and not including index 1\n",
    "print(name[:2])   # from the start, up to and not including index 2\n",
    "print(name[:3])   # from the start, up to and not including index 3\n",
    "print(name[:4])   # from the start, up to and not including index 4\n",
    "print(name[:5])   # from the start, up to and not including index 5\n",
    "print(name[:6])   # from the start, up to and not including index 6"
   ]
  },
  {
   "cell_type": "code",
   "execution_count": 16,
   "id": "b931ed51",
   "metadata": {},
   "outputs": [
    {
     "name": "stdout",
     "output_type": "stream",
     "text": [
      "Enter your name: Reuven\n",
      "\n",
      "R\n",
      "Re\n",
      "Reu\n",
      "Reuv\n",
      "Reuve\n"
     ]
    }
   ],
   "source": [
    "name = input('Enter your name: ').strip()\n",
    "\n",
    "# I want the end index to start at 1 and end at (not including) 7 \n",
    "# start at 0 and end at (not including) 6, then add 1 to it\n",
    "\n",
    "for end_index in range(6):\n",
    "    print(name[:end_index])  # off by 1 error"
   ]
  },
  {
   "cell_type": "code",
   "execution_count": 20,
   "id": "1989be04",
   "metadata": {},
   "outputs": [
    {
     "name": "stdout",
     "output_type": "stream",
     "text": [
      "Enter your name: somethingverylong\n",
      "s\n",
      "so\n",
      "som\n",
      "some\n",
      "somet\n",
      "someth\n",
      "somethi\n",
      "somethin\n",
      "something\n",
      "somethingv\n",
      "somethingve\n",
      "somethingver\n",
      "somethingvery\n",
      "somethingveryl\n",
      "somethingverylo\n",
      "somethingverylon\n",
      "somethingverylong\n"
     ]
    }
   ],
   "source": [
    "name = input('Enter your name: ').strip()\n",
    "\n",
    "for end_index in range(len(name)):\n",
    "    print(name[:end_index+1]) "
   ]
  },
  {
   "cell_type": "markdown",
   "id": "43304996",
   "metadata": {},
   "source": [
    "# Example: Highest number of 3\n",
    "\n",
    "Let's let the user enter three numbers, and I'll display the highest of them."
   ]
  },
  {
   "cell_type": "code",
   "execution_count": 21,
   "id": "2080a8f3",
   "metadata": {},
   "outputs": [
    {
     "name": "stdout",
     "output_type": "stream",
     "text": [
      "Enter your number: 15\n",
      "Enter your number: 7\n",
      "Enter your number: 2\n",
      "Highest = 15\n"
     ]
    }
   ],
   "source": [
    "highest = 0\n",
    "\n",
    "for counter in range(3):  # we'll run this loop 3 times, and counter will be 0/1/2\n",
    "    n = input('Enter your number: ').strip()\n",
    "    n = int(n)  # get an integer based on n\n",
    "    \n",
    "    if n > highest:   # is n bigger than highest?  If so, n becomes the new champion!\n",
    "        highest = n\n",
    "        \n",
    "print(f'Highest = {highest}')        "
   ]
  },
  {
   "cell_type": "code",
   "execution_count": 22,
   "id": "9288bc52",
   "metadata": {},
   "outputs": [
    {
     "data": {
      "text/plain": [
       "'e'"
      ]
     },
     "execution_count": 22,
     "metadata": {},
     "output_type": "execute_result"
    }
   ],
   "source": [
    "s = 'abcde'\n",
    "\n",
    "s[4]  # get the character at index 4"
   ]
  },
  {
   "cell_type": "code",
   "execution_count": 23,
   "id": "a0c2035c",
   "metadata": {},
   "outputs": [
    {
     "ename": "IndexError",
     "evalue": "string index out of range",
     "output_type": "error",
     "traceback": [
      "\u001b[0;31m---------------------------------------------------------------------------\u001b[0m",
      "\u001b[0;31mIndexError\u001b[0m                                Traceback (most recent call last)",
      "\u001b[0;32m/var/folders/rr/0mnyyv811fs5vyp22gf4fxk00000gn/T/ipykernel_85715/3618348050.py\u001b[0m in \u001b[0;36m<module>\u001b[0;34m\u001b[0m\n\u001b[0;32m----> 1\u001b[0;31m \u001b[0ms\u001b[0m\u001b[0;34m[\u001b[0m\u001b[0;36m10\u001b[0m\u001b[0;34m]\u001b[0m   \u001b[0;31m# get the character at index 10\u001b[0m\u001b[0;34m\u001b[0m\u001b[0;34m\u001b[0m\u001b[0m\n\u001b[0m",
      "\u001b[0;31mIndexError\u001b[0m: string index out of range"
     ]
    }
   ],
   "source": [
    "s[10]   # get the character at index 10"
   ]
  },
  {
   "cell_type": "code",
   "execution_count": 24,
   "id": "fbf6a720",
   "metadata": {},
   "outputs": [
    {
     "data": {
      "text/plain": [
       "'abcd'"
      ]
     },
     "execution_count": 24,
     "metadata": {},
     "output_type": "execute_result"
    }
   ],
   "source": [
    "s[:4]  # get all characters up to (and not including) index 4"
   ]
  },
  {
   "cell_type": "code",
   "execution_count": 25,
   "id": "542a021b",
   "metadata": {},
   "outputs": [
    {
     "data": {
      "text/plain": [
       "'abcde'"
      ]
     },
     "execution_count": 25,
     "metadata": {},
     "output_type": "execute_result"
    }
   ],
   "source": [
    "s[:10]  # get all characters up to (and not including) index 10"
   ]
  },
  {
   "cell_type": "markdown",
   "id": "b038c604",
   "metadata": {},
   "source": [
    "# Next up\n",
    "\n",
    "- `while` loops\n",
    "- Where's the index? "
   ]
  },
  {
   "cell_type": "markdown",
   "id": "439f88e4",
   "metadata": {},
   "source": [
    "# `while` loops\n",
    "\n",
    "`for` loops allow us to execute a loop body a known number of times:\n",
    "\n",
    "- for each character in a string\n",
    "- up to a `range` maximum\n",
    "\n",
    "But what if I don't know how many iterations I'll need of my loop?  What I want to continue, perhaps forever, until a particular condition is met?\n",
    "\n",
    "For that, we have `while` loops.  You can think of `while` as just like `if`, except that it'll keep executing the body until the condition returns `False`."
   ]
  },
  {
   "cell_type": "code",
   "execution_count": 27,
   "id": "303d5d0f",
   "metadata": {},
   "outputs": [
    {
     "name": "stdout",
     "output_type": "stream",
     "text": [
      "x = 5\n",
      "x = 4\n",
      "x = 3\n",
      "x = 2\n",
      "x = 1\n"
     ]
    }
   ],
   "source": [
    "x = 5\n",
    "\n",
    "while x > 0:\n",
    "    print(f'x = {x}')\n",
    "    x -= 1  # this is the same as saying x = x - 1, aka \"decrement x by 1\""
   ]
  },
  {
   "cell_type": "code",
   "execution_count": 28,
   "id": "63756598",
   "metadata": {},
   "outputs": [
    {
     "name": "stdout",
     "output_type": "stream",
     "text": [
      "Enter your name: Reuven\n",
      "Hello, Reuven!\n",
      "Enter your name: world\n",
      "Hello, world!\n",
      "Enter your name: no\n",
      "Hello, no!\n",
      "Enter your name: \n"
     ]
    }
   ],
   "source": [
    "# in both \"for\" and \"while\" loops, we sometimes need to exit early.\n",
    "\n",
    "# we can do that with \"break\"\n",
    "# the \"break\" command means: Exit the current loop right now\n",
    "\n",
    "while True:     # this looks dangerous -- it'll run forever!  \n",
    "    name = input('Enter your name: ').strip()\n",
    "    \n",
    "    if name == '':  # is it the empty string?  BTW, this is *NOT* the same as ' '\n",
    "        break\n",
    "        \n",
    "    print(f'Hello, {name}!')\n",
    "    \n",
    "    "
   ]
  },
  {
   "cell_type": "markdown",
   "id": "200f8da7",
   "metadata": {},
   "source": [
    "# Exercise: Summing numbers\n",
    "\n",
    "1. Set `total` to 0.\n",
    "2. Ask the user, repeatedly, to enter a number.\n",
    "    - If the user enters an empty string, then break out of the loop\n",
    "    - If the user enters a non-numeric string (use the `isdigit` method), then scold them\n",
    "    - If the user enters a numeric string, convert it to an integer (with `int`) and add to `total`.  Print the current, running `total`.\n",
    "3. After the loop, print `total`    \n",
    "\n",
    "Example:\n",
    "\n",
    "    Enter a number: 10\n",
    "    total is 10\n",
    "    Enter a number: 20\n",
    "    total is 30\n",
    "    Enter a number: hello\n",
    "    hello is not a number\n",
    "    Enter a number: 30\n",
    "    total is 60\n",
    "    Enter a number: [ENTER]\n",
    "    total is 6"
   ]
  },
  {
   "cell_type": "code",
   "execution_count": 31,
   "id": "ac4016fc",
   "metadata": {},
   "outputs": [
    {
     "name": "stdout",
     "output_type": "stream",
     "text": [
      "Enter a number: 10\n",
      "Total is now 10\n",
      "Enter a number: 20\n",
      "Total is now 30\n",
      "Enter a number: asfsafsa\n",
      "asfsafsa is not numeric\n",
      "Enter a number: 30\n",
      "Total is now 60\n",
      "Enter a number: asdfsafafa\n",
      "asdfsafafa is not numeric\n",
      "Enter a number: \n",
      "Ending; total is 60\n"
     ]
    }
   ],
   "source": [
    "total = 0\n",
    "\n",
    "while True:\n",
    "    s = input('Enter a number: ').strip()\n",
    "    \n",
    "    if s == '':  # Did the user enter an empty string? Stop the loop\n",
    "        break\n",
    "        \n",
    "    if s.isdigit():\n",
    "        total += int(s)\n",
    "        print(f'Total is now {total}')\n",
    "    else:\n",
    "        print(f'{s} is not numeric')\n",
    "    \n",
    "print(f'Ending; total is {total}')     \n",
    "        \n",
    "    "
   ]
  },
  {
   "cell_type": "markdown",
   "id": "43e0fdb2",
   "metadata": {},
   "source": [
    "# Where's the index?\n",
    "\n",
    "In many languages (especially C-like languages), `for` loops look nothing like this! In those languages, I iterate in my loop over an index. I start at 0, and add 1 until I get to the maximum, or the length.\n",
    "\n",
    "Where's the index here? \n",
    "\n",
    "Even in C-like languages, you're using the index to get to a character.  You don't care about the index; it's a means to an end.  In Python, we have that end, we have the characters. We don't need the index!\n",
    "\n",
    "What if I do want the index?"
   ]
  },
  {
   "cell_type": "code",
   "execution_count": 33,
   "id": "542f559a",
   "metadata": {},
   "outputs": [
    {
     "name": "stdout",
     "output_type": "stream",
     "text": [
      "0: a\n",
      "1: b\n",
      "2: c\n",
      "3: d\n"
     ]
    }
   ],
   "source": [
    "s = 'abcd'\n",
    "\n",
    "# I want to display each character in s, alongside its index in the string\n",
    "# Option 1: Do it myself\n",
    "\n",
    "index = 0\n",
    "\n",
    "for one_character in s:\n",
    "    print(f'{index}: {one_character}')\n",
    "    index += 1   # increment index by 1\n",
    "    "
   ]
  },
  {
   "cell_type": "code",
   "execution_count": 34,
   "id": "c6666cb4",
   "metadata": {},
   "outputs": [
    {
     "name": "stdout",
     "output_type": "stream",
     "text": [
      "0: a\n",
      "1: b\n",
      "2: c\n",
      "3: d\n"
     ]
    }
   ],
   "source": [
    "# Option 2: Use enumerate\n",
    "# enumerate is a function that comes with Python, and wraps itself around an iterable object\n",
    "# (which for now is just a string)\n",
    "\n",
    "for index, one_character in enumerate(s):    # enumerate gives us *TWO* items with each iteration\n",
    "    print(f'{index}: {one_character}')"
   ]
  },
  {
   "cell_type": "markdown",
   "id": "c8c9bbec",
   "metadata": {},
   "source": [
    "# Exercise: Powers of 10\n",
    "\n",
    "1. Ask the user to enter a number.\n",
    "2. Print the number, broken up, adding powers of 10.\n",
    "\n",
    "Example:\n",
    "\n",
    "    Enter a number: 5328\n",
    "    5 * 1000\n",
    "    3 * 100\n",
    "    2 * 10\n",
    "    8 * 1\n",
    "    \n",
    "Or:\n",
    "\n",
    "    5 * 10**3\n",
    "    3 * 10**2\n",
    "    2 * 10**1\n",
    "    8 * 10**0\n",
    "    \n",
    "Consider/hints:\n",
    "\n",
    "1. The input from the user will be a string.\n",
    "2. You can get the length of the string with `len`\n",
    "3. You can calculate what power your need by subtracting the current index from `len`\n",
    "4. Use `enumerate` to get the current index."
   ]
  },
  {
   "cell_type": "code",
   "execution_count": 41,
   "id": "5121b75d",
   "metadata": {},
   "outputs": [
    {
     "name": "stdout",
     "output_type": "stream",
     "text": [
      "Enter a number: 9876543210\n",
      "9 * 10**9\n",
      "8 * 10**8\n",
      "7 * 10**7\n",
      "6 * 10**6\n",
      "5 * 10**5\n",
      "4 * 10**4\n",
      "3 * 10**3\n",
      "2 * 10**2\n",
      "1 * 10**1\n",
      "0 * 10**0\n"
     ]
    }
   ],
   "source": [
    "s = input('Enter a number: ').strip()\n",
    "\n",
    "for index, one_digit in enumerate(s):\n",
    "    power = len(s) - index - 1\n",
    "    print(f'{one_digit} * 10**{power}')"
   ]
  },
  {
   "cell_type": "markdown",
   "id": "2e000ee8",
   "metadata": {},
   "source": [
    "# `break` stops the current loop\n",
    "\n"
   ]
  },
  {
   "cell_type": "code",
   "execution_count": 42,
   "id": "4fd6d3fe",
   "metadata": {},
   "outputs": [
    {
     "name": "stdout",
     "output_type": "stream",
     "text": [
      "a\n",
      "b\n",
      "c\n"
     ]
    }
   ],
   "source": [
    "# let's pretend that \"in\" doesn't exist\n",
    "\n",
    "s = 'abcde'\n",
    "look_for = 'd'\n",
    "\n",
    "for one_character in s:\n",
    "    if look_for == one_character:\n",
    "        break   # once we find the character we're interested in, stop the loop\n",
    "\n",
    "    print(one_character)\n"
   ]
  },
  {
   "cell_type": "code",
   "execution_count": 43,
   "id": "1168fae3",
   "metadata": {},
   "outputs": [
    {
     "name": "stdout",
     "output_type": "stream",
     "text": [
      "a\n",
      "b\n",
      "c\n",
      "e\n"
     ]
    }
   ],
   "source": [
    "# sometimes, you want to skip over the rest of the loop body for this iteration,\n",
    "# but then move onto the next iteration\n",
    "\n",
    "# this is especially common if you have inputs that aren't appropriate;\n",
    "# move onto the next thing\n",
    "\n",
    "# we can do this with \"continue\"\n",
    "\n",
    "\n",
    "s = 'abcde'\n",
    "look_for = 'd'\n",
    "\n",
    "for one_character in s:\n",
    "    if look_for == one_character:\n",
    "        continue  # ignore the rest of the loop body if we're on look_for\n",
    "\n",
    "    print(one_character)\n"
   ]
  },
  {
   "cell_type": "code",
   "execution_count": 45,
   "id": "c834c161",
   "metadata": {},
   "outputs": [
    {
     "name": "stdout",
     "output_type": "stream",
     "text": [
      "Enter a number: 20\n",
      "\tAfter adding 20, total is 20\n",
      "Enter a number: 30\n",
      "\tAfter adding 30, total is 50\n",
      "Enter a number: 25\n",
      "\tAfter adding 25, total is 75\n",
      "Enter a number: hello\n",
      "hello is not numeric; try again\n",
      "Enter a number: 90\n",
      "\tAfter adding 90, total is 165\n",
      "Exited; total is 165\n"
     ]
    }
   ],
   "source": [
    "# An example, using both break and continue\n",
    "\n",
    "target = 100\n",
    "total = 0\n",
    "\n",
    "while total < target:\n",
    "    s = input('Enter a number: ').strip()\n",
    "    \n",
    "    if s == '':  # empty string? exit right away, even if we haven't hit total\n",
    "        print(f'Ending early with total = {total}')\n",
    "        break\n",
    "        \n",
    "    if not s.isdigit():\n",
    "        print(f'{s} is not numeric; try again')\n",
    "        continue\n",
    "        \n",
    "    total += int(s)\n",
    "    print(f'\\tAfter adding {s}, total is {total}')\n",
    "\n",
    "print(f'Exited; total is {total}')    "
   ]
  },
  {
   "cell_type": "markdown",
   "id": "9036239e",
   "metadata": {},
   "source": [
    "# What can be in a loop body?\n",
    "\n",
    "Inside of a loop body, we can have anything at all:\n",
    "\n",
    "- Assignment\n",
    "- `input`\n",
    "- `print`\n",
    "- You can have a `while` loop inside of a `for` loop, or vice versa\n",
    "- One `for` loop inside of another is often called a \"nested loop.\""
   ]
  },
  {
   "cell_type": "markdown",
   "id": "4028a056",
   "metadata": {},
   "source": [
    "# Exercise: Sum digits\n",
    "\n",
    "1. Define `total` to be 0\n",
    "2. Ask the user, repeatedly, to enter a string.  (Use a `while` loop here)\n",
    "    - If they give us an empty string, `break` out of the loop.\n",
    "3. Go through each character in the string.\n",
    "    - If it's a digit, turn it into an integer and add to `total`.  Then print `total`.\n",
    "    - If it's not a digit, scold the user.\n",
    "    \n",
    "Example:\n",
    "\n",
    "    Enter a string: 123\n",
    "    Total is 6\n",
    "    Enter a string: 4a5\n",
    "    a is not numeric; ignoring\n",
    "    Total is 15\n",
    "    Enter a string: [ENTER]\n",
    "    Total is 15\n"
   ]
  },
  {
   "cell_type": "code",
   "execution_count": 46,
   "id": "d296cd0b",
   "metadata": {},
   "outputs": [],
   "source": [
    "# if the person enters 123, we should add 1+2+3\n",
    "# if they enter 4a5, we should add 4+5 to the existing total, ignoring a"
   ]
  },
  {
   "cell_type": "code",
   "execution_count": 47,
   "id": "5ab4db88",
   "metadata": {},
   "outputs": [
    {
     "name": "stdout",
     "output_type": "stream",
     "text": [
      "a\tbcd\tef\tghi\n",
      "jkl\tm\tnop\tqr\n"
     ]
    }
   ],
   "source": [
    "# tab inserts enough padding to get you to the next multiple-of-8 column\n",
    "\n",
    "print('a\\tbcd\\tef\\tghi')\n",
    "print('jkl\\tm\\tnop\\tqr')\n"
   ]
  },
  {
   "cell_type": "code",
   "execution_count": 48,
   "id": "788172c6",
   "metadata": {},
   "outputs": [
    {
     "name": "stdout",
     "output_type": "stream",
     "text": [
      "Enter a string: 123\n",
      "\tAfter adding 1, total is 1\n",
      "\tAfter adding 2, total is 3\n",
      "\tAfter adding 3, total is 6\n",
      "Enter a string: 9a4\n",
      "\tAfter adding 9, total is 15\n",
      "\ta is not numeric\n",
      "\tAfter adding 4, total is 19\n",
      "Enter a string: \n",
      "total = 19\n"
     ]
    }
   ],
   "source": [
    "# I'll need a while loop, becuse I don't know how many strings the user will give me\n",
    "# I'll need a for loop, to go through each character in the strings that I do get\n",
    "\n",
    "total = 0\n",
    "\n",
    "while True:\n",
    "    s = input('Enter a string: ').strip()\n",
    "    \n",
    "    if s == '':   # stop the loop if we got an empty string\n",
    "        break\n",
    "        \n",
    "    for one_character in s:\n",
    "        if one_character.isdigit():\n",
    "            total += int(one_character)\n",
    "            print(f'\\tAfter adding {one_character}, total is {total}')\n",
    "        else:\n",
    "            print(f'\\t{one_character} is not numeric')\n",
    "            \n",
    "print(f'total = {total}')    \n"
   ]
  },
  {
   "cell_type": "code",
   "execution_count": 49,
   "id": "0b79696c",
   "metadata": {},
   "outputs": [
    {
     "ename": "TypeError",
     "evalue": "'int' object is not callable",
     "output_type": "error",
     "traceback": [
      "\u001b[0;31m---------------------------------------------------------------------------\u001b[0m",
      "\u001b[0;31mTypeError\u001b[0m                                 Traceback (most recent call last)",
      "\u001b[0;32m/var/folders/rr/0mnyyv811fs5vyp22gf4fxk00000gn/T/ipykernel_85715/2223897833.py\u001b[0m in \u001b[0;36m<module>\u001b[0;34m\u001b[0m\n\u001b[1;32m      3\u001b[0m \u001b[0;34m\u001b[0m\u001b[0m\n\u001b[1;32m      4\u001b[0m \u001b[0minput\u001b[0m \u001b[0;34m=\u001b[0m \u001b[0;36m5\u001b[0m\u001b[0;34m\u001b[0m\u001b[0;34m\u001b[0m\u001b[0m\n\u001b[0;32m----> 5\u001b[0;31m \u001b[0minput\u001b[0m\u001b[0;34m(\u001b[0m\u001b[0;34m'Enter your name: '\u001b[0m\u001b[0;34m)\u001b[0m\u001b[0;34m\u001b[0m\u001b[0;34m\u001b[0m\u001b[0m\n\u001b[0m",
      "\u001b[0;31mTypeError\u001b[0m: 'int' object is not callable"
     ]
    }
   ],
   "source": [
    "# if you accidentally created a variable called \"input\"\n",
    "# and assigned an integer to it, you'll get a weird error when you try to call the input function\n",
    "\n",
    "input = 5  # don't do this!\n",
    "input('Enter your name: ')"
   ]
  },
  {
   "cell_type": "code",
   "execution_count": 50,
   "id": "7eec484d",
   "metadata": {},
   "outputs": [],
   "source": [
    "# if you're in this bad situation, do the following (which looks scary, but don't worry)\n",
    "del(input)   # remove the input you defined, allowing us to use the builtin input instead"
   ]
  },
  {
   "cell_type": "code",
   "execution_count": 51,
   "id": "eb3baefd",
   "metadata": {},
   "outputs": [
    {
     "name": "stdout",
     "output_type": "stream",
     "text": [
      "Enter your name: Reuven\n"
     ]
    },
    {
     "data": {
      "text/plain": [
       "'Reuven'"
      ]
     },
     "execution_count": 51,
     "metadata": {},
     "output_type": "execute_result"
    }
   ],
   "source": [
    "input('Enter your name: ')"
   ]
  },
  {
   "cell_type": "markdown",
   "id": "5dcb9e94",
   "metadata": {},
   "source": [
    "# Next up: Lists!\n",
    "\n",
    "- Lists\n",
    "- Strings to lists, and back\n",
    "\n"
   ]
  },
  {
   "cell_type": "markdown",
   "id": "e8312a02",
   "metadata": {},
   "source": [
    "# Lists\n",
    "\n",
    "Lists are ordered containers for other objects.  That's a fancy way of saying that a list can contain *any* type of Python data. It can contain any number of elements.  Those elements stick around in the same order, and we can retrieve them using indexes (just like strings)."
   ]
  },
  {
   "cell_type": "code",
   "execution_count": 52,
   "id": "0ffd0e7d",
   "metadata": {},
   "outputs": [
    {
     "data": {
      "text/plain": [
       "3"
      ]
     },
     "execution_count": 52,
     "metadata": {},
     "output_type": "execute_result"
    }
   ],
   "source": [
    "# define lists with []\n",
    "mylist = [10, 20, 30]   # 3 elements, all integers, separated by ,\n",
    "len(mylist)"
   ]
  },
  {
   "cell_type": "code",
   "execution_count": 53,
   "id": "0f61ba59",
   "metadata": {},
   "outputs": [
    {
     "data": {
      "text/plain": [
       "5"
      ]
     },
     "execution_count": 53,
     "metadata": {},
     "output_type": "execute_result"
    }
   ],
   "source": [
    "mylist = ['a', 'b', 'cdef', 'gh', 'ijkl']\n",
    "len(mylist)"
   ]
  },
  {
   "cell_type": "code",
   "execution_count": 54,
   "id": "437aef6c",
   "metadata": {},
   "outputs": [],
   "source": [
    "# lists can contain any number, of any combination of data types\n",
    "# it's *traditional* for a list to contain only items of one type -- so all strings,\n",
    "# or all integers, etc."
   ]
  },
  {
   "cell_type": "code",
   "execution_count": 57,
   "id": "6171ff9e",
   "metadata": {},
   "outputs": [
    {
     "data": {
      "text/plain": [
       "'a'"
      ]
     },
     "execution_count": 57,
     "metadata": {},
     "output_type": "execute_result"
    }
   ],
   "source": [
    "# I can retrieve from mylist with [] and an index\n",
    "# just like strings, indexes start at 0\n",
    "mylist[0]"
   ]
  },
  {
   "cell_type": "code",
   "execution_count": 58,
   "id": "9f93f394",
   "metadata": {},
   "outputs": [
    {
     "data": {
      "text/plain": [
       "'b'"
      ]
     },
     "execution_count": 58,
     "metadata": {},
     "output_type": "execute_result"
    }
   ],
   "source": [
    "mylist[1]"
   ]
  },
  {
   "cell_type": "code",
   "execution_count": 59,
   "id": "0615eaa4",
   "metadata": {},
   "outputs": [
    {
     "data": {
      "text/plain": [
       "'ijkl'"
      ]
     },
     "execution_count": 59,
     "metadata": {},
     "output_type": "execute_result"
    }
   ],
   "source": [
    "mylist[-1]   # negative indexes count from the right"
   ]
  },
  {
   "cell_type": "code",
   "execution_count": 60,
   "id": "9b2b70ae",
   "metadata": {},
   "outputs": [
    {
     "data": {
      "text/plain": [
       "['a', 'b', 'cdef', 'gh', 'ijkl']"
      ]
     },
     "execution_count": 60,
     "metadata": {},
     "output_type": "execute_result"
    }
   ],
   "source": [
    "# I can search in my list, too\n",
    "mylist"
   ]
  },
  {
   "cell_type": "code",
   "execution_count": 61,
   "id": "fff5d3d7",
   "metadata": {},
   "outputs": [
    {
     "data": {
      "text/plain": [
       "True"
      ]
     },
     "execution_count": 61,
     "metadata": {},
     "output_type": "execute_result"
    }
   ],
   "source": [
    "'b' in mylist"
   ]
  },
  {
   "cell_type": "code",
   "execution_count": 62,
   "id": "b3554b86",
   "metadata": {},
   "outputs": [
    {
     "data": {
      "text/plain": [
       "True"
      ]
     },
     "execution_count": 62,
     "metadata": {},
     "output_type": "execute_result"
    }
   ],
   "source": [
    "'gh' in mylist"
   ]
  },
  {
   "cell_type": "code",
   "execution_count": 63,
   "id": "7f105e5c",
   "metadata": {},
   "outputs": [
    {
     "data": {
      "text/plain": [
       "False"
      ]
     },
     "execution_count": 63,
     "metadata": {},
     "output_type": "execute_result"
    }
   ],
   "source": [
    "'j' in mylist"
   ]
  },
  {
   "cell_type": "code",
   "execution_count": 64,
   "id": "0edc2751",
   "metadata": {},
   "outputs": [
    {
     "name": "stdout",
     "output_type": "stream",
     "text": [
      "a\n",
      "b\n",
      "cdef\n",
      "gh\n",
      "ijkl\n"
     ]
    }
   ],
   "source": [
    "# I can iterate over the elements of a list with a \"for\" loop\n",
    "\n",
    "for one_item in mylist:\n",
    "    print(one_item)"
   ]
  },
  {
   "cell_type": "code",
   "execution_count": 65,
   "id": "2f903b85",
   "metadata": {},
   "outputs": [],
   "source": [
    "# both strings and lists are *sequences*\n",
    "# any sequence (strings, lists, and tuples) will implement all of these things"
   ]
  },
  {
   "cell_type": "code",
   "execution_count": 66,
   "id": "e745e975",
   "metadata": {},
   "outputs": [
    {
     "data": {
      "text/plain": [
       "['a', 'b', 'cdef', 'gh', 'ijkl']"
      ]
     },
     "execution_count": 66,
     "metadata": {},
     "output_type": "execute_result"
    }
   ],
   "source": [
    "mylist"
   ]
  },
  {
   "cell_type": "markdown",
   "id": "4fd49010",
   "metadata": {},
   "source": [
    "# Exercise: Longest string\n",
    "\n",
    "1. Define a list, `words`, which contains 5-6 elements, all of which are strings.\n",
    "2. Set a variable, `longest_word`, to be an empty string.\n",
    "3. Iterate over each element of `words`, one at a time.\n",
    "4. When you're done iterating , `longest_word` should contain the longest word in `words`.\n",
    "\n",
    "Example:\n",
    "\n",
    "    words = ['this', 'is', 'a', 'fantastic', 'course']\n",
    "    # after running\n",
    "\n",
    "    print(longest_word)\n",
    "    fantastic"
   ]
  },
  {
   "cell_type": "code",
   "execution_count": 77,
   "id": "948e22ae",
   "metadata": {},
   "outputs": [
    {
     "name": "stdout",
     "output_type": "stream",
     "text": [
      "Longest word in the list is 'fantastic'\n"
     ]
    }
   ],
   "source": [
    "longest_word = ''\n",
    "\n",
    "words = ['this', 'is', 'a', 'fantastic', 'course']\n",
    "\n",
    "# I'm going to use a for loop to go through each word in \"words\"\n",
    "\n",
    "for one_word in words:\n",
    "    if len(one_word) > len(longest_word):  # if the current word is longer than our longest word...\n",
    "        longest_word = one_word\n",
    "        \n",
    "print(f'Longest word in the list is \\'{longest_word}\\'')        "
   ]
  },
  {
   "cell_type": "code",
   "execution_count": 68,
   "id": "deeb89f9",
   "metadata": {},
   "outputs": [
    {
     "ename": "TypeError",
     "evalue": "'str' object does not support item assignment",
     "output_type": "error",
     "traceback": [
      "\u001b[0;31m---------------------------------------------------------------------------\u001b[0m",
      "\u001b[0;31mTypeError\u001b[0m                                 Traceback (most recent call last)",
      "\u001b[0;32m/var/folders/rr/0mnyyv811fs5vyp22gf4fxk00000gn/T/ipykernel_85715/280766247.py\u001b[0m in \u001b[0;36m<module>\u001b[0;34m\u001b[0m\n\u001b[1;32m      2\u001b[0m \u001b[0ms\u001b[0m \u001b[0;34m=\u001b[0m \u001b[0;34m'abcde'\u001b[0m\u001b[0;34m\u001b[0m\u001b[0;34m\u001b[0m\u001b[0m\n\u001b[1;32m      3\u001b[0m \u001b[0;34m\u001b[0m\u001b[0m\n\u001b[0;32m----> 4\u001b[0;31m \u001b[0ms\u001b[0m\u001b[0;34m[\u001b[0m\u001b[0;36m0\u001b[0m\u001b[0;34m]\u001b[0m \u001b[0;34m=\u001b[0m \u001b[0;34m'!'\u001b[0m  \u001b[0;31m# this won't work -- strings are immutable!\u001b[0m\u001b[0;34m\u001b[0m\u001b[0;34m\u001b[0m\u001b[0m\n\u001b[0m",
      "\u001b[0;31mTypeError\u001b[0m: 'str' object does not support item assignment"
     ]
    }
   ],
   "source": [
    "# can we change a string?\n",
    "s = 'abcde'\n",
    "\n",
    "s[0] = '!'  # this won't work -- strings are immutable!"
   ]
  },
  {
   "cell_type": "code",
   "execution_count": 70,
   "id": "0e320379",
   "metadata": {},
   "outputs": [],
   "source": [
    "mylist = [10, 20, 30, 40, 50]\n",
    "\n",
    "mylist[0] = '!'  # this does work -- strings are MUTABLE"
   ]
  },
  {
   "cell_type": "code",
   "execution_count": 71,
   "id": "fb13d54c",
   "metadata": {},
   "outputs": [
    {
     "data": {
      "text/plain": [
       "['!', 20, 30, 40, 50]"
      ]
     },
     "execution_count": 71,
     "metadata": {},
     "output_type": "execute_result"
    }
   ],
   "source": [
    "mylist"
   ]
  },
  {
   "cell_type": "code",
   "execution_count": 72,
   "id": "85f5a79f",
   "metadata": {},
   "outputs": [
    {
     "data": {
      "text/plain": [
       "['!', 20, 30, 40, 50, 60]"
      ]
     },
     "execution_count": 72,
     "metadata": {},
     "output_type": "execute_result"
    }
   ],
   "source": [
    "# to add one item to the end of a list, use the .append method\n",
    "\n",
    "mylist.append(60) # whatever object I give to append will be added\n",
    "mylist"
   ]
  },
  {
   "cell_type": "code",
   "execution_count": 73,
   "id": "9ab481c5",
   "metadata": {},
   "outputs": [
    {
     "data": {
      "text/plain": [
       "60"
      ]
     },
     "execution_count": 73,
     "metadata": {},
     "output_type": "execute_result"
    }
   ],
   "source": [
    "# to remove an item from the end of a list, use the .pop method\n",
    "\n",
    "mylist.pop()  # whatever was at the end is no longer there (but is returned to us)"
   ]
  },
  {
   "cell_type": "code",
   "execution_count": 74,
   "id": "efa6819b",
   "metadata": {},
   "outputs": [
    {
     "data": {
      "text/plain": [
       "['!', 20, 30, 40, 50]"
      ]
     },
     "execution_count": 74,
     "metadata": {},
     "output_type": "execute_result"
    }
   ],
   "source": [
    "mylist"
   ]
  },
  {
   "cell_type": "code",
   "execution_count": 75,
   "id": "d90d1900",
   "metadata": {},
   "outputs": [
    {
     "name": "stdout",
     "output_type": "stream",
     "text": [
      "Enter a number: 3\n",
      "Enter a number: 5\n",
      "Enter a number: 2\n",
      "Enter a number: 4\n",
      "Enter a number: \n",
      "evens = [2, 4]\n",
      "odds = [3, 5]\n"
     ]
    }
   ],
   "source": [
    "evens = []\n",
    "odds = []\n",
    "\n",
    "while True:\n",
    "    s = input('Enter a number: ').strip()\n",
    "    \n",
    "    if s == '':\n",
    "        break\n",
    "        \n",
    "    if not s.isdigit():\n",
    "        print(f'{s} is not numeric')\n",
    "        continue\n",
    "        \n",
    "    n = int(s)\n",
    "    if n%2 == 1:  # it's odd!\n",
    "        odds.append(n)\n",
    "    else:   # it's even!\n",
    "        evens.append(n)\n",
    "        \n",
    "print(f'evens = {evens}')        \n",
    "print(f'odds = {odds}')"
   ]
  },
  {
   "cell_type": "markdown",
   "id": "e330897a",
   "metadata": {},
   "source": [
    "# Exercise: Digits, vowels, and others\n",
    "\n",
    "1. Define three empty lists called `digits`, `vowels`, and `others`.\n",
    "2. Ask the user to enter one string.\n",
    "3. Go through each character in the string:\n",
    "    - If it's a digit, append it to the end of `digits`\n",
    "    - If it's a vowel, append it to the end of `vowels`\n",
    "    - In all other caes, append it to the end of `others`\n",
    "4. Print all three of the lists.\n",
    "\n"
   ]
  },
  {
   "cell_type": "code",
   "execution_count": 78,
   "id": "48010982",
   "metadata": {},
   "outputs": [
    {
     "name": "stdout",
     "output_type": "stream",
     "text": [
      "Enter a string: hello 123 !!\n",
      "digits = ['1', '2', '3']\n",
      "vowels = ['e', 'o']\n",
      "others = ['h', 'l', 'l', ' ', ' ', '!', '!']\n"
     ]
    }
   ],
   "source": [
    "digits = []\n",
    "vowels = []\n",
    "others = []\n",
    "\n",
    "s = input('Enter a string: ').strip()\n",
    "\n",
    "for one_character in s:\n",
    "    if one_character.isdigit():\n",
    "        digits.append(one_character)\n",
    "    elif one_character in 'aeiou':\n",
    "        vowels.append(one_character)\n",
    "    else:\n",
    "        others.append(one_character)\n",
    "        \n",
    "print(f'digits = {digits}')        \n",
    "print(f'vowels = {vowels}')        \n",
    "print(f'others = {others}')        \n"
   ]
  },
  {
   "cell_type": "code",
   "execution_count": 81,
   "id": "469068d6",
   "metadata": {},
   "outputs": [
    {
     "data": {
      "text/plain": [
       "'a    b   c'"
      ]
     },
     "execution_count": 81,
     "metadata": {},
     "output_type": "execute_result"
    }
   ],
   "source": [
    "# str.strip removes whitespace from THE EDGES ONLY\n",
    "\n",
    "s = '    a    b   c   '\n",
    "s.strip()\n"
   ]
  },
  {
   "cell_type": "code",
   "execution_count": 79,
   "id": "0e76abe2",
   "metadata": {},
   "outputs": [],
   "source": [
    "# Don't make this mistake:\n",
    "\n",
    "mylist = [10, 20, 30]\n",
    "mylist = mylist.append(40)   # this won't do what you expect!"
   ]
  },
  {
   "cell_type": "code",
   "execution_count": 80,
   "id": "a04220d6",
   "metadata": {},
   "outputs": [
    {
     "name": "stdout",
     "output_type": "stream",
     "text": [
      "None\n"
     ]
    }
   ],
   "source": [
    "print(mylist)"
   ]
  },
  {
   "cell_type": "markdown",
   "id": "f7dba27d",
   "metadata": {},
   "source": [
    "A rule of thumb in Python: If you invoke a method on an object, and the method results in the object changing, then the method returns the special `None` object.\n",
    "\n",
    "A great example is `list.append` -- it modifies the list, and thus doesn't return anything.\n",
    "\n",
    "If you then say\n",
    "\n",
    "    mylist = mylist.append(40)\n",
    "    \n",
    "You are *not* adding 40 to the list, and then assigning it back to the variable `mylist`.  Rather, you're first adding 40 to `mylist`, and then you're assigning `None` back to `mylist`.\n"
   ]
  },
  {
   "cell_type": "markdown",
   "id": "64d6fa70",
   "metadata": {},
   "source": [
    "I f you want to read a Jupyter notebook file (i.e., one with an .ipynb extension/suffix)\n",
    "\n",
    "1. Install Jupyter on your computer\n",
    "2. Run Jupyter on your computer from a directory where you have permissions -- your home directory, your desktop\n",
    "3. Copy/move the Jupyter file to the directory where you ran `jupyter notebook`.   When you open Jupyter, it looks in its current directory for files."
   ]
  },
  {
   "cell_type": "code",
   "execution_count": 82,
   "id": "09002d06",
   "metadata": {},
   "outputs": [],
   "source": [
    "mylist = [10, 20, 30]\n",
    "biglist = [mylist, mylist, mylist]"
   ]
  },
  {
   "cell_type": "code",
   "execution_count": 83,
   "id": "e9fccce0",
   "metadata": {},
   "outputs": [
    {
     "data": {
      "text/plain": [
       "[10, 20, 30]"
      ]
     },
     "execution_count": 83,
     "metadata": {},
     "output_type": "execute_result"
    }
   ],
   "source": [
    "mylist"
   ]
  },
  {
   "cell_type": "code",
   "execution_count": 84,
   "id": "d5a31e5a",
   "metadata": {},
   "outputs": [
    {
     "data": {
      "text/plain": [
       "[[10, 20, 30], [10, 20, 30], [10, 20, 30]]"
      ]
     },
     "execution_count": 84,
     "metadata": {},
     "output_type": "execute_result"
    }
   ],
   "source": [
    "biglist"
   ]
  },
  {
   "cell_type": "code",
   "execution_count": 85,
   "id": "6dccc2f7",
   "metadata": {},
   "outputs": [
    {
     "data": {
      "text/plain": [
       "3"
      ]
     },
     "execution_count": 85,
     "metadata": {},
     "output_type": "execute_result"
    }
   ],
   "source": [
    "len(biglist)  # how many elements does biglist contain?"
   ]
  },
  {
   "cell_type": "code",
   "execution_count": 86,
   "id": "b6022316",
   "metadata": {},
   "outputs": [
    {
     "name": "stdout",
     "output_type": "stream",
     "text": [
      "[10, 20, 30]\n",
      "[10, 20, 30]\n",
      "[10, 20, 30]\n"
     ]
    }
   ],
   "source": [
    "for one_item in biglist:\n",
    "    print(one_item)"
   ]
  },
  {
   "cell_type": "code",
   "execution_count": 87,
   "id": "b00a52d8",
   "metadata": {},
   "outputs": [
    {
     "data": {
      "text/plain": [
       "[10, 20, 30, 40]"
      ]
     },
     "execution_count": 87,
     "metadata": {},
     "output_type": "execute_result"
    }
   ],
   "source": [
    "mylist.append(40)\n",
    "mylist"
   ]
  },
  {
   "cell_type": "code",
   "execution_count": 88,
   "id": "f448fdb2",
   "metadata": {},
   "outputs": [
    {
     "data": {
      "text/plain": [
       "[[10, 20, 30, 40], [10, 20, 30, 40], [10, 20, 30, 40]]"
      ]
     },
     "execution_count": 88,
     "metadata": {},
     "output_type": "execute_result"
    }
   ],
   "source": [
    "biglist"
   ]
  },
  {
   "cell_type": "markdown",
   "id": "bcb49f80",
   "metadata": {},
   "source": [
    "# Next up\n",
    "\n",
    "- Turning strings into lists\n",
    "- Turning lists back into strings\n",
    "- Tuples and unpacking"
   ]
  },
  {
   "cell_type": "code",
   "execution_count": 89,
   "id": "b4d291f1",
   "metadata": {},
   "outputs": [
    {
     "data": {
      "text/plain": [
       "5"
      ]
     },
     "execution_count": 89,
     "metadata": {},
     "output_type": "execute_result"
    }
   ],
   "source": [
    "# we know that if we have data in x, and we want it to become type t, we can say t(x)\n",
    "\n",
    "int('5')   # get an integer based on the string '5'"
   ]
  },
  {
   "cell_type": "code",
   "execution_count": 90,
   "id": "58a9026b",
   "metadata": {},
   "outputs": [
    {
     "data": {
      "text/plain": [
       "'5'"
      ]
     },
     "execution_count": 90,
     "metadata": {},
     "output_type": "execute_result"
    }
   ],
   "source": [
    "str(5)   # get a string based on the integer 5"
   ]
  },
  {
   "cell_type": "code",
   "execution_count": 91,
   "id": "cfa7658c",
   "metadata": {},
   "outputs": [
    {
     "data": {
      "text/plain": [
       "['a', 'b', 'c', ' ', 'd', 'e', 'f', 'g', ' ', 'h', 'i']"
      ]
     },
     "execution_count": 91,
     "metadata": {},
     "output_type": "execute_result"
    }
   ],
   "source": [
    "s = 'abc defg hi'\n",
    "\n",
    "# how can I turn this into a list?\n",
    "\n",
    "# one way\n",
    "list(s)   # list ran a for loop on the characters in s, turning each character into a list element"
   ]
  },
  {
   "cell_type": "code",
   "execution_count": 92,
   "id": "754cf31e",
   "metadata": {},
   "outputs": [
    {
     "data": {
      "text/plain": [
       "'[10, 20, 30]'"
      ]
     },
     "execution_count": 92,
     "metadata": {},
     "output_type": "execute_result"
    }
   ],
   "source": [
    "mylist = [10, 20, 30]\n",
    "str(mylist)  # get a string based on mylist"
   ]
  },
  {
   "cell_type": "markdown",
   "id": "1ccfe8cc",
   "metadata": {},
   "source": [
    "# `str.split`\n",
    "\n",
    "If you have a string, and want to break it into multiple strings, you can use the `str.split` method"
   ]
  },
  {
   "cell_type": "code",
   "execution_count": 93,
   "id": "3a07cc35",
   "metadata": {},
   "outputs": [
    {
     "data": {
      "text/plain": [
       "['abc', 'defg', 'hi']"
      ]
     },
     "execution_count": 93,
     "metadata": {},
     "output_type": "execute_result"
    }
   ],
   "source": [
    "s = 'abc,defg,hi'\n",
    "\n",
    "s.split(',')  # this means: return a list of strings, based on s, using comma as a delimiter"
   ]
  },
  {
   "cell_type": "code",
   "execution_count": 94,
   "id": "9b2b4cca",
   "metadata": {},
   "outputs": [
    {
     "data": {
      "text/plain": [
       "['ab', 'cdef', 'g', 'hi']"
      ]
     },
     "execution_count": 94,
     "metadata": {},
     "output_type": "execute_result"
    }
   ],
   "source": [
    "s = 'ab:cdef:g:hi'\n",
    "\n",
    "s.split(':')"
   ]
  },
  {
   "cell_type": "code",
   "execution_count": 95,
   "id": "b206021b",
   "metadata": {},
   "outputs": [
    {
     "data": {
      "text/plain": [
       "['abc', 'defg', 'hi']"
      ]
     },
     "execution_count": 95,
     "metadata": {},
     "output_type": "execute_result"
    }
   ],
   "source": [
    "s = 'abc defg hi'   # here, let's use str.split to get a list of words (strings) from s\n",
    "\n",
    "s.split(' ')"
   ]
  },
  {
   "cell_type": "code",
   "execution_count": 96,
   "id": "a3a073b4",
   "metadata": {},
   "outputs": [
    {
     "data": {
      "text/plain": [
       "['abc', '', '', 'defg', '', 'hi']"
      ]
     },
     "execution_count": 96,
     "metadata": {},
     "output_type": "execute_result"
    }
   ],
   "source": [
    "# slight variation -- multiple spaces between words\n",
    "s = 'abc   defg  hi'   \n",
    "\n",
    "s.split(' ')  # wherever you see a space, cut!"
   ]
  },
  {
   "cell_type": "code",
   "execution_count": 97,
   "id": "0ba1fc19",
   "metadata": {},
   "outputs": [
    {
     "data": {
      "text/plain": [
       "['abc', 'defg', 'hi']"
      ]
     },
     "execution_count": 97,
     "metadata": {},
     "output_type": "execute_result"
    }
   ],
   "source": [
    "# Python's solution: call str.split without any arguments at all\n",
    "# when you do that, it means: split on any whitespace, any combination, any length\n",
    "# (whitespace == space, tab \\t, newline \\n, carriage return \\r, and vertical tab \\v)\n",
    "\n",
    "s = 'abc   defg  hi'   \n",
    "\n",
    "s.split()   "
   ]
  },
  {
   "cell_type": "markdown",
   "id": "cae1ad14",
   "metadata": {},
   "source": [
    "# Remember our Pig Latin exercise \n",
    "\n"
   ]
  },
  {
   "cell_type": "code",
   "execution_count": 98,
   "id": "7d167256",
   "metadata": {},
   "outputs": [
    {
     "name": "stdout",
     "output_type": "stream",
     "text": [
      "Enter a word: computer\n",
      "omputercay\n"
     ]
    }
   ],
   "source": [
    "# last time\n",
    "\n",
    "word = input('Enter a word: ').strip()\n",
    "\n",
    "if word[0] in 'aeiou':   # if the word starts with a vowel\n",
    "    print(word + 'way')\n",
    "else:\n",
    "    print(word[1:] + word[0] + 'ay')  # if not, then move 1st character to the end, and add 'ay'"
   ]
  },
  {
   "cell_type": "markdown",
   "id": "74a6426a",
   "metadata": {},
   "source": [
    "# Exercise: Pig Latin sentence\n",
    "\n",
    "1. Ask the user to enter a sentence in English\n",
    "    - all lowercase letters\n",
    "    - no punctuation\n",
    "2. Print, one word per line, the translation from English to Pig Latin of the sentence\n",
    "\n",
    "Example:\n",
    "\n",
    "    Enter a sentence: this is a test\n",
    "    hitay\n",
    "    isway\n",
    "    away\n",
    "    esttay\n",
    "    "
   ]
  },
  {
   "cell_type": "code",
   "execution_count": 99,
   "id": "4b0ceffd",
   "metadata": {},
   "outputs": [
    {
     "name": "stdout",
     "output_type": "stream",
     "text": [
      "Enter a sentence: this is a test\n",
      "histay\n",
      "isway\n",
      "away\n",
      "esttay\n"
     ]
    }
   ],
   "source": [
    "sentence = input('Enter a sentence: ').strip()\n",
    "\n",
    "all_words = sentence.split()   # get a list of strings from sentence, and assign to all_words\n",
    "\n",
    "for word in all_words:\n",
    "    if word[0] in 'aeiou':   \n",
    "        print(word + 'way')\n",
    "    else:\n",
    "        print(word[1:] + word[0] + 'ay') "
   ]
  },
  {
   "cell_type": "code",
   "execution_count": 100,
   "id": "c055be3a",
   "metadata": {},
   "outputs": [
    {
     "name": "stdout",
     "output_type": "stream",
     "text": [
      "Enter a sentence: this is another test\n",
      "histay\n",
      "isway\n",
      "anotherway\n",
      "esttay\n"
     ]
    }
   ],
   "source": [
    "sentence = input('Enter a sentence: ').strip()\n",
    "\n",
    "for word in sentence.split(): # I don't even need a \"words\" variable\n",
    "    if word[0] in 'aeiou':   \n",
    "        print(word + 'way')\n",
    "    else:\n",
    "        print(word[1:] + word[0] + 'ay') "
   ]
  },
  {
   "cell_type": "markdown",
   "id": "4c56f05e",
   "metadata": {},
   "source": [
    "# `str.join` -- getting a single string from a list of strings\n",
    "\n",
    "`str.join` is the (close) opposite of `str.split`:\n",
    "\n",
    "- We call `str.join` on the string we want to use to connect elements\n",
    "- The argument to `str.join` is any iterable of strings\n",
    "\n",
    "The \"glue\" string will be put between every pair of elements in the list (or other iterable)"
   ]
  },
  {
   "cell_type": "code",
   "execution_count": 102,
   "id": "9f613b9c",
   "metadata": {},
   "outputs": [
    {
     "data": {
      "text/plain": [
       "'ab*cd*ef'"
      ]
     },
     "execution_count": 102,
     "metadata": {},
     "output_type": "execute_result"
    }
   ],
   "source": [
    "mylist = ['ab', 'cd', 'ef']\n",
    "\n",
    "'*'.join(mylist)   # the \"glue\" is \"*\", and the elements are in mylist"
   ]
  },
  {
   "cell_type": "code",
   "execution_count": 103,
   "id": "9b80c888",
   "metadata": {},
   "outputs": [
    {
     "data": {
      "text/plain": [
       "'a*b*c*d*e'"
      ]
     },
     "execution_count": 103,
     "metadata": {},
     "output_type": "execute_result"
    }
   ],
   "source": [
    "'*'.join('abcde')"
   ]
  },
  {
   "cell_type": "code",
   "execution_count": 104,
   "id": "4e3bccf1",
   "metadata": {},
   "outputs": [],
   "source": [
    "words = 'this is a bunch of words'.split()"
   ]
  },
  {
   "cell_type": "code",
   "execution_count": 105,
   "id": "74e7617a",
   "metadata": {},
   "outputs": [
    {
     "data": {
      "text/plain": [
       "'this*is*a*bunch*of*words'"
      ]
     },
     "execution_count": 105,
     "metadata": {},
     "output_type": "execute_result"
    }
   ],
   "source": [
    "'*'.join(words)"
   ]
  },
  {
   "cell_type": "code",
   "execution_count": 106,
   "id": "032f7c88",
   "metadata": {},
   "outputs": [
    {
     "name": "stdout",
     "output_type": "stream",
     "text": [
      "this\n",
      "is\n",
      "a\n",
      "bunch\n",
      "of\n",
      "words\n"
     ]
    }
   ],
   "source": [
    "print('\\n'.join(words))"
   ]
  },
  {
   "cell_type": "code",
   "execution_count": 108,
   "id": "b8fb7dba",
   "metadata": {},
   "outputs": [
    {
     "name": "stdout",
     "output_type": "stream",
     "text": [
      "Enter a sentence: this is a very interesting demo\n",
      "histay isway away eryvay interestingway emoday\n"
     ]
    }
   ],
   "source": [
    "# instead of printing each translated word on a separate line,\n",
    "# what if I want to print the full translation on a single line?\n",
    "\n",
    "# answer: accumulate the output in a list of strings,\n",
    "# and then use \"join\"\n",
    "\n",
    "output = []\n",
    "sentence = input('Enter a sentence: ').strip()\n",
    "\n",
    "all_words = sentence.split()   # get a list of strings from sentence, and assign to all_words\n",
    "\n",
    "for word in all_words:\n",
    "    if word[0] in 'aeiou':   \n",
    "        output.append(word + 'way')\n",
    "    else:\n",
    "        output.append(word[1:] + word[0] + 'ay') \n",
    "        \n",
    "print(' '.join(output))  # get a string back from joining output on ' ', and print"
   ]
  },
  {
   "cell_type": "code",
   "execution_count": null,
   "id": "c297c89c",
   "metadata": {},
   "outputs": [],
   "source": [
    "s = 'abcd'\n",
    "s += 'efgh'\n",
    "s += 'ijkl'\n",
    "\n",
    "# when I use += on a string, I create a new string object, and the old one is thrown away"
   ]
  },
  {
   "cell_type": "markdown",
   "id": "a829d649",
   "metadata": {},
   "source": [
    "# Tuples!\n",
    "\n",
    "A sequence is a string, list, or tuple.\n",
    "\n",
    "- Strings can contain characters (strings of length 1) and are immutable.\n",
    "- Lists can contain anything at all, and are mutable.\n",
    "- Tuples can contain anything at all (like lists), and are immutable (like strings).\n",
    "\n",
    "This raises the question: Who needs them?\n",
    "\n",
    "Just as lists can contain anything, including combinations of data, but traditionally are used for elements of the same type, tuples are traditionally used where there are *different* types. Tuples are used for records, or structs.\n",
    "\n"
   ]
  },
  {
   "cell_type": "code",
   "execution_count": 109,
   "id": "12af9473",
   "metadata": {},
   "outputs": [
    {
     "data": {
      "text/plain": [
       "tuple"
      ]
     },
     "execution_count": 109,
     "metadata": {},
     "output_type": "execute_result"
    }
   ],
   "source": [
    "t = (10, 20, 30)\n",
    "type(t)"
   ]
  },
  {
   "cell_type": "code",
   "execution_count": 110,
   "id": "34f560ed",
   "metadata": {},
   "outputs": [
    {
     "data": {
      "text/plain": [
       "tuple"
      ]
     },
     "execution_count": 110,
     "metadata": {},
     "output_type": "execute_result"
    }
   ],
   "source": [
    "t = (10, 20)\n",
    "type(t)"
   ]
  },
  {
   "cell_type": "code",
   "execution_count": 111,
   "id": "7c9107be",
   "metadata": {},
   "outputs": [
    {
     "data": {
      "text/plain": [
       "int"
      ]
     },
     "execution_count": 111,
     "metadata": {},
     "output_type": "execute_result"
    }
   ],
   "source": [
    "t = (10)  # this is an int, not a tuple, because it lacks a comma -- otherwise, Python might confuse it for something else\n",
    "type(t)"
   ]
  },
  {
   "cell_type": "code",
   "execution_count": 114,
   "id": "2582dea3",
   "metadata": {},
   "outputs": [
    {
     "data": {
      "text/plain": [
       "tuple"
      ]
     },
     "execution_count": 114,
     "metadata": {},
     "output_type": "execute_result"
    }
   ],
   "source": [
    "t = (10,)  # now this is a tuple!\n",
    "type(t)"
   ]
  },
  {
   "cell_type": "code",
   "execution_count": 112,
   "id": "101313c3",
   "metadata": {},
   "outputs": [
    {
     "data": {
      "text/plain": [
       "tuple"
      ]
     },
     "execution_count": 112,
     "metadata": {},
     "output_type": "execute_result"
    }
   ],
   "source": [
    "t = ()\n",
    "type(t)"
   ]
  },
  {
   "cell_type": "code",
   "execution_count": 115,
   "id": "5e88162b",
   "metadata": {},
   "outputs": [
    {
     "data": {
      "text/plain": [
       "10"
      ]
     },
     "execution_count": 115,
     "metadata": {},
     "output_type": "execute_result"
    }
   ],
   "source": [
    "# what can I do with a tuple?\n",
    "\n",
    "t = (10, 20, 30, 40, 50, 60, 70, 80, 90, 100)\n",
    "\n",
    "# basically... everything I can do with strings and lists\n",
    "\n",
    "t[0]"
   ]
  },
  {
   "cell_type": "code",
   "execution_count": 116,
   "id": "ebc6e655",
   "metadata": {},
   "outputs": [
    {
     "data": {
      "text/plain": [
       "20"
      ]
     },
     "execution_count": 116,
     "metadata": {},
     "output_type": "execute_result"
    }
   ],
   "source": [
    "t[1]"
   ]
  },
  {
   "cell_type": "code",
   "execution_count": 117,
   "id": "d5c3bf97",
   "metadata": {},
   "outputs": [
    {
     "data": {
      "text/plain": [
       "100"
      ]
     },
     "execution_count": 117,
     "metadata": {},
     "output_type": "execute_result"
    }
   ],
   "source": [
    "t[-1]"
   ]
  },
  {
   "cell_type": "code",
   "execution_count": 118,
   "id": "45147cdf",
   "metadata": {},
   "outputs": [
    {
     "data": {
      "text/plain": [
       "90"
      ]
     },
     "execution_count": 118,
     "metadata": {},
     "output_type": "execute_result"
    }
   ],
   "source": [
    "t[-2]"
   ]
  },
  {
   "cell_type": "code",
   "execution_count": 119,
   "id": "9c7a49af",
   "metadata": {},
   "outputs": [
    {
     "data": {
      "text/plain": [
       "(30, 40, 50, 60, 70)"
      ]
     },
     "execution_count": 119,
     "metadata": {},
     "output_type": "execute_result"
    }
   ],
   "source": [
    "t[2:7]"
   ]
  },
  {
   "cell_type": "code",
   "execution_count": 120,
   "id": "c12e6330",
   "metadata": {},
   "outputs": [
    {
     "data": {
      "text/plain": [
       "True"
      ]
     },
     "execution_count": 120,
     "metadata": {},
     "output_type": "execute_result"
    }
   ],
   "source": [
    "# search with \"in\"\n",
    "40 in t"
   ]
  },
  {
   "cell_type": "code",
   "execution_count": 121,
   "id": "e5295be5",
   "metadata": {},
   "outputs": [
    {
     "data": {
      "text/plain": [
       "10"
      ]
     },
     "execution_count": 121,
     "metadata": {},
     "output_type": "execute_result"
    }
   ],
   "source": [
    "# get the length with len()\n",
    "len(t)"
   ]
  },
  {
   "cell_type": "code",
   "execution_count": 122,
   "id": "8b547e09",
   "metadata": {},
   "outputs": [
    {
     "name": "stdout",
     "output_type": "stream",
     "text": [
      "10\n",
      "20\n",
      "30\n",
      "40\n",
      "50\n",
      "60\n",
      "70\n",
      "80\n",
      "90\n",
      "100\n"
     ]
    }
   ],
   "source": [
    "# iterate with a for loop\n",
    "for one_item in t:\n",
    "    print(one_item)"
   ]
  },
  {
   "cell_type": "code",
   "execution_count": 124,
   "id": "fbb5cd3b",
   "metadata": {},
   "outputs": [
    {
     "data": {
      "text/plain": [
       "tuple"
      ]
     },
     "execution_count": 124,
     "metadata": {},
     "output_type": "execute_result"
    }
   ],
   "source": [
    "# you don't really need parentheses to create a tuple\n",
    "t = 10, 20, 30, 40, 50\n",
    "\n",
    "type(t)"
   ]
  },
  {
   "cell_type": "markdown",
   "id": "f2bb65e7",
   "metadata": {},
   "source": [
    "# Tuple unpacking\n",
    "\n"
   ]
  },
  {
   "cell_type": "code",
   "execution_count": 125,
   "id": "3b05d416",
   "metadata": {},
   "outputs": [
    {
     "data": {
      "text/plain": [
       "[10, 20, 30]"
      ]
     },
     "execution_count": 125,
     "metadata": {},
     "output_type": "execute_result"
    }
   ],
   "source": [
    "mylist = [10, 20, 30]\n",
    "\n",
    "x = mylist \n",
    "\n",
    "x"
   ]
  },
  {
   "cell_type": "code",
   "execution_count": 130,
   "id": "bb202494",
   "metadata": {},
   "outputs": [],
   "source": [
    "# but if I say\n",
    "\n",
    "x,y,z = mylist  # the 3 elements in mylist were assigned, in parallel, to x,y, and z"
   ]
  },
  {
   "cell_type": "code",
   "execution_count": 127,
   "id": "fa4df1cb",
   "metadata": {},
   "outputs": [
    {
     "data": {
      "text/plain": [
       "10"
      ]
     },
     "execution_count": 127,
     "metadata": {},
     "output_type": "execute_result"
    }
   ],
   "source": [
    "x"
   ]
  },
  {
   "cell_type": "code",
   "execution_count": 128,
   "id": "340babb4",
   "metadata": {},
   "outputs": [
    {
     "data": {
      "text/plain": [
       "20"
      ]
     },
     "execution_count": 128,
     "metadata": {},
     "output_type": "execute_result"
    }
   ],
   "source": [
    "y"
   ]
  },
  {
   "cell_type": "code",
   "execution_count": 129,
   "id": "5f1a863c",
   "metadata": {},
   "outputs": [
    {
     "data": {
      "text/plain": [
       "30"
      ]
     },
     "execution_count": 129,
     "metadata": {},
     "output_type": "execute_result"
    }
   ],
   "source": [
    "z"
   ]
  },
  {
   "cell_type": "code",
   "execution_count": 131,
   "id": "be812a4b",
   "metadata": {},
   "outputs": [],
   "source": [
    "p = ('Reuven', 'Lerner', 46)   # tuple-based record of my info"
   ]
  },
  {
   "cell_type": "code",
   "execution_count": 132,
   "id": "224bd45e",
   "metadata": {},
   "outputs": [
    {
     "data": {
      "text/plain": [
       "'Reuven'"
      ]
     },
     "execution_count": 132,
     "metadata": {},
     "output_type": "execute_result"
    }
   ],
   "source": [
    "p[0]"
   ]
  },
  {
   "cell_type": "code",
   "execution_count": 133,
   "id": "71e4e11d",
   "metadata": {},
   "outputs": [
    {
     "data": {
      "text/plain": [
       "'Lerner'"
      ]
     },
     "execution_count": 133,
     "metadata": {},
     "output_type": "execute_result"
    }
   ],
   "source": [
    "p[1]"
   ]
  },
  {
   "cell_type": "code",
   "execution_count": 134,
   "id": "4f7de10a",
   "metadata": {},
   "outputs": [
    {
     "data": {
      "text/plain": [
       "46"
      ]
     },
     "execution_count": 134,
     "metadata": {},
     "output_type": "execute_result"
    }
   ],
   "source": [
    "p[2]"
   ]
  },
  {
   "cell_type": "code",
   "execution_count": 135,
   "id": "e919c42f",
   "metadata": {},
   "outputs": [],
   "source": [
    "# use unpacking to turn this record into three variables\n",
    "first, last, shoesize = p"
   ]
  },
  {
   "cell_type": "code",
   "execution_count": 136,
   "id": "cc3268e6",
   "metadata": {},
   "outputs": [
    {
     "data": {
      "text/plain": [
       "'Reuven'"
      ]
     },
     "execution_count": 136,
     "metadata": {},
     "output_type": "execute_result"
    }
   ],
   "source": [
    "first"
   ]
  },
  {
   "cell_type": "code",
   "execution_count": 137,
   "id": "476bef20",
   "metadata": {},
   "outputs": [
    {
     "data": {
      "text/plain": [
       "'Lerner'"
      ]
     },
     "execution_count": 137,
     "metadata": {},
     "output_type": "execute_result"
    }
   ],
   "source": [
    "last"
   ]
  },
  {
   "cell_type": "code",
   "execution_count": 138,
   "id": "2dd4e3d4",
   "metadata": {},
   "outputs": [
    {
     "data": {
      "text/plain": [
       "46"
      ]
     },
     "execution_count": 138,
     "metadata": {},
     "output_type": "execute_result"
    }
   ],
   "source": [
    "shoesize"
   ]
  },
  {
   "cell_type": "code",
   "execution_count": 142,
   "id": "29411992",
   "metadata": {},
   "outputs": [],
   "source": [
    "# people love this demo, but how often do you need it?\n",
    "\n",
    "x = 100\n",
    "y = 999\n",
    "\n",
    "# this works because:\n",
    "# (1) right side before left side in assignment -- we have a 2-element tuple (two-ple!)\n",
    "# (2) on the left side, we have two variables in a tuple\n",
    "# (3) Python will perform parallel \"unpacking\" assignment\n",
    "# (4) x and y are swapped\n",
    "\n",
    "x,y = y,x"
   ]
  },
  {
   "cell_type": "code",
   "execution_count": 143,
   "id": "91573182",
   "metadata": {},
   "outputs": [
    {
     "data": {
      "text/plain": [
       "999"
      ]
     },
     "execution_count": 143,
     "metadata": {},
     "output_type": "execute_result"
    }
   ],
   "source": [
    "x"
   ]
  },
  {
   "cell_type": "code",
   "execution_count": 144,
   "id": "6a0b7877",
   "metadata": {},
   "outputs": [
    {
     "data": {
      "text/plain": [
       "100"
      ]
     },
     "execution_count": 144,
     "metadata": {},
     "output_type": "execute_result"
    }
   ],
   "source": [
    "y"
   ]
  },
  {
   "cell_type": "code",
   "execution_count": 146,
   "id": "4a8f3ffb",
   "metadata": {},
   "outputs": [
    {
     "name": "stdout",
     "output_type": "stream",
     "text": [
      "a\n",
      "b\n",
      "c\n",
      "d\n"
     ]
    }
   ],
   "source": [
    "s = 'abcd'\n",
    "\n",
    "for one_item in s:\n",
    "    print(one_item)"
   ]
  },
  {
   "cell_type": "code",
   "execution_count": 148,
   "id": "e63f4574",
   "metadata": {},
   "outputs": [
    {
     "name": "stdout",
     "output_type": "stream",
     "text": [
      "(0, 'a')\n",
      "(1, 'b')\n",
      "(2, 'c')\n",
      "(3, 'd')\n"
     ]
    }
   ],
   "source": [
    "s = 'abcd'\n",
    "\n",
    "for one_item in enumerate(s):  # enumerate, with each iteration, returns an (index, one_item) tuple\n",
    "    print(one_item)"
   ]
  },
  {
   "cell_type": "code",
   "execution_count": 149,
   "id": "104fb6cd",
   "metadata": {},
   "outputs": [
    {
     "name": "stdout",
     "output_type": "stream",
     "text": [
      "0: a\n",
      "1: b\n",
      "2: c\n",
      "3: d\n"
     ]
    }
   ],
   "source": [
    "s = 'abcd'\n",
    "\n",
    "for index, one_item in enumerate(s):\n",
    "    print(f'{index}: {one_item}')"
   ]
  },
  {
   "cell_type": "markdown",
   "id": "1ed2636a",
   "metadata": {},
   "source": [
    "# Exercise: Calculator\n",
    "\n",
    "1. Ask the user to enter an arithmetic expression using `+` or `-`, and numbers on either side.  Make sure that there is whitespace between the operator and the numbers.\n",
    "2. Break the input apart, and then turn the operands into numbers.\n",
    "3. Perform the appropriate calculation, and print the expression + result on the screen.\n",
    "\n",
    "Example:\n",
    "\n",
    "    Enter expression: 2 + 3\n",
    "    2 + 3 = 5"
   ]
  },
  {
   "cell_type": "code",
   "execution_count": 151,
   "id": "514f487e",
   "metadata": {},
   "outputs": [
    {
     "name": "stdout",
     "output_type": "stream",
     "text": [
      "Enter expression:95 - 126\n",
      "95 - 126 = -31\n"
     ]
    }
   ],
   "source": [
    "s = input('Enter expression:')\n",
    "\n",
    "first, op, second = s.split()\n",
    "first = int(first)\n",
    "second = int(second)\n",
    "\n",
    "if op == '+':\n",
    "    result = first + second\n",
    "elif op == '-':\n",
    "    result = first - second\n",
    "else:\n",
    "    result = 'Bad operator!'\n",
    "    \n",
    "print(f'{first} {op} {second} = {result}')    "
   ]
  },
  {
   "cell_type": "code",
   "execution_count": 152,
   "id": "92b12b48",
   "metadata": {},
   "outputs": [
    {
     "data": {
      "text/plain": [
       "(10, 20, 30)"
      ]
     },
     "execution_count": 152,
     "metadata": {},
     "output_type": "execute_result"
    }
   ],
   "source": [
    "mylist = [10, 20, 30]\n",
    "\n",
    "# I want to get a new tuple based on this list\n",
    "\n",
    "tuple(mylist)"
   ]
  },
  {
   "cell_type": "code",
   "execution_count": 153,
   "id": "07172eff",
   "metadata": {},
   "outputs": [
    {
     "data": {
      "text/plain": [
       "[10, 20, 30]"
      ]
     },
     "execution_count": 153,
     "metadata": {},
     "output_type": "execute_result"
    }
   ],
   "source": [
    "t = (10, 20, 30)\n",
    "\n",
    "list(t)  # get a new list based on the tuple t"
   ]
  },
  {
   "cell_type": "code",
   "execution_count": 154,
   "id": "e850c1e9",
   "metadata": {},
   "outputs": [
    {
     "data": {
      "text/plain": [
       "('a', 'b', 'c', 'd')"
      ]
     },
     "execution_count": 154,
     "metadata": {},
     "output_type": "execute_result"
    }
   ],
   "source": [
    "tuple('abcd')"
   ]
  },
  {
   "cell_type": "code",
   "execution_count": null,
   "id": "10ad69bf",
   "metadata": {},
   "outputs": [],
   "source": []
  }
 ],
 "metadata": {
  "kernelspec": {
   "display_name": "Python 3 (ipykernel)",
   "language": "python",
   "name": "python3"
  },
  "language_info": {
   "codemirror_mode": {
    "name": "ipython",
    "version": 3
   },
   "file_extension": ".py",
   "mimetype": "text/x-python",
   "name": "python",
   "nbconvert_exporter": "python",
   "pygments_lexer": "ipython3",
   "version": "3.10.4"
  }
 },
 "nbformat": 4,
 "nbformat_minor": 5
}
