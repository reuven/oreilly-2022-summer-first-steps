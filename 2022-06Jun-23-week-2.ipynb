{
 "cells": [
  {
   "cell_type": "markdown",
   "id": "05a04048",
   "metadata": {},
   "source": [
    "# Week 2: Loops, lists, and tuples"
   ]
  },
  {
   "cell_type": "code",
   "execution_count": null,
   "id": "283692d7",
   "metadata": {},
   "outputs": [],
   "source": []
  }
 ],
 "metadata": {
  "kernelspec": {
   "display_name": "Python 3 (ipykernel)",
   "language": "python",
   "name": "python3"
  },
  "language_info": {
   "codemirror_mode": {
    "name": "ipython",
    "version": 3
   },
   "file_extension": ".py",
   "mimetype": "text/x-python",
   "name": "python",
   "nbconvert_exporter": "python",
   "pygments_lexer": "ipython3",
   "version": "3.10.4"
  }
 },
 "nbformat": 4,
 "nbformat_minor": 5
}
