{
 "cells": [
  {
   "cell_type": "markdown",
   "id": "9348c53a",
   "metadata": {},
   "source": [
    "# Week 2: Loops, lists, and tuples\n",
    "\n",
    "1. Q&A from last time\n",
    "2. Loops\n",
    "    - `for` loops\n",
    "    - Looping over numbers\n",
    "    - `while` loops\n",
    "3. Lists\n",
    "    - What are they?\n",
    "    - How are they similar to strings, and how are they different?\n",
    "    - Mutable vs. immutable\n",
    "4. Strings to lists and back\n",
    "    - Breaking a string into a list of strings (with split)\n",
    "    - Turning a list of strings into a single string (with join)\n",
    "5. Tuples\n",
    "    - What are they?\n",
    "    - Tuple tnpacking"
   ]
  },
  {
   "cell_type": "markdown",
   "id": "75beeb40",
   "metadata": {},
   "source": [
    "# DRY -- don't repeat yourself\n",
    "\n",
    "This rule is an important one to remember whenever you're programming.  If you repeat yourself, then you're (a) making life harder for yourself while you're programming, and (b) you're also making it harder for yourself down the road when you have to maintain/debug your code."
   ]
  },
  {
   "cell_type": "code",
   "execution_count": 2,
   "id": "799ec527",
   "metadata": {},
   "outputs": [
    {
     "name": "stdout",
     "output_type": "stream",
     "text": [
      "a\n",
      "b\n",
      "c\n",
      "d\n"
     ]
    }
   ],
   "source": [
    "# Let's define a string, and print each of the characters in the string\n",
    "\n",
    "s = 'abcd'\n",
    "\n",
    "print(s[0])   # unfortunately, this works!\n",
    "print(s[1])\n",
    "print(s[2])\n",
    "print(s[3])"
   ]
  },
  {
   "cell_type": "code",
   "execution_count": 3,
   "id": "a47ce81d",
   "metadata": {},
   "outputs": [
    {
     "name": "stdout",
     "output_type": "stream",
     "text": [
      "a\n",
      "b\n",
      "c\n",
      "d\n"
     ]
    }
   ],
   "source": [
    "# Loops allow us to describe what we want to do once, and how many times we want to do it,\n",
    "# and then let the computer handle the repetition.\n",
    "\n",
    "# I can handle this with a \"for\" loop\n",
    "\n",
    "for one_character in s:\n",
    "    print(one_character)"
   ]
  },
  {
   "cell_type": "markdown",
   "id": "5c8273bb",
   "metadata": {},
   "source": [
    "# What's happening in our `for` loop?\n",
    "\n",
    "1. The `for` loop turns to `s` (or to whatever else is at the end of the line), and asks: Are you iterable? Meaning: Do you know how to behave inside of a `for` loop?\n",
    "2. If the answer is \"yes,\" then the `for` loop says: OK, give me your next thing.\n",
    "    - Either `s` gives us its next thing, which is assigned to `one_character`, and we then execute the body of the loop (i.e., the indented part)\n",
    "    - Or `s` says: I'm done!  And the loop exits\n",
    "3. After the loop body executes, we go back to step 2, asking the object for its next thing.    "
   ]
  },
  {
   "cell_type": "code",
   "execution_count": 4,
   "id": "b280d6a7",
   "metadata": {},
   "outputs": [
    {
     "ename": "TypeError",
     "evalue": "'int' object is not iterable",
     "output_type": "error",
     "traceback": [
      "\u001b[0;31m---------------------------------------------------------------------------\u001b[0m",
      "\u001b[0;31mTypeError\u001b[0m                                 Traceback (most recent call last)",
      "\u001b[0;32m/var/folders/rr/0mnyyv811fs5vyp22gf4fxk00000gn/T/ipykernel_85715/1259451884.py\u001b[0m in \u001b[0;36m<module>\u001b[0;34m\u001b[0m\n\u001b[1;32m      3\u001b[0m \u001b[0;31m# an example: integers\u001b[0m\u001b[0;34m\u001b[0m\u001b[0;34m\u001b[0m\u001b[0m\n\u001b[1;32m      4\u001b[0m \u001b[0;34m\u001b[0m\u001b[0m\n\u001b[0;32m----> 5\u001b[0;31m \u001b[0;32mfor\u001b[0m \u001b[0mone_item\u001b[0m \u001b[0;32min\u001b[0m \u001b[0;36m5\u001b[0m\u001b[0;34m:\u001b[0m\u001b[0;34m\u001b[0m\u001b[0;34m\u001b[0m\u001b[0m\n\u001b[0m\u001b[1;32m      6\u001b[0m     \u001b[0mprint\u001b[0m\u001b[0;34m(\u001b[0m\u001b[0mone_item\u001b[0m\u001b[0;34m)\u001b[0m\u001b[0;34m\u001b[0m\u001b[0;34m\u001b[0m\u001b[0m\n",
      "\u001b[0;31mTypeError\u001b[0m: 'int' object is not iterable"
     ]
    }
   ],
   "source": [
    "# what if the object isn't iterable? What if we cannot iterate over it?\n",
    "\n",
    "# an example: integers\n",
    "\n",
    "for one_item in 5:\n",
    "    print(one_item)"
   ]
  },
  {
   "cell_type": "markdown",
   "id": "ae795576",
   "metadata": {},
   "source": [
    "# Exercise: Count vowels and consonants\n",
    "\n",
    "Remember (maybe) from last week that we can check to see if one string is inside of another string with `in`.  For example:\n",
    "\n",
    "    'a' in 'abcd'   # returns True\n",
    "    'q' in 'abcd'   # returns False\n",
    "    \n",
    "I want you to write a program that asks the user for input, and counts how many vowels there are in the input, and how many consonants.\n",
    "\n",
    "1. Define two variables, `vowels` and `consonants`.  They should both be set to 0.\n",
    "2. Ask the user to enter a string.\n",
    "3. Iterate over the string, one character at a time.  \n",
    "4. For each character, ask: \n",
    "    - Is it a vowel? If so, then add 1 to `vowels`.\n",
    "    - Is it a consonant? If so, then add 1 to `consonants`.\n",
    "    - If it is neither, then ignore it.\n",
    "5. Print the values of both `vowels` and `consonants`.\n",
    "\n",
    "Example:\n",
    "\n",
    "    Enter a string: hello!\n",
    "    vowels: 2\n",
    "    consonants: 3\n"
   ]
  },
  {
   "cell_type": "code",
   "execution_count": 5,
   "id": "73f7ab47",
   "metadata": {},
   "outputs": [
    {
     "name": "stdout",
     "output_type": "stream",
     "text": [
      "Enter a string: hello!\n",
      "Ignoring !\n",
      "vowels = 2\n",
      "consonants = 3\n"
     ]
    }
   ],
   "source": [
    "vowels = 0\n",
    "consonants = 0\n",
    "\n",
    "s = input('Enter a string: ').strip()    # strip at the end removes leading/trailing whitespace\n",
    "\n",
    "for one_character in s:  # go through the string, one character at a time\n",
    "    if one_character in 'aeiou':\n",
    "        vowels += 1\n",
    "    elif one_character in 'bcdfghjklmnpqrstvwxyz':\n",
    "        consonants += 1\n",
    "    else:\n",
    "        print(f'Ignoring {one_character}')\n",
    "        \n",
    "print(f'vowels = {vowels}')        \n",
    "print(f'consonants = {consonants}')"
   ]
  },
  {
   "cell_type": "code",
   "execution_count": null,
   "id": "0e557578",
   "metadata": {},
   "outputs": [],
   "source": [
    "# alternative solution, in which we assume the user only enters vowels + consonants\n",
    "\n",
    "vowels = 0\n",
    "consonants = 0\n",
    "\n",
    "s = input('Enter a string: ').strip()    # strip at the end removes leading/trailing whitespace\n",
    "\n",
    "for one_character in s.lower():  # go through the string, one character at a time\n",
    "    if one_character in 'aeiou':\n",
    "        vowels += 1\n",
    "    else:\n",
    "        consonants += 1\n",
    "        \n",
    "print(f'vowels = {vowels}')   # f-string -- just like a regular string, except that {} can contain Python expressions\n",
    "print(f'consonants = {consonants}')"
   ]
  },
  {
   "cell_type": "code",
   "execution_count": 7,
   "id": "6ca876b8",
   "metadata": {},
   "outputs": [
    {
     "ename": "NameError",
     "evalue": "name 'x' is not defined",
     "output_type": "error",
     "traceback": [
      "\u001b[0;31m---------------------------------------------------------------------------\u001b[0m",
      "\u001b[0;31mNameError\u001b[0m                                 Traceback (most recent call last)",
      "\u001b[0;32m/var/folders/rr/0mnyyv811fs5vyp22gf4fxk00000gn/T/ipykernel_85715/1292930421.py\u001b[0m in \u001b[0;36m<module>\u001b[0;34m\u001b[0m\n\u001b[0;32m----> 1\u001b[0;31m \u001b[0mx\u001b[0m \u001b[0;34m+=\u001b[0m \u001b[0;36m1\u001b[0m   \u001b[0;31m# what will Python do? We want to add 1 to the current value of x... which doesn't exist\u001b[0m\u001b[0;34m\u001b[0m\u001b[0;34m\u001b[0m\u001b[0m\n\u001b[0m",
      "\u001b[0;31mNameError\u001b[0m: name 'x' is not defined"
     ]
    }
   ],
   "source": [
    "x += 1   # what will Python do? We want to add 1 to the current value of x... which doesn't exist"
   ]
  },
  {
   "cell_type": "code",
   "execution_count": null,
   "id": "d740ef6b",
   "metadata": {},
   "outputs": [],
   "source": [
    "# this will work... but this is where you really want to use if/else\n",
    "\n",
    "if one_character in 'aeiou':\n",
    "    vowels += 1\n",
    "if one_character not in 'aeiou':  \n",
    "    consonants += 1"
   ]
  },
  {
   "cell_type": "markdown",
   "id": "01050e01",
   "metadata": {},
   "source": [
    "# Method chaining\n",
    "\n",
    "I can run any string method on any string.  For example:\n",
    "\n",
    "```python\n",
    "s = input('Enter a string: ').strip()\n",
    "```\n",
    "\n",
    "This works because `input` returns a string.  Before `input`'s return value is assigned to `s`, we first invoke `strip` on it.  In other words:\n",
    "\n",
    "- `input` gets a string from the user\n",
    "- `input` returns a string\n",
    "- `str.strip` is invoked on that (anonymous) string returned by `input`\n",
    "- The result of `str.strip` is assigned to `s`\n",
    "\n",
    "Since I can call any string method on any string, and since `str.strip` returns a string, I can then use more than one method.  This is known as \"method chaining\":\n",
    "\n",
    "```python\n",
    "s = input('Enter a string: ').strip().lower()\n",
    "```\n",
    "\n",
    "- `input` gets a string from the user\n",
    "- `input` returns a string\n",
    "- `str.strip` is invoked on that (anonymous) string returned by `input`, and returns a string value\n",
    "- `str.lower` is invoked on that (also anonymous) string returned by `str.strip`, and returns a string value\n",
    "- The result of `str.lower` is assigned to `s`\n"
   ]
  },
  {
   "cell_type": "code",
   "execution_count": 8,
   "id": "ab9821ff",
   "metadata": {},
   "outputs": [
    {
     "name": "stdout",
     "output_type": "stream",
     "text": [
      "a\n",
      "b\n",
      "c\n",
      "d\n",
      "e\n",
      "f\n",
      "g\n",
      "h\n",
      "i\n",
      "j\n"
     ]
    }
   ],
   "source": [
    "s = 'abcdefghijklmnopqrstuvwxyz'\n",
    "\n",
    "# What if I only want to iterate over the first 10 characters in s?\n",
    "# it's very easy -- just use a slice!\n",
    "\n",
    "for one_character in s[:10]:\n",
    "    print(one_character)"
   ]
  },
  {
   "cell_type": "markdown",
   "id": "fa320bff",
   "metadata": {},
   "source": [
    "# How can we execute something a number of times?\n",
    "\n",
    "We might thing (wrongly!) that we can invoke `for` on an integer, and thus accomplish something a number of times.  But no, we'll need other tools."
   ]
  },
  {
   "cell_type": "code",
   "execution_count": 9,
   "id": "dbae264b",
   "metadata": {},
   "outputs": [
    {
     "name": "stdout",
     "output_type": "stream",
     "text": [
      "Hooray!\n",
      "Hooray!\n",
      "Hooray!\n"
     ]
    }
   ],
   "source": [
    "# Example: I'm teaching Python, and I'm super happy about it\n",
    "\n",
    "print('Hooray!')\n",
    "print('Hooray!')\n",
    "print('Hooray!')\n",
    "\n",
    "# this, of course, violates the DRY (don't repeat yourself) rule, and so now I'm sad."
   ]
  },
  {
   "cell_type": "code",
   "execution_count": 10,
   "id": "b5d908a4",
   "metadata": {},
   "outputs": [
    {
     "ename": "TypeError",
     "evalue": "'int' object is not iterable",
     "output_type": "error",
     "traceback": [
      "\u001b[0;31m---------------------------------------------------------------------------\u001b[0m",
      "\u001b[0;31mTypeError\u001b[0m                                 Traceback (most recent call last)",
      "\u001b[0;32m/var/folders/rr/0mnyyv811fs5vyp22gf4fxk00000gn/T/ipykernel_85715/3297198287.py\u001b[0m in \u001b[0;36m<module>\u001b[0;34m\u001b[0m\n\u001b[0;32m----> 1\u001b[0;31m \u001b[0;32mfor\u001b[0m \u001b[0mcounter\u001b[0m \u001b[0;32min\u001b[0m \u001b[0;36m3\u001b[0m\u001b[0;34m:\u001b[0m\u001b[0;34m\u001b[0m\u001b[0;34m\u001b[0m\u001b[0m\n\u001b[0m\u001b[1;32m      2\u001b[0m     \u001b[0mprint\u001b[0m\u001b[0;34m(\u001b[0m\u001b[0;34m'Hooray!'\u001b[0m\u001b[0;34m)\u001b[0m\u001b[0;34m\u001b[0m\u001b[0;34m\u001b[0m\u001b[0m\n",
      "\u001b[0;31mTypeError\u001b[0m: 'int' object is not iterable"
     ]
    }
   ],
   "source": [
    "for counter in 3:\n",
    "    print('Hooray!')"
   ]
  },
  {
   "cell_type": "code",
   "execution_count": 11,
   "id": "046ecdf6",
   "metadata": {},
   "outputs": [
    {
     "name": "stdout",
     "output_type": "stream",
     "text": [
      "Hooray!\n",
      "Hooray!\n",
      "Hooray!\n"
     ]
    }
   ],
   "source": [
    "# the way we do this is with \"range\"\n",
    "# the \"range\" function is meant for use with iterations and for loops\n",
    "# we give it an integer, and it allows us to iterate that number of times\n",
    "\n",
    "for counter in range(3):   # what is counter?\n",
    "    print('Hooray!')"
   ]
  },
  {
   "cell_type": "code",
   "execution_count": 12,
   "id": "4effeeca",
   "metadata": {},
   "outputs": [
    {
     "name": "stdout",
     "output_type": "stream",
     "text": [
      "0 Hooray!\n",
      "1 Hooray!\n",
      "2 Hooray!\n"
     ]
    }
   ],
   "source": [
    "for counter in range(3):   # what is counter?\n",
    "    print(f'{counter} Hooray!')"
   ]
  },
  {
   "cell_type": "markdown",
   "id": "ec558824",
   "metadata": {},
   "source": [
    "# `range`\n",
    "\n",
    "If we want to run a `for` loop a certain number of times, we can call `range` with an integer.  This `range` object knows how to behave inside of a `for` loop.  With each iteration, it returns an integer, starting at 0, and going up to (but not including) the number that we specified.\n",
    "\n",
    "Remember:\n",
    "\n",
    "- String indexes start at 0, and go up to (but not including) the number of characters"
   ]
  },
  {
   "cell_type": "markdown",
   "id": "e25177a7",
   "metadata": {},
   "source": [
    "# Exercise: Name triangles\n",
    "\n",
    "1. Ask the user to enter their name.\n",
    "2. Print a triangle based on their name:\n",
    "    - On the first line, we'll print just the first letter\n",
    "    - On the second line, we'll print the first two letters\n",
    "    - ...\n",
    "    - On the final line, we'll print the full name\n",
    "    \n",
    "Example:\n",
    "\n",
    "    Enter your name: Reuven\n",
    "    R\n",
    "    Re\n",
    "    Reu\n",
    "    Reuv\n",
    "    Reuve\n",
    "    Reuven\n",
    "    \n",
    "Hints:\n",
    "- Remember that `range` can be used with an integer input\n",
    "- Remember that `len` counts the number of characters in a string, and returns an integer\n",
    "- Remember that a slice lets us retrieve part of a string, either from `[start:end+1]` or `[:end+1]`"
   ]
  },
  {
   "cell_type": "code",
   "execution_count": 15,
   "id": "f335aea2",
   "metadata": {},
   "outputs": [
    {
     "name": "stdout",
     "output_type": "stream",
     "text": [
      "Enter your name: Reuven\n",
      "R\n",
      "Re\n",
      "Reu\n",
      "Reuv\n",
      "Reuve\n",
      "Reuven\n"
     ]
    }
   ],
   "source": [
    "name = input('Enter your name: ').strip()\n",
    "\n",
    "# assume that the name is \"Reuven\"\n",
    "\n",
    "print(name[:1])   # from the start, up to and not including index 1\n",
    "print(name[:2])   # from the start, up to and not including index 2\n",
    "print(name[:3])   # from the start, up to and not including index 3\n",
    "print(name[:4])   # from the start, up to and not including index 4\n",
    "print(name[:5])   # from the start, up to and not including index 5\n",
    "print(name[:6])   # from the start, up to and not including index 6"
   ]
  },
  {
   "cell_type": "code",
   "execution_count": 16,
   "id": "9e0b5051",
   "metadata": {},
   "outputs": [
    {
     "name": "stdout",
     "output_type": "stream",
     "text": [
      "Enter your name: Reuven\n",
      "\n",
      "R\n",
      "Re\n",
      "Reu\n",
      "Reuv\n",
      "Reuve\n"
     ]
    }
   ],
   "source": [
    "name = input('Enter your name: ').strip()\n",
    "\n",
    "# I want the end index to start at 1 and end at (not including) 7 \n",
    "# start at 0 and end at (not including) 6, then add 1 to it\n",
    "\n",
    "for end_index in range(6):\n",
    "    print(name[:end_index])  # off by 1 error"
   ]
  },
  {
   "cell_type": "code",
   "execution_count": 20,
   "id": "fdfa10b8",
   "metadata": {},
   "outputs": [
    {
     "name": "stdout",
     "output_type": "stream",
     "text": [
      "Enter your name: somethingverylong\n",
      "s\n",
      "so\n",
      "som\n",
      "some\n",
      "somet\n",
      "someth\n",
      "somethi\n",
      "somethin\n",
      "something\n",
      "somethingv\n",
      "somethingve\n",
      "somethingver\n",
      "somethingvery\n",
      "somethingveryl\n",
      "somethingverylo\n",
      "somethingverylon\n",
      "somethingverylong\n"
     ]
    }
   ],
   "source": [
    "name = input('Enter your name: ').strip()\n",
    "\n",
    "for end_index in range(len(name)):\n",
    "    print(name[:end_index+1]) "
   ]
  },
  {
   "cell_type": "markdown",
   "id": "e7a89f78",
   "metadata": {},
   "source": [
    "# Example: Highest number of 3\n",
    "\n",
    "Let's let the user enter three numbers, and I'll display the highest of them."
   ]
  },
  {
   "cell_type": "code",
   "execution_count": 21,
   "id": "fc08e745",
   "metadata": {},
   "outputs": [
    {
     "name": "stdout",
     "output_type": "stream",
     "text": [
      "Enter your number: 15\n",
      "Enter your number: 7\n",
      "Enter your number: 2\n",
      "Highest = 15\n"
     ]
    }
   ],
   "source": [
    "highest = 0\n",
    "\n",
    "for counter in range(3):  # we'll run this loop 3 times, and counter will be 0/1/2\n",
    "    n = input('Enter your number: ').strip()\n",
    "    n = int(n)  # get an integer based on n\n",
    "    \n",
    "    if n > highest:   # is n bigger than highest?  If so, n becomes the new champion!\n",
    "        highest = n\n",
    "        \n",
    "print(f'Highest = {highest}')        "
   ]
  },
  {
   "cell_type": "code",
   "execution_count": 22,
   "id": "fafb357d",
   "metadata": {},
   "outputs": [
    {
     "data": {
      "text/plain": [
       "'e'"
      ]
     },
     "execution_count": 22,
     "metadata": {},
     "output_type": "execute_result"
    }
   ],
   "source": [
    "s = 'abcde'\n",
    "\n",
    "s[4]  # get the character at index 4"
   ]
  },
  {
   "cell_type": "code",
   "execution_count": 23,
   "id": "40fe626c",
   "metadata": {},
   "outputs": [
    {
     "ename": "IndexError",
     "evalue": "string index out of range",
     "output_type": "error",
     "traceback": [
      "\u001b[0;31m---------------------------------------------------------------------------\u001b[0m",
      "\u001b[0;31mIndexError\u001b[0m                                Traceback (most recent call last)",
      "\u001b[0;32m/var/folders/rr/0mnyyv811fs5vyp22gf4fxk00000gn/T/ipykernel_85715/3618348050.py\u001b[0m in \u001b[0;36m<module>\u001b[0;34m\u001b[0m\n\u001b[0;32m----> 1\u001b[0;31m \u001b[0ms\u001b[0m\u001b[0;34m[\u001b[0m\u001b[0;36m10\u001b[0m\u001b[0;34m]\u001b[0m   \u001b[0;31m# get the character at index 10\u001b[0m\u001b[0;34m\u001b[0m\u001b[0;34m\u001b[0m\u001b[0m\n\u001b[0m",
      "\u001b[0;31mIndexError\u001b[0m: string index out of range"
     ]
    }
   ],
   "source": [
    "s[10]   # get the character at index 10"
   ]
  },
  {
   "cell_type": "code",
   "execution_count": 24,
   "id": "64de2870",
   "metadata": {},
   "outputs": [
    {
     "data": {
      "text/plain": [
       "'abcd'"
      ]
     },
     "execution_count": 24,
     "metadata": {},
     "output_type": "execute_result"
    }
   ],
   "source": [
    "s[:4]  # get all characters up to (and not including) index 4"
   ]
  },
  {
   "cell_type": "code",
   "execution_count": 25,
   "id": "236cf673",
   "metadata": {},
   "outputs": [
    {
     "data": {
      "text/plain": [
       "'abcde'"
      ]
     },
     "execution_count": 25,
     "metadata": {},
     "output_type": "execute_result"
    }
   ],
   "source": [
    "s[:10]  # get all characters up to (and not including) index 10"
   ]
  },
  {
   "cell_type": "markdown",
   "id": "a9ee89cd",
   "metadata": {},
   "source": [
    "# Next up\n",
    "\n",
    "- `while` loops\n",
    "- Where's the index? "
   ]
  },
  {
   "cell_type": "markdown",
   "id": "b406a085",
   "metadata": {},
   "source": [
    "# `while` loops\n",
    "\n",
    "`for` loops allow us to execute a loop body a known number of times:\n",
    "\n",
    "- for each character in a string\n",
    "- up to a `range` maximum\n",
    "\n",
    "But what if I don't know how many iterations I'll need of my loop?  What I want to continue, perhaps forever, until a particular condition is met?\n",
    "\n",
    "For that, we have `while` loops.  You can think of `while` as just like `if`, except that it'll keep executing the body until the condition returns `False`."
   ]
  },
  {
   "cell_type": "code",
   "execution_count": 27,
   "id": "0aed015d",
   "metadata": {},
   "outputs": [
    {
     "name": "stdout",
     "output_type": "stream",
     "text": [
      "x = 5\n",
      "x = 4\n",
      "x = 3\n",
      "x = 2\n",
      "x = 1\n"
     ]
    }
   ],
   "source": [
    "x = 5\n",
    "\n",
    "while x > 0:\n",
    "    print(f'x = {x}')\n",
    "    x -= 1  # this is the same as saying x = x - 1, aka \"decrement x by 1\""
   ]
  },
  {
   "cell_type": "code",
   "execution_count": 28,
   "id": "2ce73e31",
   "metadata": {},
   "outputs": [
    {
     "name": "stdout",
     "output_type": "stream",
     "text": [
      "Enter your name: Reuven\n",
      "Hello, Reuven!\n",
      "Enter your name: world\n",
      "Hello, world!\n",
      "Enter your name: no\n",
      "Hello, no!\n",
      "Enter your name: \n"
     ]
    }
   ],
   "source": [
    "# in both \"for\" and \"while\" loops, we sometimes need to exit early.\n",
    "\n",
    "# we can do that with \"break\"\n",
    "# the \"break\" command means: Exit the current loop right now\n",
    "\n",
    "while True:     # this looks dangerous -- it'll run forever!  \n",
    "    name = input('Enter your name: ').strip()\n",
    "    \n",
    "    if name == '':  # is it the empty string?  BTW, this is *NOT* the same as ' '\n",
    "        break\n",
    "        \n",
    "    print(f'Hello, {name}!')\n",
    "    \n",
    "    "
   ]
  },
  {
   "cell_type": "markdown",
   "id": "ba53fa3f",
   "metadata": {},
   "source": [
    "# Exercise: Summing numbers\n",
    "\n",
    "1. Set `total` to 0.\n",
    "2. Ask the user, repeatedly, to enter a number.\n",
    "    - If the user enters an empty string, then break out of the loop\n",
    "    - If the user enters a non-numeric string (use the `isdigit` method), then scold them\n",
    "    - If the user enters a numeric string, convert it to an integer (with `int`) and add to `total`.  Print the current, running `total`.\n",
    "3. After the loop, print `total`    \n",
    "\n",
    "Example:\n",
    "\n",
    "    Enter a number: 10\n",
    "    total is 10\n",
    "    Enter a number: 20\n",
    "    total is 30\n",
    "    Enter a number: hello\n",
    "    hello is not a number\n",
    "    Enter a number: 30\n",
    "    total is 60\n",
    "    Enter a number: [ENTER]\n",
    "    total is 6"
   ]
  },
  {
   "cell_type": "code",
   "execution_count": 31,
   "id": "f19a7563",
   "metadata": {},
   "outputs": [
    {
     "name": "stdout",
     "output_type": "stream",
     "text": [
      "Enter a number: 10\n",
      "Total is now 10\n",
      "Enter a number: 20\n",
      "Total is now 30\n",
      "Enter a number: asfsafsa\n",
      "asfsafsa is not numeric\n",
      "Enter a number: 30\n",
      "Total is now 60\n",
      "Enter a number: asdfsafafa\n",
      "asdfsafafa is not numeric\n",
      "Enter a number: \n",
      "Ending; total is 60\n"
     ]
    }
   ],
   "source": [
    "total = 0\n",
    "\n",
    "while True:\n",
    "    s = input('Enter a number: ').strip()\n",
    "    \n",
    "    if s == '':  # Did the user enter an empty string? Stop the loop\n",
    "        break\n",
    "        \n",
    "    if s.isdigit():\n",
    "        total += int(s)\n",
    "        print(f'Total is now {total}')\n",
    "    else:\n",
    "        print(f'{s} is not numeric')\n",
    "    \n",
    "print(f'Ending; total is {total}')     \n",
    "        \n",
    "    "
   ]
  },
  {
   "cell_type": "markdown",
   "id": "1f3e0df3",
   "metadata": {},
   "source": [
    "# Where's the index?\n",
    "\n",
    "In many languages (especially C-like languages), `for` loops look nothing like this! In those languages, I iterate in my loop over an index. I start at 0, and add 1 until I get to the maximum, or the length.\n",
    "\n",
    "Where's the index here? \n",
    "\n",
    "Even in C-like languages, you're using the index to get to a character.  You don't care about the index; it's a means to an end.  In Python, we have that end, we have the characters. We don't need the index!\n",
    "\n",
    "What if I do want the index?"
   ]
  },
  {
   "cell_type": "code",
   "execution_count": 33,
   "id": "67246734",
   "metadata": {},
   "outputs": [
    {
     "name": "stdout",
     "output_type": "stream",
     "text": [
      "0: a\n",
      "1: b\n",
      "2: c\n",
      "3: d\n"
     ]
    }
   ],
   "source": [
    "s = 'abcd'\n",
    "\n",
    "# I want to display each character in s, alongside its index in the string\n",
    "# Option 1: Do it myself\n",
    "\n",
    "index = 0\n",
    "\n",
    "for one_character in s:\n",
    "    print(f'{index}: {one_character}')\n",
    "    index += 1   # increment index by 1\n",
    "    "
   ]
  },
  {
   "cell_type": "code",
   "execution_count": 34,
   "id": "6d2999e2",
   "metadata": {},
   "outputs": [
    {
     "name": "stdout",
     "output_type": "stream",
     "text": [
      "0: a\n",
      "1: b\n",
      "2: c\n",
      "3: d\n"
     ]
    }
   ],
   "source": [
    "# Option 2: Use enumerate\n",
    "# enumerate is a function that comes with Python, and wraps itself around an iterable object\n",
    "# (which for now is just a string)\n",
    "\n",
    "for index, one_character in enumerate(s):    # enumerate gives us *TWO* items with each iteration\n",
    "    print(f'{index}: {one_character}')"
   ]
  },
  {
   "cell_type": "markdown",
   "id": "1b299bd0",
   "metadata": {},
   "source": [
    "# Exercise: Powers of 10\n",
    "\n",
    "1. Ask the user to enter a number.\n",
    "2. Print the number, broken up, adding powers of 10.\n",
    "\n",
    "Example:\n",
    "\n",
    "    Enter a number: 5328\n",
    "    5 * 1000\n",
    "    3 * 100\n",
    "    2 * 10\n",
    "    8 * 1\n",
    "    \n",
    "Or:\n",
    "\n",
    "    5 * 10**3\n",
    "    3 * 10**2\n",
    "    2 * 10**1\n",
    "    8 * 10**0\n",
    "    \n",
    "Consider/hints:\n",
    "\n",
    "1. The input from the user will be a string.\n",
    "2. You can get the length of the string with `len`\n",
    "3. You can calculate what power your need by subtracting the current index from `len`\n",
    "4. Use `enumerate` to get the current index."
   ]
  },
  {
   "cell_type": "code",
   "execution_count": 41,
   "id": "8ce34eca",
   "metadata": {},
   "outputs": [
    {
     "name": "stdout",
     "output_type": "stream",
     "text": [
      "Enter a number: 9876543210\n",
      "9 * 10**9\n",
      "8 * 10**8\n",
      "7 * 10**7\n",
      "6 * 10**6\n",
      "5 * 10**5\n",
      "4 * 10**4\n",
      "3 * 10**3\n",
      "2 * 10**2\n",
      "1 * 10**1\n",
      "0 * 10**0\n"
     ]
    }
   ],
   "source": [
    "s = input('Enter a number: ').strip()\n",
    "\n",
    "for index, one_digit in enumerate(s):\n",
    "    power = len(s) - index - 1\n",
    "    print(f'{one_digit} * 10**{power}')"
   ]
  },
  {
   "cell_type": "markdown",
   "id": "fbaef625",
   "metadata": {},
   "source": [
    "# `break` stops the current loop\n",
    "\n"
   ]
  },
  {
   "cell_type": "code",
   "execution_count": 42,
   "id": "c55bb348",
   "metadata": {},
   "outputs": [
    {
     "name": "stdout",
     "output_type": "stream",
     "text": [
      "a\n",
      "b\n",
      "c\n"
     ]
    }
   ],
   "source": [
    "# let's pretend that \"in\" doesn't exist\n",
    "\n",
    "s = 'abcde'\n",
    "look_for = 'd'\n",
    "\n",
    "for one_character in s:\n",
    "    if look_for == one_character:\n",
    "        break   # once we find the character we're interested in, stop the loop\n",
    "\n",
    "    print(one_character)\n"
   ]
  },
  {
   "cell_type": "code",
   "execution_count": 43,
   "id": "5ed501d2",
   "metadata": {},
   "outputs": [
    {
     "name": "stdout",
     "output_type": "stream",
     "text": [
      "a\n",
      "b\n",
      "c\n",
      "e\n"
     ]
    }
   ],
   "source": [
    "# sometimes, you want to skip over the rest of the loop body for this iteration,\n",
    "# but then move onto the next iteration\n",
    "\n",
    "# this is especially common if you have inputs that aren't appropriate;\n",
    "# move onto the next thing\n",
    "\n",
    "# we can do this with \"continue\"\n",
    "\n",
    "\n",
    "s = 'abcde'\n",
    "look_for = 'd'\n",
    "\n",
    "for one_character in s:\n",
    "    if look_for == one_character:\n",
    "        continue  # ignore the rest of the loop body if we're on look_for\n",
    "\n",
    "    print(one_character)\n"
   ]
  },
  {
   "cell_type": "code",
   "execution_count": 45,
   "id": "5cfdc576",
   "metadata": {},
   "outputs": [
    {
     "name": "stdout",
     "output_type": "stream",
     "text": [
      "Enter a number: 20\n",
      "\tAfter adding 20, total is 20\n",
      "Enter a number: 30\n",
      "\tAfter adding 30, total is 50\n",
      "Enter a number: 25\n",
      "\tAfter adding 25, total is 75\n",
      "Enter a number: hello\n",
      "hello is not numeric; try again\n",
      "Enter a number: 90\n",
      "\tAfter adding 90, total is 165\n",
      "Exited; total is 165\n"
     ]
    }
   ],
   "source": [
    "# An example, using both break and continue\n",
    "\n",
    "target = 100\n",
    "total = 0\n",
    "\n",
    "while total < target:\n",
    "    s = input('Enter a number: ').strip()\n",
    "    \n",
    "    if s == '':  # empty string? exit right away, even if we haven't hit total\n",
    "        print(f'Ending early with total = {total}')\n",
    "        break\n",
    "        \n",
    "    if not s.isdigit():\n",
    "        print(f'{s} is not numeric; try again')\n",
    "        continue\n",
    "        \n",
    "    total += int(s)\n",
    "    print(f'\\tAfter adding {s}, total is {total}')\n",
    "\n",
    "print(f'Exited; total is {total}')    "
   ]
  },
  {
   "cell_type": "markdown",
   "id": "1d0d5dcd",
   "metadata": {},
   "source": [
    "# What can be in a loop body?\n",
    "\n",
    "Inside of a loop body, we can have anything at all:\n",
    "\n",
    "- Assignment\n",
    "- `input`\n",
    "- `print`\n",
    "- You can have a `while` loop inside of a `for` loop, or vice versa\n",
    "- One `for` loop inside of another is often called a \"nested loop.\""
   ]
  },
  {
   "cell_type": "markdown",
   "id": "8a1d5844",
   "metadata": {},
   "source": [
    "# Exercise: Sum digits\n",
    "\n",
    "1. Define `total` to be 0\n",
    "2. Ask the user, repeatedly, to enter a string.  (Use a `while` loop here)\n",
    "    - If they give us an empty string, `break` out of the loop.\n",
    "3. Go through each character in the string.\n",
    "    - If it's a digit, turn it into an integer and add to `total`.  Then print `total`.\n",
    "    - If it's not a digit, scold the user.\n",
    "    \n",
    "Example:\n",
    "\n",
    "    Enter a string: 123\n",
    "    Total is 6\n",
    "    Enter a string: 4a5\n",
    "    a is not numeric; ignoring\n",
    "    Total is 15\n",
    "    Enter a string: [ENTER]\n",
    "    Total is 15\n"
   ]
  },
  {
   "cell_type": "code",
   "execution_count": 46,
   "id": "cdf8e42f",
   "metadata": {},
   "outputs": [],
   "source": [
    "# if the person enters 123, we should add 1+2+3\n",
    "# if they enter 4a5, we should add 4+5 to the existing total, ignoring a"
   ]
  },
  {
   "cell_type": "code",
   "execution_count": 47,
   "id": "bf35de16",
   "metadata": {},
   "outputs": [
    {
     "name": "stdout",
     "output_type": "stream",
     "text": [
      "a\tbcd\tef\tghi\n",
      "jkl\tm\tnop\tqr\n"
     ]
    }
   ],
   "source": [
    "# tab inserts enough padding to get you to the next multiple-of-8 column\n",
    "\n",
    "print('a\\tbcd\\tef\\tghi')\n",
    "print('jkl\\tm\\tnop\\tqr')\n"
   ]
  },
  {
   "cell_type": "code",
   "execution_count": 48,
   "id": "7b628c37",
   "metadata": {},
   "outputs": [
    {
     "name": "stdout",
     "output_type": "stream",
     "text": [
      "Enter a string: 123\n",
      "\tAfter adding 1, total is 1\n",
      "\tAfter adding 2, total is 3\n",
      "\tAfter adding 3, total is 6\n",
      "Enter a string: 9a4\n",
      "\tAfter adding 9, total is 15\n",
      "\ta is not numeric\n",
      "\tAfter adding 4, total is 19\n",
      "Enter a string: \n",
      "total = 19\n"
     ]
    }
   ],
   "source": [
    "# I'll need a while loop, becuse I don't know how many strings the user will give me\n",
    "# I'll need a for loop, to go through each character in the strings that I do get\n",
    "\n",
    "total = 0\n",
    "\n",
    "while True:\n",
    "    s = input('Enter a string: ').strip()\n",
    "    \n",
    "    if s == '':   # stop the loop if we got an empty string\n",
    "        break\n",
    "        \n",
    "    for one_character in s:\n",
    "        if one_character.isdigit():\n",
    "            total += int(one_character)\n",
    "            print(f'\\tAfter adding {one_character}, total is {total}')\n",
    "        else:\n",
    "            print(f'\\t{one_character} is not numeric')\n",
    "            \n",
    "print(f'total = {total}')    \n"
   ]
  },
  {
   "cell_type": "code",
   "execution_count": 49,
   "id": "0b9a94cd",
   "metadata": {},
   "outputs": [
    {
     "ename": "TypeError",
     "evalue": "'int' object is not callable",
     "output_type": "error",
     "traceback": [
      "\u001b[0;31m---------------------------------------------------------------------------\u001b[0m",
      "\u001b[0;31mTypeError\u001b[0m                                 Traceback (most recent call last)",
      "\u001b[0;32m/var/folders/rr/0mnyyv811fs5vyp22gf4fxk00000gn/T/ipykernel_85715/2223897833.py\u001b[0m in \u001b[0;36m<module>\u001b[0;34m\u001b[0m\n\u001b[1;32m      3\u001b[0m \u001b[0;34m\u001b[0m\u001b[0m\n\u001b[1;32m      4\u001b[0m \u001b[0minput\u001b[0m \u001b[0;34m=\u001b[0m \u001b[0;36m5\u001b[0m\u001b[0;34m\u001b[0m\u001b[0;34m\u001b[0m\u001b[0m\n\u001b[0;32m----> 5\u001b[0;31m \u001b[0minput\u001b[0m\u001b[0;34m(\u001b[0m\u001b[0;34m'Enter your name: '\u001b[0m\u001b[0;34m)\u001b[0m\u001b[0;34m\u001b[0m\u001b[0;34m\u001b[0m\u001b[0m\n\u001b[0m",
      "\u001b[0;31mTypeError\u001b[0m: 'int' object is not callable"
     ]
    }
   ],
   "source": [
    "# if you accidentally created a variable called \"input\"\n",
    "# and assigned an integer to it, you'll get a weird error when you try to call the input function\n",
    "\n",
    "input = 5  # don't do this!\n",
    "input('Enter your name: ')"
   ]
  },
  {
   "cell_type": "code",
   "execution_count": 50,
   "id": "3b5a38c6",
   "metadata": {},
   "outputs": [],
   "source": [
    "# if you're in this bad situation, do the following (which looks scary, but don't worry)\n",
    "del(input)   # remove the input you defined, allowing us to use the builtin input instead"
   ]
  },
  {
   "cell_type": "code",
   "execution_count": 51,
   "id": "744b1ccf",
   "metadata": {},
   "outputs": [
    {
     "name": "stdout",
     "output_type": "stream",
     "text": [
      "Enter your name: Reuven\n"
     ]
    },
    {
     "data": {
      "text/plain": [
       "'Reuven'"
      ]
     },
     "execution_count": 51,
     "metadata": {},
     "output_type": "execute_result"
    }
   ],
   "source": [
    "input('Enter your name: ')"
   ]
  },
  {
   "cell_type": "markdown",
   "id": "98f95cfd",
   "metadata": {},
   "source": [
    "# Next up: Lists!\n",
    "\n",
    "- Lists\n",
    "- Strings to lists, and back\n",
    "\n"
   ]
  },
  {
   "cell_type": "markdown",
   "id": "42369d0f",
   "metadata": {},
   "source": [
    "# Lists\n",
    "\n",
    "Lists are ordered containers for other objects.  That's a fancy way of saying that a list can contain *any* type of Python data. It can contain any number of elements.  Those elements stick around in the same order, and we can retrieve them using indexes (just like strings)."
   ]
  },
  {
   "cell_type": "code",
   "execution_count": 52,
   "id": "134cb000",
   "metadata": {},
   "outputs": [
    {
     "data": {
      "text/plain": [
       "3"
      ]
     },
     "execution_count": 52,
     "metadata": {},
     "output_type": "execute_result"
    }
   ],
   "source": [
    "# define lists with []\n",
    "mylist = [10, 20, 30]   # 3 elements, all integers, separated by ,\n",
    "len(mylist)"
   ]
  },
  {
   "cell_type": "code",
   "execution_count": 53,
   "id": "5e6d3120",
   "metadata": {},
   "outputs": [
    {
     "data": {
      "text/plain": [
       "5"
      ]
     },
     "execution_count": 53,
     "metadata": {},
     "output_type": "execute_result"
    }
   ],
   "source": [
    "mylist = ['a', 'b', 'cdef', 'gh', 'ijkl']\n",
    "len(mylist)"
   ]
  },
  {
   "cell_type": "code",
   "execution_count": 54,
   "id": "40bd95c6",
   "metadata": {},
   "outputs": [],
   "source": [
    "# lists can contain any number, of any combination of data types\n",
    "# it's *traditional* for a list to contain only items of one type -- so all strings,\n",
    "# or all integers, etc."
   ]
  },
  {
   "cell_type": "code",
   "execution_count": 57,
   "id": "546f15b6",
   "metadata": {},
   "outputs": [
    {
     "data": {
      "text/plain": [
       "'a'"
      ]
     },
     "execution_count": 57,
     "metadata": {},
     "output_type": "execute_result"
    }
   ],
   "source": [
    "# I can retrieve from mylist with [] and an index\n",
    "# just like strings, indexes start at 0\n",
    "mylist[0]"
   ]
  },
  {
   "cell_type": "code",
   "execution_count": 58,
   "id": "7169a9e4",
   "metadata": {},
   "outputs": [
    {
     "data": {
      "text/plain": [
       "'b'"
      ]
     },
     "execution_count": 58,
     "metadata": {},
     "output_type": "execute_result"
    }
   ],
   "source": [
    "mylist[1]"
   ]
  },
  {
   "cell_type": "code",
   "execution_count": 59,
   "id": "58e2df4a",
   "metadata": {},
   "outputs": [
    {
     "data": {
      "text/plain": [
       "'ijkl'"
      ]
     },
     "execution_count": 59,
     "metadata": {},
     "output_type": "execute_result"
    }
   ],
   "source": [
    "mylist[-1]   # negative indexes count from the right"
   ]
  },
  {
   "cell_type": "code",
   "execution_count": 60,
   "id": "773e8a71",
   "metadata": {},
   "outputs": [
    {
     "data": {
      "text/plain": [
       "['a', 'b', 'cdef', 'gh', 'ijkl']"
      ]
     },
     "execution_count": 60,
     "metadata": {},
     "output_type": "execute_result"
    }
   ],
   "source": [
    "# I can search in my list, too\n",
    "mylist"
   ]
  },
  {
   "cell_type": "code",
   "execution_count": 61,
   "id": "ad86304e",
   "metadata": {},
   "outputs": [
    {
     "data": {
      "text/plain": [
       "True"
      ]
     },
     "execution_count": 61,
     "metadata": {},
     "output_type": "execute_result"
    }
   ],
   "source": [
    "'b' in mylist"
   ]
  },
  {
   "cell_type": "code",
   "execution_count": 62,
   "id": "eed77c6b",
   "metadata": {},
   "outputs": [
    {
     "data": {
      "text/plain": [
       "True"
      ]
     },
     "execution_count": 62,
     "metadata": {},
     "output_type": "execute_result"
    }
   ],
   "source": [
    "'gh' in mylist"
   ]
  },
  {
   "cell_type": "code",
   "execution_count": 63,
   "id": "b8615110",
   "metadata": {},
   "outputs": [
    {
     "data": {
      "text/plain": [
       "False"
      ]
     },
     "execution_count": 63,
     "metadata": {},
     "output_type": "execute_result"
    }
   ],
   "source": [
    "'j' in mylist"
   ]
  },
  {
   "cell_type": "code",
   "execution_count": 64,
   "id": "abd5c7f4",
   "metadata": {},
   "outputs": [
    {
     "name": "stdout",
     "output_type": "stream",
     "text": [
      "a\n",
      "b\n",
      "cdef\n",
      "gh\n",
      "ijkl\n"
     ]
    }
   ],
   "source": [
    "# I can iterate over the elements of a list with a \"for\" loop\n",
    "\n",
    "for one_item in mylist:\n",
    "    print(one_item)"
   ]
  },
  {
   "cell_type": "code",
   "execution_count": 65,
   "id": "13b7123e",
   "metadata": {},
   "outputs": [],
   "source": [
    "# both strings and lists are *sequences*\n",
    "# any sequence (strings, lists, and tuples) will implement all of these things"
   ]
  },
  {
   "cell_type": "code",
   "execution_count": 66,
   "id": "3ed222bc",
   "metadata": {},
   "outputs": [
    {
     "data": {
      "text/plain": [
       "['a', 'b', 'cdef', 'gh', 'ijkl']"
      ]
     },
     "execution_count": 66,
     "metadata": {},
     "output_type": "execute_result"
    }
   ],
   "source": [
    "mylist"
   ]
  },
  {
   "cell_type": "markdown",
   "id": "93593504",
   "metadata": {},
   "source": [
    "# Exercise: Longest string\n",
    "\n",
    "1. Define a list, `words`, which contains 5-6 elements, all of which are strings.\n",
    "2. Set a variable, `longest_word`, to be an empty string.\n",
    "3. Iterate over each element of `words`, one at a time.\n",
    "4. When you're done iterating , `longest_word` should contain the longest word in `words`.\n",
    "\n",
    "Example:\n",
    "\n",
    "    words = ['this', 'is', 'a', 'fantastic', 'course']\n",
    "    # after running\n",
    "\n",
    "    print(longest_word)\n",
    "    fantastic"
   ]
  },
  {
   "cell_type": "code",
   "execution_count": 77,
   "id": "4d2d3f2b",
   "metadata": {},
   "outputs": [
    {
     "name": "stdout",
     "output_type": "stream",
     "text": [
      "Longest word in the list is 'fantastic'\n"
     ]
    }
   ],
   "source": [
    "longest_word = ''\n",
    "\n",
    "words = ['this', 'is', 'a', 'fantastic', 'course']\n",
    "\n",
    "# I'm going to use a for loop to go through each word in \"words\"\n",
    "\n",
    "for one_word in words:\n",
    "    if len(one_word) > len(longest_word):  # if the current word is longer than our longest word...\n",
    "        longest_word = one_word\n",
    "        \n",
    "print(f'Longest word in the list is \\'{longest_word}\\'')        "
   ]
  },
  {
   "cell_type": "code",
   "execution_count": 68,
   "id": "e26d289c",
   "metadata": {},
   "outputs": [
    {
     "ename": "TypeError",
     "evalue": "'str' object does not support item assignment",
     "output_type": "error",
     "traceback": [
      "\u001b[0;31m---------------------------------------------------------------------------\u001b[0m",
      "\u001b[0;31mTypeError\u001b[0m                                 Traceback (most recent call last)",
      "\u001b[0;32m/var/folders/rr/0mnyyv811fs5vyp22gf4fxk00000gn/T/ipykernel_85715/280766247.py\u001b[0m in \u001b[0;36m<module>\u001b[0;34m\u001b[0m\n\u001b[1;32m      2\u001b[0m \u001b[0ms\u001b[0m \u001b[0;34m=\u001b[0m \u001b[0;34m'abcde'\u001b[0m\u001b[0;34m\u001b[0m\u001b[0;34m\u001b[0m\u001b[0m\n\u001b[1;32m      3\u001b[0m \u001b[0;34m\u001b[0m\u001b[0m\n\u001b[0;32m----> 4\u001b[0;31m \u001b[0ms\u001b[0m\u001b[0;34m[\u001b[0m\u001b[0;36m0\u001b[0m\u001b[0;34m]\u001b[0m \u001b[0;34m=\u001b[0m \u001b[0;34m'!'\u001b[0m  \u001b[0;31m# this won't work -- strings are immutable!\u001b[0m\u001b[0;34m\u001b[0m\u001b[0;34m\u001b[0m\u001b[0m\n\u001b[0m",
      "\u001b[0;31mTypeError\u001b[0m: 'str' object does not support item assignment"
     ]
    }
   ],
   "source": [
    "# can we change a string?\n",
    "s = 'abcde'\n",
    "\n",
    "s[0] = '!'  # this won't work -- strings are immutable!"
   ]
  },
  {
   "cell_type": "code",
   "execution_count": 70,
   "id": "9aa984fe",
   "metadata": {},
   "outputs": [],
   "source": [
    "mylist = [10, 20, 30, 40, 50]\n",
    "\n",
    "mylist[0] = '!'  # this does work -- strings are MUTABLE"
   ]
  },
  {
   "cell_type": "code",
   "execution_count": 71,
   "id": "582d23bc",
   "metadata": {},
   "outputs": [
    {
     "data": {
      "text/plain": [
       "['!', 20, 30, 40, 50]"
      ]
     },
     "execution_count": 71,
     "metadata": {},
     "output_type": "execute_result"
    }
   ],
   "source": [
    "mylist"
   ]
  },
  {
   "cell_type": "code",
   "execution_count": 72,
   "id": "26685301",
   "metadata": {},
   "outputs": [
    {
     "data": {
      "text/plain": [
       "['!', 20, 30, 40, 50, 60]"
      ]
     },
     "execution_count": 72,
     "metadata": {},
     "output_type": "execute_result"
    }
   ],
   "source": [
    "# to add one item to the end of a list, use the .append method\n",
    "\n",
    "mylist.append(60) # whatever object I give to append will be added\n",
    "mylist"
   ]
  },
  {
   "cell_type": "code",
   "execution_count": 73,
   "id": "a6ba0b4c",
   "metadata": {},
   "outputs": [
    {
     "data": {
      "text/plain": [
       "60"
      ]
     },
     "execution_count": 73,
     "metadata": {},
     "output_type": "execute_result"
    }
   ],
   "source": [
    "# to remove an item from the end of a list, use the .pop method\n",
    "\n",
    "mylist.pop()  # whatever was at the end is no longer there (but is returned to us)"
   ]
  },
  {
   "cell_type": "code",
   "execution_count": 74,
   "id": "2b1bf98d",
   "metadata": {},
   "outputs": [
    {
     "data": {
      "text/plain": [
       "['!', 20, 30, 40, 50]"
      ]
     },
     "execution_count": 74,
     "metadata": {},
     "output_type": "execute_result"
    }
   ],
   "source": [
    "mylist"
   ]
  },
  {
   "cell_type": "code",
   "execution_count": 75,
   "id": "a24bd1bf",
   "metadata": {},
   "outputs": [
    {
     "name": "stdout",
     "output_type": "stream",
     "text": [
      "Enter a number: 3\n",
      "Enter a number: 5\n",
      "Enter a number: 2\n",
      "Enter a number: 4\n",
      "Enter a number: \n",
      "evens = [2, 4]\n",
      "odds = [3, 5]\n"
     ]
    }
   ],
   "source": [
    "evens = []\n",
    "odds = []\n",
    "\n",
    "while True:\n",
    "    s = input('Enter a number: ').strip()\n",
    "    \n",
    "    if s == '':\n",
    "        break\n",
    "        \n",
    "    if not s.isdigit():\n",
    "        print(f'{s} is not numeric')\n",
    "        continue\n",
    "        \n",
    "    n = int(s)\n",
    "    if n%2 == 1:  # it's odd!\n",
    "        odds.append(n)\n",
    "    else:   # it's even!\n",
    "        evens.append(n)\n",
    "        \n",
    "print(f'evens = {evens}')        \n",
    "print(f'odds = {odds}')"
   ]
  },
  {
   "cell_type": "markdown",
   "id": "13a8f5c9",
   "metadata": {},
   "source": [
    "# Exercise: Digits, vowels, and others\n",
    "\n",
    "1. Define three empty lists called `digits`, `vowels`, and `others`.\n",
    "2. Ask the user to enter one string.\n",
    "3. Go through each character in the string:\n",
    "    - If it's a digit, append it to the end of `digits`\n",
    "    - If it's a vowel, append it to the end of `vowels`\n",
    "    - In all other caes, append it to the end of `others`\n",
    "4. Print all three of the lists.\n",
    "\n"
   ]
  },
  {
   "cell_type": "code",
   "execution_count": 78,
   "id": "fb2e27af",
   "metadata": {},
   "outputs": [
    {
     "name": "stdout",
     "output_type": "stream",
     "text": [
      "Enter a string: hello 123 !!\n",
      "digits = ['1', '2', '3']\n",
      "vowels = ['e', 'o']\n",
      "others = ['h', 'l', 'l', ' ', ' ', '!', '!']\n"
     ]
    }
   ],
   "source": [
    "digits = []\n",
    "vowels = []\n",
    "others = []\n",
    "\n",
    "s = input('Enter a string: ').strip()\n",
    "\n",
    "for one_character in s:\n",
    "    if one_character.isdigit():\n",
    "        digits.append(one_character)\n",
    "    elif one_character in 'aeiou':\n",
    "        vowels.append(one_character)\n",
    "    else:\n",
    "        others.append(one_character)\n",
    "        \n",
    "print(f'digits = {digits}')        \n",
    "print(f'vowels = {vowels}')        \n",
    "print(f'others = {others}')        \n"
   ]
  },
  {
   "cell_type": "code",
   "execution_count": 81,
   "id": "db4a8c02",
   "metadata": {},
   "outputs": [
    {
     "data": {
      "text/plain": [
       "'a    b   c'"
      ]
     },
     "execution_count": 81,
     "metadata": {},
     "output_type": "execute_result"
    }
   ],
   "source": [
    "# str.strip removes whitespace from THE EDGES ONLY\n",
    "\n",
    "s = '    a    b   c   '\n",
    "s.strip()\n"
   ]
  },
  {
   "cell_type": "code",
   "execution_count": 79,
   "id": "fb60f170",
   "metadata": {},
   "outputs": [],
   "source": [
    "# Don't make this mistake:\n",
    "\n",
    "mylist = [10, 20, 30]\n",
    "mylist = mylist.append(40)   # this won't do what you expect!"
   ]
  },
  {
   "cell_type": "code",
   "execution_count": 80,
   "id": "6e97c454",
   "metadata": {},
   "outputs": [
    {
     "name": "stdout",
     "output_type": "stream",
     "text": [
      "None\n"
     ]
    }
   ],
   "source": [
    "print(mylist)"
   ]
  },
  {
   "cell_type": "markdown",
   "id": "1783d2be",
   "metadata": {},
   "source": [
    "A rule of thumb in Python: If you invoke a method on an object, and the method results in the object changing, then the method returns the special `None` object.\n",
    "\n",
    "A great example is `list.append` -- it modifies the list, and thus doesn't return anything.\n",
    "\n",
    "If you then say\n",
    "\n",
    "    mylist = mylist.append(40)\n",
    "    \n",
    "You are *not* adding 40 to the list, and then assigning it back to the variable `mylist`.  Rather, you're first adding 40 to `mylist`, and then you're assigning `None` back to `mylist`.\n"
   ]
  },
  {
   "cell_type": "code",
   "execution_count": null,
   "id": "166aa289",
   "metadata": {},
   "outputs": [],
   "source": [
    "# if you want to read a Jupyter notebook file (i.e., one with an)"
   ]
  }
 ],
 "metadata": {
  "kernelspec": {
   "display_name": "Python 3 (ipykernel)",
   "language": "python",
   "name": "python3"
  },
  "language_info": {
   "codemirror_mode": {
    "name": "ipython",
    "version": 3
   },
   "file_extension": ".py",
   "mimetype": "text/x-python",
   "name": "python",
   "nbconvert_exporter": "python",
   "pygments_lexer": "ipython3",
   "version": "3.10.4"
  }
 },
 "nbformat": 4,
 "nbformat_minor": 5
}
