{
 "cells": [
  {
   "cell_type": "markdown",
   "id": "57714962",
   "metadata": {},
   "source": [
    "# Week 2: Loops, lists, and tuples\n",
    "\n",
    "1. Q&A from last time\n",
    "2. Loops\n",
    "    - `for` loops\n",
    "    - Looping over numbers\n",
    "    - `while` loops\n",
    "3. Lists\n",
    "    - What are they?\n",
    "    - How are they similar to strings, and how are they different?\n",
    "    - Mutable vs. immutable\n",
    "4. Strings to lists and back\n",
    "    - Breaking a string into a list of strings (with split)\n",
    "    - Turning a list of strings into a single string (with join)\n",
    "5. Tuples\n",
    "    - What are they?\n",
    "    - Tuple tnpacking"
   ]
  },
  {
   "cell_type": "markdown",
   "id": "9bfa8093",
   "metadata": {},
   "source": [
    "# DRY -- don't repeat yourself\n",
    "\n",
    "This rule is an important one to remember whenever you're programming.  If you repeat yourself, then you're (a) making life harder for yourself while you're programming, and (b) you're also making it harder for yourself down the road when you have to maintain/debug your code."
   ]
  },
  {
   "cell_type": "code",
   "execution_count": 2,
   "id": "945b05ec",
   "metadata": {},
   "outputs": [
    {
     "name": "stdout",
     "output_type": "stream",
     "text": [
      "a\n",
      "b\n",
      "c\n",
      "d\n"
     ]
    }
   ],
   "source": [
    "# Let's define a string, and print each of the characters in the string\n",
    "\n",
    "s = 'abcd'\n",
    "\n",
    "print(s[0])   # unfortunately, this works!\n",
    "print(s[1])\n",
    "print(s[2])\n",
    "print(s[3])"
   ]
  },
  {
   "cell_type": "code",
   "execution_count": 3,
   "id": "1d6cfdba",
   "metadata": {},
   "outputs": [
    {
     "name": "stdout",
     "output_type": "stream",
     "text": [
      "a\n",
      "b\n",
      "c\n",
      "d\n"
     ]
    }
   ],
   "source": [
    "# Loops allow us to describe what we want to do once, and how many times we want to do it,\n",
    "# and then let the computer handle the repetition.\n",
    "\n",
    "# I can handle this with a \"for\" loop\n",
    "\n",
    "for one_character in s:\n",
    "    print(one_character)"
   ]
  },
  {
   "cell_type": "markdown",
   "id": "83555ebd",
   "metadata": {},
   "source": [
    "# What's happening in our `for` loop?\n",
    "\n",
    "1. The `for` loop turns to `s` (or to whatever else is at the end of the line), and asks: Are you iterable? Meaning: Do you know how to behave inside of a `for` loop?\n",
    "2. If the answer is \"yes,\" then the `for` loop says: OK, give me your next thing.\n",
    "    - Either `s` gives us its next thing, which is assigned to `one_character`, and we then execute the body of the loop (i.e., the indented part)\n",
    "    - Or `s` says: I'm done!  And the loop exits\n",
    "3. After the loop body executes, we go back to step 2, asking the object for its next thing.    "
   ]
  },
  {
   "cell_type": "code",
   "execution_count": 4,
   "id": "6088d8e0",
   "metadata": {},
   "outputs": [
    {
     "ename": "TypeError",
     "evalue": "'int' object is not iterable",
     "output_type": "error",
     "traceback": [
      "\u001b[0;31m---------------------------------------------------------------------------\u001b[0m",
      "\u001b[0;31mTypeError\u001b[0m                                 Traceback (most recent call last)",
      "\u001b[0;32m/var/folders/rr/0mnyyv811fs5vyp22gf4fxk00000gn/T/ipykernel_85715/1259451884.py\u001b[0m in \u001b[0;36m<module>\u001b[0;34m\u001b[0m\n\u001b[1;32m      3\u001b[0m \u001b[0;31m# an example: integers\u001b[0m\u001b[0;34m\u001b[0m\u001b[0;34m\u001b[0m\u001b[0m\n\u001b[1;32m      4\u001b[0m \u001b[0;34m\u001b[0m\u001b[0m\n\u001b[0;32m----> 5\u001b[0;31m \u001b[0;32mfor\u001b[0m \u001b[0mone_item\u001b[0m \u001b[0;32min\u001b[0m \u001b[0;36m5\u001b[0m\u001b[0;34m:\u001b[0m\u001b[0;34m\u001b[0m\u001b[0;34m\u001b[0m\u001b[0m\n\u001b[0m\u001b[1;32m      6\u001b[0m     \u001b[0mprint\u001b[0m\u001b[0;34m(\u001b[0m\u001b[0mone_item\u001b[0m\u001b[0;34m)\u001b[0m\u001b[0;34m\u001b[0m\u001b[0;34m\u001b[0m\u001b[0m\n",
      "\u001b[0;31mTypeError\u001b[0m: 'int' object is not iterable"
     ]
    }
   ],
   "source": [
    "# what if the object isn't iterable? What if we cannot iterate over it?\n",
    "\n",
    "# an example: integers\n",
    "\n",
    "for one_item in 5:\n",
    "    print(one_item)"
   ]
  },
  {
   "cell_type": "markdown",
   "id": "40c76832",
   "metadata": {},
   "source": [
    "# Exercise: Count vowels and consonants\n",
    "\n",
    "Remember (maybe) from last week that we can check to see if one string is inside of another string with `in`.  For example:\n",
    "\n",
    "    'a' in 'abcd'   # returns True\n",
    "    'q' in 'abcd'   # returns False\n",
    "    \n",
    "I want you to write a program that asks the user for input, and counts how many vowels there are in the input, and how many consonants.\n",
    "\n",
    "1. Define two variables, `vowels` and `consonants`.  They should both be set to 0.\n",
    "2. Ask the user to enter a string.\n",
    "3. Iterate over the string, one character at a time.  \n",
    "4. For each character, ask: \n",
    "    - Is it a vowel? If so, then add 1 to `vowels`.\n",
    "    - Is it a consonant? If so, then add 1 to `consonants`.\n",
    "    - If it is neither, then ignore it.\n",
    "5. Print the values of both `vowels` and `consonants`.\n",
    "\n",
    "Example:\n",
    "\n",
    "    Enter a string: hello!\n",
    "    vowels: 2\n",
    "    consonants: 3\n"
   ]
  },
  {
   "cell_type": "code",
   "execution_count": 5,
   "id": "94ce82af",
   "metadata": {},
   "outputs": [
    {
     "name": "stdout",
     "output_type": "stream",
     "text": [
      "Enter a string: hello!\n",
      "Ignoring !\n",
      "vowels = 2\n",
      "consonants = 3\n"
     ]
    }
   ],
   "source": [
    "vowels = 0\n",
    "consonants = 0\n",
    "\n",
    "s = input('Enter a string: ').strip()    # strip at the end removes leading/trailing whitespace\n",
    "\n",
    "for one_character in s:  # go through the string, one character at a time\n",
    "    if one_character in 'aeiou':\n",
    "        vowels += 1\n",
    "    elif one_character in 'bcdfghjklmnpqrstvwxyz':\n",
    "        consonants += 1\n",
    "    else:\n",
    "        print(f'Ignoring {one_character}')\n",
    "        \n",
    "print(f'vowels = {vowels}')        \n",
    "print(f'consonants = {consonants}')"
   ]
  },
  {
   "cell_type": "code",
   "execution_count": null,
   "id": "54328d35",
   "metadata": {},
   "outputs": [],
   "source": [
    "# alternative solution, in which we assume the user only enters vowels + consonants\n",
    "\n",
    "vowels = 0\n",
    "consonants = 0\n",
    "\n",
    "s = input('Enter a string: ').strip()    # strip at the end removes leading/trailing whitespace\n",
    "\n",
    "for one_character in s.lower():  # go through the string, one character at a time\n",
    "    if one_character in 'aeiou':\n",
    "        vowels += 1\n",
    "    else:\n",
    "        consonants += 1\n",
    "        \n",
    "print(f'vowels = {vowels}')   # f-string -- just like a regular string, except that {} can contain Python expressions\n",
    "print(f'consonants = {consonants}')"
   ]
  },
  {
   "cell_type": "code",
   "execution_count": 7,
   "id": "84ff138d",
   "metadata": {},
   "outputs": [
    {
     "ename": "NameError",
     "evalue": "name 'x' is not defined",
     "output_type": "error",
     "traceback": [
      "\u001b[0;31m---------------------------------------------------------------------------\u001b[0m",
      "\u001b[0;31mNameError\u001b[0m                                 Traceback (most recent call last)",
      "\u001b[0;32m/var/folders/rr/0mnyyv811fs5vyp22gf4fxk00000gn/T/ipykernel_85715/1292930421.py\u001b[0m in \u001b[0;36m<module>\u001b[0;34m\u001b[0m\n\u001b[0;32m----> 1\u001b[0;31m \u001b[0mx\u001b[0m \u001b[0;34m+=\u001b[0m \u001b[0;36m1\u001b[0m   \u001b[0;31m# what will Python do? We want to add 1 to the current value of x... which doesn't exist\u001b[0m\u001b[0;34m\u001b[0m\u001b[0;34m\u001b[0m\u001b[0m\n\u001b[0m",
      "\u001b[0;31mNameError\u001b[0m: name 'x' is not defined"
     ]
    }
   ],
   "source": [
    "x += 1   # what will Python do? We want to add 1 to the current value of x... which doesn't exist"
   ]
  },
  {
   "cell_type": "code",
   "execution_count": null,
   "id": "5d547276",
   "metadata": {},
   "outputs": [],
   "source": [
    "# this will work... but this is where you really want to use if/else\n",
    "\n",
    "if one_character in 'aeiou':\n",
    "    vowels += 1\n",
    "if one_character not in 'aeiou':  \n",
    "    consonants += 1"
   ]
  },
  {
   "cell_type": "markdown",
   "id": "0a89128c",
   "metadata": {},
   "source": [
    "# Method chaining\n",
    "\n",
    "I can run any string method on any string.  For example:\n",
    "\n",
    "```python\n",
    "s = input('Enter a string: ').strip()\n",
    "```\n",
    "\n",
    "This works because `input` returns a string.  Before `input`'s return value is assigned to `s`, we first invoke `strip` on it.  In other words:\n",
    "\n",
    "- `input` gets a string from the user\n",
    "- `input` returns a string\n",
    "- `str.strip` is invoked on that (anonymous) string returned by `input`\n",
    "- The result of `str.strip` is assigned to `s`\n",
    "\n",
    "Since I can call any string method on any string, and since `str.strip` returns a string, I can then use more than one method.  This is known as \"method chaining\":\n",
    "\n",
    "```python\n",
    "s = input('Enter a string: ').strip().lower()\n",
    "```\n",
    "\n",
    "- `input` gets a string from the user\n",
    "- `input` returns a string\n",
    "- `str.strip` is invoked on that (anonymous) string returned by `input`, and returns a string value\n",
    "- `str.lower` is invoked on that (also anonymous) string returned by `str.strip`, and returns a string value\n",
    "- The result of `str.lower` is assigned to `s`\n"
   ]
  },
  {
   "cell_type": "code",
   "execution_count": 8,
   "id": "12868424",
   "metadata": {},
   "outputs": [
    {
     "name": "stdout",
     "output_type": "stream",
     "text": [
      "a\n",
      "b\n",
      "c\n",
      "d\n",
      "e\n",
      "f\n",
      "g\n",
      "h\n",
      "i\n",
      "j\n"
     ]
    }
   ],
   "source": [
    "s = 'abcdefghijklmnopqrstuvwxyz'\n",
    "\n",
    "# What if I only want to iterate over the first 10 characters in s?\n",
    "# it's very easy -- just use a slice!\n",
    "\n",
    "for one_character in s[:10]:\n",
    "    print(one_character)"
   ]
  },
  {
   "cell_type": "markdown",
   "id": "f15a5dd1",
   "metadata": {},
   "source": [
    "# How can we execute something a number of times?\n",
    "\n",
    "We might thing (wrongly!) that we can invoke `for` on an integer, and thus accomplish something a number of times.  But no, we'll need other tools."
   ]
  },
  {
   "cell_type": "code",
   "execution_count": 9,
   "id": "7a4c896f",
   "metadata": {},
   "outputs": [
    {
     "name": "stdout",
     "output_type": "stream",
     "text": [
      "Hooray!\n",
      "Hooray!\n",
      "Hooray!\n"
     ]
    }
   ],
   "source": [
    "# Example: I'm teaching Python, and I'm super happy about it\n",
    "\n",
    "print('Hooray!')\n",
    "print('Hooray!')\n",
    "print('Hooray!')\n",
    "\n",
    "# this, of course, violates the DRY (don't repeat yourself) rule, and so now I'm sad."
   ]
  },
  {
   "cell_type": "code",
   "execution_count": 10,
   "id": "ade5d591",
   "metadata": {},
   "outputs": [
    {
     "ename": "TypeError",
     "evalue": "'int' object is not iterable",
     "output_type": "error",
     "traceback": [
      "\u001b[0;31m---------------------------------------------------------------------------\u001b[0m",
      "\u001b[0;31mTypeError\u001b[0m                                 Traceback (most recent call last)",
      "\u001b[0;32m/var/folders/rr/0mnyyv811fs5vyp22gf4fxk00000gn/T/ipykernel_85715/3297198287.py\u001b[0m in \u001b[0;36m<module>\u001b[0;34m\u001b[0m\n\u001b[0;32m----> 1\u001b[0;31m \u001b[0;32mfor\u001b[0m \u001b[0mcounter\u001b[0m \u001b[0;32min\u001b[0m \u001b[0;36m3\u001b[0m\u001b[0;34m:\u001b[0m\u001b[0;34m\u001b[0m\u001b[0;34m\u001b[0m\u001b[0m\n\u001b[0m\u001b[1;32m      2\u001b[0m     \u001b[0mprint\u001b[0m\u001b[0;34m(\u001b[0m\u001b[0;34m'Hooray!'\u001b[0m\u001b[0;34m)\u001b[0m\u001b[0;34m\u001b[0m\u001b[0;34m\u001b[0m\u001b[0m\n",
      "\u001b[0;31mTypeError\u001b[0m: 'int' object is not iterable"
     ]
    }
   ],
   "source": [
    "for counter in 3:\n",
    "    print('Hooray!')"
   ]
  },
  {
   "cell_type": "code",
   "execution_count": 11,
   "id": "37099dd8",
   "metadata": {},
   "outputs": [
    {
     "name": "stdout",
     "output_type": "stream",
     "text": [
      "Hooray!\n",
      "Hooray!\n",
      "Hooray!\n"
     ]
    }
   ],
   "source": [
    "# the way we do this is with \"range\"\n",
    "# the \"range\" function is meant for use with iterations and for loops\n",
    "# we give it an integer, and it allows us to iterate that number of times\n",
    "\n",
    "for counter in range(3):   # what is counter?\n",
    "    print('Hooray!')"
   ]
  },
  {
   "cell_type": "code",
   "execution_count": 12,
   "id": "086c55f5",
   "metadata": {},
   "outputs": [
    {
     "name": "stdout",
     "output_type": "stream",
     "text": [
      "0 Hooray!\n",
      "1 Hooray!\n",
      "2 Hooray!\n"
     ]
    }
   ],
   "source": [
    "for counter in range(3):   # what is counter?\n",
    "    print(f'{counter} Hooray!')"
   ]
  },
  {
   "cell_type": "markdown",
   "id": "22586653",
   "metadata": {},
   "source": [
    "# `range`\n",
    "\n",
    "If we want to run a `for` loop a certain number of times, we can call `range` with an integer.  This `range` object knows how to behave inside of a `for` loop.  With each iteration, it returns an integer, starting at 0, and going up to (but not including) the number that we specified.\n",
    "\n",
    "Remember:\n",
    "\n",
    "- String indexes start at 0, and go up to (but not including) the number of characters"
   ]
  },
  {
   "cell_type": "markdown",
   "id": "d84600b3",
   "metadata": {},
   "source": [
    "# Exercise: Name triangles\n",
    "\n",
    "1. Ask the user to enter their name.\n",
    "2. Print a triangle based on their name:\n",
    "    - On the first line, we'll print just the first letter\n",
    "    - On the second line, we'll print the first two letters\n",
    "    - ...\n",
    "    - On the final line, we'll print the full name\n",
    "    \n",
    "Example:\n",
    "\n",
    "    Enter your name: Reuven\n",
    "    R\n",
    "    Re\n",
    "    Reu\n",
    "    Reuv\n",
    "    Reuve\n",
    "    Reuven\n",
    "    \n",
    "Hints:\n",
    "- Remember that `range` can be used with an integer input\n",
    "- Remember that `len` counts the number of characters in a string, and returns an integer\n",
    "- Remember that a slice lets us retrieve part of a string, either from `[start:end+1]` or `[:end+1]`"
   ]
  },
  {
   "cell_type": "code",
   "execution_count": 15,
   "id": "0dcde58f",
   "metadata": {},
   "outputs": [
    {
     "name": "stdout",
     "output_type": "stream",
     "text": [
      "Enter your name: Reuven\n",
      "R\n",
      "Re\n",
      "Reu\n",
      "Reuv\n",
      "Reuve\n",
      "Reuven\n"
     ]
    }
   ],
   "source": [
    "name = input('Enter your name: ').strip()\n",
    "\n",
    "# assume that the name is \"Reuven\"\n",
    "\n",
    "print(name[:1])   # from the start, up to and not including index 1\n",
    "print(name[:2])   # from the start, up to and not including index 2\n",
    "print(name[:3])   # from the start, up to and not including index 3\n",
    "print(name[:4])   # from the start, up to and not including index 4\n",
    "print(name[:5])   # from the start, up to and not including index 5\n",
    "print(name[:6])   # from the start, up to and not including index 6"
   ]
  },
  {
   "cell_type": "code",
   "execution_count": 16,
   "id": "504254fe",
   "metadata": {},
   "outputs": [
    {
     "name": "stdout",
     "output_type": "stream",
     "text": [
      "Enter your name: Reuven\n",
      "\n",
      "R\n",
      "Re\n",
      "Reu\n",
      "Reuv\n",
      "Reuve\n"
     ]
    }
   ],
   "source": [
    "name = input('Enter your name: ').strip()\n",
    "\n",
    "# I want the end index to start at 1 and end at (not including) 7 \n",
    "# start at 0 and end at (not including) 6, then add 1 to it\n",
    "\n",
    "for end_index in range(6):\n",
    "    print(name[:end_index])  # off by 1 error"
   ]
  },
  {
   "cell_type": "code",
   "execution_count": 20,
   "id": "516c3cf9",
   "metadata": {},
   "outputs": [
    {
     "name": "stdout",
     "output_type": "stream",
     "text": [
      "Enter your name: somethingverylong\n",
      "s\n",
      "so\n",
      "som\n",
      "some\n",
      "somet\n",
      "someth\n",
      "somethi\n",
      "somethin\n",
      "something\n",
      "somethingv\n",
      "somethingve\n",
      "somethingver\n",
      "somethingvery\n",
      "somethingveryl\n",
      "somethingverylo\n",
      "somethingverylon\n",
      "somethingverylong\n"
     ]
    }
   ],
   "source": [
    "name = input('Enter your name: ').strip()\n",
    "\n",
    "for end_index in range(len(name)):\n",
    "    print(name[:end_index+1]) "
   ]
  },
  {
   "cell_type": "markdown",
   "id": "6b71abb7",
   "metadata": {},
   "source": [
    "# Example: Highest number of 3\n",
    "\n",
    "Let's let the user enter three numbers, and I'll display the highest of them."
   ]
  },
  {
   "cell_type": "code",
   "execution_count": 21,
   "id": "276bcac9",
   "metadata": {},
   "outputs": [
    {
     "name": "stdout",
     "output_type": "stream",
     "text": [
      "Enter your number: 15\n",
      "Enter your number: 7\n",
      "Enter your number: 2\n",
      "Highest = 15\n"
     ]
    }
   ],
   "source": [
    "highest = 0\n",
    "\n",
    "for counter in range(3):  # we'll run this loop 3 times, and counter will be 0/1/2\n",
    "    n = input('Enter your number: ').strip()\n",
    "    n = int(n)  # get an integer based on n\n",
    "    \n",
    "    if n > highest:   # is n bigger than highest?  If so, n becomes the new champion!\n",
    "        highest = n\n",
    "        \n",
    "print(f'Highest = {highest}')        "
   ]
  },
  {
   "cell_type": "code",
   "execution_count": 22,
   "id": "35a28be9",
   "metadata": {},
   "outputs": [
    {
     "data": {
      "text/plain": [
       "'e'"
      ]
     },
     "execution_count": 22,
     "metadata": {},
     "output_type": "execute_result"
    }
   ],
   "source": [
    "s = 'abcde'\n",
    "\n",
    "s[4]  # get the character at index 4"
   ]
  },
  {
   "cell_type": "code",
   "execution_count": 23,
   "id": "5b276ec5",
   "metadata": {},
   "outputs": [
    {
     "ename": "IndexError",
     "evalue": "string index out of range",
     "output_type": "error",
     "traceback": [
      "\u001b[0;31m---------------------------------------------------------------------------\u001b[0m",
      "\u001b[0;31mIndexError\u001b[0m                                Traceback (most recent call last)",
      "\u001b[0;32m/var/folders/rr/0mnyyv811fs5vyp22gf4fxk00000gn/T/ipykernel_85715/3618348050.py\u001b[0m in \u001b[0;36m<module>\u001b[0;34m\u001b[0m\n\u001b[0;32m----> 1\u001b[0;31m \u001b[0ms\u001b[0m\u001b[0;34m[\u001b[0m\u001b[0;36m10\u001b[0m\u001b[0;34m]\u001b[0m   \u001b[0;31m# get the character at index 10\u001b[0m\u001b[0;34m\u001b[0m\u001b[0;34m\u001b[0m\u001b[0m\n\u001b[0m",
      "\u001b[0;31mIndexError\u001b[0m: string index out of range"
     ]
    }
   ],
   "source": [
    "s[10]   # get the character at index 10"
   ]
  },
  {
   "cell_type": "code",
   "execution_count": 24,
   "id": "4938107c",
   "metadata": {},
   "outputs": [
    {
     "data": {
      "text/plain": [
       "'abcd'"
      ]
     },
     "execution_count": 24,
     "metadata": {},
     "output_type": "execute_result"
    }
   ],
   "source": [
    "s[:4]  # get all characters up to (and not including) index 4"
   ]
  },
  {
   "cell_type": "code",
   "execution_count": 25,
   "id": "4c778eeb",
   "metadata": {},
   "outputs": [
    {
     "data": {
      "text/plain": [
       "'abcde'"
      ]
     },
     "execution_count": 25,
     "metadata": {},
     "output_type": "execute_result"
    }
   ],
   "source": [
    "s[:10]  # get all characters up to (and not including) index 10"
   ]
  },
  {
   "cell_type": "markdown",
   "id": "f5eb2191",
   "metadata": {},
   "source": [
    "# Next up\n",
    "\n",
    "- `while` loops\n",
    "- Where's the index? "
   ]
  },
  {
   "cell_type": "markdown",
   "id": "29469077",
   "metadata": {},
   "source": [
    "# `while` loops\n",
    "\n",
    "`for` loops allow us to execute a loop body a known number of times:\n",
    "\n",
    "- for each character in a string\n",
    "- up to a `range` maximum\n",
    "\n",
    "But what if I don't know how many iterations I'll need of my loop?  What I want to continue, perhaps forever, until a particular condition is met?\n",
    "\n",
    "For that, we have `while` loops.  You can think of `while` as just like `if`, except that it'll keep executing the body until the condition returns `False`."
   ]
  },
  {
   "cell_type": "code",
   "execution_count": 27,
   "id": "ad5ab4d2",
   "metadata": {},
   "outputs": [
    {
     "name": "stdout",
     "output_type": "stream",
     "text": [
      "x = 5\n",
      "x = 4\n",
      "x = 3\n",
      "x = 2\n",
      "x = 1\n"
     ]
    }
   ],
   "source": [
    "x = 5\n",
    "\n",
    "while x > 0:\n",
    "    print(f'x = {x}')\n",
    "    x -= 1  # this is the same as saying x = x - 1, aka \"decrement x by 1\""
   ]
  },
  {
   "cell_type": "code",
   "execution_count": 28,
   "id": "f3e23dc3",
   "metadata": {},
   "outputs": [
    {
     "name": "stdout",
     "output_type": "stream",
     "text": [
      "Enter your name: Reuven\n",
      "Hello, Reuven!\n",
      "Enter your name: world\n",
      "Hello, world!\n",
      "Enter your name: no\n",
      "Hello, no!\n",
      "Enter your name: \n"
     ]
    }
   ],
   "source": [
    "# in both \"for\" and \"while\" loops, we sometimes need to exit early.\n",
    "\n",
    "# we can do that with \"break\"\n",
    "# the \"break\" command means: Exit the current loop right now\n",
    "\n",
    "while True:     # this looks dangerous -- it'll run forever!  \n",
    "    name = input('Enter your name: ').strip()\n",
    "    \n",
    "    if name == '':  # is it the empty string?  BTW, this is *NOT* the same as ' '\n",
    "        break\n",
    "        \n",
    "    print(f'Hello, {name}!')\n",
    "    \n",
    "    "
   ]
  },
  {
   "cell_type": "markdown",
   "id": "f6e36546",
   "metadata": {},
   "source": [
    "# Exercise: Summing numbers\n",
    "\n",
    "1. Set `total` to 0.\n",
    "2. Ask the user, repeatedly, to enter a number.\n",
    "    - If the user enters an empty string, then break out of the loop\n",
    "    - If the user enters a non-numeric string (use the `isdigit` method), then scold them\n",
    "    - If the user enters a numeric string, convert it to an integer (with `int`) and add to `total`.  Print the current, running `total`.\n",
    "3. After the loop, print `total`    \n",
    "\n",
    "Example:\n",
    "\n",
    "    Enter a number: 10\n",
    "    total is 10\n",
    "    Enter a number: 20\n",
    "    total is 30\n",
    "    Enter a number: hello\n",
    "    hello is not a number\n",
    "    Enter a number: 30\n",
    "    total is 60\n",
    "    Enter a number: [ENTER]\n",
    "    total is 6"
   ]
  },
  {
   "cell_type": "code",
   "execution_count": 31,
   "id": "fe3b8681",
   "metadata": {},
   "outputs": [
    {
     "name": "stdout",
     "output_type": "stream",
     "text": [
      "Enter a number: 10\n",
      "Total is now 10\n",
      "Enter a number: 20\n",
      "Total is now 30\n",
      "Enter a number: asfsafsa\n",
      "asfsafsa is not numeric\n",
      "Enter a number: 30\n",
      "Total is now 60\n",
      "Enter a number: asdfsafafa\n",
      "asdfsafafa is not numeric\n",
      "Enter a number: \n",
      "Ending; total is 60\n"
     ]
    }
   ],
   "source": [
    "total = 0\n",
    "\n",
    "while True:\n",
    "    s = input('Enter a number: ').strip()\n",
    "    \n",
    "    if s == '':  # Did the user enter an empty string? Stop the loop\n",
    "        break\n",
    "        \n",
    "    if s.isdigit():\n",
    "        total += int(s)\n",
    "        print(f'Total is now {total}')\n",
    "    else:\n",
    "        print(f'{s} is not numeric')\n",
    "    \n",
    "print(f'Ending; total is {total}')     \n",
    "        \n",
    "    "
   ]
  },
  {
   "cell_type": "code",
   "execution_count": null,
   "id": "d44ac3d6",
   "metadata": {},
   "outputs": [],
   "source": []
  }
 ],
 "metadata": {
  "kernelspec": {
   "display_name": "Python 3 (ipykernel)",
   "language": "python",
   "name": "python3"
  },
  "language_info": {
   "codemirror_mode": {
    "name": "ipython",
    "version": 3
   },
   "file_extension": ".py",
   "mimetype": "text/x-python",
   "name": "python",
   "nbconvert_exporter": "python",
   "pygments_lexer": "ipython3",
   "version": "3.10.4"
  }
 },
 "nbformat": 4,
 "nbformat_minor": 5
}
