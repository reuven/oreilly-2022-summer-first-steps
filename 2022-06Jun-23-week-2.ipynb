{
 "cells": [
  {
   "cell_type": "markdown",
   "id": "f1f6354b",
   "metadata": {},
   "source": [
    "# Week 2: Loops, lists, and tuples\n",
    "\n",
    "1. Q&A from last time\n",
    "2. Loops\n",
    "    - `for` loops\n",
    "    - Looping over numbers\n",
    "    - `while` loops\n",
    "3. Lists\n",
    "    - What are they?\n",
    "    - How are they similar to strings, and how are they different?\n",
    "    - Mutable vs. immutable\n",
    "4. Strings to lists and back\n",
    "    - Breaking a string into a list of strings (with split)\n",
    "    - Turning a list of strings into a single string (with join)\n",
    "5. Tuples\n",
    "    - What are they?\n",
    "    - Tuple tnpacking"
   ]
  },
  {
   "cell_type": "markdown",
   "id": "5494267f",
   "metadata": {},
   "source": [
    "# DRY -- don't repeat yourself\n",
    "\n",
    "This rule is an important one to remember whenever you're programming.  If you repeat yourself, then you're (a) making life harder for yourself while you're programming, and (b) you're also making it harder for yourself down the road when you have to maintain/debug your code."
   ]
  },
  {
   "cell_type": "code",
   "execution_count": 2,
   "id": "a2bb52bd",
   "metadata": {},
   "outputs": [
    {
     "name": "stdout",
     "output_type": "stream",
     "text": [
      "a\n",
      "b\n",
      "c\n",
      "d\n"
     ]
    }
   ],
   "source": [
    "# Let's define a string, and print each of the characters in the string\n",
    "\n",
    "s = 'abcd'\n",
    "\n",
    "print(s[0])   # unfortunately, this works!\n",
    "print(s[1])\n",
    "print(s[2])\n",
    "print(s[3])"
   ]
  },
  {
   "cell_type": "code",
   "execution_count": 3,
   "id": "ef82b41d",
   "metadata": {},
   "outputs": [
    {
     "name": "stdout",
     "output_type": "stream",
     "text": [
      "a\n",
      "b\n",
      "c\n",
      "d\n"
     ]
    }
   ],
   "source": [
    "# Loops allow us to describe what we want to do once, and how many times we want to do it,\n",
    "# and then let the computer handle the repetition.\n",
    "\n",
    "# I can handle this with a \"for\" loop\n",
    "\n",
    "for one_character in s:\n",
    "    print(one_character)"
   ]
  },
  {
   "cell_type": "markdown",
   "id": "c1e2a1d6",
   "metadata": {},
   "source": [
    "# What's happening in our `for` loop?\n",
    "\n",
    "1. The `for` loop turns to `s` (or to whatever else is at the end of the line), and asks: Are you iterable? Meaning: Do you know how to behave inside of a `for` loop?\n",
    "2. If the answer is \"yes,\" then the `for` loop says: OK, give me your next thing.\n",
    "    - Either `s` gives us its next thing, which is assigned to `one_character`, and we then execute the body of the loop (i.e., the indented part)\n",
    "    - Or `s` says: I'm done!  And the loop exits\n",
    "3. After the loop body executes, we go back to step 2, asking the object for its next thing.    "
   ]
  },
  {
   "cell_type": "code",
   "execution_count": 4,
   "id": "6fb2a1b1",
   "metadata": {},
   "outputs": [
    {
     "ename": "TypeError",
     "evalue": "'int' object is not iterable",
     "output_type": "error",
     "traceback": [
      "\u001b[0;31m---------------------------------------------------------------------------\u001b[0m",
      "\u001b[0;31mTypeError\u001b[0m                                 Traceback (most recent call last)",
      "\u001b[0;32m/var/folders/rr/0mnyyv811fs5vyp22gf4fxk00000gn/T/ipykernel_85715/1259451884.py\u001b[0m in \u001b[0;36m<module>\u001b[0;34m\u001b[0m\n\u001b[1;32m      3\u001b[0m \u001b[0;31m# an example: integers\u001b[0m\u001b[0;34m\u001b[0m\u001b[0;34m\u001b[0m\u001b[0m\n\u001b[1;32m      4\u001b[0m \u001b[0;34m\u001b[0m\u001b[0m\n\u001b[0;32m----> 5\u001b[0;31m \u001b[0;32mfor\u001b[0m \u001b[0mone_item\u001b[0m \u001b[0;32min\u001b[0m \u001b[0;36m5\u001b[0m\u001b[0;34m:\u001b[0m\u001b[0;34m\u001b[0m\u001b[0;34m\u001b[0m\u001b[0m\n\u001b[0m\u001b[1;32m      6\u001b[0m     \u001b[0mprint\u001b[0m\u001b[0;34m(\u001b[0m\u001b[0mone_item\u001b[0m\u001b[0;34m)\u001b[0m\u001b[0;34m\u001b[0m\u001b[0;34m\u001b[0m\u001b[0m\n",
      "\u001b[0;31mTypeError\u001b[0m: 'int' object is not iterable"
     ]
    }
   ],
   "source": [
    "# what if the object isn't iterable? What if we cannot iterate over it?\n",
    "\n",
    "# an example: integers\n",
    "\n",
    "for one_item in 5:\n",
    "    print(one_item)"
   ]
  },
  {
   "cell_type": "markdown",
   "id": "fc6b8735",
   "metadata": {},
   "source": [
    "# Exercise: Count vowels and consonants\n",
    "\n",
    "Remember (maybe) from last week that we can check to see if one string is inside of another string with `in`.  For example:\n",
    "\n",
    "    'a' in 'abcd'   # returns True\n",
    "    'q' in 'abcd'   # returns False\n",
    "    \n",
    "I want you to write a program that asks the user for input, and counts how many vowels there are in the input, and how many consonants.\n",
    "\n",
    "1. Define two variables, `vowels` and `consonants`.  They should both be set to 0.\n",
    "2. Ask the user to enter a string.\n",
    "3. Iterate over the string, one character at a time.  \n",
    "4. For each character, ask: \n",
    "    - Is it a vowel? If so, then add 1 to `vowels`.\n",
    "    - Is it a consonant? If so, then add 1 to `consonants`.\n",
    "    - If it is neither, then ignore it.\n",
    "5. Print the values of both `vowels` and `consonants`.\n",
    "\n",
    "Example:\n",
    "\n",
    "    Enter a string: hello!\n",
    "    vowels: 2\n",
    "    consonants: 3\n"
   ]
  },
  {
   "cell_type": "code",
   "execution_count": 5,
   "id": "cb46a7ba",
   "metadata": {},
   "outputs": [
    {
     "name": "stdout",
     "output_type": "stream",
     "text": [
      "Enter a string: hello!\n",
      "Ignoring !\n",
      "vowels = 2\n",
      "consonants = 3\n"
     ]
    }
   ],
   "source": [
    "vowels = 0\n",
    "consonants = 0\n",
    "\n",
    "s = input('Enter a string: ').strip()    # strip at the end removes leading/trailing whitespace\n",
    "\n",
    "for one_character in s:  # go through the string, one character at a time\n",
    "    if one_character in 'aeiou':\n",
    "        vowels += 1\n",
    "    elif one_character in 'bcdfghjklmnpqrstvwxyz':\n",
    "        consonants += 1\n",
    "    else:\n",
    "        print(f'Ignoring {one_character}')\n",
    "        \n",
    "print(f'vowels = {vowels}')        \n",
    "print(f'consonants = {consonants}')"
   ]
  },
  {
   "cell_type": "code",
   "execution_count": null,
   "id": "bec57406",
   "metadata": {},
   "outputs": [],
   "source": [
    "# alternative solution, in which we assume the user only enters vowels + consonants\n",
    "\n",
    "vowels = 0\n",
    "consonants = 0\n",
    "\n",
    "s = input('Enter a string: ').strip()    # strip at the end removes leading/trailing whitespace\n",
    "\n",
    "for one_character in s.lower():  # go through the string, one character at a time\n",
    "    if one_character in 'aeiou':\n",
    "        vowels += 1\n",
    "    else:\n",
    "        consonants += 1\n",
    "        \n",
    "print(f'vowels = {vowels}')   # f-string -- just like a regular string, except that {} can contain Python expressions\n",
    "print(f'consonants = {consonants}')"
   ]
  },
  {
   "cell_type": "code",
   "execution_count": 7,
   "id": "43bd5389",
   "metadata": {},
   "outputs": [
    {
     "ename": "NameError",
     "evalue": "name 'x' is not defined",
     "output_type": "error",
     "traceback": [
      "\u001b[0;31m---------------------------------------------------------------------------\u001b[0m",
      "\u001b[0;31mNameError\u001b[0m                                 Traceback (most recent call last)",
      "\u001b[0;32m/var/folders/rr/0mnyyv811fs5vyp22gf4fxk00000gn/T/ipykernel_85715/1292930421.py\u001b[0m in \u001b[0;36m<module>\u001b[0;34m\u001b[0m\n\u001b[0;32m----> 1\u001b[0;31m \u001b[0mx\u001b[0m \u001b[0;34m+=\u001b[0m \u001b[0;36m1\u001b[0m   \u001b[0;31m# what will Python do? We want to add 1 to the current value of x... which doesn't exist\u001b[0m\u001b[0;34m\u001b[0m\u001b[0;34m\u001b[0m\u001b[0m\n\u001b[0m",
      "\u001b[0;31mNameError\u001b[0m: name 'x' is not defined"
     ]
    }
   ],
   "source": [
    "x += 1   # what will Python do? We want to add 1 to the current value of x... which doesn't exist"
   ]
  },
  {
   "cell_type": "code",
   "execution_count": null,
   "id": "753dccfe",
   "metadata": {},
   "outputs": [],
   "source": [
    "# this will work... but this is where you really want to use if/else\n",
    "\n",
    "if one_character in 'aeiou':\n",
    "    vowels += 1\n",
    "if one_character not in 'aeiou':  \n",
    "    consonants += 1"
   ]
  },
  {
   "cell_type": "markdown",
   "id": "66968b21",
   "metadata": {},
   "source": [
    "# Method chaining\n",
    "\n",
    "I can run any string method on any string.  For example:\n",
    "\n",
    "```python\n",
    "s = input('Enter a string: ').strip()\n",
    "```\n",
    "\n",
    "This works because `input` returns a string.  Before `input`'s return value is assigned to `s`, we first invoke `strip` on it.  In other words:\n",
    "\n",
    "- `input` gets a string from the user\n",
    "- `input` returns a string\n",
    "- `str.strip` is invoked on that (anonymous) string returned by `input`\n",
    "- The result of `str.strip` is assigned to `s`\n",
    "\n",
    "Since I can call any string method on any string, and since `str.strip` returns a string, I can then use more than one method.  This is known as \"method chaining\":\n",
    "\n",
    "```python\n",
    "s = input('Enter a string: ').strip().lower()\n",
    "```\n",
    "\n",
    "- `input` gets a string from the user\n",
    "- `input` returns a string\n",
    "- `str.strip` is invoked on that (anonymous) string returned by `input`, and returns a string value\n",
    "- `str.lower` is invoked on that (also anonymous) string returned by `str.strip`, and returns a string value\n",
    "- The result of `str.lower` is assigned to `s`\n"
   ]
  },
  {
   "cell_type": "code",
   "execution_count": 8,
   "id": "e9f8dc1a",
   "metadata": {},
   "outputs": [
    {
     "name": "stdout",
     "output_type": "stream",
     "text": [
      "a\n",
      "b\n",
      "c\n",
      "d\n",
      "e\n",
      "f\n",
      "g\n",
      "h\n",
      "i\n",
      "j\n"
     ]
    }
   ],
   "source": [
    "s = 'abcdefghijklmnopqrstuvwxyz'\n",
    "\n",
    "# What if I only want to iterate over the first 10 characters in s?\n",
    "# it's very easy -- just use a slice!\n",
    "\n",
    "for one_character in s[:10]:\n",
    "    print(one_character)"
   ]
  },
  {
   "cell_type": "markdown",
   "id": "938d3a96",
   "metadata": {},
   "source": [
    "# How can we execute something a number of times?\n",
    "\n",
    "We might thing (wrongly!) that we can invoke `for` on an integer, and thus accomplish something a number of times.  But no, we'll need other tools."
   ]
  },
  {
   "cell_type": "code",
   "execution_count": 9,
   "id": "f1446f57",
   "metadata": {},
   "outputs": [
    {
     "name": "stdout",
     "output_type": "stream",
     "text": [
      "Hooray!\n",
      "Hooray!\n",
      "Hooray!\n"
     ]
    }
   ],
   "source": [
    "# Example: I'm teaching Python, and I'm super happy about it\n",
    "\n",
    "print('Hooray!')\n",
    "print('Hooray!')\n",
    "print('Hooray!')\n",
    "\n",
    "# this, of course, violates the DRY (don't repeat yourself) rule, and so now I'm sad."
   ]
  },
  {
   "cell_type": "code",
   "execution_count": 10,
   "id": "5fc231fc",
   "metadata": {},
   "outputs": [
    {
     "ename": "TypeError",
     "evalue": "'int' object is not iterable",
     "output_type": "error",
     "traceback": [
      "\u001b[0;31m---------------------------------------------------------------------------\u001b[0m",
      "\u001b[0;31mTypeError\u001b[0m                                 Traceback (most recent call last)",
      "\u001b[0;32m/var/folders/rr/0mnyyv811fs5vyp22gf4fxk00000gn/T/ipykernel_85715/3297198287.py\u001b[0m in \u001b[0;36m<module>\u001b[0;34m\u001b[0m\n\u001b[0;32m----> 1\u001b[0;31m \u001b[0;32mfor\u001b[0m \u001b[0mcounter\u001b[0m \u001b[0;32min\u001b[0m \u001b[0;36m3\u001b[0m\u001b[0;34m:\u001b[0m\u001b[0;34m\u001b[0m\u001b[0;34m\u001b[0m\u001b[0m\n\u001b[0m\u001b[1;32m      2\u001b[0m     \u001b[0mprint\u001b[0m\u001b[0;34m(\u001b[0m\u001b[0;34m'Hooray!'\u001b[0m\u001b[0;34m)\u001b[0m\u001b[0;34m\u001b[0m\u001b[0;34m\u001b[0m\u001b[0m\n",
      "\u001b[0;31mTypeError\u001b[0m: 'int' object is not iterable"
     ]
    }
   ],
   "source": [
    "for counter in 3:\n",
    "    print('Hooray!')"
   ]
  },
  {
   "cell_type": "code",
   "execution_count": null,
   "id": "80d75e66",
   "metadata": {},
   "outputs": [],
   "source": []
  }
 ],
 "metadata": {
  "kernelspec": {
   "display_name": "Python 3 (ipykernel)",
   "language": "python",
   "name": "python3"
  },
  "language_info": {
   "codemirror_mode": {
    "name": "ipython",
    "version": 3
   },
   "file_extension": ".py",
   "mimetype": "text/x-python",
   "name": "python",
   "nbconvert_exporter": "python",
   "pygments_lexer": "ipython3",
   "version": "3.10.4"
  }
 },
 "nbformat": 4,
 "nbformat_minor": 5
}
