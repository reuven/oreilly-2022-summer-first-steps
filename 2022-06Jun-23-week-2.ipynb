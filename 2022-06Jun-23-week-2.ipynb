{
 "cells": [
  {
   "cell_type": "markdown",
   "id": "6b9f5f09",
   "metadata": {},
   "source": [
    "# Week 2: Loops, lists, and tuples\n",
    "\n",
    "1. Q&A from last time\n",
    "2. Loops\n",
    "    - `for` loops\n",
    "    - Looping over numbers\n",
    "    - `while` loops\n",
    "3. Lists\n",
    "    - What are they?\n",
    "    - How are they similar to strings, and how are they different?\n",
    "    - Mutable vs. immutable\n",
    "4. Strings to lists and back\n",
    "    - Breaking a string into a list of strings (with split)\n",
    "    - Turning a list of strings into a single string (with join)\n",
    "5. Tuples\n",
    "    - What are they?\n",
    "    - Tuple tnpacking"
   ]
  },
  {
   "cell_type": "markdown",
   "id": "890916da",
   "metadata": {},
   "source": [
    "# DRY -- don't repeat yourself\n",
    "\n",
    "This rule is an important one to remember whenever you're programming.  If you repeat yourself, then you're (a) making life harder for yourself while you're programming, and (b) you're also making it harder for yourself down the road when you have to maintain/debug your code."
   ]
  },
  {
   "cell_type": "code",
   "execution_count": 2,
   "id": "60984745",
   "metadata": {},
   "outputs": [
    {
     "name": "stdout",
     "output_type": "stream",
     "text": [
      "a\n",
      "b\n",
      "c\n",
      "d\n"
     ]
    }
   ],
   "source": [
    "# Let's define a string, and print each of the characters in the string\n",
    "\n",
    "s = 'abcd'\n",
    "\n",
    "print(s[0])   # unfortunately, this works!\n",
    "print(s[1])\n",
    "print(s[2])\n",
    "print(s[3])"
   ]
  },
  {
   "cell_type": "code",
   "execution_count": 3,
   "id": "4346a30b",
   "metadata": {},
   "outputs": [
    {
     "name": "stdout",
     "output_type": "stream",
     "text": [
      "a\n",
      "b\n",
      "c\n",
      "d\n"
     ]
    }
   ],
   "source": [
    "# Loops allow us to describe what we want to do once, and how many times we want to do it,\n",
    "# and then let the computer handle the repetition.\n",
    "\n",
    "# I can handle this with a \"for\" loop\n",
    "\n",
    "for one_character in s:\n",
    "    print(one_character)"
   ]
  },
  {
   "cell_type": "markdown",
   "id": "fb9b0f8a",
   "metadata": {},
   "source": [
    "# What's happening in our `for` loop?\n",
    "\n",
    "1. The `for` loop turns to `s` (or to whatever else is at the end of the line), and asks: Are you iterable? Meaning: Do you know how to behave inside of a `for` loop?\n",
    "2. If the answer is \"yes,\" then the `for` loop says: OK, give me your next thing.\n",
    "    - Either `s` gives us its next thing, which is assigned to `one_character`, and we then execute the body of the loop (i.e., the indented part)\n",
    "    - Or `s` says: I'm done!  And the loop exits\n",
    "3. After the loop body executes, we go back to step 2, asking the object for its next thing.    "
   ]
  },
  {
   "cell_type": "code",
   "execution_count": 4,
   "id": "9c908615",
   "metadata": {},
   "outputs": [
    {
     "ename": "TypeError",
     "evalue": "'int' object is not iterable",
     "output_type": "error",
     "traceback": [
      "\u001b[0;31m---------------------------------------------------------------------------\u001b[0m",
      "\u001b[0;31mTypeError\u001b[0m                                 Traceback (most recent call last)",
      "\u001b[0;32m/var/folders/rr/0mnyyv811fs5vyp22gf4fxk00000gn/T/ipykernel_85715/1259451884.py\u001b[0m in \u001b[0;36m<module>\u001b[0;34m\u001b[0m\n\u001b[1;32m      3\u001b[0m \u001b[0;31m# an example: integers\u001b[0m\u001b[0;34m\u001b[0m\u001b[0;34m\u001b[0m\u001b[0m\n\u001b[1;32m      4\u001b[0m \u001b[0;34m\u001b[0m\u001b[0m\n\u001b[0;32m----> 5\u001b[0;31m \u001b[0;32mfor\u001b[0m \u001b[0mone_item\u001b[0m \u001b[0;32min\u001b[0m \u001b[0;36m5\u001b[0m\u001b[0;34m:\u001b[0m\u001b[0;34m\u001b[0m\u001b[0;34m\u001b[0m\u001b[0m\n\u001b[0m\u001b[1;32m      6\u001b[0m     \u001b[0mprint\u001b[0m\u001b[0;34m(\u001b[0m\u001b[0mone_item\u001b[0m\u001b[0;34m)\u001b[0m\u001b[0;34m\u001b[0m\u001b[0;34m\u001b[0m\u001b[0m\n",
      "\u001b[0;31mTypeError\u001b[0m: 'int' object is not iterable"
     ]
    }
   ],
   "source": [
    "# what if the object isn't iterable? What if we cannot iterate over it?\n",
    "\n",
    "# an example: integers\n",
    "\n",
    "for one_item in 5:\n",
    "    print(one_item)"
   ]
  },
  {
   "cell_type": "code",
   "execution_count": null,
   "id": "04cf2dec",
   "metadata": {},
   "outputs": [],
   "source": []
  }
 ],
 "metadata": {
  "kernelspec": {
   "display_name": "Python 3 (ipykernel)",
   "language": "python",
   "name": "python3"
  },
  "language_info": {
   "codemirror_mode": {
    "name": "ipython",
    "version": 3
   },
   "file_extension": ".py",
   "mimetype": "text/x-python",
   "name": "python",
   "nbconvert_exporter": "python",
   "pygments_lexer": "ipython3",
   "version": "3.10.4"
  }
 },
 "nbformat": 4,
 "nbformat_minor": 5
}
